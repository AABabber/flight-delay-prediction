{
 "cells": [
  {
   "cell_type": "markdown",
   "metadata": {},
   "source": [
    "In this notebook, I'll be playing with the Kaggle dataset 2015 flight delays and cancellations (https://www.kaggle.com/usdot/flight-delays). The goal of our project is to create a model that accurately predicts whether a flyer will experience a 'significant' delay of 30 minutes or greater. The purpose of this is to provide information to flight passengers so that the can make decisions on whether or not a flight will align with their travel goals. If they are trying to make a connecting flight or are arriving for a same-day event, a delay warning may allow them to make a better decision about which flight to take. Here is some of my experimentation with the dataset"
   ]
  },
  {
   "cell_type": "markdown",
   "metadata": {},
   "source": [
    "<b>The code cells below are often reliant on the code cells above it, so make sure to run the cells sequentially<b>"
   ]
  },
  {
   "cell_type": "code",
   "execution_count": 2,
   "metadata": {
    "collapsed": true
   },
   "outputs": [],
   "source": [
    "import datetime, warnings, scipy \n",
    "import pandas as pd\n",
    "import numpy as np\n",
    "import math\n",
    "warnings.filterwarnings(\"ignore\")"
   ]
  },
  {
   "cell_type": "code",
   "execution_count": 3,
   "metadata": {},
   "outputs": [
    {
     "name": "stdout",
     "output_type": "stream",
     "text": [
      "(5819079, 31)\n"
     ]
    }
   ],
   "source": [
    "data = pd.read_csv(\"flights.csv\", low_memory=False)\n",
    "print(data.shape)"
   ]
  },
  {
   "cell_type": "code",
   "execution_count": 4,
   "metadata": {},
   "outputs": [
    {
     "data": {
      "text/html": [
       "<div>\n",
       "<style>\n",
       "    .dataframe thead tr:only-child th {\n",
       "        text-align: right;\n",
       "    }\n",
       "\n",
       "    .dataframe thead th {\n",
       "        text-align: left;\n",
       "    }\n",
       "\n",
       "    .dataframe tbody tr th {\n",
       "        vertical-align: top;\n",
       "    }\n",
       "</style>\n",
       "<table border=\"1\" class=\"dataframe\">\n",
       "  <thead>\n",
       "    <tr style=\"text-align: right;\">\n",
       "      <th></th>\n",
       "      <th>YEAR</th>\n",
       "      <th>MONTH</th>\n",
       "      <th>DAY</th>\n",
       "      <th>DAY_OF_WEEK</th>\n",
       "      <th>AIRLINE</th>\n",
       "      <th>FLIGHT_NUMBER</th>\n",
       "      <th>TAIL_NUMBER</th>\n",
       "      <th>ORIGIN_AIRPORT</th>\n",
       "      <th>DESTINATION_AIRPORT</th>\n",
       "      <th>SCHEDULED_DEPARTURE</th>\n",
       "      <th>...</th>\n",
       "      <th>ARRIVAL_TIME</th>\n",
       "      <th>ARRIVAL_DELAY</th>\n",
       "      <th>DIVERTED</th>\n",
       "      <th>CANCELLED</th>\n",
       "      <th>CANCELLATION_REASON</th>\n",
       "      <th>AIR_SYSTEM_DELAY</th>\n",
       "      <th>SECURITY_DELAY</th>\n",
       "      <th>AIRLINE_DELAY</th>\n",
       "      <th>LATE_AIRCRAFT_DELAY</th>\n",
       "      <th>WEATHER_DELAY</th>\n",
       "    </tr>\n",
       "  </thead>\n",
       "  <tbody>\n",
       "    <tr>\n",
       "      <th>0</th>\n",
       "      <td>2015</td>\n",
       "      <td>1</td>\n",
       "      <td>1</td>\n",
       "      <td>4</td>\n",
       "      <td>AS</td>\n",
       "      <td>98</td>\n",
       "      <td>N407AS</td>\n",
       "      <td>ANC</td>\n",
       "      <td>SEA</td>\n",
       "      <td>5</td>\n",
       "      <td>...</td>\n",
       "      <td>408.0</td>\n",
       "      <td>-22.0</td>\n",
       "      <td>0</td>\n",
       "      <td>0</td>\n",
       "      <td>NaN</td>\n",
       "      <td>NaN</td>\n",
       "      <td>NaN</td>\n",
       "      <td>NaN</td>\n",
       "      <td>NaN</td>\n",
       "      <td>NaN</td>\n",
       "    </tr>\n",
       "    <tr>\n",
       "      <th>1</th>\n",
       "      <td>2015</td>\n",
       "      <td>1</td>\n",
       "      <td>1</td>\n",
       "      <td>4</td>\n",
       "      <td>AA</td>\n",
       "      <td>2336</td>\n",
       "      <td>N3KUAA</td>\n",
       "      <td>LAX</td>\n",
       "      <td>PBI</td>\n",
       "      <td>10</td>\n",
       "      <td>...</td>\n",
       "      <td>741.0</td>\n",
       "      <td>-9.0</td>\n",
       "      <td>0</td>\n",
       "      <td>0</td>\n",
       "      <td>NaN</td>\n",
       "      <td>NaN</td>\n",
       "      <td>NaN</td>\n",
       "      <td>NaN</td>\n",
       "      <td>NaN</td>\n",
       "      <td>NaN</td>\n",
       "    </tr>\n",
       "    <tr>\n",
       "      <th>2</th>\n",
       "      <td>2015</td>\n",
       "      <td>1</td>\n",
       "      <td>1</td>\n",
       "      <td>4</td>\n",
       "      <td>US</td>\n",
       "      <td>840</td>\n",
       "      <td>N171US</td>\n",
       "      <td>SFO</td>\n",
       "      <td>CLT</td>\n",
       "      <td>20</td>\n",
       "      <td>...</td>\n",
       "      <td>811.0</td>\n",
       "      <td>5.0</td>\n",
       "      <td>0</td>\n",
       "      <td>0</td>\n",
       "      <td>NaN</td>\n",
       "      <td>NaN</td>\n",
       "      <td>NaN</td>\n",
       "      <td>NaN</td>\n",
       "      <td>NaN</td>\n",
       "      <td>NaN</td>\n",
       "    </tr>\n",
       "    <tr>\n",
       "      <th>3</th>\n",
       "      <td>2015</td>\n",
       "      <td>1</td>\n",
       "      <td>1</td>\n",
       "      <td>4</td>\n",
       "      <td>AA</td>\n",
       "      <td>258</td>\n",
       "      <td>N3HYAA</td>\n",
       "      <td>LAX</td>\n",
       "      <td>MIA</td>\n",
       "      <td>20</td>\n",
       "      <td>...</td>\n",
       "      <td>756.0</td>\n",
       "      <td>-9.0</td>\n",
       "      <td>0</td>\n",
       "      <td>0</td>\n",
       "      <td>NaN</td>\n",
       "      <td>NaN</td>\n",
       "      <td>NaN</td>\n",
       "      <td>NaN</td>\n",
       "      <td>NaN</td>\n",
       "      <td>NaN</td>\n",
       "    </tr>\n",
       "    <tr>\n",
       "      <th>4</th>\n",
       "      <td>2015</td>\n",
       "      <td>1</td>\n",
       "      <td>1</td>\n",
       "      <td>4</td>\n",
       "      <td>AS</td>\n",
       "      <td>135</td>\n",
       "      <td>N527AS</td>\n",
       "      <td>SEA</td>\n",
       "      <td>ANC</td>\n",
       "      <td>25</td>\n",
       "      <td>...</td>\n",
       "      <td>259.0</td>\n",
       "      <td>-21.0</td>\n",
       "      <td>0</td>\n",
       "      <td>0</td>\n",
       "      <td>NaN</td>\n",
       "      <td>NaN</td>\n",
       "      <td>NaN</td>\n",
       "      <td>NaN</td>\n",
       "      <td>NaN</td>\n",
       "      <td>NaN</td>\n",
       "    </tr>\n",
       "  </tbody>\n",
       "</table>\n",
       "<p>5 rows × 31 columns</p>\n",
       "</div>"
      ],
      "text/plain": [
       "   YEAR  MONTH  DAY  DAY_OF_WEEK AIRLINE  FLIGHT_NUMBER TAIL_NUMBER  \\\n",
       "0  2015      1    1            4      AS             98      N407AS   \n",
       "1  2015      1    1            4      AA           2336      N3KUAA   \n",
       "2  2015      1    1            4      US            840      N171US   \n",
       "3  2015      1    1            4      AA            258      N3HYAA   \n",
       "4  2015      1    1            4      AS            135      N527AS   \n",
       "\n",
       "  ORIGIN_AIRPORT DESTINATION_AIRPORT  SCHEDULED_DEPARTURE      ...        \\\n",
       "0            ANC                 SEA                    5      ...         \n",
       "1            LAX                 PBI                   10      ...         \n",
       "2            SFO                 CLT                   20      ...         \n",
       "3            LAX                 MIA                   20      ...         \n",
       "4            SEA                 ANC                   25      ...         \n",
       "\n",
       "   ARRIVAL_TIME  ARRIVAL_DELAY  DIVERTED  CANCELLED  CANCELLATION_REASON  \\\n",
       "0         408.0          -22.0         0          0                  NaN   \n",
       "1         741.0           -9.0         0          0                  NaN   \n",
       "2         811.0            5.0         0          0                  NaN   \n",
       "3         756.0           -9.0         0          0                  NaN   \n",
       "4         259.0          -21.0         0          0                  NaN   \n",
       "\n",
       "   AIR_SYSTEM_DELAY  SECURITY_DELAY  AIRLINE_DELAY  LATE_AIRCRAFT_DELAY  \\\n",
       "0               NaN             NaN            NaN                  NaN   \n",
       "1               NaN             NaN            NaN                  NaN   \n",
       "2               NaN             NaN            NaN                  NaN   \n",
       "3               NaN             NaN            NaN                  NaN   \n",
       "4               NaN             NaN            NaN                  NaN   \n",
       "\n",
       "   WEATHER_DELAY  \n",
       "0            NaN  \n",
       "1            NaN  \n",
       "2            NaN  \n",
       "3            NaN  \n",
       "4            NaN  \n",
       "\n",
       "[5 rows x 31 columns]"
      ]
     },
     "execution_count": 4,
     "metadata": {},
     "output_type": "execute_result"
    }
   ],
   "source": [
    "data.head()"
   ]
  },
  {
   "cell_type": "markdown",
   "metadata": {},
   "source": [
    "Now that we've imported the dataset, we want to drop rows that won't be important to our model. The first columns I want to drop are cancellation reason and all the delay reason columns. I don't want to drop the 'cancelled' column because I may have further use for it. \n",
    "<br><br>\n",
    "Next, I want to drop all of the columns related to information we won't have before a ticket could be purchased (not including the columns we may use for a target variable). \n",
    "<br><br>\n",
    "Finally, I want to drop the FLIGHT_NUMBER and TAIL_NUMBER variables as they are categorical variables with a LOT of categories and I don't think they're going to have much of an impact on our model."
   ]
  },
  {
   "cell_type": "code",
   "execution_count": 5,
   "metadata": {},
   "outputs": [
    {
     "data": {
      "text/html": [
       "<div>\n",
       "<style>\n",
       "    .dataframe thead tr:only-child th {\n",
       "        text-align: right;\n",
       "    }\n",
       "\n",
       "    .dataframe thead th {\n",
       "        text-align: left;\n",
       "    }\n",
       "\n",
       "    .dataframe tbody tr th {\n",
       "        vertical-align: top;\n",
       "    }\n",
       "</style>\n",
       "<table border=\"1\" class=\"dataframe\">\n",
       "  <thead>\n",
       "    <tr style=\"text-align: right;\">\n",
       "      <th></th>\n",
       "      <th>YEAR</th>\n",
       "      <th>MONTH</th>\n",
       "      <th>DAY</th>\n",
       "      <th>DAY_OF_WEEK</th>\n",
       "      <th>AIRLINE</th>\n",
       "      <th>ORIGIN_AIRPORT</th>\n",
       "      <th>DESTINATION_AIRPORT</th>\n",
       "      <th>SCHEDULED_DEPARTURE</th>\n",
       "      <th>SCHEDULED_TIME</th>\n",
       "      <th>DISTANCE</th>\n",
       "      <th>SCHEDULED_ARRIVAL</th>\n",
       "      <th>ARRIVAL_DELAY</th>\n",
       "      <th>DIVERTED</th>\n",
       "      <th>CANCELLED</th>\n",
       "    </tr>\n",
       "  </thead>\n",
       "  <tbody>\n",
       "    <tr>\n",
       "      <th>0</th>\n",
       "      <td>2015</td>\n",
       "      <td>1</td>\n",
       "      <td>1</td>\n",
       "      <td>4</td>\n",
       "      <td>AS</td>\n",
       "      <td>ANC</td>\n",
       "      <td>SEA</td>\n",
       "      <td>5</td>\n",
       "      <td>205.0</td>\n",
       "      <td>1448</td>\n",
       "      <td>430</td>\n",
       "      <td>-22.0</td>\n",
       "      <td>0</td>\n",
       "      <td>0</td>\n",
       "    </tr>\n",
       "    <tr>\n",
       "      <th>1</th>\n",
       "      <td>2015</td>\n",
       "      <td>1</td>\n",
       "      <td>1</td>\n",
       "      <td>4</td>\n",
       "      <td>AA</td>\n",
       "      <td>LAX</td>\n",
       "      <td>PBI</td>\n",
       "      <td>10</td>\n",
       "      <td>280.0</td>\n",
       "      <td>2330</td>\n",
       "      <td>750</td>\n",
       "      <td>-9.0</td>\n",
       "      <td>0</td>\n",
       "      <td>0</td>\n",
       "    </tr>\n",
       "    <tr>\n",
       "      <th>2</th>\n",
       "      <td>2015</td>\n",
       "      <td>1</td>\n",
       "      <td>1</td>\n",
       "      <td>4</td>\n",
       "      <td>US</td>\n",
       "      <td>SFO</td>\n",
       "      <td>CLT</td>\n",
       "      <td>20</td>\n",
       "      <td>286.0</td>\n",
       "      <td>2296</td>\n",
       "      <td>806</td>\n",
       "      <td>5.0</td>\n",
       "      <td>0</td>\n",
       "      <td>0</td>\n",
       "    </tr>\n",
       "    <tr>\n",
       "      <th>3</th>\n",
       "      <td>2015</td>\n",
       "      <td>1</td>\n",
       "      <td>1</td>\n",
       "      <td>4</td>\n",
       "      <td>AA</td>\n",
       "      <td>LAX</td>\n",
       "      <td>MIA</td>\n",
       "      <td>20</td>\n",
       "      <td>285.0</td>\n",
       "      <td>2342</td>\n",
       "      <td>805</td>\n",
       "      <td>-9.0</td>\n",
       "      <td>0</td>\n",
       "      <td>0</td>\n",
       "    </tr>\n",
       "    <tr>\n",
       "      <th>4</th>\n",
       "      <td>2015</td>\n",
       "      <td>1</td>\n",
       "      <td>1</td>\n",
       "      <td>4</td>\n",
       "      <td>AS</td>\n",
       "      <td>SEA</td>\n",
       "      <td>ANC</td>\n",
       "      <td>25</td>\n",
       "      <td>235.0</td>\n",
       "      <td>1448</td>\n",
       "      <td>320</td>\n",
       "      <td>-21.0</td>\n",
       "      <td>0</td>\n",
       "      <td>0</td>\n",
       "    </tr>\n",
       "  </tbody>\n",
       "</table>\n",
       "</div>"
      ],
      "text/plain": [
       "   YEAR  MONTH  DAY  DAY_OF_WEEK AIRLINE ORIGIN_AIRPORT DESTINATION_AIRPORT  \\\n",
       "0  2015      1    1            4      AS            ANC                 SEA   \n",
       "1  2015      1    1            4      AA            LAX                 PBI   \n",
       "2  2015      1    1            4      US            SFO                 CLT   \n",
       "3  2015      1    1            4      AA            LAX                 MIA   \n",
       "4  2015      1    1            4      AS            SEA                 ANC   \n",
       "\n",
       "   SCHEDULED_DEPARTURE  SCHEDULED_TIME  DISTANCE  SCHEDULED_ARRIVAL  \\\n",
       "0                    5           205.0      1448                430   \n",
       "1                   10           280.0      2330                750   \n",
       "2                   20           286.0      2296                806   \n",
       "3                   20           285.0      2342                805   \n",
       "4                   25           235.0      1448                320   \n",
       "\n",
       "   ARRIVAL_DELAY  DIVERTED  CANCELLED  \n",
       "0          -22.0         0          0  \n",
       "1           -9.0         0          0  \n",
       "2            5.0         0          0  \n",
       "3           -9.0         0          0  \n",
       "4          -21.0         0          0  "
      ]
     },
     "execution_count": 5,
     "metadata": {},
     "output_type": "execute_result"
    }
   ],
   "source": [
    "colsToDrop0 = ['CANCELLATION_REASON', 'AIR_SYSTEM_DELAY', 'SECURITY_DELAY', 'AIRLINE_DELAY', \n",
    "                      'LATE_AIRCRAFT_DELAY', 'WEATHER_DELAY']\n",
    "colsToDrop1 = ['DEPARTURE_DELAY', 'DEPARTURE_TIME', 'TAXI_OUT', 'WHEELS_OFF', 'ELAPSED_TIME', 'AIR_TIME', 'WHEELS_ON', 'TAXI_IN', 'ARRIVAL_TIME']\n",
    "colsToDrop2 = ['FLIGHT_NUMBER', 'TAIL_NUMBER']\n",
    "data.drop(colsToDrop0, axis=1, inplace=True)\n",
    "data.drop(colsToDrop1, axis=1, inplace=True)\n",
    "data.drop(colsToDrop2, axis=1, inplace=True)\n",
    "data.head()"
   ]
  },
  {
   "cell_type": "markdown",
   "metadata": {},
   "source": [
    "One big issue we saw early on is that the month and all of the data is from the year 2015 and the month and the day features could be converted into a single, better feature called DAY_OF_YEAR and dropped YEAR:"
   ]
  },
  {
   "cell_type": "code",
   "execution_count": 6,
   "metadata": {},
   "outputs": [
    {
     "data": {
      "text/html": [
       "<div>\n",
       "<style>\n",
       "    .dataframe thead tr:only-child th {\n",
       "        text-align: right;\n",
       "    }\n",
       "\n",
       "    .dataframe thead th {\n",
       "        text-align: left;\n",
       "    }\n",
       "\n",
       "    .dataframe tbody tr th {\n",
       "        vertical-align: top;\n",
       "    }\n",
       "</style>\n",
       "<table border=\"1\" class=\"dataframe\">\n",
       "  <thead>\n",
       "    <tr style=\"text-align: right;\">\n",
       "      <th></th>\n",
       "      <th>DAY_OF_YEAR</th>\n",
       "      <th>DAY_OF_WEEK</th>\n",
       "      <th>AIRLINE</th>\n",
       "      <th>ORIGIN_AIRPORT</th>\n",
       "      <th>DESTINATION_AIRPORT</th>\n",
       "      <th>SCHEDULED_DEPARTURE</th>\n",
       "      <th>SCHEDULED_TIME</th>\n",
       "      <th>DISTANCE</th>\n",
       "      <th>SCHEDULED_ARRIVAL</th>\n",
       "      <th>ARRIVAL_DELAY</th>\n",
       "      <th>DIVERTED</th>\n",
       "      <th>CANCELLED</th>\n",
       "    </tr>\n",
       "  </thead>\n",
       "  <tbody>\n",
       "    <tr>\n",
       "      <th>0</th>\n",
       "      <td>1</td>\n",
       "      <td>4</td>\n",
       "      <td>AS</td>\n",
       "      <td>ANC</td>\n",
       "      <td>SEA</td>\n",
       "      <td>5</td>\n",
       "      <td>205.0</td>\n",
       "      <td>1448</td>\n",
       "      <td>430</td>\n",
       "      <td>-22.0</td>\n",
       "      <td>0</td>\n",
       "      <td>0</td>\n",
       "    </tr>\n",
       "    <tr>\n",
       "      <th>1</th>\n",
       "      <td>1</td>\n",
       "      <td>4</td>\n",
       "      <td>AA</td>\n",
       "      <td>LAX</td>\n",
       "      <td>PBI</td>\n",
       "      <td>10</td>\n",
       "      <td>280.0</td>\n",
       "      <td>2330</td>\n",
       "      <td>750</td>\n",
       "      <td>-9.0</td>\n",
       "      <td>0</td>\n",
       "      <td>0</td>\n",
       "    </tr>\n",
       "    <tr>\n",
       "      <th>2</th>\n",
       "      <td>1</td>\n",
       "      <td>4</td>\n",
       "      <td>US</td>\n",
       "      <td>SFO</td>\n",
       "      <td>CLT</td>\n",
       "      <td>20</td>\n",
       "      <td>286.0</td>\n",
       "      <td>2296</td>\n",
       "      <td>806</td>\n",
       "      <td>5.0</td>\n",
       "      <td>0</td>\n",
       "      <td>0</td>\n",
       "    </tr>\n",
       "    <tr>\n",
       "      <th>3</th>\n",
       "      <td>1</td>\n",
       "      <td>4</td>\n",
       "      <td>AA</td>\n",
       "      <td>LAX</td>\n",
       "      <td>MIA</td>\n",
       "      <td>20</td>\n",
       "      <td>285.0</td>\n",
       "      <td>2342</td>\n",
       "      <td>805</td>\n",
       "      <td>-9.0</td>\n",
       "      <td>0</td>\n",
       "      <td>0</td>\n",
       "    </tr>\n",
       "    <tr>\n",
       "      <th>4</th>\n",
       "      <td>1</td>\n",
       "      <td>4</td>\n",
       "      <td>AS</td>\n",
       "      <td>SEA</td>\n",
       "      <td>ANC</td>\n",
       "      <td>25</td>\n",
       "      <td>235.0</td>\n",
       "      <td>1448</td>\n",
       "      <td>320</td>\n",
       "      <td>-21.0</td>\n",
       "      <td>0</td>\n",
       "      <td>0</td>\n",
       "    </tr>\n",
       "  </tbody>\n",
       "</table>\n",
       "</div>"
      ],
      "text/plain": [
       "   DAY_OF_YEAR  DAY_OF_WEEK AIRLINE ORIGIN_AIRPORT DESTINATION_AIRPORT  \\\n",
       "0            1            4      AS            ANC                 SEA   \n",
       "1            1            4      AA            LAX                 PBI   \n",
       "2            1            4      US            SFO                 CLT   \n",
       "3            1            4      AA            LAX                 MIA   \n",
       "4            1            4      AS            SEA                 ANC   \n",
       "\n",
       "   SCHEDULED_DEPARTURE  SCHEDULED_TIME  DISTANCE  SCHEDULED_ARRIVAL  \\\n",
       "0                    5           205.0      1448                430   \n",
       "1                   10           280.0      2330                750   \n",
       "2                   20           286.0      2296                806   \n",
       "3                   20           285.0      2342                805   \n",
       "4                   25           235.0      1448                320   \n",
       "\n",
       "   ARRIVAL_DELAY  DIVERTED  CANCELLED  \n",
       "0          -22.0         0          0  \n",
       "1           -9.0         0          0  \n",
       "2            5.0         0          0  \n",
       "3           -9.0         0          0  \n",
       "4          -21.0         0          0  "
      ]
     },
     "execution_count": 6,
     "metadata": {},
     "output_type": "execute_result"
    }
   ],
   "source": [
    "monthToDaysDict = {1: 0, 2: 31, 3: 59, 4: 90, 5: 120, 6: 151, 7: 181, 8: 212, \n",
    "                   9: 243, 10: 273, 11: 304, 12: 334}\n",
    "def monthToDays(month):\n",
    "    return monthToDaysDict[month]\n",
    "\n",
    "# Convert MONTH -> # of days before a month\n",
    "data['MONTH'] = data['MONTH'].apply(monthToDays)\n",
    "\n",
    "# Convert MONTH + DAYS -> DAY_OF_YEAR\n",
    "data['DAY'] = data['DAY'] + data['MONTH']\n",
    "data.rename(columns={'DAY': 'DAY_OF_YEAR'}, inplace=True)\n",
    "data.drop(\"MONTH\", axis=1, inplace=True)\n",
    "data.drop(\"YEAR\", axis=1, inplace=True)\n",
    "data.head()"
   ]
  },
  {
   "cell_type": "markdown",
   "metadata": {},
   "source": [
    "If you look at the SCHEDULED_DEPARTURE and SCHEDULED_ARRIVAL features in the table in the cell above, they are currently in a from that looks like an integer. They represent the time as a single integer in the form of \"hhmm\". Drawing from Aaron's work, we decided to convert both of these features to a numeric quantity representing the number of minutes in a day (0 to 1439):"
   ]
  },
  {
   "cell_type": "code",
   "execution_count": 7,
   "metadata": {},
   "outputs": [
    {
     "data": {
      "text/html": [
       "<div>\n",
       "<style>\n",
       "    .dataframe thead tr:only-child th {\n",
       "        text-align: right;\n",
       "    }\n",
       "\n",
       "    .dataframe thead th {\n",
       "        text-align: left;\n",
       "    }\n",
       "\n",
       "    .dataframe tbody tr th {\n",
       "        vertical-align: top;\n",
       "    }\n",
       "</style>\n",
       "<table border=\"1\" class=\"dataframe\">\n",
       "  <thead>\n",
       "    <tr style=\"text-align: right;\">\n",
       "      <th></th>\n",
       "      <th>DAY_OF_YEAR</th>\n",
       "      <th>DAY_OF_WEEK</th>\n",
       "      <th>AIRLINE</th>\n",
       "      <th>ORIGIN_AIRPORT</th>\n",
       "      <th>DESTINATION_AIRPORT</th>\n",
       "      <th>SCHEDULED_DEPARTURE</th>\n",
       "      <th>SCHEDULED_TIME</th>\n",
       "      <th>DISTANCE</th>\n",
       "      <th>SCHEDULED_ARRIVAL</th>\n",
       "      <th>ARRIVAL_DELAY</th>\n",
       "      <th>DIVERTED</th>\n",
       "      <th>CANCELLED</th>\n",
       "    </tr>\n",
       "  </thead>\n",
       "  <tbody>\n",
       "    <tr>\n",
       "      <th>0</th>\n",
       "      <td>1</td>\n",
       "      <td>4</td>\n",
       "      <td>AS</td>\n",
       "      <td>ANC</td>\n",
       "      <td>SEA</td>\n",
       "      <td>5.0</td>\n",
       "      <td>205.0</td>\n",
       "      <td>1448</td>\n",
       "      <td>270.0</td>\n",
       "      <td>-22.0</td>\n",
       "      <td>0</td>\n",
       "      <td>0</td>\n",
       "    </tr>\n",
       "    <tr>\n",
       "      <th>1</th>\n",
       "      <td>1</td>\n",
       "      <td>4</td>\n",
       "      <td>AA</td>\n",
       "      <td>LAX</td>\n",
       "      <td>PBI</td>\n",
       "      <td>10.0</td>\n",
       "      <td>280.0</td>\n",
       "      <td>2330</td>\n",
       "      <td>470.0</td>\n",
       "      <td>-9.0</td>\n",
       "      <td>0</td>\n",
       "      <td>0</td>\n",
       "    </tr>\n",
       "    <tr>\n",
       "      <th>2</th>\n",
       "      <td>1</td>\n",
       "      <td>4</td>\n",
       "      <td>US</td>\n",
       "      <td>SFO</td>\n",
       "      <td>CLT</td>\n",
       "      <td>20.0</td>\n",
       "      <td>286.0</td>\n",
       "      <td>2296</td>\n",
       "      <td>486.0</td>\n",
       "      <td>5.0</td>\n",
       "      <td>0</td>\n",
       "      <td>0</td>\n",
       "    </tr>\n",
       "    <tr>\n",
       "      <th>3</th>\n",
       "      <td>1</td>\n",
       "      <td>4</td>\n",
       "      <td>AA</td>\n",
       "      <td>LAX</td>\n",
       "      <td>MIA</td>\n",
       "      <td>20.0</td>\n",
       "      <td>285.0</td>\n",
       "      <td>2342</td>\n",
       "      <td>485.0</td>\n",
       "      <td>-9.0</td>\n",
       "      <td>0</td>\n",
       "      <td>0</td>\n",
       "    </tr>\n",
       "    <tr>\n",
       "      <th>4</th>\n",
       "      <td>1</td>\n",
       "      <td>4</td>\n",
       "      <td>AS</td>\n",
       "      <td>SEA</td>\n",
       "      <td>ANC</td>\n",
       "      <td>25.0</td>\n",
       "      <td>235.0</td>\n",
       "      <td>1448</td>\n",
       "      <td>200.0</td>\n",
       "      <td>-21.0</td>\n",
       "      <td>0</td>\n",
       "      <td>0</td>\n",
       "    </tr>\n",
       "  </tbody>\n",
       "</table>\n",
       "</div>"
      ],
      "text/plain": [
       "   DAY_OF_YEAR  DAY_OF_WEEK AIRLINE ORIGIN_AIRPORT DESTINATION_AIRPORT  \\\n",
       "0            1            4      AS            ANC                 SEA   \n",
       "1            1            4      AA            LAX                 PBI   \n",
       "2            1            4      US            SFO                 CLT   \n",
       "3            1            4      AA            LAX                 MIA   \n",
       "4            1            4      AS            SEA                 ANC   \n",
       "\n",
       "   SCHEDULED_DEPARTURE  SCHEDULED_TIME  DISTANCE  SCHEDULED_ARRIVAL  \\\n",
       "0                  5.0           205.0      1448              270.0   \n",
       "1                 10.0           280.0      2330              470.0   \n",
       "2                 20.0           286.0      2296              486.0   \n",
       "3                 20.0           285.0      2342              485.0   \n",
       "4                 25.0           235.0      1448              200.0   \n",
       "\n",
       "   ARRIVAL_DELAY  DIVERTED  CANCELLED  \n",
       "0          -22.0         0          0  \n",
       "1           -9.0         0          0  \n",
       "2            5.0         0          0  \n",
       "3           -9.0         0          0  \n",
       "4          -21.0         0          0  "
      ]
     },
     "execution_count": 7,
     "metadata": {},
     "output_type": "execute_result"
    }
   ],
   "source": [
    "def hhmmFloatToMinutes(time):\n",
    "    timeString = \"{:04d}\".format(time)\n",
    "    hours = float(timeString[0:2])\n",
    "    minutes = float(timeString[2:4])\n",
    "    totalMinutes = (hours * 60) + minutes\n",
    "    return totalMinutes\n",
    "\n",
    "data['SCHEDULED_DEPARTURE'] = data['SCHEDULED_DEPARTURE'].apply(hhmmFloatToMinutes)\n",
    "data['SCHEDULED_ARRIVAL'] = data['SCHEDULED_ARRIVAL'].apply(hhmmFloatToMinutes)\n",
    "data.head()"
   ]
  },
  {
   "cell_type": "markdown",
   "metadata": {},
   "source": [
    "Again, drawing from Aaron's work:\n",
    "<br><br>\n",
    "**There's an issue with the ORIGIN_AIRPORT and DESTINATION_AIRPORT features for October 2015. The problem is described in [this](https://www.kaggle.com/usdot/flight-delays/discussion/29600#latest-168452) post on Kaggle. The approach to fix it is drawn from [this](https://www.kaggle.com/srcole/fix-inconsistent-airport-codes) Kaggle kernel.** "
   ]
  },
  {
   "cell_type": "code",
   "execution_count": 8,
   "metadata": {},
   "outputs": [
    {
     "name": "stdout",
     "output_type": "stream",
     "text": [
      "Fixing origin airports:\n",
      "1000000\n",
      "2000000\n",
      "3000000\n",
      "4000000\n",
      "5000000\n",
      "Fixing destination airports:\n",
      "1000000\n",
      "2000000\n",
      "3000000\n",
      "4000000\n",
      "5000000\n",
      "\n",
      "Now let's test that the airports are in fact fixed:\n",
      "Testing ORIGIN_AIRPORT:\n",
      "countTest: 0\n",
      "Testing DESTINATION_AIRPORT:\n",
      "countTest: 0\n"
     ]
    }
   ],
   "source": [
    "df_threeLetterCode = pd.read_csv('L_AIRPORT.csv')\n",
    "df_fiveLetterCode = pd.read_csv('L_AIRPORT_ID.csv')\n",
    "\n",
    "codesToDrop = ['BSM', 'NYL']\n",
    "df_threeLetterCode = df_threeLetterCode[~df_threeLetterCode['Code'].isin(codesToDrop)]\n",
    "threeLetterCodes = list(df_threeLetterCode['Code'])\n",
    "\n",
    "df3 = df_threeLetterCode.set_index('Description')\n",
    "df5 = df_fiveLetterCode.set_index('Code')\n",
    "\n",
    "df_airports = data[['ORIGIN_AIRPORT', 'DESTINATION_AIRPORT']]\n",
    "df_October = df_airports.loc[~df_airports['ORIGIN_AIRPORT'].isin(threeLetterCodes) |\n",
    "                            ~df_airports['DESTINATION_AIRPORT'].isin(threeLetterCodes)]\n",
    "\n",
    "def fixOctoberAirports(airport):\n",
    "    if len(airport) != 3:\n",
    "        index = int(airport)\n",
    "        descriptionAsKey = df5.loc[index]['Description']\n",
    "        newCode = df3.loc[descriptionAsKey]['Code']\n",
    "        return newCode\n",
    "    else:\n",
    "        return airport\n",
    "    \n",
    "print(\"Fixing origin airports:\")    \n",
    "fixed_origin_airport = data['ORIGIN_AIRPORT'].apply(fixOctoberAirports)\n",
    "\n",
    "nFlights = 0\n",
    "print(\"Fixing destination airports:\")\n",
    "fixed_dest_airport = data['DESTINATION_AIRPORT'].apply(fixOctoberAirports)\n",
    "\n",
    "data['ORIGIN_AIRPORT'] = fixed_origin_airport\n",
    "data['DESTINATION_AIRPORT'] = fixed_dest_airport\n",
    "\n",
    "print()\n",
    "print(\"Now let's test that the airports are in fact fixed:\")\n",
    "\n",
    "countTest = 0\n",
    "nFlightsTest = 0\n",
    "def testFixAirports(airport):\n",
    "    global countTest\n",
    "    global nFlightsTest\n",
    "    nFlightsTest += 1\n",
    "    if len(airport) != 3:\n",
    "        countTest += 1\n",
    "        \n",
    "print(\"Testing ORIGIN_AIRPORT:\")\n",
    "countTest = 0\n",
    "nFlightsTest = 0\n",
    "data['ORIGIN_AIRPORT'].apply(testFixAirports)\n",
    "print(\"countTest:\", countTest)\n",
    "\n",
    "print(\"Testing DESTINATION_AIRPORT:\")\n",
    "countTest = 0\n",
    "nFlightsTest = 0\n",
    "data['DESTINATION_AIRPORT'].apply(testFixAirports)\n",
    "print(\"countTest:\", countTest)"
   ]
  },
  {
   "cell_type": "markdown",
   "metadata": {},
   "source": [
    "I also want to check if there are any null values in the remaining columns:"
   ]
  },
  {
   "cell_type": "code",
   "execution_count": 9,
   "metadata": {},
   "outputs": [
    {
     "data": {
      "text/plain": [
       "DAY_OF_YEAR                 0\n",
       "DAY_OF_WEEK                 0\n",
       "AIRLINE                     0\n",
       "ORIGIN_AIRPORT              0\n",
       "DESTINATION_AIRPORT         0\n",
       "SCHEDULED_DEPARTURE         0\n",
       "SCHEDULED_TIME              6\n",
       "DISTANCE                    0\n",
       "SCHEDULED_ARRIVAL           0\n",
       "ARRIVAL_DELAY          105071\n",
       "DIVERTED                    0\n",
       "CANCELLED                   0\n",
       "dtype: int64"
      ]
     },
     "execution_count": 9,
     "metadata": {},
     "output_type": "execute_result"
    }
   ],
   "source": [
    "missing_values = data.isnull().sum(axis=0)\n",
    "missing_values"
   ]
  },
  {
   "cell_type": "code",
   "execution_count": 10,
   "metadata": {},
   "outputs": [
    {
     "data": {
      "text/plain": [
       "0    5729195\n",
       "1      89884\n",
       "Name: CANCELLED, dtype: int64"
      ]
     },
     "execution_count": 10,
     "metadata": {},
     "output_type": "execute_result"
    }
   ],
   "source": [
    "data['CANCELLED'].value_counts()"
   ]
  },
  {
   "cell_type": "code",
   "execution_count": 11,
   "metadata": {},
   "outputs": [
    {
     "data": {
      "text/plain": [
       "0    5803892\n",
       "1      15187\n",
       "Name: DIVERTED, dtype: int64"
      ]
     },
     "execution_count": 11,
     "metadata": {},
     "output_type": "execute_result"
    }
   ],
   "source": [
    "data['DIVERTED'].value_counts()"
   ]
  },
  {
   "cell_type": "code",
   "execution_count": 12,
   "metadata": {},
   "outputs": [
    {
     "name": "stdout",
     "output_type": "stream",
     "text": [
      "Total number of flights diverted or cancelled:  105071\n"
     ]
    }
   ],
   "source": [
    "#Find num diverted or cancelled\n",
    "print(\"Total number of flights diverted or cancelled: \", (89884 + 15187))"
   ]
  },
  {
   "cell_type": "markdown",
   "metadata": {},
   "source": [
    "As you can see in the cells above, the number of missing values in the ARRIVAL_DELAY column directly matches the number of flights diverted/cancelled. There are no other missing values, so we'll proceed with our analysis.\n",
    "<br><br>\n",
    "I am finally ready to create the target variable for the dataset. The target variable will have to meet <b>one</b> of <b>three</b> criteria: the arrival delay must be greater than or equal to thirty minutes, the flight must be diverted, or the flight must be cancelled."
   ]
  },
  {
   "cell_type": "code",
   "execution_count": 13,
   "metadata": {},
   "outputs": [
    {
     "data": {
      "text/plain": [
       "755675"
      ]
     },
     "execution_count": 13,
     "metadata": {},
     "output_type": "execute_result"
    }
   ],
   "source": [
    "#Expected number of flights in class 1:\n",
    "len(data[(data['ARRIVAL_DELAY'] >= 30) | (data['DIVERTED'] == 1) | (data['CANCELLED'] == 1)])"
   ]
  },
  {
   "cell_type": "code",
   "execution_count": 14,
   "metadata": {},
   "outputs": [
    {
     "data": {
      "text/plain": [
       "0    5063404\n",
       "1     755675\n",
       "Name: SIGNIFICANT_DELAY, dtype: int64"
      ]
     },
     "execution_count": 14,
     "metadata": {},
     "output_type": "execute_result"
    }
   ],
   "source": [
    "def toSignificantDelay(delay, threshold):\n",
    "    if delay >= threshold:\n",
    "        return 1\n",
    "    else:\n",
    "        return 0\n",
    "    \n",
    "data['ARRIVAL_DELAY'].fillna(0) #Only rows with NA are diverted or cancelled, so this is okay\n",
    "data['ARRIVAL_DELAY'] = data['ARRIVAL_DELAY'].apply(toSignificantDelay, threshold = 30)\n",
    "data['SIGNIFICANT_DELAY'] = data['ARRIVAL_DELAY'] | data['DIVERTED'] | data['CANCELLED']\n",
    "data['SIGNIFICANT_DELAY'].value_counts()"
   ]
  },
  {
   "cell_type": "markdown",
   "metadata": {},
   "source": [
    "They match! Now we can drop the other three columns as we won't be using them:"
   ]
  },
  {
   "cell_type": "code",
   "execution_count": 15,
   "metadata": {},
   "outputs": [
    {
     "data": {
      "text/html": [
       "<div>\n",
       "<style>\n",
       "    .dataframe thead tr:only-child th {\n",
       "        text-align: right;\n",
       "    }\n",
       "\n",
       "    .dataframe thead th {\n",
       "        text-align: left;\n",
       "    }\n",
       "\n",
       "    .dataframe tbody tr th {\n",
       "        vertical-align: top;\n",
       "    }\n",
       "</style>\n",
       "<table border=\"1\" class=\"dataframe\">\n",
       "  <thead>\n",
       "    <tr style=\"text-align: right;\">\n",
       "      <th></th>\n",
       "      <th>DAY_OF_YEAR</th>\n",
       "      <th>DAY_OF_WEEK</th>\n",
       "      <th>AIRLINE</th>\n",
       "      <th>ORIGIN_AIRPORT</th>\n",
       "      <th>DESTINATION_AIRPORT</th>\n",
       "      <th>SCHEDULED_DEPARTURE</th>\n",
       "      <th>SCHEDULED_TIME</th>\n",
       "      <th>DISTANCE</th>\n",
       "      <th>SCHEDULED_ARRIVAL</th>\n",
       "      <th>SIGNIFICANT_DELAY</th>\n",
       "    </tr>\n",
       "  </thead>\n",
       "  <tbody>\n",
       "    <tr>\n",
       "      <th>0</th>\n",
       "      <td>1</td>\n",
       "      <td>4</td>\n",
       "      <td>AS</td>\n",
       "      <td>ANC</td>\n",
       "      <td>SEA</td>\n",
       "      <td>5.0</td>\n",
       "      <td>205.0</td>\n",
       "      <td>1448</td>\n",
       "      <td>270.0</td>\n",
       "      <td>0</td>\n",
       "    </tr>\n",
       "    <tr>\n",
       "      <th>1</th>\n",
       "      <td>1</td>\n",
       "      <td>4</td>\n",
       "      <td>AA</td>\n",
       "      <td>LAX</td>\n",
       "      <td>PBI</td>\n",
       "      <td>10.0</td>\n",
       "      <td>280.0</td>\n",
       "      <td>2330</td>\n",
       "      <td>470.0</td>\n",
       "      <td>0</td>\n",
       "    </tr>\n",
       "    <tr>\n",
       "      <th>2</th>\n",
       "      <td>1</td>\n",
       "      <td>4</td>\n",
       "      <td>US</td>\n",
       "      <td>SFO</td>\n",
       "      <td>CLT</td>\n",
       "      <td>20.0</td>\n",
       "      <td>286.0</td>\n",
       "      <td>2296</td>\n",
       "      <td>486.0</td>\n",
       "      <td>0</td>\n",
       "    </tr>\n",
       "    <tr>\n",
       "      <th>3</th>\n",
       "      <td>1</td>\n",
       "      <td>4</td>\n",
       "      <td>AA</td>\n",
       "      <td>LAX</td>\n",
       "      <td>MIA</td>\n",
       "      <td>20.0</td>\n",
       "      <td>285.0</td>\n",
       "      <td>2342</td>\n",
       "      <td>485.0</td>\n",
       "      <td>0</td>\n",
       "    </tr>\n",
       "    <tr>\n",
       "      <th>4</th>\n",
       "      <td>1</td>\n",
       "      <td>4</td>\n",
       "      <td>AS</td>\n",
       "      <td>SEA</td>\n",
       "      <td>ANC</td>\n",
       "      <td>25.0</td>\n",
       "      <td>235.0</td>\n",
       "      <td>1448</td>\n",
       "      <td>200.0</td>\n",
       "      <td>0</td>\n",
       "    </tr>\n",
       "  </tbody>\n",
       "</table>\n",
       "</div>"
      ],
      "text/plain": [
       "   DAY_OF_YEAR  DAY_OF_WEEK AIRLINE ORIGIN_AIRPORT DESTINATION_AIRPORT  \\\n",
       "0            1            4      AS            ANC                 SEA   \n",
       "1            1            4      AA            LAX                 PBI   \n",
       "2            1            4      US            SFO                 CLT   \n",
       "3            1            4      AA            LAX                 MIA   \n",
       "4            1            4      AS            SEA                 ANC   \n",
       "\n",
       "   SCHEDULED_DEPARTURE  SCHEDULED_TIME  DISTANCE  SCHEDULED_ARRIVAL  \\\n",
       "0                  5.0           205.0      1448              270.0   \n",
       "1                 10.0           280.0      2330              470.0   \n",
       "2                 20.0           286.0      2296              486.0   \n",
       "3                 20.0           285.0      2342              485.0   \n",
       "4                 25.0           235.0      1448              200.0   \n",
       "\n",
       "   SIGNIFICANT_DELAY  \n",
       "0                  0  \n",
       "1                  0  \n",
       "2                  0  \n",
       "3                  0  \n",
       "4                  0  "
      ]
     },
     "execution_count": 15,
     "metadata": {},
     "output_type": "execute_result"
    }
   ],
   "source": [
    "colsToDrop3 = ['ARRIVAL_DELAY', 'DIVERTED', 'CANCELLED']\n",
    "data.drop(colsToDrop3, axis=1, inplace=True)\n",
    "data.head()"
   ]
  },
  {
   "cell_type": "markdown",
   "metadata": {},
   "source": [
    "Now I would like to visualize some of the relationships between our features and our target variable. Here are some plots and charts that provide some insight:"
   ]
  },
  {
   "cell_type": "code",
   "execution_count": 16,
   "metadata": {
    "collapsed": true
   },
   "outputs": [],
   "source": [
    "import matplotlib.pyplot as plt"
   ]
  },
  {
   "cell_type": "code",
   "execution_count": 17,
   "metadata": {},
   "outputs": [
    {
     "data": {
      "image/png": "[encoded data removed]",
      "text/plain": [
       "<matplotlib.figure.Figure at 0x207e791d8d0>"
      ]
     },
     "metadata": {},
     "output_type": "display_data"
    }
   ],
   "source": [
    "#Day of the year\n",
    "x = []\n",
    "y = []\n",
    "for i in range(1, 366):\n",
    "    dataDay = data.loc[data['DAY_OF_YEAR'] == i]\n",
    "    x.append(i)\n",
    "    y.append(dataDay['SIGNIFICANT_DELAY'].mean() * 100)\n",
    "             \n",
    "plt.plot(x, y)\n",
    "plt.xlabel(\"Day of the Year\")\n",
    "plt.ylabel(\"% Flights with Significant Delay\")\n",
    "plt.show()"
   ]
  },
  {
   "cell_type": "code",
   "execution_count": 18,
   "metadata": {},
   "outputs": [
    {
     "data": {
      "image/png": "[encoded data removed]",
      "text/plain": [
       "<matplotlib.figure.Figure at 0x207e791d1d0>"
      ]
     },
     "metadata": {},
     "output_type": "display_data"
    }
   ],
   "source": [
    "grouped = data.groupby(['DAY_OF_WEEK'])['SIGNIFICANT_DELAY']\n",
    "(grouped.mean() * 100).plot(kind='bar')\n",
    "plt.show()\n",
    "#1 = Monday, 7 = Sunday"
   ]
  },
  {
   "cell_type": "code",
   "execution_count": 19,
   "metadata": {},
   "outputs": [
    {
     "data": {
      "image/png": "[encoded data removed]",
      "text/plain": [
       "<matplotlib.figure.Figure at 0x207e7df07b8>"
      ]
     },
     "metadata": {},
     "output_type": "display_data"
    }
   ],
   "source": [
    "grouped = data.groupby(['AIRLINE'])['SIGNIFICANT_DELAY']\n",
    "(grouped.mean() * 100).plot(kind='bar')\n",
    "plt.show()"
   ]
  },
  {
   "cell_type": "code",
   "execution_count": 20,
   "metadata": {},
   "outputs": [
    {
     "data": {
      "image/png": "[encoded data removed]",
      "text/plain": [
       "<matplotlib.figure.Figure at 0x207e7d875f8>"
      ]
     },
     "metadata": {},
     "output_type": "display_data"
    }
   ],
   "source": [
    "grouped = data.groupby(['ORIGIN_AIRPORT'])['SIGNIFICANT_DELAY']\n",
    "(grouped.mean() * 100).plot(kind='bar')\n",
    "plt.show()"
   ]
  },
  {
   "cell_type": "code",
   "execution_count": 21,
   "metadata": {},
   "outputs": [
    {
     "data": {
      "image/png": "[encoded data removed]",
      "text/plain": [
       "<matplotlib.figure.Figure at 0x207e8574eb8>"
      ]
     },
     "metadata": {},
     "output_type": "display_data"
    }
   ],
   "source": [
    "grouped = data.groupby(['DESTINATION_AIRPORT'])['SIGNIFICANT_DELAY']\n",
    "(grouped.mean() * 100).plot(kind='bar')\n",
    "plt.show()"
   ]
  },
  {
   "cell_type": "code",
   "execution_count": 22,
   "metadata": {},
   "outputs": [
    {
     "data": {
      "image/png": "[encoded data removed]",
      "text/plain": [
       "<matplotlib.figure.Figure at 0x207e8a6fa20>"
      ]
     },
     "metadata": {},
     "output_type": "display_data"
    }
   ],
   "source": [
    "#Scheduled Departure\n",
    "x = [0, 1, 2, 3, 4, 5, 6, 7, 8, 9, 10, 11, 12, 13, 14, 15, 16, 17, 18, 19, 20, 21, 22, 23]\n",
    "y = []\n",
    "for i in x:\n",
    "    mask = (data['SCHEDULED_DEPARTURE'] >= i * 60) & (data['SCHEDULED_DEPARTURE'] < (i + 1) * 60)\n",
    "    dataHour = data.loc[mask]\n",
    "    y.append(dataHour['SIGNIFICANT_DELAY'].mean() * 100)\n",
    "             \n",
    "plt.plot(x, y)\n",
    "plt.xticks(range(0, 24), x)\n",
    "plt.xlabel(\"Scheduled Departure (Hour)\")\n",
    "plt.ylabel(\"% Flights with Significant Delay\")\n",
    "plt.show()"
   ]
  },
  {
   "cell_type": "code",
   "execution_count": 67,
   "metadata": {},
   "outputs": [
    {
     "data": {
      "image/png": "[encoded data removed]",
      "text/plain": [
       "<matplotlib.figure.Figure at 0x276e69f8dd8>"
      ]
     },
     "metadata": {},
     "output_type": "display_data"
    }
   ],
   "source": [
    "#Day of the year\n",
    "x = [0, 1, 2, 3, 4, 5, 6, 7, 8, 9, 10, 11, 12, 13, 14, 15, 16, 17, 18, 19, 20, 21, 22, 23]\n",
    "y = []\n",
    "for i in x:\n",
    "    mask = (data['SCHEDULED_DEPARTURE'] >= i * 60) & (data['SCHEDULED_DEPARTURE'] <= (i + 1) * 60)\n",
    "    dataHour = data.loc[mask]\n",
    "    y.append(dataHour['SIGNIFICANT_DELAY'].mean() * 100)\n",
    "             \n",
    "plt.plot(x, y)\n",
    "plt.xticks(range(0, 24), x)\n",
    "plt.xlabel(\"Scheduled Departure (Hour)\")\n",
    "plt.ylabel(\"% Flights with Significant Delay\")\n",
    "plt.show()"
   ]
  },
  {
   "cell_type": "code",
   "execution_count": null,
   "metadata": {
    "collapsed": true
   },
   "outputs": [],
   "source": [
    "#Do scheduled time here"
   ]
  },
  {
   "cell_type": "code",
   "execution_count": 68,
   "metadata": {},
   "outputs": [
    {
     "data": {
      "image/png": "[encoded data removed]",
      "text/plain": [
       "<matplotlib.figure.Figure at 0x276e6a96fd0>"
      ]
     },
     "metadata": {},
     "output_type": "display_data"
    }
   ],
   "source": [
    "grouped = data.groupby(['DISTANCE'])['SIGNIFICANT_DELAY']\n",
    "(grouped.mean() * 100).plot()\n",
    "plt.show()"
   ]
  },
  {
   "cell_type": "code",
   "execution_count": 23,
   "metadata": {},
   "outputs": [
    {
     "data": {
      "image/png": "[encoded data removed]",
      "text/plain": [
       "<matplotlib.figure.Figure at 0x207e89dba20>"
      ]
     },
     "metadata": {},
     "output_type": "display_data"
    }
   ],
   "source": [
    "#Scheduled Arrival\n",
    "x = [0, 1, 2, 3, 4, 5, 6, 7, 8, 9, 10, 11, 12, 13, 14, 15, 16, 17, 18, 19, 20, 21, 22, 23]\n",
    "y = []\n",
    "for i in x:\n",
    "    mask = (data['SCHEDULED_ARRIVAL'] >= i * 60) & (data['SCHEDULED_ARRIVAL'] <= (i + 1) * 60)\n",
    "    dataHour = data.loc[mask]\n",
    "    y.append(dataHour['SIGNIFICANT_DELAY'].mean() * 100)\n",
    "             \n",
    "plt.plot(x, y)\n",
    "plt.xticks(range(0, 24), x)\n",
    "plt.xlabel(\"Scheduled Arrival (Hour)\")\n",
    "plt.ylabel(\"% Flights with Significant Delay\")\n",
    "plt.show()"
   ]
  },
  {
   "cell_type": "markdown",
   "metadata": {},
   "source": [
    "Now, using the data that we have, I would like to try creating a simple Random Forest Model:"
   ]
  },
  {
   "cell_type": "code",
   "execution_count": 24,
   "metadata": {
    "collapsed": true
   },
   "outputs": [],
   "source": [
    "from sklearn.model_selection import train_test_split\n",
    "from sklearn.ensemble import RandomForestClassifier\n",
    "from sklearn.metrics import confusion_matrix, accuracy_score\n",
    "from sklearn.ensemble import GradientBoostingClassifier\n",
    "from sklearn.model_selection import GridSearchCV"
   ]
  },
  {
   "cell_type": "code",
   "execution_count": 30,
   "metadata": {},
   "outputs": [
    {
     "data": {
      "text/plain": [
       "DAY_OF_YEAR            0\n",
       "DAY_OF_WEEK            0\n",
       "AIRLINE                0\n",
       "ORIGIN_AIRPORT         0\n",
       "DESTINATION_AIRPORT    0\n",
       "SCHEDULED_DEPARTURE    0\n",
       "SCHEDULED_TIME         6\n",
       "DISTANCE               0\n",
       "SCHEDULED_ARRIVAL      0\n",
       "SIGNIFICANT_DELAY      0\n",
       "dtype: int64"
      ]
     },
     "execution_count": 30,
     "metadata": {},
     "output_type": "execute_result"
    }
   ],
   "source": [
    "missing_values = data.isnull().sum(axis=0)\n",
    "missing_values"
   ]
  },
  {
   "cell_type": "code",
   "execution_count": null,
   "metadata": {
    "collapsed": true
   },
   "outputs": [],
   "source": []
  },
  {
   "cell_type": "code",
   "execution_count": 35,
   "metadata": {},
   "outputs": [
    {
     "name": "stdout",
     "output_type": "stream",
     "text": [
      "Fitting 3 folds for each of 1 candidates, totalling 3 fits\n"
     ]
    },
    {
     "name": "stderr",
     "output_type": "stream",
     "text": [
      "[Parallel(n_jobs=1)]: Done   3 out of   3 | elapsed:  6.7min finished\n"
     ]
    },
    {
     "name": "stdout",
     "output_type": "stream",
     "text": [
      "0.853328264668\n",
      "[[1612575   58709]\n",
      " [ 222944   26067]]\n"
     ]
    }
   ],
   "source": [
    "data2 = data.dropna()\n",
    "X = data2[['DAY_OF_YEAR', 'DAY_OF_WEEK', \\\n",
    "         'SCHEDULED_DEPARTURE', 'SCHEDULED_TIME', 'DISTANCE', 'SCHEDULED_ARRIVAL']]\n",
    "y = data2['SIGNIFICANT_DELAY']\n",
    "X_train, X_test, y_train, y_test = train_test_split(X,y, test_size=0.33, random_state=42)\n",
    "paramRF = {'n_estimators':[10], 'max_depth':[None], 'max_features':[1]}\n",
    "RF_classifier = GridSearchCV(RandomForestClassifier(), param_grid=paramRF, scoring='accuracy', verbose=1)\n",
    "RF_classifier.fit(X_train, y_train)\n",
    "y_pred = RF_classifier.predict(X_test)\n",
    "print(accuracy_score(y_test, y_pred))\n",
    "print(confusion_matrix(y_test, y_pred))"
   ]
  },
  {
   "cell_type": "code",
   "execution_count": 37,
   "metadata": {},
   "outputs": [
    {
     "name": "stdout",
     "output_type": "stream",
     "text": [
      "Fitting 3 folds for each of 1 candidates, totalling 3 fits\n"
     ]
    },
    {
     "name": "stderr",
     "output_type": "stream",
     "text": [
      "[Parallel(n_jobs=1)]: Done   3 out of   3 | elapsed:   15.3s finished\n"
     ]
    },
    {
     "name": "stdout",
     "output_type": "stream",
     "text": [
      "0.861177940947\n",
      "[[164042   3172]\n",
      " [ 23486   1330]]\n"
     ]
    }
   ],
   "source": [
    "data2 = data.dropna()\n",
    "data2 = data2.sample(frac=0.1, replace=False)\n",
    "# TODO: Double check whether the index should be reset\n",
    "data2 = data2.reset_index()\n",
    "data2 = data2.drop(['index'], axis=1)\n",
    "X = data2[['DAY_OF_YEAR', 'DAY_OF_WEEK', \\\n",
    "         'SCHEDULED_DEPARTURE', 'SCHEDULED_TIME', 'DISTANCE', 'SCHEDULED_ARRIVAL']]\n",
    "y = data2['SIGNIFICANT_DELAY']\n",
    "X_train, X_test, y_train, y_test = train_test_split(X,y, test_size=0.33, random_state=42)\n",
    "paramRF = {'n_estimators':[10], 'max_depth':[None], 'max_features':[1]}\n",
    "RF_classifier = GridSearchCV(RandomForestClassifier(), param_grid=paramRF, scoring='accuracy', verbose=1)\n",
    "RF_classifier.fit(X_train, y_train)\n",
    "y_pred = RF_classifier.predict(X_test)\n",
    "print(accuracy_score(y_test, y_pred))\n",
    "print(confusion_matrix(y_test, y_pred))"
   ]
  },
  {
   "cell_type": "code",
   "execution_count": 39,
   "metadata": {},
   "outputs": [
    {
     "data": {
      "text/plain": [
       "array([ 0.21175803,  0.03737346,  0.18481407,  0.17037216,  0.19741483,\n",
       "        0.19826746])"
      ]
     },
     "execution_count": 39,
     "metadata": {},
     "output_type": "execute_result"
    }
   ],
   "source": [
    "RF_classifier.best_estimator_.feature_importances_"
   ]
  },
  {
   "cell_type": "code",
   "execution_count": 40,
   "metadata": {},
   "outputs": [
    {
     "name": "stdout",
     "output_type": "stream",
     "text": [
      "Fitting 3 folds for each of 1 candidates, totalling 3 fits\n"
     ]
    },
    {
     "name": "stderr",
     "output_type": "stream",
     "text": [
      "[Parallel(n_jobs=1)]: Done   3 out of   3 | elapsed:   16.8s finished\n"
     ]
    },
    {
     "name": "stdout",
     "output_type": "stream",
     "text": [
      "0.845836588033\n",
      "[[160076   7062]\n",
      " [ 22542   2350]]\n",
      "[ 0.39332738  0.1499594   0.13512698  0.1615226   0.16006364]\n"
     ]
    }
   ],
   "source": [
    "data2 = data.dropna()\n",
    "data2 = data2.sample(frac=0.1, replace=False)\n",
    "# TODO: Double check whether the index should be reset\n",
    "data2 = data2.reset_index()\n",
    "data2 = data2.drop(['index'], axis=1)\n",
    "X = data2[['DAY_OF_YEAR', 'SCHEDULED_DEPARTURE', 'SCHEDULED_TIME', 'DISTANCE', 'SCHEDULED_ARRIVAL']]\n",
    "y = data2['SIGNIFICANT_DELAY']\n",
    "X_train, X_test, y_train, y_test = train_test_split(X,y, test_size=0.33, random_state=42)\n",
    "paramRF = {'n_estimators':[10], 'max_depth':[None], 'max_features':[1]}\n",
    "RF_classifier = GridSearchCV(RandomForestClassifier(), param_grid=paramRF, scoring='accuracy', verbose=1)\n",
    "RF_classifier.fit(X_train, y_train)\n",
    "y_pred = RF_classifier.predict(X_test)\n",
    "print(accuracy_score(y_test, y_pred))\n",
    "print(confusion_matrix(y_test, y_pred))\n",
    "print(RF_classifier.best_estimator_.feature_importances_)"
   ]
  },
  {
   "cell_type": "code",
   "execution_count": 44,
   "metadata": {
    "collapsed": true
   },
   "outputs": [],
   "source": [
    "def getSine(doy):\n",
    "    return math.sin(2 * math.pi * (doy / 366))\n",
    "\n",
    "def getCosine(doy):\n",
    "    return math.cos(2 * math.pi * (doy / 366))\n",
    "\n",
    "data = data.dropna()\n",
    "dataT = data.sample(frac=0.1, replace=False)\n",
    "dataT['DOY_X'] = data['DAY_OF_YEAR'].apply(getCosine)\n",
    "dataT['DOY_Y'] = data['DAY_OF_YEAR'].apply(getSine)\n",
    "dataT.drop([\"DAY_OF_YEAR\"], 1, inplace=True)"
   ]
  },
  {
   "cell_type": "code",
   "execution_count": 45,
   "metadata": {},
   "outputs": [
    {
     "data": {
      "text/html": [
       "<div>\n",
       "<style>\n",
       "    .dataframe thead tr:only-child th {\n",
       "        text-align: right;\n",
       "    }\n",
       "\n",
       "    .dataframe thead th {\n",
       "        text-align: left;\n",
       "    }\n",
       "\n",
       "    .dataframe tbody tr th {\n",
       "        vertical-align: top;\n",
       "    }\n",
       "</style>\n",
       "<table border=\"1\" class=\"dataframe\">\n",
       "  <thead>\n",
       "    <tr style=\"text-align: right;\">\n",
       "      <th></th>\n",
       "      <th>DAY_OF_WEEK</th>\n",
       "      <th>AIRLINE</th>\n",
       "      <th>ORIGIN_AIRPORT</th>\n",
       "      <th>DESTINATION_AIRPORT</th>\n",
       "      <th>SCHEDULED_DEPARTURE</th>\n",
       "      <th>SCHEDULED_TIME</th>\n",
       "      <th>DISTANCE</th>\n",
       "      <th>SCHEDULED_ARRIVAL</th>\n",
       "      <th>SIGNIFICANT_DELAY</th>\n",
       "      <th>DOY_X</th>\n",
       "      <th>DOY_Y</th>\n",
       "    </tr>\n",
       "  </thead>\n",
       "  <tbody>\n",
       "    <tr>\n",
       "      <th>201958</th>\n",
       "      <td>3</td>\n",
       "      <td>WN</td>\n",
       "      <td>PHX</td>\n",
       "      <td>LAS</td>\n",
       "      <td>440.0</td>\n",
       "      <td>70.0</td>\n",
       "      <td>255</td>\n",
       "      <td>450.0</td>\n",
       "      <td>0</td>\n",
       "      <td>0.971257</td>\n",
       "      <td>0.238033</td>\n",
       "    </tr>\n",
       "    <tr>\n",
       "      <th>4261773</th>\n",
       "      <td>3</td>\n",
       "      <td>WN</td>\n",
       "      <td>DAL</td>\n",
       "      <td>MAF</td>\n",
       "      <td>455.0</td>\n",
       "      <td>70.0</td>\n",
       "      <td>319</td>\n",
       "      <td>525.0</td>\n",
       "      <td>0</td>\n",
       "      <td>-0.145404</td>\n",
       "      <td>-0.989372</td>\n",
       "    </tr>\n",
       "    <tr>\n",
       "      <th>440333</th>\n",
       "      <td>4</td>\n",
       "      <td>WN</td>\n",
       "      <td>BNA</td>\n",
       "      <td>CMH</td>\n",
       "      <td>1195.0</td>\n",
       "      <td>70.0</td>\n",
       "      <td>337</td>\n",
       "      <td>1325.0</td>\n",
       "      <td>1</td>\n",
       "      <td>0.878612</td>\n",
       "      <td>0.477536</td>\n",
       "    </tr>\n",
       "    <tr>\n",
       "      <th>3950716</th>\n",
       "      <td>3</td>\n",
       "      <td>NK</td>\n",
       "      <td>MSP</td>\n",
       "      <td>DFW</td>\n",
       "      <td>1130.0</td>\n",
       "      <td>137.0</td>\n",
       "      <td>852</td>\n",
       "      <td>1267.0</td>\n",
       "      <td>0</td>\n",
       "      <td>-0.485060</td>\n",
       "      <td>-0.874481</td>\n",
       "    </tr>\n",
       "    <tr>\n",
       "      <th>154623</th>\n",
       "      <td>7</td>\n",
       "      <td>OO</td>\n",
       "      <td>EUG</td>\n",
       "      <td>SLC</td>\n",
       "      <td>360.0</td>\n",
       "      <td>115.0</td>\n",
       "      <td>618</td>\n",
       "      <td>535.0</td>\n",
       "      <td>0</td>\n",
       "      <td>0.982223</td>\n",
       "      <td>0.187719</td>\n",
       "    </tr>\n",
       "  </tbody>\n",
       "</table>\n",
       "</div>"
      ],
      "text/plain": [
       "         DAY_OF_WEEK AIRLINE ORIGIN_AIRPORT DESTINATION_AIRPORT  \\\n",
       "201958             3      WN            PHX                 LAS   \n",
       "4261773            3      WN            DAL                 MAF   \n",
       "440333             4      WN            BNA                 CMH   \n",
       "3950716            3      NK            MSP                 DFW   \n",
       "154623             7      OO            EUG                 SLC   \n",
       "\n",
       "         SCHEDULED_DEPARTURE  SCHEDULED_TIME  DISTANCE  SCHEDULED_ARRIVAL  \\\n",
       "201958                 440.0            70.0       255              450.0   \n",
       "4261773                455.0            70.0       319              525.0   \n",
       "440333                1195.0            70.0       337             1325.0   \n",
       "3950716               1130.0           137.0       852             1267.0   \n",
       "154623                 360.0           115.0       618              535.0   \n",
       "\n",
       "         SIGNIFICANT_DELAY     DOY_X     DOY_Y  \n",
       "201958                   0  0.971257  0.238033  \n",
       "4261773                  0 -0.145404 -0.989372  \n",
       "440333                   1  0.878612  0.477536  \n",
       "3950716                  0 -0.485060 -0.874481  \n",
       "154623                   0  0.982223  0.187719  "
      ]
     },
     "execution_count": 45,
     "metadata": {},
     "output_type": "execute_result"
    }
   ],
   "source": [
    "dataT.head()"
   ]
  },
  {
   "cell_type": "code",
   "execution_count": 47,
   "metadata": {},
   "outputs": [
    {
     "name": "stdout",
     "output_type": "stream",
     "text": [
      "Fitting 3 folds for each of 1 candidates, totalling 3 fits\n"
     ]
    },
    {
     "name": "stderr",
     "output_type": "stream",
     "text": [
      "[Parallel(n_jobs=1)]: Done   3 out of   3 | elapsed:   14.2s finished\n"
     ]
    },
    {
     "name": "stdout",
     "output_type": "stream",
     "text": [
      "0.861818465865\n",
      "[[164036   2796]\n",
      " [ 23739   1459]]\n",
      "[ 0.09741508  0.09416702  0.02721971  0.19206679  0.1815025   0.20358223\n",
      "  0.20404668]\n"
     ]
    }
   ],
   "source": [
    "X = dataT[['DOY_X', 'DOY_Y', 'DAY_OF_WEEK', \\\n",
    "         'SCHEDULED_DEPARTURE', 'SCHEDULED_TIME', 'DISTANCE', 'SCHEDULED_ARRIVAL']]\n",
    "y = dataT['SIGNIFICANT_DELAY']\n",
    "X_train, X_test, y_train, y_test = train_test_split(X,y, test_size=0.33, random_state=42)\n",
    "paramRF = {'n_estimators':[10], 'max_depth':[None], 'max_features':[1]}\n",
    "RF_classifier = GridSearchCV(RandomForestClassifier(), param_grid=paramRF, scoring='accuracy', verbose=1)\n",
    "RF_classifier.fit(X_train, y_train)\n",
    "y_pred = RF_classifier.predict(X_test)\n",
    "print(accuracy_score(y_test, y_pred))\n",
    "print(confusion_matrix(y_test, y_pred))\n",
    "print(RF_classifier.best_estimator_.feature_importances_)"
   ]
  },
  {
   "cell_type": "code",
   "execution_count": 48,
   "metadata": {
    "collapsed": true
   },
   "outputs": [],
   "source": [
    "from sklearn.linear_model import LogisticRegression"
   ]
  },
  {
   "cell_type": "code",
   "execution_count": 49,
   "metadata": {},
   "outputs": [
    {
     "name": "stdout",
     "output_type": "stream",
     "text": [
      "0.868780919648\n",
      "[[166832      0]\n",
      " [ 25198      0]]\n"
     ]
    }
   ],
   "source": [
    "logReg = LogisticRegression(penalty='l2', C=1000000)\n",
    "logReg.fit(X_train, y_train)\n",
    "y_pred = logReg.predict(X_test)\n",
    "print(accuracy_score(y_test, y_pred))\n",
    "print(confusion_matrix(y_test, y_pred))"
   ]
  },
  {
   "cell_type": "code",
   "execution_count": 50,
   "metadata": {
    "collapsed": true
   },
   "outputs": [],
   "source": [
    "dataT = data\n",
    "dataT = pd.get_dummies(dataT, columns=['DAY_OF_WEEK', 'AIRLINE'], \n",
    "                                     drop_first=True)"
   ]
  },
  {
   "cell_type": "code",
   "execution_count": 56,
   "metadata": {
    "collapsed": true
   },
   "outputs": [],
   "source": [
    "def runRF(X, y, params):\n",
    "    X_train, X_test, y_train, y_test = train_test_split(X,y, test_size=0.33, random_state=42)\n",
    "    RF_classifier = GridSearchCV(RandomForestClassifier(), param_grid=params, scoring='accuracy', verbose=1)\n",
    "    RF_classifier.fit(X_train, y_train)\n",
    "    y_pred = RF_classifier.predict(X_test)\n",
    "    print(accuracy_score(y_test, y_pred))\n",
    "    print(confusion_matrix(y_test, y_pred))\n",
    "    print(RF_classifier.best_estimator_.feature_importances_)"
   ]
  },
  {
   "cell_type": "code",
   "execution_count": 57,
   "metadata": {},
   "outputs": [
    {
     "name": "stdout",
     "output_type": "stream",
     "text": [
      "Fitting 3 folds for each of 1 candidates, totalling 3 fits\n"
     ]
    },
    {
     "name": "stderr",
     "output_type": "stream",
     "text": [
      "[Parallel(n_jobs=1)]: Done   3 out of   3 | elapsed:   14.4s finished\n"
     ]
    },
    {
     "name": "stdout",
     "output_type": "stream",
     "text": [
      "0.857303546321\n",
      "[[162794   4195]\n",
      " [ 23207   1834]]\n",
      "[ 0.2438431   0.18434407  0.16344035  0.17452349  0.19577085  0.002593\n",
      "  0.0028231   0.00325633  0.00213187  0.00239722  0.00314852  0.00133553\n",
      "  0.00161226  0.00415136  0.00160871  0.00088109  0.00063732  0.00265317\n",
      "  0.00197313  0.00171804  0.00159933  0.00073621  0.00055227  0.0022697 ]\n"
     ]
    }
   ],
   "source": [
    "paramRF = {'n_estimators':[10], 'max_depth':[None], 'max_features':[1]}\n",
    "X = dataT\n",
    "X = X.sample(frac=0.1, replace=False)\n",
    "y = X['SIGNIFICANT_DELAY']\n",
    "X = X.drop(['ORIGIN_AIRPORT', 'DESTINATION_AIRPORT', 'SIGNIFICANT_DELAY'], axis = 1)\n",
    "runRF(X, y, paramRF)"
   ]
  },
  {
   "cell_type": "code",
   "execution_count": 59,
   "metadata": {},
   "outputs": [
    {
     "name": "stdout",
     "output_type": "stream",
     "text": [
      "\n",
      "\n",
      "\n",
      "\n",
      "\n"
     ]
    }
   ],
   "source": [
    "print() \n",
    "print() \n",
    "print() \n",
    "print() \n",
    "print()"
   ]
  },
  {
   "cell_type": "code",
   "execution_count": 62,
   "metadata": {},
   "outputs": [
    {
     "data": {
      "text/html": [
       "<div>\n",
       "<style>\n",
       "    .dataframe thead tr:only-child th {\n",
       "        text-align: right;\n",
       "    }\n",
       "\n",
       "    .dataframe thead th {\n",
       "        text-align: left;\n",
       "    }\n",
       "\n",
       "    .dataframe tbody tr th {\n",
       "        vertical-align: top;\n",
       "    }\n",
       "</style>\n",
       "<table border=\"1\" class=\"dataframe\">\n",
       "  <thead>\n",
       "    <tr style=\"text-align: right;\">\n",
       "      <th></th>\n",
       "      <th>AIRLINE</th>\n",
       "      <th>ORIGIN_AIRPORT</th>\n",
       "      <th>DESTINATION_AIRPORT</th>\n",
       "      <th>SCHEDULED_TIME</th>\n",
       "      <th>DISTANCE</th>\n",
       "      <th>SIGNIFICANT_DELAY</th>\n",
       "      <th>DOY_X</th>\n",
       "      <th>DOY_Y</th>\n",
       "      <th>DOW_X</th>\n",
       "      <th>DOW_Y</th>\n",
       "      <th>SD_X</th>\n",
       "      <th>SD_Y</th>\n",
       "      <th>SA_X</th>\n",
       "      <th>SA_Y</th>\n",
       "    </tr>\n",
       "  </thead>\n",
       "  <tbody>\n",
       "    <tr>\n",
       "      <th>5339482</th>\n",
       "      <td>WN</td>\n",
       "      <td>DEN</td>\n",
       "      <td>OAK</td>\n",
       "      <td>165.0</td>\n",
       "      <td>957</td>\n",
       "      <td>0</td>\n",
       "      <td>0.860961</td>\n",
       "      <td>-0.508671</td>\n",
       "      <td>0.623490</td>\n",
       "      <td>0.781831</td>\n",
       "      <td>9.063078e-01</td>\n",
       "      <td>-0.422618</td>\n",
       "      <td>0.999762</td>\n",
       "      <td>0.021815</td>\n",
       "    </tr>\n",
       "    <tr>\n",
       "      <th>2240150</th>\n",
       "      <td>UA</td>\n",
       "      <td>HNL</td>\n",
       "      <td>IAD</td>\n",
       "      <td>561.0</td>\n",
       "      <td>4817</td>\n",
       "      <td>0</td>\n",
       "      <td>-0.766659</td>\n",
       "      <td>0.642055</td>\n",
       "      <td>-0.222521</td>\n",
       "      <td>-0.974928</td>\n",
       "      <td>-5.372996e-01</td>\n",
       "      <td>-0.843391</td>\n",
       "      <td>-0.304864</td>\n",
       "      <td>0.952396</td>\n",
       "    </tr>\n",
       "    <tr>\n",
       "      <th>542744</th>\n",
       "      <td>DL</td>\n",
       "      <td>LGA</td>\n",
       "      <td>MSP</td>\n",
       "      <td>206.0</td>\n",
       "      <td>1020</td>\n",
       "      <td>0</td>\n",
       "      <td>0.814046</td>\n",
       "      <td>0.580800</td>\n",
       "      <td>-0.900969</td>\n",
       "      <td>-0.433884</td>\n",
       "      <td>-1.836970e-16</td>\n",
       "      <td>-1.000000</td>\n",
       "      <td>0.594823</td>\n",
       "      <td>-0.803857</td>\n",
       "    </tr>\n",
       "    <tr>\n",
       "      <th>1917316</th>\n",
       "      <td>DL</td>\n",
       "      <td>JFK</td>\n",
       "      <td>SAN</td>\n",
       "      <td>374.0</td>\n",
       "      <td>2446</td>\n",
       "      <td>0</td>\n",
       "      <td>-0.504961</td>\n",
       "      <td>0.863142</td>\n",
       "      <td>0.623490</td>\n",
       "      <td>-0.781831</td>\n",
       "      <td>3.007058e-01</td>\n",
       "      <td>-0.953717</td>\n",
       "      <td>0.913545</td>\n",
       "      <td>-0.406737</td>\n",
       "    </tr>\n",
       "    <tr>\n",
       "      <th>5331543</th>\n",
       "      <td>MQ</td>\n",
       "      <td>ORD</td>\n",
       "      <td>COU</td>\n",
       "      <td>87.0</td>\n",
       "      <td>315</td>\n",
       "      <td>0</td>\n",
       "      <td>0.860961</td>\n",
       "      <td>-0.508671</td>\n",
       "      <td>0.623490</td>\n",
       "      <td>0.781831</td>\n",
       "      <td>-9.044551e-01</td>\n",
       "      <td>-0.426569</td>\n",
       "      <td>-0.681998</td>\n",
       "      <td>-0.731354</td>\n",
       "    </tr>\n",
       "  </tbody>\n",
       "</table>\n",
       "</div>"
      ],
      "text/plain": [
       "        AIRLINE ORIGIN_AIRPORT DESTINATION_AIRPORT  SCHEDULED_TIME  DISTANCE  \\\n",
       "5339482      WN            DEN                 OAK           165.0       957   \n",
       "2240150      UA            HNL                 IAD           561.0      4817   \n",
       "542744       DL            LGA                 MSP           206.0      1020   \n",
       "1917316      DL            JFK                 SAN           374.0      2446   \n",
       "5331543      MQ            ORD                 COU            87.0       315   \n",
       "\n",
       "         SIGNIFICANT_DELAY     DOY_X     DOY_Y     DOW_X     DOW_Y  \\\n",
       "5339482                  0  0.860961 -0.508671  0.623490  0.781831   \n",
       "2240150                  0 -0.766659  0.642055 -0.222521 -0.974928   \n",
       "542744                   0  0.814046  0.580800 -0.900969 -0.433884   \n",
       "1917316                  0 -0.504961  0.863142  0.623490 -0.781831   \n",
       "5331543                  0  0.860961 -0.508671  0.623490  0.781831   \n",
       "\n",
       "                 SD_X      SD_Y      SA_X      SA_Y  \n",
       "5339482  9.063078e-01 -0.422618  0.999762  0.021815  \n",
       "2240150 -5.372996e-01 -0.843391 -0.304864  0.952396  \n",
       "542744  -1.836970e-16 -1.000000  0.594823 -0.803857  \n",
       "1917316  3.007058e-01 -0.953717  0.913545 -0.406737  \n",
       "5331543 -9.044551e-01 -0.426569 -0.681998 -0.731354  "
      ]
     },
     "execution_count": 62,
     "metadata": {},
     "output_type": "execute_result"
    }
   ],
   "source": [
    "dataT = data.sample(frac=0.1, replace=False)\n",
    "def getSine(doy, total):\n",
    "    return math.sin(2 * math.pi * (doy / total))\n",
    "\n",
    "def getCosine(doy, total):\n",
    "    return math.cos(2 * math.pi * (doy / total))\n",
    "\n",
    "data = data.dropna()\n",
    "dataT = data.sample(frac=0.1, replace=False)\n",
    "dataT['DOY_X'] = data['DAY_OF_YEAR'].apply(getCosine, total=365)\n",
    "dataT['DOY_Y'] = data['DAY_OF_YEAR'].apply(getSine, total=365)\n",
    "dataT['DOW_X'] = data['DAY_OF_WEEK'].apply(getCosine, total=7)\n",
    "dataT['DOW_Y'] = data['DAY_OF_WEEK'].apply(getSine, total=7)\n",
    "dataT['SD_X'] = data['SCHEDULED_DEPARTURE'].apply(getCosine, total=1440)\n",
    "dataT['SD_Y'] = data['SCHEDULED_DEPARTURE'].apply(getSine, total=1440)\n",
    "dataT['SA_X'] = data['SCHEDULED_ARRIVAL'].apply(getCosine, total=1440)\n",
    "dataT['SA_Y'] = data['SCHEDULED_ARRIVAL'].apply(getSine, total=1440)\n",
    "dataT.drop(['DAY_OF_YEAR', 'DAY_OF_WEEK', 'SCHEDULED_DEPARTURE', 'SCHEDULED_ARRIVAL'], 1, inplace=True)\n",
    "dataT.head()"
   ]
  },
  {
   "cell_type": "code",
   "execution_count": 72,
   "metadata": {
    "collapsed": true
   },
   "outputs": [],
   "source": [
    "X = dataT.drop(['AIRLINE', 'ORIGIN_AIRPORT', 'DESTINATION_AIRPORT', 'SIGNIFICANT_DELAY'], axis = 1)\n",
    "y = dataT['SIGNIFICANT_DELAY']"
   ]
  },
  {
   "cell_type": "code",
   "execution_count": 73,
   "metadata": {},
   "outputs": [
    {
     "name": "stdout",
     "output_type": "stream",
     "text": [
      "Fitting 3 folds for each of 1 candidates, totalling 3 fits\n"
     ]
    },
    {
     "name": "stderr",
     "output_type": "stream",
     "text": [
      "[Parallel(n_jobs=1)]: Done   3 out of   3 | elapsed:   15.2s finished\n"
     ]
    },
    {
     "name": "stdout",
     "output_type": "stream",
     "text": [
      "0.862714159246\n",
      "[[164420   2684]\n",
      " [ 23679   1247]]\n",
      "[ 0.13320328  0.14521843  0.10462699  0.1034149   0.00638928  0.01181017\n",
      "  0.11548443  0.12063274  0.13009966  0.12912013]\n"
     ]
    }
   ],
   "source": [
    "paramRF = {'n_estimators':[10], 'max_depth':[None], 'max_features':[1]}\n",
    "runRF(X, y, paramRF)"
   ]
  },
  {
   "cell_type": "code",
   "execution_count": 74,
   "metadata": {},
   "outputs": [
    {
     "name": "stdout",
     "output_type": "stream",
     "text": [
      "Fitting 3 folds for each of 1 candidates, totalling 3 fits\n"
     ]
    },
    {
     "name": "stderr",
     "output_type": "stream",
     "text": [
      "[Parallel(n_jobs=1)]: Done   3 out of   3 | elapsed:  1.4min finished\n"
     ]
    },
    {
     "name": "stdout",
     "output_type": "stream",
     "text": [
      "0.866125084622\n",
      "[[165305   1799]\n",
      " [ 23909   1017]]\n",
      "[ 0.13282075  0.14467759  0.10305019  0.10313845  0.00740026  0.01431419\n",
      "  0.11661139  0.11861394  0.13062631  0.12874694]\n"
     ]
    }
   ],
   "source": [
    "paramRF = {'n_estimators':[50], 'max_depth':[None], 'max_features':[1]}\n",
    "runRF(X, y, paramRF)"
   ]
  },
  {
   "cell_type": "code",
   "execution_count": 75,
   "metadata": {},
   "outputs": [
    {
     "name": "stdout",
     "output_type": "stream",
     "text": [
      "Fitting 3 folds for each of 1 candidates, totalling 3 fits\n"
     ]
    },
    {
     "name": "stderr",
     "output_type": "stream",
     "text": [
      "[Parallel(n_jobs=1)]: Done   3 out of   3 | elapsed:   26.0s finished\n"
     ]
    },
    {
     "name": "stdout",
     "output_type": "stream",
     "text": [
      "0.860740509295\n",
      "[[163683   3421]\n",
      " [ 23321   1605]]\n",
      "[ 0.13687459  0.15390627  0.08760733  0.08995931  0.02389266  0.03479616\n",
      "  0.10781943  0.11405323  0.12664029  0.12445073]\n"
     ]
    }
   ],
   "source": [
    "paramRF = {'n_estimators':[10], 'max_depth':[None]}\n",
    "runRF(X, y, paramRF)"
   ]
  },
  {
   "cell_type": "code",
   "execution_count": 76,
   "metadata": {},
   "outputs": [
    {
     "name": "stdout",
     "output_type": "stream",
     "text": [
      "Fitting 3 folds for each of 1 candidates, totalling 3 fits\n"
     ]
    },
    {
     "name": "stderr",
     "output_type": "stream",
     "text": [
      "[Parallel(n_jobs=1)]: Done   3 out of   3 | elapsed:  1.2min finished\n"
     ]
    },
    {
     "name": "stdout",
     "output_type": "stream",
     "text": [
      "0.858647086393\n",
      "[[162886   4218]\n",
      " [ 22926   2000]]\n",
      "[ 0.15879598  0.19774668  0.06698122  0.0643738   0.02159027  0.03396633\n",
      "  0.10211564  0.11573667  0.11925526  0.11943816]\n"
     ]
    }
   ],
   "source": [
    "paramRF = {'n_estimators':[10], 'max_depth':[None], 'max_features':[None]}\n",
    "runRF(X, y, paramRF)"
   ]
  },
  {
   "cell_type": "code",
   "execution_count": 77,
   "metadata": {
    "collapsed": true
   },
   "outputs": [],
   "source": [
    "def average_per_class_acc(conf_mat):\n",
    "    per_class_accuracies = []\n",
    "    for i in range(len(conf_mat)):\n",
    "        class_predictions = conf_mat[i]\n",
    "        samples_in_class = np.sum(class_predictions)\n",
    "        num_predictions = conf_mat[i, i]\n",
    "        class_accuracy = num_predictions / float(samples_in_class)\n",
    "        per_class_accuracies.append(class_accuracy)\n",
    "    per_class_accuracies = np.array(per_class_accuracies)\n",
    "    average_per_class_acc = per_class_accuracies.mean()\n",
    "    return average_per_class_acc"
   ]
  },
  {
   "cell_type": "code",
   "execution_count": 80,
   "metadata": {
    "collapsed": true
   },
   "outputs": [],
   "source": [
    "def runRF(X, y, params):\n",
    "    X_train, X_test, y_train, y_test = train_test_split(X,y, test_size=0.33, random_state=42)\n",
    "    RF_classifier = GridSearchCV(RandomForestClassifier(), param_grid=params, scoring='f1_score', verbose=1)\n",
    "    RF_classifier.fit(X_train, y_train)\n",
    "    y_pred = RF_classifier.predict(X_test)\n",
    "    print(accuracy_score(y_test, y_pred))\n",
    "    print(confusion_matrix(y_test, y_pred))\n",
    "    print(RF_classifier.best_estimator_.feature_importances_)\n",
    "    print(average_per_class_acc(confusion_matrix(y_test, y_pred)))"
   ]
  },
  {
   "cell_type": "code",
   "execution_count": 81,
   "metadata": {},
   "outputs": [
    {
     "name": "stdout",
     "output_type": "stream",
     "text": [
      "Fitting 3 folds for each of 1 candidates, totalling 3 fits\n"
     ]
    },
    {
     "name": "stderr",
     "output_type": "stream",
     "text": [
      "[Parallel(n_jobs=1)]: Done   3 out of   3 | elapsed:  1.6min finished\n"
     ]
    },
    {
     "name": "stdout",
     "output_type": "stream",
     "text": [
      "0.85701192522\n",
      "[[162140   4964]\n",
      " [ 22494   2432]]\n",
      "[ 0.15988343  0.19725881  0.06652482  0.06553801  0.02220366  0.03315546\n",
      "  0.10274849  0.1145323   0.11978352  0.1183715 ]\n",
      "0.533931376169\n"
     ]
    }
   ],
   "source": [
    "paramRF = {'n_estimators':[15], 'max_depth':[None], 'max_features':[None]}\n",
    "runRF(X, y, paramRF)"
   ]
  },
  {
   "cell_type": "code",
   "execution_count": 82,
   "metadata": {
    "collapsed": true
   },
   "outputs": [],
   "source": [
    "from sklearn.metrics import f1_score"
   ]
  },
  {
   "cell_type": "code",
   "execution_count": 83,
   "metadata": {
    "collapsed": true
   },
   "outputs": [],
   "source": [
    "def runRF(X, y, params):\n",
    "    X_train, X_test, y_train, y_test = train_test_split(X,y, test_size=0.33, random_state=42)\n",
    "    RF_classifier = GridSearchCV(RandomForestClassifier(), param_grid=params, scoring='f1', verbose=1)\n",
    "    RF_classifier.fit(X_train, y_train)\n",
    "    y_pred = RF_classifier.predict(X_test)\n",
    "    print(RF_classifier.best_score_)\n",
    "    print(confusion_matrix(y_test, y_pred))\n",
    "    print(RF_classifier.best_estimator_.feature_importances_)\n",
    "    print(average_per_class_acc(confusion_matrix(y_test, y_pred)))\n",
    "    print(f1_score(y_test, y_pred))"
   ]
  },
  {
   "cell_type": "code",
   "execution_count": 85,
   "metadata": {},
   "outputs": [
    {
     "name": "stdout",
     "output_type": "stream",
     "text": [
      "Fitting 3 folds for each of 1 candidates, totalling 3 fits\n"
     ]
    },
    {
     "name": "stderr",
     "output_type": "stream",
     "text": [
      "[Parallel(n_jobs=1)]: Done   3 out of   3 | elapsed:  1.0min finished\n"
     ]
    },
    {
     "name": "stdout",
     "output_type": "stream",
     "text": [
      "0.121667665326\n",
      "[[162909   4195]\n",
      " [ 22907   2019]]\n",
      "[ 0.1597211   0.19816275  0.06662955  0.06527668  0.02153381  0.03397521\n",
      "  0.10314552  0.11534373  0.1190446   0.11716704]\n",
      "0.527947816258\n",
      "0.129672447013\n"
     ]
    }
   ],
   "source": [
    "paramRF = {'n_estimators':[10], 'max_depth':[None]}\n",
    "runRF(X, y, paramRF)"
   ]
  },
  {
   "cell_type": "code",
   "execution_count": 86,
   "metadata": {},
   "outputs": [
    {
     "data": {
      "text/plain": [
       "WN    1261855\n",
       "DL     875881\n",
       "AA     725984\n",
       "OO     588353\n",
       "EV     571977\n",
       "UA     515723\n",
       "MQ     294632\n",
       "B6     267048\n",
       "US     198715\n",
       "AS     172521\n",
       "NK     117373\n",
       "F9      90836\n",
       "HA      76272\n",
       "VX      61903\n",
       "Name: AIRLINE, dtype: int64"
      ]
     },
     "execution_count": 86,
     "metadata": {},
     "output_type": "execute_result"
    }
   ],
   "source": [
    "data['AIRLINE'].value_counts()"
   ]
  },
  {
   "cell_type": "code",
   "execution_count": 93,
   "metadata": {
    "collapsed": true
   },
   "outputs": [],
   "source": [
    "airlines = ['WN', 'DL', 'AA', 'OO', 'EV', 'UA', 'MQ', 'B6', 'US', 'AS', 'NK', 'F9', 'HA', 'VX']\n",
    "\n",
    "def airlineEnsemble(data, params):\n",
    "    Y_test = []\n",
    "    Y_pred = []\n",
    "    for a in airlines:\n",
    "        dataT = data.loc[data['AIRLINE'] == a]\n",
    "        X = dataT[['DAY_OF_YEAR', 'DAY_OF_WEEK', \\\n",
    "         'SCHEDULED_DEPARTURE', 'SCHEDULED_TIME', 'DISTANCE', 'SCHEDULED_ARRIVAL']]\n",
    "        y = dataT['SIGNIFICANT_DELAY']\n",
    "        X_train, X_test, y_train, y_test = train_test_split(X,y, test_size=0.33, random_state=42)\n",
    "        RF_classifier = GridSearchCV(XGBClassifier(), param_grid=params, scoring='f1', verbose=0)\n",
    "        RF_classifier.fit(X_train, y_train)\n",
    "        y_pred = RF_classifier.predict(X_test)\n",
    "        for y in y_test:\n",
    "            Y_test.append(y)\n",
    "        for y in y_pred:\n",
    "            Y_pred.append(y)\n",
    "    print(confusion_matrix(Y_test, Y_pred))\n",
    "    print(average_per_class_acc(confusion_matrix(Y_test, Y_pred)))\n",
    "    print(f1_score(Y_test, Y_pred))"
   ]
  },
  {
   "cell_type": "code",
   "execution_count": 94,
   "metadata": {},
   "outputs": [
    {
     "name": "stdout",
     "output_type": "stream",
     "text": [
      "[[164491   2509]\n",
      " [ 22824   2214]]\n",
      "0.536700820501\n",
      "0.148785323074\n"
     ]
    }
   ],
   "source": [
    "dataF = data.sample(frac=0.1, replace=False)\n",
    "paramRF = {'n_estimators':[10], 'max_depth':[12]}\n",
    "airlineEnsemble(dataF, paramRF)"
   ]
  },
  {
   "cell_type": "code",
   "execution_count": 92,
   "metadata": {
    "collapsed": true
   },
   "outputs": [],
   "source": [
    "from xgboost.sklearn import XGBClassifier"
   ]
  },
  {
   "cell_type": "code",
   "execution_count": 96,
   "metadata": {
    "collapsed": true
   },
   "outputs": [],
   "source": [
    "dataT = data.sample(frac=0.1, replace=False)\n",
    "def getSine(doy, total):\n",
    "    return math.sin(2 * math.pi * (doy / total))\n",
    "\n",
    "def getCosine(doy, total):\n",
    "    return math.cos(2 * math.pi * (doy / total))\n",
    "\n",
    "data = data.dropna()\n",
    "dataT = data.sample(frac=0.1, replace=False)\n",
    "dataT['DOY_X'] = data['DAY_OF_YEAR'].apply(getCosine, total=365)\n",
    "dataT['DOY_Y'] = data['DAY_OF_YEAR'].apply(getSine, total=365)\n",
    "dataT['DOW_X'] = data['DAY_OF_WEEK'].apply(getCosine, total=7)\n",
    "dataT['DOW_Y'] = data['DAY_OF_WEEK'].apply(getSine, total=7)\n",
    "dataT['SD_X'] = data['SCHEDULED_DEPARTURE'].apply(getCosine, total=1440)\n",
    "dataT['SD_Y'] = data['SCHEDULED_DEPARTURE'].apply(getSine, total=1440)\n",
    "dataT['SA_X'] = data['SCHEDULED_ARRIVAL'].apply(getCosine, total=1440)\n",
    "dataT['SA_Y'] = data['SCHEDULED_ARRIVAL'].apply(getSine, total=1440)\n",
    "dataT.drop(['DAY_OF_YEAR', 'DAY_OF_WEEK', 'SCHEDULED_DEPARTURE', 'SCHEDULED_ARRIVAL'], 1, inplace=True)"
   ]
  },
  {
   "cell_type": "code",
   "execution_count": 103,
   "metadata": {
    "collapsed": true
   },
   "outputs": [],
   "source": [
    "'DAY_OF_YEAR', 'DAY_OF_WEEK', 'SCHEDULED_DEPARTURE', 'SCHEDULED_ARRIVAL'\n",
    "airlines = ['WN', 'DL', 'AA', 'OO', 'EV', 'UA', 'MQ', 'B6', 'US', 'AS', 'NK', 'F9', 'HA', 'VX']\n",
    "\n",
    "def airlineEnsemble(data, params):\n",
    "    Y_test = []\n",
    "    Y_pred = []\n",
    "    for a in airlines:\n",
    "        dataT = data.loc[data['AIRLINE'] == a]\n",
    "        X = dataT[['DOY_X', 'DOY_Y', 'DOW_X', 'DOW_Y', 'SD_X', 'SD_Y', 'SA_X', 'SA_Y', \\\n",
    "         'SCHEDULED_TIME', 'DISTANCE']]\n",
    "        y = dataT['SIGNIFICANT_DELAY']\n",
    "        X_train, X_test, y_train, y_test = train_test_split(X,y, test_size=0.33, random_state=42)\n",
    "        RF_classifier = GridSearchCV(XGBClassifier(), param_grid=params, scoring='f1', verbose=0)\n",
    "        RF_classifier.fit(X_train, y_train)\n",
    "        y_pred = RF_classifier.predict(X_test)\n",
    "        for y in y_test:\n",
    "            Y_test.append(y)\n",
    "        for y in y_pred:\n",
    "            Y_pred.append(y)\n",
    "    print(confusion_matrix(Y_test, Y_pred))\n",
    "    print(average_per_class_acc(confusion_matrix(Y_test, Y_pred)))\n",
    "    print(f1_score(Y_test, Y_pred))"
   ]
  },
  {
   "cell_type": "code",
   "execution_count": 105,
   "metadata": {},
   "outputs": [
    {
     "name": "stdout",
     "output_type": "stream",
     "text": [
      "[[164947   2274]\n",
      " [ 22594   2218]]\n",
      "0.537896729538\n",
      "0.151378651379\n"
     ]
    }
   ],
   "source": [
    "params = [{'n_estimators':[50], 'max_depth':[12]}, \\\n",
    "             {'n_estimators':[50], 'max_depth':[6]}, \\\n",
    "             {'n_estimators':[10], 'max_depth':[12]}, \\\n",
    "             {'n_estimators':[10], 'max_depth':[6]}]\n",
    "airlineEnsemble(dataT, params)"
   ]
  },
  {
   "cell_type": "code",
   "execution_count": 106,
   "metadata": {
    "collapsed": true
   },
   "outputs": [],
   "source": [
    "def airlineEnsembleRF(data, params):\n",
    "    Y_test = []\n",
    "    Y_pred = []\n",
    "    for a in airlines:\n",
    "        dataT = data.loc[data['AIRLINE'] == a]\n",
    "        X = dataT[['DOY_X', 'DOY_Y', 'DOW_X', 'DOW_Y', 'SD_X', 'SD_Y', 'SA_X', 'SA_Y', \\\n",
    "         'SCHEDULED_TIME', 'DISTANCE']]\n",
    "        y = dataT['SIGNIFICANT_DELAY']\n",
    "        X_train, X_test, y_train, y_test = train_test_split(X,y, test_size=0.33, random_state=42)\n",
    "        RF_classifier = GridSearchCV(RandomForestClassifier(), param_grid=params, scoring='f1', verbose=0)\n",
    "        RF_classifier.fit(X_train, y_train)\n",
    "        y_pred = RF_classifier.predict(X_test)\n",
    "        for y in y_test:\n",
    "            Y_test.append(y)\n",
    "        for y in y_pred:\n",
    "            Y_pred.append(y)\n",
    "    print(confusion_matrix(Y_test, Y_pred))\n",
    "    print(average_per_class_acc(confusion_matrix(Y_test, Y_pred)))\n",
    "    print(f1_score(Y_test, Y_pred))"
   ]
  },
  {
   "cell_type": "code",
   "execution_count": 107,
   "metadata": {},
   "outputs": [
    {
     "name": "stdout",
     "output_type": "stream",
     "text": [
      "[[163026   4195]\n",
      " [ 21880   2932]]\n",
      "0.546541032994\n",
      "0.183599987476\n"
     ]
    }
   ],
   "source": [
    "params = [{'n_estimators':[50], 'max_depth':[None], 'max_features':[10]}, \\\n",
    "             {'n_estimators':[50], 'max_depth':[6], 'max_features':[10]}, \\\n",
    "             {'n_estimators':[10], 'max_depth':[None], 'max_features':[10]}, \\\n",
    "             {'n_estimators':[10], 'max_depth':[6], 'max_features':[10]}, \\\n",
    "             {'n_estimators':[50], 'max_depth':[None], 'max_features':[None]}, \\\n",
    "             {'n_estimators':[10], 'max_depth':[None], 'max_features':[None]}, \\\n",
    "             {'n_estimators':[50], 'max_depth':[6], 'max_features':[None]}, \\\n",
    "             {'n_estimators':[10], 'max_depth':[6], 'max_features':[None]}]\n",
    "airlineEnsembleRF(dataT, params)"
   ]
  },
  {
   "cell_type": "code",
   "execution_count": null,
   "metadata": {
    "collapsed": true
   },
   "outputs": [],
   "source": []
  }
 ],
 "metadata": {
  "kernelspec": {
   "display_name": "Python 3",
   "language": "python",
   "name": "python3"
  },
  "language_info": {
   "codemirror_mode": {
    "name": "ipython",
    "version": 3
   },
   "file_extension": ".py",
   "mimetype": "text/x-python",
   "name": "python",
   "nbconvert_exporter": "python",
   "pygments_lexer": "ipython3",
   "version": "3.6.3"
  }
 },
 "nbformat": 4,
 "nbformat_minor": 2
}
