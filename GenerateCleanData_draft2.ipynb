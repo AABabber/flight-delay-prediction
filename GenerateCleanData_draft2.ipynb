{
 "cells": [
  {
   "cell_type": "markdown",
   "metadata": {},
   "source": [
    "## Follow along the steps of this notebook to generate a dataset that's suitable for creating a test/train split."
   ]
  },
  {
   "cell_type": "markdown",
   "metadata": {},
   "source": [
    "**NOTE:** Many of these cells rely on earlier ones. As such, you should only execute a cell once all previous ones have finished running."
   ]
  },
  {
   "cell_type": "code",
   "execution_count": 4,
   "metadata": {
    "collapsed": true
   },
   "outputs": [],
   "source": [
    "import datetime, warnings, scipy \n",
    "import pandas as pd\n",
    "import numpy as np\n",
    "import math\n",
    "warnings.filterwarnings(\"ignore\")"
   ]
  },
  {
   "cell_type": "code",
   "execution_count": 5,
   "metadata": {},
   "outputs": [
    {
     "name": "stdout",
     "output_type": "stream",
     "text": [
      "(5819079, 31)\n"
     ]
    }
   ],
   "source": [
    "data = pd.read_csv(\"flights.csv\", low_memory=False)\n",
    "print(data.shape)"
   ]
  },
  {
   "cell_type": "markdown",
   "metadata": {},
   "source": [
    "**Here, we see the data types of the features as they're encoded when imported into a DataFrame.** "
   ]
  },
  {
   "cell_type": "code",
   "execution_count": 6,
   "metadata": {},
   "outputs": [
    {
     "data": {
      "text/plain": [
       "YEAR                     int64\n",
       "MONTH                    int64\n",
       "DAY                      int64\n",
       "DAY_OF_WEEK              int64\n",
       "AIRLINE                 object\n",
       "FLIGHT_NUMBER            int64\n",
       "TAIL_NUMBER             object\n",
       "ORIGIN_AIRPORT          object\n",
       "DESTINATION_AIRPORT     object\n",
       "SCHEDULED_DEPARTURE      int64\n",
       "DEPARTURE_TIME         float64\n",
       "DEPARTURE_DELAY        float64\n",
       "TAXI_OUT               float64\n",
       "WHEELS_OFF             float64\n",
       "SCHEDULED_TIME         float64\n",
       "ELAPSED_TIME           float64\n",
       "AIR_TIME               float64\n",
       "DISTANCE                 int64\n",
       "WHEELS_ON              float64\n",
       "TAXI_IN                float64\n",
       "SCHEDULED_ARRIVAL        int64\n",
       "ARRIVAL_TIME           float64\n",
       "ARRIVAL_DELAY          float64\n",
       "DIVERTED                 int64\n",
       "CANCELLED                int64\n",
       "CANCELLATION_REASON     object\n",
       "AIR_SYSTEM_DELAY       float64\n",
       "SECURITY_DELAY         float64\n",
       "AIRLINE_DELAY          float64\n",
       "LATE_AIRCRAFT_DELAY    float64\n",
       "WEATHER_DELAY          float64\n",
       "dtype: object"
      ]
     },
     "execution_count": 6,
     "metadata": {},
     "output_type": "execute_result"
    }
   ],
   "source": [
    "data.dtypes"
   ]
  },
  {
   "cell_type": "markdown",
   "metadata": {},
   "source": [
    "**NOTE:** In the report, we should discuss the creation of the DAY_OF_YEAR feature. Is it an *ordinal* or *categorical* feature? We should also discuss the decision to drop MONTH."
   ]
  },
  {
   "cell_type": "code",
   "execution_count": 7,
   "metadata": {
    "collapsed": true
   },
   "outputs": [],
   "source": [
    "# Note: Aaron changed the entry for key = 4 from 60 to 90.\n",
    "monthToDaysDict = {1: 0, 2: 31, 3: 59, 4: 90, 5: 120, 6: 151, 7: 181, 8: 212, \n",
    "                   9: 243, 10: 273, 11: 304, 12: 334}\n",
    "def monthToDays(month):\n",
    "    return monthToDaysDict[month]\n",
    "\n",
    "# Remove the following features: \n",
    "# YEAR, FLIGHT_NUMBER, TAIL_NUMBER, DEPARTURE_TIME, TAXI_OUT, \n",
    "# WHEELS_OFF, ELAPSED_TIME, AIR_TIME, WHEELS_ON, TAXI_IN, and ARRIVAL_TIME\n",
    "data = data.drop(['YEAR', 'FLIGHT_NUMBER', 'TAIL_NUMBER', 'DEPARTURE_TIME', \n",
    "                  'TAXI_OUT', 'WHEELS_OFF', 'ELAPSED_TIME', 'AIR_TIME', 'WHEELS_ON', \n",
    "                  'TAXI_IN', 'ARRIVAL_TIME'], 1)\n",
    "\n",
    "# Convert MONTH -> # of days before a month\n",
    "data['MONTH'] = data['MONTH'].apply(monthToDays)\n",
    "\n",
    "# Convert MONTH + DAYS -> DAY_OF_YEAR\n",
    "data['DAY'] = data['DAY'] + data['MONTH']\n",
    "data.rename(columns={'DAY': 'DAY_OF_YEAR'}, inplace=True)\n",
    "data = data.drop(\"MONTH\", 1)"
   ]
  },
  {
   "cell_type": "code",
   "execution_count": 8,
   "metadata": {},
   "outputs": [
    {
     "data": {
      "text/plain": [
       "DAY_OF_YEAR              int64\n",
       "DAY_OF_WEEK              int64\n",
       "AIRLINE                 object\n",
       "ORIGIN_AIRPORT          object\n",
       "DESTINATION_AIRPORT     object\n",
       "SCHEDULED_DEPARTURE      int64\n",
       "DEPARTURE_DELAY        float64\n",
       "SCHEDULED_TIME         float64\n",
       "DISTANCE                 int64\n",
       "SCHEDULED_ARRIVAL        int64\n",
       "ARRIVAL_DELAY          float64\n",
       "DIVERTED                 int64\n",
       "CANCELLED                int64\n",
       "CANCELLATION_REASON     object\n",
       "AIR_SYSTEM_DELAY       float64\n",
       "SECURITY_DELAY         float64\n",
       "AIRLINE_DELAY          float64\n",
       "LATE_AIRCRAFT_DELAY    float64\n",
       "WEATHER_DELAY          float64\n",
       "dtype: object"
      ]
     },
     "execution_count": 8,
     "metadata": {},
     "output_type": "execute_result"
    }
   ],
   "source": [
    "data.dtypes"
   ]
  },
  {
   "cell_type": "code",
   "execution_count": 9,
   "metadata": {},
   "outputs": [
    {
     "data": {
      "text/html": [
       "<div>\n",
       "<style>\n",
       "    .dataframe thead tr:only-child th {\n",
       "        text-align: right;\n",
       "    }\n",
       "\n",
       "    .dataframe thead th {\n",
       "        text-align: left;\n",
       "    }\n",
       "\n",
       "    .dataframe tbody tr th {\n",
       "        vertical-align: top;\n",
       "    }\n",
       "</style>\n",
       "<table border=\"1\" class=\"dataframe\">\n",
       "  <thead>\n",
       "    <tr style=\"text-align: right;\">\n",
       "      <th></th>\n",
       "      <th>DAY_OF_YEAR</th>\n",
       "      <th>DAY_OF_WEEK</th>\n",
       "      <th>AIRLINE</th>\n",
       "      <th>ORIGIN_AIRPORT</th>\n",
       "      <th>DESTINATION_AIRPORT</th>\n",
       "      <th>SCHEDULED_DEPARTURE</th>\n",
       "      <th>DEPARTURE_DELAY</th>\n",
       "      <th>SCHEDULED_TIME</th>\n",
       "      <th>DISTANCE</th>\n",
       "      <th>SCHEDULED_ARRIVAL</th>\n",
       "      <th>ARRIVAL_DELAY</th>\n",
       "      <th>DIVERTED</th>\n",
       "      <th>CANCELLED</th>\n",
       "      <th>CANCELLATION_REASON</th>\n",
       "      <th>AIR_SYSTEM_DELAY</th>\n",
       "      <th>SECURITY_DELAY</th>\n",
       "      <th>AIRLINE_DELAY</th>\n",
       "      <th>LATE_AIRCRAFT_DELAY</th>\n",
       "      <th>WEATHER_DELAY</th>\n",
       "    </tr>\n",
       "  </thead>\n",
       "  <tbody>\n",
       "    <tr>\n",
       "      <th>0</th>\n",
       "      <td>1</td>\n",
       "      <td>4</td>\n",
       "      <td>AS</td>\n",
       "      <td>ANC</td>\n",
       "      <td>SEA</td>\n",
       "      <td>5</td>\n",
       "      <td>-11.0</td>\n",
       "      <td>205.0</td>\n",
       "      <td>1448</td>\n",
       "      <td>430</td>\n",
       "      <td>-22.0</td>\n",
       "      <td>0</td>\n",
       "      <td>0</td>\n",
       "      <td>NaN</td>\n",
       "      <td>NaN</td>\n",
       "      <td>NaN</td>\n",
       "      <td>NaN</td>\n",
       "      <td>NaN</td>\n",
       "      <td>NaN</td>\n",
       "    </tr>\n",
       "    <tr>\n",
       "      <th>1</th>\n",
       "      <td>1</td>\n",
       "      <td>4</td>\n",
       "      <td>AA</td>\n",
       "      <td>LAX</td>\n",
       "      <td>PBI</td>\n",
       "      <td>10</td>\n",
       "      <td>-8.0</td>\n",
       "      <td>280.0</td>\n",
       "      <td>2330</td>\n",
       "      <td>750</td>\n",
       "      <td>-9.0</td>\n",
       "      <td>0</td>\n",
       "      <td>0</td>\n",
       "      <td>NaN</td>\n",
       "      <td>NaN</td>\n",
       "      <td>NaN</td>\n",
       "      <td>NaN</td>\n",
       "      <td>NaN</td>\n",
       "      <td>NaN</td>\n",
       "    </tr>\n",
       "    <tr>\n",
       "      <th>2</th>\n",
       "      <td>1</td>\n",
       "      <td>4</td>\n",
       "      <td>US</td>\n",
       "      <td>SFO</td>\n",
       "      <td>CLT</td>\n",
       "      <td>20</td>\n",
       "      <td>-2.0</td>\n",
       "      <td>286.0</td>\n",
       "      <td>2296</td>\n",
       "      <td>806</td>\n",
       "      <td>5.0</td>\n",
       "      <td>0</td>\n",
       "      <td>0</td>\n",
       "      <td>NaN</td>\n",
       "      <td>NaN</td>\n",
       "      <td>NaN</td>\n",
       "      <td>NaN</td>\n",
       "      <td>NaN</td>\n",
       "      <td>NaN</td>\n",
       "    </tr>\n",
       "    <tr>\n",
       "      <th>3</th>\n",
       "      <td>1</td>\n",
       "      <td>4</td>\n",
       "      <td>AA</td>\n",
       "      <td>LAX</td>\n",
       "      <td>MIA</td>\n",
       "      <td>20</td>\n",
       "      <td>-5.0</td>\n",
       "      <td>285.0</td>\n",
       "      <td>2342</td>\n",
       "      <td>805</td>\n",
       "      <td>-9.0</td>\n",
       "      <td>0</td>\n",
       "      <td>0</td>\n",
       "      <td>NaN</td>\n",
       "      <td>NaN</td>\n",
       "      <td>NaN</td>\n",
       "      <td>NaN</td>\n",
       "      <td>NaN</td>\n",
       "      <td>NaN</td>\n",
       "    </tr>\n",
       "    <tr>\n",
       "      <th>4</th>\n",
       "      <td>1</td>\n",
       "      <td>4</td>\n",
       "      <td>AS</td>\n",
       "      <td>SEA</td>\n",
       "      <td>ANC</td>\n",
       "      <td>25</td>\n",
       "      <td>-1.0</td>\n",
       "      <td>235.0</td>\n",
       "      <td>1448</td>\n",
       "      <td>320</td>\n",
       "      <td>-21.0</td>\n",
       "      <td>0</td>\n",
       "      <td>0</td>\n",
       "      <td>NaN</td>\n",
       "      <td>NaN</td>\n",
       "      <td>NaN</td>\n",
       "      <td>NaN</td>\n",
       "      <td>NaN</td>\n",
       "      <td>NaN</td>\n",
       "    </tr>\n",
       "  </tbody>\n",
       "</table>\n",
       "</div>"
      ],
      "text/plain": [
       "   DAY_OF_YEAR  DAY_OF_WEEK AIRLINE ORIGIN_AIRPORT DESTINATION_AIRPORT  \\\n",
       "0            1            4      AS            ANC                 SEA   \n",
       "1            1            4      AA            LAX                 PBI   \n",
       "2            1            4      US            SFO                 CLT   \n",
       "3            1            4      AA            LAX                 MIA   \n",
       "4            1            4      AS            SEA                 ANC   \n",
       "\n",
       "   SCHEDULED_DEPARTURE  DEPARTURE_DELAY  SCHEDULED_TIME  DISTANCE  \\\n",
       "0                    5            -11.0           205.0      1448   \n",
       "1                   10             -8.0           280.0      2330   \n",
       "2                   20             -2.0           286.0      2296   \n",
       "3                   20             -5.0           285.0      2342   \n",
       "4                   25             -1.0           235.0      1448   \n",
       "\n",
       "   SCHEDULED_ARRIVAL  ARRIVAL_DELAY  DIVERTED  CANCELLED CANCELLATION_REASON  \\\n",
       "0                430          -22.0         0          0                 NaN   \n",
       "1                750           -9.0         0          0                 NaN   \n",
       "2                806            5.0         0          0                 NaN   \n",
       "3                805           -9.0         0          0                 NaN   \n",
       "4                320          -21.0         0          0                 NaN   \n",
       "\n",
       "   AIR_SYSTEM_DELAY  SECURITY_DELAY  AIRLINE_DELAY  LATE_AIRCRAFT_DELAY  \\\n",
       "0               NaN             NaN            NaN                  NaN   \n",
       "1               NaN             NaN            NaN                  NaN   \n",
       "2               NaN             NaN            NaN                  NaN   \n",
       "3               NaN             NaN            NaN                  NaN   \n",
       "4               NaN             NaN            NaN                  NaN   \n",
       "\n",
       "   WEATHER_DELAY  \n",
       "0            NaN  \n",
       "1            NaN  \n",
       "2            NaN  \n",
       "3            NaN  \n",
       "4            NaN  "
      ]
     },
     "execution_count": 9,
     "metadata": {},
     "output_type": "execute_result"
    }
   ],
   "source": [
    "data.head()"
   ]
  },
  {
   "cell_type": "markdown",
   "metadata": {},
   "source": [
    "**The code below cleans the AIR_SYSTEM_DELAY, SECURITY_DELAY, AIRLINE_DELAY, LATE_AIRCRAFT_DELAY, and WEATHER_DELAY features.**"
   ]
  },
  {
   "cell_type": "code",
   "execution_count": 10,
   "metadata": {},
   "outputs": [
    {
     "name": "stdout",
     "output_type": "stream",
     "text": [
      "Transforming delay columns complete!\n"
     ]
    }
   ],
   "source": [
    "def notANumberToZero(delay):\n",
    "    if (math.isnan(delay)):\n",
    "        return 0\n",
    "    else:\n",
    "        return delay\n",
    "    \n",
    "data['AIR_SYSTEM_DELAY'] = data['AIR_SYSTEM_DELAY'].apply(notANumberToZero)\n",
    "data['SECURITY_DELAY'] = data['SECURITY_DELAY'].apply(notANumberToZero)\n",
    "data['AIRLINE_DELAY'] = data['AIRLINE_DELAY'].apply(notANumberToZero)\n",
    "data['LATE_AIRCRAFT_DELAY'] = data['LATE_AIRCRAFT_DELAY'].apply(notANumberToZero)\n",
    "data['WEATHER_DELAY'] = data['WEATHER_DELAY'].apply(notANumberToZero)\n",
    "\n",
    "print(\"Transforming delay columns complete!\")"
   ]
  },
  {
   "cell_type": "code",
   "execution_count": 11,
   "metadata": {},
   "outputs": [
    {
     "data": {
      "text/html": [
       "<div>\n",
       "<style>\n",
       "    .dataframe thead tr:only-child th {\n",
       "        text-align: right;\n",
       "    }\n",
       "\n",
       "    .dataframe thead th {\n",
       "        text-align: left;\n",
       "    }\n",
       "\n",
       "    .dataframe tbody tr th {\n",
       "        vertical-align: top;\n",
       "    }\n",
       "</style>\n",
       "<table border=\"1\" class=\"dataframe\">\n",
       "  <thead>\n",
       "    <tr style=\"text-align: right;\">\n",
       "      <th></th>\n",
       "      <th>DAY_OF_YEAR</th>\n",
       "      <th>DAY_OF_WEEK</th>\n",
       "      <th>AIRLINE</th>\n",
       "      <th>ORIGIN_AIRPORT</th>\n",
       "      <th>DESTINATION_AIRPORT</th>\n",
       "      <th>SCHEDULED_DEPARTURE</th>\n",
       "      <th>DEPARTURE_DELAY</th>\n",
       "      <th>SCHEDULED_TIME</th>\n",
       "      <th>DISTANCE</th>\n",
       "      <th>SCHEDULED_ARRIVAL</th>\n",
       "      <th>ARRIVAL_DELAY</th>\n",
       "      <th>DIVERTED</th>\n",
       "      <th>CANCELLED</th>\n",
       "      <th>CANCELLATION_REASON</th>\n",
       "      <th>AIR_SYSTEM_DELAY</th>\n",
       "      <th>SECURITY_DELAY</th>\n",
       "      <th>AIRLINE_DELAY</th>\n",
       "      <th>LATE_AIRCRAFT_DELAY</th>\n",
       "      <th>WEATHER_DELAY</th>\n",
       "    </tr>\n",
       "  </thead>\n",
       "  <tbody>\n",
       "    <tr>\n",
       "      <th>50000</th>\n",
       "      <td>4</td>\n",
       "      <td>7</td>\n",
       "      <td>DL</td>\n",
       "      <td>JAX</td>\n",
       "      <td>ATL</td>\n",
       "      <td>915</td>\n",
       "      <td>23.0</td>\n",
       "      <td>75.0</td>\n",
       "      <td>270</td>\n",
       "      <td>1030</td>\n",
       "      <td>26.0</td>\n",
       "      <td>0</td>\n",
       "      <td>0</td>\n",
       "      <td>NaN</td>\n",
       "      <td>26.0</td>\n",
       "      <td>0.0</td>\n",
       "      <td>0.0</td>\n",
       "      <td>0.0</td>\n",
       "      <td>0.0</td>\n",
       "    </tr>\n",
       "    <tr>\n",
       "      <th>50001</th>\n",
       "      <td>4</td>\n",
       "      <td>7</td>\n",
       "      <td>DL</td>\n",
       "      <td>MSP</td>\n",
       "      <td>SNA</td>\n",
       "      <td>915</td>\n",
       "      <td>109.0</td>\n",
       "      <td>246.0</td>\n",
       "      <td>1522</td>\n",
       "      <td>1121</td>\n",
       "      <td>83.0</td>\n",
       "      <td>0</td>\n",
       "      <td>0</td>\n",
       "      <td>NaN</td>\n",
       "      <td>0.0</td>\n",
       "      <td>0.0</td>\n",
       "      <td>83.0</td>\n",
       "      <td>0.0</td>\n",
       "      <td>0.0</td>\n",
       "    </tr>\n",
       "    <tr>\n",
       "      <th>50002</th>\n",
       "      <td>4</td>\n",
       "      <td>7</td>\n",
       "      <td>DL</td>\n",
       "      <td>MSP</td>\n",
       "      <td>PDX</td>\n",
       "      <td>915</td>\n",
       "      <td>0.0</td>\n",
       "      <td>242.0</td>\n",
       "      <td>1426</td>\n",
       "      <td>1117</td>\n",
       "      <td>-6.0</td>\n",
       "      <td>0</td>\n",
       "      <td>0</td>\n",
       "      <td>NaN</td>\n",
       "      <td>0.0</td>\n",
       "      <td>0.0</td>\n",
       "      <td>0.0</td>\n",
       "      <td>0.0</td>\n",
       "      <td>0.0</td>\n",
       "    </tr>\n",
       "    <tr>\n",
       "      <th>50003</th>\n",
       "      <td>4</td>\n",
       "      <td>7</td>\n",
       "      <td>DL</td>\n",
       "      <td>ATL</td>\n",
       "      <td>SRQ</td>\n",
       "      <td>915</td>\n",
       "      <td>7.0</td>\n",
       "      <td>93.0</td>\n",
       "      <td>444</td>\n",
       "      <td>1048</td>\n",
       "      <td>8.0</td>\n",
       "      <td>0</td>\n",
       "      <td>0</td>\n",
       "      <td>NaN</td>\n",
       "      <td>0.0</td>\n",
       "      <td>0.0</td>\n",
       "      <td>0.0</td>\n",
       "      <td>0.0</td>\n",
       "      <td>0.0</td>\n",
       "    </tr>\n",
       "    <tr>\n",
       "      <th>50004</th>\n",
       "      <td>4</td>\n",
       "      <td>7</td>\n",
       "      <td>DL</td>\n",
       "      <td>MSP</td>\n",
       "      <td>SFO</td>\n",
       "      <td>915</td>\n",
       "      <td>-4.0</td>\n",
       "      <td>265.0</td>\n",
       "      <td>1589</td>\n",
       "      <td>1140</td>\n",
       "      <td>-24.0</td>\n",
       "      <td>0</td>\n",
       "      <td>0</td>\n",
       "      <td>NaN</td>\n",
       "      <td>0.0</td>\n",
       "      <td>0.0</td>\n",
       "      <td>0.0</td>\n",
       "      <td>0.0</td>\n",
       "      <td>0.0</td>\n",
       "    </tr>\n",
       "    <tr>\n",
       "      <th>50005</th>\n",
       "      <td>4</td>\n",
       "      <td>7</td>\n",
       "      <td>DL</td>\n",
       "      <td>DEN</td>\n",
       "      <td>ATL</td>\n",
       "      <td>915</td>\n",
       "      <td>0.0</td>\n",
       "      <td>178.0</td>\n",
       "      <td>1199</td>\n",
       "      <td>1413</td>\n",
       "      <td>-2.0</td>\n",
       "      <td>0</td>\n",
       "      <td>0</td>\n",
       "      <td>NaN</td>\n",
       "      <td>0.0</td>\n",
       "      <td>0.0</td>\n",
       "      <td>0.0</td>\n",
       "      <td>0.0</td>\n",
       "      <td>0.0</td>\n",
       "    </tr>\n",
       "    <tr>\n",
       "      <th>50006</th>\n",
       "      <td>4</td>\n",
       "      <td>7</td>\n",
       "      <td>EV</td>\n",
       "      <td>ATL</td>\n",
       "      <td>ECP</td>\n",
       "      <td>915</td>\n",
       "      <td>10.0</td>\n",
       "      <td>68.0</td>\n",
       "      <td>240</td>\n",
       "      <td>923</td>\n",
       "      <td>5.0</td>\n",
       "      <td>0</td>\n",
       "      <td>0</td>\n",
       "      <td>NaN</td>\n",
       "      <td>0.0</td>\n",
       "      <td>0.0</td>\n",
       "      <td>0.0</td>\n",
       "      <td>0.0</td>\n",
       "      <td>0.0</td>\n",
       "    </tr>\n",
       "    <tr>\n",
       "      <th>50007</th>\n",
       "      <td>4</td>\n",
       "      <td>7</td>\n",
       "      <td>EV</td>\n",
       "      <td>MOB</td>\n",
       "      <td>ATL</td>\n",
       "      <td>915</td>\n",
       "      <td>-1.0</td>\n",
       "      <td>69.0</td>\n",
       "      <td>302</td>\n",
       "      <td>1124</td>\n",
       "      <td>-3.0</td>\n",
       "      <td>0</td>\n",
       "      <td>0</td>\n",
       "      <td>NaN</td>\n",
       "      <td>0.0</td>\n",
       "      <td>0.0</td>\n",
       "      <td>0.0</td>\n",
       "      <td>0.0</td>\n",
       "      <td>0.0</td>\n",
       "    </tr>\n",
       "    <tr>\n",
       "      <th>50008</th>\n",
       "      <td>4</td>\n",
       "      <td>7</td>\n",
       "      <td>HA</td>\n",
       "      <td>HNL</td>\n",
       "      <td>LIH</td>\n",
       "      <td>915</td>\n",
       "      <td>-4.0</td>\n",
       "      <td>38.0</td>\n",
       "      <td>102</td>\n",
       "      <td>953</td>\n",
       "      <td>3.0</td>\n",
       "      <td>0</td>\n",
       "      <td>0</td>\n",
       "      <td>NaN</td>\n",
       "      <td>0.0</td>\n",
       "      <td>0.0</td>\n",
       "      <td>0.0</td>\n",
       "      <td>0.0</td>\n",
       "      <td>0.0</td>\n",
       "    </tr>\n",
       "    <tr>\n",
       "      <th>50009</th>\n",
       "      <td>4</td>\n",
       "      <td>7</td>\n",
       "      <td>MQ</td>\n",
       "      <td>DFW</td>\n",
       "      <td>PIA</td>\n",
       "      <td>915</td>\n",
       "      <td>-3.0</td>\n",
       "      <td>108.0</td>\n",
       "      <td>672</td>\n",
       "      <td>1103</td>\n",
       "      <td>11.0</td>\n",
       "      <td>0</td>\n",
       "      <td>0</td>\n",
       "      <td>NaN</td>\n",
       "      <td>0.0</td>\n",
       "      <td>0.0</td>\n",
       "      <td>0.0</td>\n",
       "      <td>0.0</td>\n",
       "      <td>0.0</td>\n",
       "    </tr>\n",
       "  </tbody>\n",
       "</table>\n",
       "</div>"
      ],
      "text/plain": [
       "       DAY_OF_YEAR  DAY_OF_WEEK AIRLINE ORIGIN_AIRPORT DESTINATION_AIRPORT  \\\n",
       "50000            4            7      DL            JAX                 ATL   \n",
       "50001            4            7      DL            MSP                 SNA   \n",
       "50002            4            7      DL            MSP                 PDX   \n",
       "50003            4            7      DL            ATL                 SRQ   \n",
       "50004            4            7      DL            MSP                 SFO   \n",
       "50005            4            7      DL            DEN                 ATL   \n",
       "50006            4            7      EV            ATL                 ECP   \n",
       "50007            4            7      EV            MOB                 ATL   \n",
       "50008            4            7      HA            HNL                 LIH   \n",
       "50009            4            7      MQ            DFW                 PIA   \n",
       "\n",
       "       SCHEDULED_DEPARTURE  DEPARTURE_DELAY  SCHEDULED_TIME  DISTANCE  \\\n",
       "50000                  915             23.0            75.0       270   \n",
       "50001                  915            109.0           246.0      1522   \n",
       "50002                  915              0.0           242.0      1426   \n",
       "50003                  915              7.0            93.0       444   \n",
       "50004                  915             -4.0           265.0      1589   \n",
       "50005                  915              0.0           178.0      1199   \n",
       "50006                  915             10.0            68.0       240   \n",
       "50007                  915             -1.0            69.0       302   \n",
       "50008                  915             -4.0            38.0       102   \n",
       "50009                  915             -3.0           108.0       672   \n",
       "\n",
       "       SCHEDULED_ARRIVAL  ARRIVAL_DELAY  DIVERTED  CANCELLED  \\\n",
       "50000               1030           26.0         0          0   \n",
       "50001               1121           83.0         0          0   \n",
       "50002               1117           -6.0         0          0   \n",
       "50003               1048            8.0         0          0   \n",
       "50004               1140          -24.0         0          0   \n",
       "50005               1413           -2.0         0          0   \n",
       "50006                923            5.0         0          0   \n",
       "50007               1124           -3.0         0          0   \n",
       "50008                953            3.0         0          0   \n",
       "50009               1103           11.0         0          0   \n",
       "\n",
       "      CANCELLATION_REASON  AIR_SYSTEM_DELAY  SECURITY_DELAY  AIRLINE_DELAY  \\\n",
       "50000                 NaN              26.0             0.0            0.0   \n",
       "50001                 NaN               0.0             0.0           83.0   \n",
       "50002                 NaN               0.0             0.0            0.0   \n",
       "50003                 NaN               0.0             0.0            0.0   \n",
       "50004                 NaN               0.0             0.0            0.0   \n",
       "50005                 NaN               0.0             0.0            0.0   \n",
       "50006                 NaN               0.0             0.0            0.0   \n",
       "50007                 NaN               0.0             0.0            0.0   \n",
       "50008                 NaN               0.0             0.0            0.0   \n",
       "50009                 NaN               0.0             0.0            0.0   \n",
       "\n",
       "       LATE_AIRCRAFT_DELAY  WEATHER_DELAY  \n",
       "50000                  0.0            0.0  \n",
       "50001                  0.0            0.0  \n",
       "50002                  0.0            0.0  \n",
       "50003                  0.0            0.0  \n",
       "50004                  0.0            0.0  \n",
       "50005                  0.0            0.0  \n",
       "50006                  0.0            0.0  \n",
       "50007                  0.0            0.0  \n",
       "50008                  0.0            0.0  \n",
       "50009                  0.0            0.0  "
      ]
     },
     "execution_count": 11,
     "metadata": {},
     "output_type": "execute_result"
    }
   ],
   "source": [
    "data.iloc[50000:50010]"
   ]
  },
  {
   "cell_type": "markdown",
   "metadata": {},
   "source": [
    "**The following code does 3 things to clean the data:**\n",
    "\n",
    "1) Replace the NaN values in CANCELLATION_REASON with empty strings\n",
    "\n",
    "2) Convert SCHEDULED_DEPARTURE to a numeric quantity ranging from 0 to 1440 representing the minutes in a day\n",
    "\n",
    "3) Do the same for SCHEDULED_ARRIVAL\n",
    "\n",
    "The reason we have to do the last two things is because SCHEDULED_DEPARTURE and SCHEDULED_ARRIVAL are floats which *actually* represent HHMM time values. We do not need to do the same for SCHEDULED_TIME as it represents estimated travel time in minutes."
   ]
  },
  {
   "cell_type": "code",
   "execution_count": 12,
   "metadata": {
    "collapsed": true
   },
   "outputs": [],
   "source": [
    "def hhmmFloatToMinutes(time):\n",
    "    timeString = \"{:04d}\".format(time)\n",
    "    hours = float(timeString[0:2])\n",
    "    minutes = float(timeString[2:4])\n",
    "    totalMinutes = (hours * 60) + minutes\n",
    "    return totalMinutes"
   ]
  },
  {
   "cell_type": "markdown",
   "metadata": {},
   "source": [
    "**NOTE:** The cell below will take roughly 30 seconds to a minute to finish."
   ]
  },
  {
   "cell_type": "code",
   "execution_count": 13,
   "metadata": {
    "collapsed": true
   },
   "outputs": [],
   "source": [
    "data['CANCELLATION_REASON'] = data['CANCELLATION_REASON'].fillna('')\n",
    "data['SCHEDULED_DEPARTURE'] = data['SCHEDULED_DEPARTURE'].apply(hhmmFloatToMinutes)\n",
    "data['SCHEDULED_ARRIVAL'] = data['SCHEDULED_ARRIVAL'].apply(hhmmFloatToMinutes)"
   ]
  },
  {
   "cell_type": "markdown",
   "metadata": {},
   "source": [
    "missing_values will show how many NaN/None values are remaining in the dataset."
   ]
  },
  {
   "cell_type": "code",
   "execution_count": 14,
   "metadata": {},
   "outputs": [
    {
     "data": {
      "text/plain": [
       "DAY_OF_YEAR                 0\n",
       "DAY_OF_WEEK                 0\n",
       "AIRLINE                     0\n",
       "ORIGIN_AIRPORT              0\n",
       "DESTINATION_AIRPORT         0\n",
       "SCHEDULED_DEPARTURE         0\n",
       "DEPARTURE_DELAY         86153\n",
       "SCHEDULED_TIME              6\n",
       "DISTANCE                    0\n",
       "SCHEDULED_ARRIVAL           0\n",
       "ARRIVAL_DELAY          105071\n",
       "DIVERTED                    0\n",
       "CANCELLED                   0\n",
       "CANCELLATION_REASON         0\n",
       "AIR_SYSTEM_DELAY            0\n",
       "SECURITY_DELAY              0\n",
       "AIRLINE_DELAY               0\n",
       "LATE_AIRCRAFT_DELAY         0\n",
       "WEATHER_DELAY               0\n",
       "dtype: int64"
      ]
     },
     "execution_count": 14,
     "metadata": {},
     "output_type": "execute_result"
    }
   ],
   "source": [
    "missing_values = data.isnull().sum(axis=0)\n",
    "missing_values"
   ]
  },
  {
   "cell_type": "markdown",
   "metadata": {},
   "source": [
    " "
   ]
  },
  {
   "cell_type": "markdown",
   "metadata": {},
   "source": [
    "**There's an issue with the ORIGIN_AIRPORT and DESTINATION_AIRPORT features for October 2015. The problem is described in [this](https://www.kaggle.com/usdot/flight-delays/discussion/29600#latest-168452) post on Kaggle. The approach to fix it is drawn from [this](https://www.kaggle.com/srcole/fix-inconsistent-airport-codes) Kaggle kernel.** "
   ]
  },
  {
   "cell_type": "markdown",
   "metadata": {},
   "source": [
    "The datasets we're using to solve the conflict between the 5-digit airport codes and the 3-letter airport codes can be found in the comments of the kernel linked above."
   ]
  },
  {
   "cell_type": "code",
   "execution_count": 15,
   "metadata": {},
   "outputs": [
    {
     "data": {
      "text/plain": [
       "(6429, 2)"
      ]
     },
     "execution_count": 15,
     "metadata": {},
     "output_type": "execute_result"
    }
   ],
   "source": [
    "df_threeLetterCode = pd.read_csv('L_AIRPORT.csv')\n",
    "df_threeLetterCode.shape"
   ]
  },
  {
   "cell_type": "markdown",
   "metadata": {},
   "source": [
    "After much trial and error, I realized one issue was due to the AUS and YUM codes being replicated as BSM and NYL, respectively. We drop BSM and NYL as the flights.csv file doesn't use these codes."
   ]
  },
  {
   "cell_type": "code",
   "execution_count": 16,
   "metadata": {
    "collapsed": true
   },
   "outputs": [],
   "source": [
    "codesToDrop = ['BSM', 'NYL']\n",
    "df_threeLetterCode = df_threeLetterCode[~df_threeLetterCode['Code'].isin(codesToDrop)]\n",
    "threeLetterCodes = list(df_threeLetterCode['Code'])"
   ]
  },
  {
   "cell_type": "code",
   "execution_count": 17,
   "metadata": {},
   "outputs": [
    {
     "data": {
      "text/plain": [
       "(6414, 2)"
      ]
     },
     "execution_count": 17,
     "metadata": {},
     "output_type": "execute_result"
    }
   ],
   "source": [
    "df_fiveLetterCode = pd.read_csv('L_AIRPORT_ID.csv')\n",
    "df_fiveLetterCode.shape"
   ]
  },
  {
   "cell_type": "markdown",
   "metadata": {},
   "source": [
    "We set different indices for these two tables to avoid creating a new dictionary."
   ]
  },
  {
   "cell_type": "code",
   "execution_count": 18,
   "metadata": {
    "collapsed": true
   },
   "outputs": [],
   "source": [
    "df3 = df_threeLetterCode.set_index('Description')\n",
    "df5 = df_fiveLetterCode.set_index('Code')"
   ]
  },
  {
   "cell_type": "markdown",
   "metadata": {},
   "source": [
    "This DataFrame can be used to double-check the results of fixing the issue at hand. \n",
    "\n",
    "We can do so by running the apply method with testFixAirports, outputting countTest, and then comparing it to the shape of df_October."
   ]
  },
  {
   "cell_type": "code",
   "execution_count": 19,
   "metadata": {},
   "outputs": [
    {
     "data": {
      "text/plain": [
       "(486165, 2)"
      ]
     },
     "execution_count": 19,
     "metadata": {},
     "output_type": "execute_result"
    }
   ],
   "source": [
    "df_airports = data[['ORIGIN_AIRPORT', 'DESTINATION_AIRPORT']]\n",
    "df_October = df_airports.loc[~df_airports['ORIGIN_AIRPORT'].isin(threeLetterCodes) |\n",
    "                            ~df_airports['DESTINATION_AIRPORT'].isin(threeLetterCodes)]\n",
    "df_October.shape"
   ]
  },
  {
   "cell_type": "markdown",
   "metadata": {},
   "source": [
    "The testFixAirports function simply counts the number of 5-digit airport codes when passed to the apply method. There should be ~500k."
   ]
  },
  {
   "cell_type": "code",
   "execution_count": 20,
   "metadata": {
    "collapsed": true
   },
   "outputs": [],
   "source": [
    "countTest = 0\n",
    "nFlightsTest = 0\n",
    "def testFixAirports(airport):\n",
    "    global countTest\n",
    "    global nFlightsTest\n",
    "    nFlightsTest += 1\n",
    "    if len(airport) != 3:\n",
    "        countTest += 1\n",
    "    if nFlightsTest % 1000000 == 0:\n",
    "        print(nFlightsTest)"
   ]
  },
  {
   "cell_type": "markdown",
   "metadata": {},
   "source": [
    "The fixOctoberAirports function will create a DataFrame column where the 5-digit airport codes have been replaced by 3-letter airport codes (when passed to apply)."
   ]
  },
  {
   "cell_type": "code",
   "execution_count": 21,
   "metadata": {
    "collapsed": true
   },
   "outputs": [],
   "source": [
    "nFlights = 0\n",
    "def fixOctoberAirports(airport):\n",
    "    global nFlights\n",
    "    nFlights += 1\n",
    "    \n",
    "    if nFlights % 1000000 == 0:\n",
    "        print(nFlights)\n",
    "    \n",
    "    if len(airport) != 3:\n",
    "        index = int(airport)\n",
    "        descriptionAsKey = df5.loc[index]['Description']\n",
    "        newCode = df3.loc[descriptionAsKey]['Code']\n",
    "        return newCode\n",
    "    else:\n",
    "        return airport"
   ]
  },
  {
   "cell_type": "markdown",
   "metadata": {},
   "source": [
    "**NOTE:** The two cells below will take several minutes each to run. Specifically, after '4000000' is printed in the output, it will take several minutes to see '5000000'."
   ]
  },
  {
   "cell_type": "code",
   "execution_count": 22,
   "metadata": {},
   "outputs": [
    {
     "name": "stdout",
     "output_type": "stream",
     "text": [
      "1000000\n",
      "2000000\n",
      "3000000\n",
      "4000000\n",
      "5000000\n"
     ]
    }
   ],
   "source": [
    "fixed_origin_airport = data['ORIGIN_AIRPORT'].apply(fixOctoberAirports)"
   ]
  },
  {
   "cell_type": "code",
   "execution_count": 23,
   "metadata": {},
   "outputs": [
    {
     "name": "stdout",
     "output_type": "stream",
     "text": [
      "1000000\n",
      "2000000\n",
      "3000000\n",
      "4000000\n",
      "5000000\n"
     ]
    }
   ],
   "source": [
    "nFlights = 0\n",
    "fixed_dest_airport = data['DESTINATION_AIRPORT'].apply(fixOctoberAirports)"
   ]
  },
  {
   "cell_type": "code",
   "execution_count": 24,
   "metadata": {
    "collapsed": true
   },
   "outputs": [],
   "source": [
    "data['ORIGIN_AIRPORT'] = fixed_origin_airport\n",
    "data['DESTINATION_AIRPORT'] = fixed_dest_airport"
   ]
  },
  {
   "cell_type": "markdown",
   "metadata": {},
   "source": [
    "countTest should be 0 for both features now if everything worked correctly."
   ]
  },
  {
   "cell_type": "code",
   "execution_count": 25,
   "metadata": {},
   "outputs": [
    {
     "name": "stdout",
     "output_type": "stream",
     "text": [
      "1000000\n",
      "2000000\n",
      "3000000\n",
      "4000000\n",
      "5000000\n",
      "\n",
      "countTest: 0\n"
     ]
    }
   ],
   "source": [
    "countTest = 0\n",
    "nFlightsTest = 0\n",
    "data['ORIGIN_AIRPORT'].apply(testFixAirports)\n",
    "print()\n",
    "print(\"countTest:\", countTest)"
   ]
  },
  {
   "cell_type": "code",
   "execution_count": 26,
   "metadata": {},
   "outputs": [
    {
     "name": "stdout",
     "output_type": "stream",
     "text": [
      "1000000\n",
      "2000000\n",
      "3000000\n",
      "4000000\n",
      "5000000\n",
      "\n",
      "countTest: 0\n"
     ]
    }
   ],
   "source": [
    "countTest = 0\n",
    "nFlightsTest = 0\n",
    "data['DESTINATION_AIRPORT'].apply(testFixAirports)\n",
    "print()\n",
    "print(\"countTest:\", countTest)"
   ]
  },
  {
   "cell_type": "markdown",
   "metadata": {},
   "source": [
    " "
   ]
  },
  {
   "cell_type": "markdown",
   "metadata": {},
   "source": [
    "**The DataSet class allows us to create a sampled and cleaned instance of a DataFrame. There are more options for DataSet in this notebook than in the DataCleaning.ipynb notebook.**\n",
    "\n",
    "The categorical (or nominal) variables in our dataset are: DAY_OF_WEEK, AIRLINE, ORIGIN_AIRPORT, DESTINATION_AIRPORT, CANCELLATION_REASON, and (possibly) DAY_OF_YEAR."
   ]
  },
  {
   "cell_type": "code",
   "execution_count": 27,
   "metadata": {
    "collapsed": true
   },
   "outputs": [],
   "source": [
    "def delayTimeToDummy(delay):\n",
    "    if delay > 0:\n",
    "        return 1\n",
    "    else:\n",
    "        return 0\n",
    "\n",
    "# cleaningOption specifies how to handle NaN/None values.\n",
    "#     * \"drop\" = simply drop the NaN/None values\n",
    "#     * \"mean\" = use mean imputation to replace NaN/None values\n",
    "#     * \"median\" = use median imputation to replace NaN/None values\n",
    "#\n",
    "# sampleFraction specifies how much of the dataset to sample.\n",
    "#\n",
    "# dropDelays controls whether to drop the AIR_SYSTEM_DELAY, SECURITY_DELAY, \n",
    "# AIRLINE_DELAY, LATE_AIRCRAFT_DELAY, and WEATHER_DELAY features or not.\n",
    "class DataSet:\n",
    "    def __init__(self, cleaningOption=\"drop\", sampleFraction=0.1, dropDelays=True):\n",
    "        # Initialize myData instance variable\n",
    "        self.myData = None\n",
    "        # Take care of NaN/None values\n",
    "        if cleaningOption == \"drop\":\n",
    "            self.myData = data.dropna()\n",
    "        elif cleaningOption == \"mean\":\n",
    "            self.myData = data.copy()\n",
    "            self.myData['DEPARTURE_DELAY'].fillna(data['DEPARTURE_DELAY'].mean(), inplace=True)\n",
    "            self.myData['SCHEDULED_TIME'].fillna(data['SCHEDULED_TIME'].mean(), inplace=True)\n",
    "            self.myData['ARRIVAL_DELAY'].fillna(data['ARRIVAL_DELAY'].mean(), inplace=True)\n",
    "        elif cleaningOption == \"median\":\n",
    "            self.myData = data.copy()\n",
    "            self.myData['DEPARTURE_DELAY'].fillna(data['DEPARTURE_DELAY'].median(), inplace=True)\n",
    "            self.myData['SCHEDULED_TIME'].fillna(data['SCHEDULED_TIME'].median(), inplace=True)\n",
    "            self.myData['ARRIVAL_DELAY'].fillna(data['ARRIVAL_DELAY'].median(), inplace=True)\n",
    "        # Sample data\n",
    "        self.sampleData(sampleFraction)\n",
    "        # Drop delay amounts broken down by the 5 different categories\n",
    "        if dropDelays:\n",
    "            self.dropDelayColumns()\n",
    "        # Encode DAY_OF_WEEK, AIRLINE, and CANCELLATION_REASON using one-hot encoding\n",
    "        self.encodeUsingOneHot()\n",
    "        # Create a binary target named ARRIVAL_DELAY_BIN: 1 if ARRIVAL_DELAY > 0; 0 otherwise\n",
    "        self.createBinaryTarget()\n",
    "        \n",
    "        print(self.myData.shape)\n",
    "    def sampleData(self, sampleFraction):\n",
    "        self.myData = self.myData.sample(frac=sampleFraction, replace=False)\n",
    "        # TODO: Double check whether the index should be reset\n",
    "        self.myData = self.myData.reset_index()\n",
    "        self.myData = self.myData.drop(['index'], axis=1)\n",
    "    def encodeUsingOneHot(self):\n",
    "        self.myData = pd.get_dummies(self.myData, columns=['DAY_OF_WEEK', 'AIRLINE', 'CANCELLATION_REASON'], \n",
    "                                     drop_first=True)\n",
    "    def dropDelayColumns(self):\n",
    "        colsToDrop = ['AIR_SYSTEM_DELAY', 'SECURITY_DELAY', 'AIRLINE_DELAY', \n",
    "                      'LATE_AIRCRAFT_DELAY', 'WEATHER_DELAY']\n",
    "        self.myData.drop(colsToDrop, axis=1, inplace=True)\n",
    "    def createBinaryTarget(self):\n",
    "        binaryTarget = self.myData['ARRIVAL_DELAY'].apply(delayTimeToDummy)\n",
    "        self.myData['ARRIVAL_DELAY_BIN'] = binaryTarget\n",
    "    def encodeAirports(self):\n",
    "        pass"
   ]
  },
  {
   "cell_type": "markdown",
   "metadata": {},
   "source": [
    "We show the NaN/None values for the original dataset for comparison."
   ]
  },
  {
   "cell_type": "code",
   "execution_count": 28,
   "metadata": {},
   "outputs": [
    {
     "data": {
      "text/plain": [
       "DAY_OF_YEAR                 0\n",
       "DAY_OF_WEEK                 0\n",
       "AIRLINE                     0\n",
       "ORIGIN_AIRPORT              0\n",
       "DESTINATION_AIRPORT         0\n",
       "SCHEDULED_DEPARTURE         0\n",
       "DEPARTURE_DELAY         86153\n",
       "SCHEDULED_TIME              6\n",
       "DISTANCE                    0\n",
       "SCHEDULED_ARRIVAL           0\n",
       "ARRIVAL_DELAY          105071\n",
       "DIVERTED                    0\n",
       "CANCELLED                   0\n",
       "CANCELLATION_REASON         0\n",
       "AIR_SYSTEM_DELAY            0\n",
       "SECURITY_DELAY              0\n",
       "AIRLINE_DELAY               0\n",
       "LATE_AIRCRAFT_DELAY         0\n",
       "WEATHER_DELAY               0\n",
       "dtype: int64"
      ]
     },
     "execution_count": 28,
     "metadata": {},
     "output_type": "execute_result"
    }
   ],
   "source": [
    "missing_values = data.isnull().sum(axis=0)\n",
    "missing_values"
   ]
  },
  {
   "cell_type": "code",
   "execution_count": 29,
   "metadata": {},
   "outputs": [
    {
     "name": "stdout",
     "output_type": "stream",
     "text": [
      "(581908, 35)\n"
     ]
    }
   ],
   "source": [
    "ds1 = DataSet(cleaningOption=\"mean\", sampleFraction=0.1, dropDelays=True)"
   ]
  },
  {
   "cell_type": "code",
   "execution_count": 30,
   "metadata": {},
   "outputs": [
    {
     "data": {
      "text/plain": [
       "DAY_OF_YEAR              0\n",
       "ORIGIN_AIRPORT           0\n",
       "DESTINATION_AIRPORT      0\n",
       "SCHEDULED_DEPARTURE      0\n",
       "DEPARTURE_DELAY          0\n",
       "SCHEDULED_TIME           0\n",
       "DISTANCE                 0\n",
       "SCHEDULED_ARRIVAL        0\n",
       "ARRIVAL_DELAY            0\n",
       "DIVERTED                 0\n",
       "CANCELLED                0\n",
       "DAY_OF_WEEK_2            0\n",
       "DAY_OF_WEEK_3            0\n",
       "DAY_OF_WEEK_4            0\n",
       "DAY_OF_WEEK_5            0\n",
       "DAY_OF_WEEK_6            0\n",
       "DAY_OF_WEEK_7            0\n",
       "AIRLINE_AS               0\n",
       "AIRLINE_B6               0\n",
       "AIRLINE_DL               0\n",
       "AIRLINE_EV               0\n",
       "AIRLINE_F9               0\n",
       "AIRLINE_HA               0\n",
       "AIRLINE_MQ               0\n",
       "AIRLINE_NK               0\n",
       "AIRLINE_OO               0\n",
       "AIRLINE_UA               0\n",
       "AIRLINE_US               0\n",
       "AIRLINE_VX               0\n",
       "AIRLINE_WN               0\n",
       "CANCELLATION_REASON_A    0\n",
       "CANCELLATION_REASON_B    0\n",
       "CANCELLATION_REASON_C    0\n",
       "CANCELLATION_REASON_D    0\n",
       "ARRIVAL_DELAY_BIN        0\n",
       "dtype: int64"
      ]
     },
     "execution_count": 30,
     "metadata": {},
     "output_type": "execute_result"
    }
   ],
   "source": [
    "ds1_missing_values = ds1.myData.isnull().sum(axis=0)\n",
    "ds1_missing_values"
   ]
  },
  {
   "cell_type": "markdown",
   "metadata": {},
   "source": [
    "**TODO:** ORIGIN_AIRPORT, DESTINATION_AIRPORT, and DAY_OF_YEAR still need to be encoded to be used in a model. \n",
    "\n",
    "To accomplish the task above, we can use the weight of evidence (WOE) measure described [here](https://www.kdnuggets.com/2016/08/include-high-cardinality-attributes-predictive-model.html) and [here](https://pkghosh.wordpress.com/2017/10/09/combating-high-cardinality-features-in-supervised-machine-learning/). It is well-suited to high-cardinality categorical variables (i.e. those with many options). To assist with this task, I created the ARRIVAL_DELAY_BIN target variable.\n",
    "\n",
    "A simpler option is to drop ORIGIN_AIRPORT/DESTINATION_AIRPORT, and simply use DAY_OF_YEAR as is. It is uncertain how much error doing so will introduce."
   ]
  },
  {
   "cell_type": "markdown",
   "metadata": {},
   "source": [
    "**TODO:** Depending on the model, certain features will need to be scaled. \n",
    "\n",
    "Here are some resources to help us decide how/why to do so:\n",
    "\n",
    "* https://stats.stackexchange.com/questions/244507/what-algorithms-need-feature-scaling-beside-from-svm)\n",
    "\n",
    "* https://stats.stackexchange.com/questions/539/does-it-ever-make-sense-to-treat-categorical-data-as-continuous"
   ]
  },
  {
   "cell_type": "code",
   "execution_count": 31,
   "metadata": {
    "collapsed": true
   },
   "outputs": [],
   "source": [
    "ds1.myData.to_csv('cleaned_and_sampled_flights_v2.csv', index=False)"
   ]
  }
 ],
 "metadata": {
  "kernelspec": {
   "display_name": "Python 3",
   "language": "python",
   "name": "python3"
  },
  "language_info": {
   "codemirror_mode": {
    "name": "ipython",
    "version": 3
   },
   "file_extension": ".py",
   "mimetype": "text/x-python",
   "name": "python",
   "nbconvert_exporter": "python",
   "pygments_lexer": "ipython3",
   "version": "3.6.3"
  }
 },
 "nbformat": 4,
 "nbformat_minor": 2
}
