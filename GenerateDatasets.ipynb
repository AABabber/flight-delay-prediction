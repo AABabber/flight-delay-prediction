{
 "cells": [
  {
   "cell_type": "markdown",
   "metadata": {},
   "source": [
    "**NOTE:** Many of these cells rely on earlier ones. As such, you should only execute a cell once all previous ones have finished running."
   ]
  },
  {
   "cell_type": "code",
   "execution_count": 18,
   "metadata": {
    "collapsed": true
   },
   "outputs": [],
   "source": [
    "import datetime, warnings, scipy \n",
    "import pandas as pd\n",
    "import numpy as np\n",
    "import math\n",
    "import seaborn as sns\n",
    "from sklearn.model_selection import train_test_split\n",
    "import matplotlib.pyplot as plt\n",
    "%matplotlib inline\n",
    "warnings.filterwarnings(\"ignore\")"
   ]
  },
  {
   "cell_type": "code",
   "execution_count": 19,
   "metadata": {},
   "outputs": [
    {
     "name": "stdout",
     "output_type": "stream",
     "text": [
      "(5819079, 31)\n"
     ]
    }
   ],
   "source": [
    "data = pd.read_csv(\"flights.csv\", low_memory=False)\n",
    "print(data.shape)"
   ]
  },
  {
   "cell_type": "code",
   "execution_count": 20,
   "metadata": {
    "collapsed": true
   },
   "outputs": [],
   "source": [
    "# Note: Aaron changed the entry for key = 4 from 60 to 90.\n",
    "monthToDaysDict = {1: 0, 2: 31, 3: 59, 4: 90, 5: 120, 6: 151, 7: 181, 8: 212, \n",
    "                   9: 243, 10: 273, 11: 304, 12: 334}\n",
    "def monthToDays(month):\n",
    "    return monthToDaysDict[month]\n",
    "\n",
    "# Remove the following features: \n",
    "# YEAR, FLIGHT_NUMBER, TAIL_NUMBER, DEPARTURE_TIME, TAXI_OUT, \n",
    "# WHEELS_OFF, ELAPSED_TIME, AIR_TIME, WHEELS_ON, TAXI_IN, and ARRIVAL_TIME\n",
    "data = data.drop(['YEAR', 'FLIGHT_NUMBER', 'TAIL_NUMBER', 'DEPARTURE_TIME', \n",
    "                  'TAXI_OUT', 'WHEELS_OFF', 'ELAPSED_TIME', 'AIR_TIME', 'WHEELS_ON', \n",
    "                  'TAXI_IN', 'ARRIVAL_TIME'], 1)\n",
    "\n",
    "# Convert MONTH -> # of days before a month\n",
    "data['MONTH'] = data['MONTH'].apply(monthToDays)\n",
    "\n",
    "# Convert MONTH + DAYS -> DAY_OF_YEAR\n",
    "data['DAY'] = data['DAY'] + data['MONTH']\n",
    "data.rename(columns={'DAY': 'DAY_OF_YEAR'}, inplace=True)\n",
    "data = data.drop(\"MONTH\", 1)"
   ]
  },
  {
   "cell_type": "code",
   "execution_count": 21,
   "metadata": {},
   "outputs": [
    {
     "data": {
      "text/html": [
       "<div>\n",
       "<style>\n",
       "    .dataframe thead tr:only-child th {\n",
       "        text-align: right;\n",
       "    }\n",
       "\n",
       "    .dataframe thead th {\n",
       "        text-align: left;\n",
       "    }\n",
       "\n",
       "    .dataframe tbody tr th {\n",
       "        vertical-align: top;\n",
       "    }\n",
       "</style>\n",
       "<table border=\"1\" class=\"dataframe\">\n",
       "  <thead>\n",
       "    <tr style=\"text-align: right;\">\n",
       "      <th></th>\n",
       "      <th>DAY_OF_YEAR</th>\n",
       "      <th>DAY_OF_WEEK</th>\n",
       "      <th>AIRLINE</th>\n",
       "      <th>ORIGIN_AIRPORT</th>\n",
       "      <th>DESTINATION_AIRPORT</th>\n",
       "      <th>SCHEDULED_DEPARTURE</th>\n",
       "      <th>DEPARTURE_DELAY</th>\n",
       "      <th>SCHEDULED_TIME</th>\n",
       "      <th>DISTANCE</th>\n",
       "      <th>SCHEDULED_ARRIVAL</th>\n",
       "      <th>ARRIVAL_DELAY</th>\n",
       "      <th>DIVERTED</th>\n",
       "      <th>CANCELLED</th>\n",
       "      <th>CANCELLATION_REASON</th>\n",
       "      <th>AIR_SYSTEM_DELAY</th>\n",
       "      <th>SECURITY_DELAY</th>\n",
       "      <th>AIRLINE_DELAY</th>\n",
       "      <th>LATE_AIRCRAFT_DELAY</th>\n",
       "      <th>WEATHER_DELAY</th>\n",
       "    </tr>\n",
       "  </thead>\n",
       "  <tbody>\n",
       "    <tr>\n",
       "      <th>0</th>\n",
       "      <td>1</td>\n",
       "      <td>4</td>\n",
       "      <td>AS</td>\n",
       "      <td>ANC</td>\n",
       "      <td>SEA</td>\n",
       "      <td>5</td>\n",
       "      <td>-11.0</td>\n",
       "      <td>205.0</td>\n",
       "      <td>1448</td>\n",
       "      <td>430</td>\n",
       "      <td>-22.0</td>\n",
       "      <td>0</td>\n",
       "      <td>0</td>\n",
       "      <td>NaN</td>\n",
       "      <td>NaN</td>\n",
       "      <td>NaN</td>\n",
       "      <td>NaN</td>\n",
       "      <td>NaN</td>\n",
       "      <td>NaN</td>\n",
       "    </tr>\n",
       "    <tr>\n",
       "      <th>1</th>\n",
       "      <td>1</td>\n",
       "      <td>4</td>\n",
       "      <td>AA</td>\n",
       "      <td>LAX</td>\n",
       "      <td>PBI</td>\n",
       "      <td>10</td>\n",
       "      <td>-8.0</td>\n",
       "      <td>280.0</td>\n",
       "      <td>2330</td>\n",
       "      <td>750</td>\n",
       "      <td>-9.0</td>\n",
       "      <td>0</td>\n",
       "      <td>0</td>\n",
       "      <td>NaN</td>\n",
       "      <td>NaN</td>\n",
       "      <td>NaN</td>\n",
       "      <td>NaN</td>\n",
       "      <td>NaN</td>\n",
       "      <td>NaN</td>\n",
       "    </tr>\n",
       "    <tr>\n",
       "      <th>2</th>\n",
       "      <td>1</td>\n",
       "      <td>4</td>\n",
       "      <td>US</td>\n",
       "      <td>SFO</td>\n",
       "      <td>CLT</td>\n",
       "      <td>20</td>\n",
       "      <td>-2.0</td>\n",
       "      <td>286.0</td>\n",
       "      <td>2296</td>\n",
       "      <td>806</td>\n",
       "      <td>5.0</td>\n",
       "      <td>0</td>\n",
       "      <td>0</td>\n",
       "      <td>NaN</td>\n",
       "      <td>NaN</td>\n",
       "      <td>NaN</td>\n",
       "      <td>NaN</td>\n",
       "      <td>NaN</td>\n",
       "      <td>NaN</td>\n",
       "    </tr>\n",
       "    <tr>\n",
       "      <th>3</th>\n",
       "      <td>1</td>\n",
       "      <td>4</td>\n",
       "      <td>AA</td>\n",
       "      <td>LAX</td>\n",
       "      <td>MIA</td>\n",
       "      <td>20</td>\n",
       "      <td>-5.0</td>\n",
       "      <td>285.0</td>\n",
       "      <td>2342</td>\n",
       "      <td>805</td>\n",
       "      <td>-9.0</td>\n",
       "      <td>0</td>\n",
       "      <td>0</td>\n",
       "      <td>NaN</td>\n",
       "      <td>NaN</td>\n",
       "      <td>NaN</td>\n",
       "      <td>NaN</td>\n",
       "      <td>NaN</td>\n",
       "      <td>NaN</td>\n",
       "    </tr>\n",
       "    <tr>\n",
       "      <th>4</th>\n",
       "      <td>1</td>\n",
       "      <td>4</td>\n",
       "      <td>AS</td>\n",
       "      <td>SEA</td>\n",
       "      <td>ANC</td>\n",
       "      <td>25</td>\n",
       "      <td>-1.0</td>\n",
       "      <td>235.0</td>\n",
       "      <td>1448</td>\n",
       "      <td>320</td>\n",
       "      <td>-21.0</td>\n",
       "      <td>0</td>\n",
       "      <td>0</td>\n",
       "      <td>NaN</td>\n",
       "      <td>NaN</td>\n",
       "      <td>NaN</td>\n",
       "      <td>NaN</td>\n",
       "      <td>NaN</td>\n",
       "      <td>NaN</td>\n",
       "    </tr>\n",
       "  </tbody>\n",
       "</table>\n",
       "</div>"
      ],
      "text/plain": [
       "   DAY_OF_YEAR  DAY_OF_WEEK AIRLINE ORIGIN_AIRPORT DESTINATION_AIRPORT  \\\n",
       "0            1            4      AS            ANC                 SEA   \n",
       "1            1            4      AA            LAX                 PBI   \n",
       "2            1            4      US            SFO                 CLT   \n",
       "3            1            4      AA            LAX                 MIA   \n",
       "4            1            4      AS            SEA                 ANC   \n",
       "\n",
       "   SCHEDULED_DEPARTURE  DEPARTURE_DELAY  SCHEDULED_TIME  DISTANCE  \\\n",
       "0                    5            -11.0           205.0      1448   \n",
       "1                   10             -8.0           280.0      2330   \n",
       "2                   20             -2.0           286.0      2296   \n",
       "3                   20             -5.0           285.0      2342   \n",
       "4                   25             -1.0           235.0      1448   \n",
       "\n",
       "   SCHEDULED_ARRIVAL  ARRIVAL_DELAY  DIVERTED  CANCELLED CANCELLATION_REASON  \\\n",
       "0                430          -22.0         0          0                 NaN   \n",
       "1                750           -9.0         0          0                 NaN   \n",
       "2                806            5.0         0          0                 NaN   \n",
       "3                805           -9.0         0          0                 NaN   \n",
       "4                320          -21.0         0          0                 NaN   \n",
       "\n",
       "   AIR_SYSTEM_DELAY  SECURITY_DELAY  AIRLINE_DELAY  LATE_AIRCRAFT_DELAY  \\\n",
       "0               NaN             NaN            NaN                  NaN   \n",
       "1               NaN             NaN            NaN                  NaN   \n",
       "2               NaN             NaN            NaN                  NaN   \n",
       "3               NaN             NaN            NaN                  NaN   \n",
       "4               NaN             NaN            NaN                  NaN   \n",
       "\n",
       "   WEATHER_DELAY  \n",
       "0            NaN  \n",
       "1            NaN  \n",
       "2            NaN  \n",
       "3            NaN  \n",
       "4            NaN  "
      ]
     },
     "execution_count": 21,
     "metadata": {},
     "output_type": "execute_result"
    }
   ],
   "source": [
    "data.head()"
   ]
  },
  {
   "cell_type": "markdown",
   "metadata": {},
   "source": [
    "**The code below cleans the AIR_SYSTEM_DELAY, SECURITY_DELAY, AIRLINE_DELAY, LATE_AIRCRAFT_DELAY, and WEATHER_DELAY features.**"
   ]
  },
  {
   "cell_type": "code",
   "execution_count": 22,
   "metadata": {},
   "outputs": [
    {
     "name": "stdout",
     "output_type": "stream",
     "text": [
      "Transforming delay columns complete!\n"
     ]
    }
   ],
   "source": [
    "def notANumberToZero(delay):\n",
    "    if (math.isnan(delay)):\n",
    "        return 0\n",
    "    else:\n",
    "        return delay\n",
    "    \n",
    "data['AIR_SYSTEM_DELAY'] = data['AIR_SYSTEM_DELAY'].apply(notANumberToZero)\n",
    "data['SECURITY_DELAY'] = data['SECURITY_DELAY'].apply(notANumberToZero)\n",
    "data['AIRLINE_DELAY'] = data['AIRLINE_DELAY'].apply(notANumberToZero)\n",
    "data['LATE_AIRCRAFT_DELAY'] = data['LATE_AIRCRAFT_DELAY'].apply(notANumberToZero)\n",
    "data['WEATHER_DELAY'] = data['WEATHER_DELAY'].apply(notANumberToZero)\n",
    "\n",
    "print(\"Transforming delay columns complete!\")"
   ]
  },
  {
   "cell_type": "code",
   "execution_count": 23,
   "metadata": {},
   "outputs": [
    {
     "data": {
      "text/html": [
       "<div>\n",
       "<style>\n",
       "    .dataframe thead tr:only-child th {\n",
       "        text-align: right;\n",
       "    }\n",
       "\n",
       "    .dataframe thead th {\n",
       "        text-align: left;\n",
       "    }\n",
       "\n",
       "    .dataframe tbody tr th {\n",
       "        vertical-align: top;\n",
       "    }\n",
       "</style>\n",
       "<table border=\"1\" class=\"dataframe\">\n",
       "  <thead>\n",
       "    <tr style=\"text-align: right;\">\n",
       "      <th></th>\n",
       "      <th>DAY_OF_YEAR</th>\n",
       "      <th>DAY_OF_WEEK</th>\n",
       "      <th>AIRLINE</th>\n",
       "      <th>ORIGIN_AIRPORT</th>\n",
       "      <th>DESTINATION_AIRPORT</th>\n",
       "      <th>SCHEDULED_DEPARTURE</th>\n",
       "      <th>DEPARTURE_DELAY</th>\n",
       "      <th>SCHEDULED_TIME</th>\n",
       "      <th>DISTANCE</th>\n",
       "      <th>SCHEDULED_ARRIVAL</th>\n",
       "      <th>ARRIVAL_DELAY</th>\n",
       "      <th>DIVERTED</th>\n",
       "      <th>CANCELLED</th>\n",
       "      <th>CANCELLATION_REASON</th>\n",
       "      <th>AIR_SYSTEM_DELAY</th>\n",
       "      <th>SECURITY_DELAY</th>\n",
       "      <th>AIRLINE_DELAY</th>\n",
       "      <th>LATE_AIRCRAFT_DELAY</th>\n",
       "      <th>WEATHER_DELAY</th>\n",
       "    </tr>\n",
       "  </thead>\n",
       "  <tbody>\n",
       "    <tr>\n",
       "      <th>50000</th>\n",
       "      <td>4</td>\n",
       "      <td>7</td>\n",
       "      <td>DL</td>\n",
       "      <td>JAX</td>\n",
       "      <td>ATL</td>\n",
       "      <td>915</td>\n",
       "      <td>23.0</td>\n",
       "      <td>75.0</td>\n",
       "      <td>270</td>\n",
       "      <td>1030</td>\n",
       "      <td>26.0</td>\n",
       "      <td>0</td>\n",
       "      <td>0</td>\n",
       "      <td>NaN</td>\n",
       "      <td>26.0</td>\n",
       "      <td>0.0</td>\n",
       "      <td>0.0</td>\n",
       "      <td>0.0</td>\n",
       "      <td>0.0</td>\n",
       "    </tr>\n",
       "    <tr>\n",
       "      <th>50001</th>\n",
       "      <td>4</td>\n",
       "      <td>7</td>\n",
       "      <td>DL</td>\n",
       "      <td>MSP</td>\n",
       "      <td>SNA</td>\n",
       "      <td>915</td>\n",
       "      <td>109.0</td>\n",
       "      <td>246.0</td>\n",
       "      <td>1522</td>\n",
       "      <td>1121</td>\n",
       "      <td>83.0</td>\n",
       "      <td>0</td>\n",
       "      <td>0</td>\n",
       "      <td>NaN</td>\n",
       "      <td>0.0</td>\n",
       "      <td>0.0</td>\n",
       "      <td>83.0</td>\n",
       "      <td>0.0</td>\n",
       "      <td>0.0</td>\n",
       "    </tr>\n",
       "    <tr>\n",
       "      <th>50002</th>\n",
       "      <td>4</td>\n",
       "      <td>7</td>\n",
       "      <td>DL</td>\n",
       "      <td>MSP</td>\n",
       "      <td>PDX</td>\n",
       "      <td>915</td>\n",
       "      <td>0.0</td>\n",
       "      <td>242.0</td>\n",
       "      <td>1426</td>\n",
       "      <td>1117</td>\n",
       "      <td>-6.0</td>\n",
       "      <td>0</td>\n",
       "      <td>0</td>\n",
       "      <td>NaN</td>\n",
       "      <td>0.0</td>\n",
       "      <td>0.0</td>\n",
       "      <td>0.0</td>\n",
       "      <td>0.0</td>\n",
       "      <td>0.0</td>\n",
       "    </tr>\n",
       "    <tr>\n",
       "      <th>50003</th>\n",
       "      <td>4</td>\n",
       "      <td>7</td>\n",
       "      <td>DL</td>\n",
       "      <td>ATL</td>\n",
       "      <td>SRQ</td>\n",
       "      <td>915</td>\n",
       "      <td>7.0</td>\n",
       "      <td>93.0</td>\n",
       "      <td>444</td>\n",
       "      <td>1048</td>\n",
       "      <td>8.0</td>\n",
       "      <td>0</td>\n",
       "      <td>0</td>\n",
       "      <td>NaN</td>\n",
       "      <td>0.0</td>\n",
       "      <td>0.0</td>\n",
       "      <td>0.0</td>\n",
       "      <td>0.0</td>\n",
       "      <td>0.0</td>\n",
       "    </tr>\n",
       "    <tr>\n",
       "      <th>50004</th>\n",
       "      <td>4</td>\n",
       "      <td>7</td>\n",
       "      <td>DL</td>\n",
       "      <td>MSP</td>\n",
       "      <td>SFO</td>\n",
       "      <td>915</td>\n",
       "      <td>-4.0</td>\n",
       "      <td>265.0</td>\n",
       "      <td>1589</td>\n",
       "      <td>1140</td>\n",
       "      <td>-24.0</td>\n",
       "      <td>0</td>\n",
       "      <td>0</td>\n",
       "      <td>NaN</td>\n",
       "      <td>0.0</td>\n",
       "      <td>0.0</td>\n",
       "      <td>0.0</td>\n",
       "      <td>0.0</td>\n",
       "      <td>0.0</td>\n",
       "    </tr>\n",
       "    <tr>\n",
       "      <th>50005</th>\n",
       "      <td>4</td>\n",
       "      <td>7</td>\n",
       "      <td>DL</td>\n",
       "      <td>DEN</td>\n",
       "      <td>ATL</td>\n",
       "      <td>915</td>\n",
       "      <td>0.0</td>\n",
       "      <td>178.0</td>\n",
       "      <td>1199</td>\n",
       "      <td>1413</td>\n",
       "      <td>-2.0</td>\n",
       "      <td>0</td>\n",
       "      <td>0</td>\n",
       "      <td>NaN</td>\n",
       "      <td>0.0</td>\n",
       "      <td>0.0</td>\n",
       "      <td>0.0</td>\n",
       "      <td>0.0</td>\n",
       "      <td>0.0</td>\n",
       "    </tr>\n",
       "    <tr>\n",
       "      <th>50006</th>\n",
       "      <td>4</td>\n",
       "      <td>7</td>\n",
       "      <td>EV</td>\n",
       "      <td>ATL</td>\n",
       "      <td>ECP</td>\n",
       "      <td>915</td>\n",
       "      <td>10.0</td>\n",
       "      <td>68.0</td>\n",
       "      <td>240</td>\n",
       "      <td>923</td>\n",
       "      <td>5.0</td>\n",
       "      <td>0</td>\n",
       "      <td>0</td>\n",
       "      <td>NaN</td>\n",
       "      <td>0.0</td>\n",
       "      <td>0.0</td>\n",
       "      <td>0.0</td>\n",
       "      <td>0.0</td>\n",
       "      <td>0.0</td>\n",
       "    </tr>\n",
       "    <tr>\n",
       "      <th>50007</th>\n",
       "      <td>4</td>\n",
       "      <td>7</td>\n",
       "      <td>EV</td>\n",
       "      <td>MOB</td>\n",
       "      <td>ATL</td>\n",
       "      <td>915</td>\n",
       "      <td>-1.0</td>\n",
       "      <td>69.0</td>\n",
       "      <td>302</td>\n",
       "      <td>1124</td>\n",
       "      <td>-3.0</td>\n",
       "      <td>0</td>\n",
       "      <td>0</td>\n",
       "      <td>NaN</td>\n",
       "      <td>0.0</td>\n",
       "      <td>0.0</td>\n",
       "      <td>0.0</td>\n",
       "      <td>0.0</td>\n",
       "      <td>0.0</td>\n",
       "    </tr>\n",
       "    <tr>\n",
       "      <th>50008</th>\n",
       "      <td>4</td>\n",
       "      <td>7</td>\n",
       "      <td>HA</td>\n",
       "      <td>HNL</td>\n",
       "      <td>LIH</td>\n",
       "      <td>915</td>\n",
       "      <td>-4.0</td>\n",
       "      <td>38.0</td>\n",
       "      <td>102</td>\n",
       "      <td>953</td>\n",
       "      <td>3.0</td>\n",
       "      <td>0</td>\n",
       "      <td>0</td>\n",
       "      <td>NaN</td>\n",
       "      <td>0.0</td>\n",
       "      <td>0.0</td>\n",
       "      <td>0.0</td>\n",
       "      <td>0.0</td>\n",
       "      <td>0.0</td>\n",
       "    </tr>\n",
       "    <tr>\n",
       "      <th>50009</th>\n",
       "      <td>4</td>\n",
       "      <td>7</td>\n",
       "      <td>MQ</td>\n",
       "      <td>DFW</td>\n",
       "      <td>PIA</td>\n",
       "      <td>915</td>\n",
       "      <td>-3.0</td>\n",
       "      <td>108.0</td>\n",
       "      <td>672</td>\n",
       "      <td>1103</td>\n",
       "      <td>11.0</td>\n",
       "      <td>0</td>\n",
       "      <td>0</td>\n",
       "      <td>NaN</td>\n",
       "      <td>0.0</td>\n",
       "      <td>0.0</td>\n",
       "      <td>0.0</td>\n",
       "      <td>0.0</td>\n",
       "      <td>0.0</td>\n",
       "    </tr>\n",
       "  </tbody>\n",
       "</table>\n",
       "</div>"
      ],
      "text/plain": [
       "       DAY_OF_YEAR  DAY_OF_WEEK AIRLINE ORIGIN_AIRPORT DESTINATION_AIRPORT  \\\n",
       "50000            4            7      DL            JAX                 ATL   \n",
       "50001            4            7      DL            MSP                 SNA   \n",
       "50002            4            7      DL            MSP                 PDX   \n",
       "50003            4            7      DL            ATL                 SRQ   \n",
       "50004            4            7      DL            MSP                 SFO   \n",
       "50005            4            7      DL            DEN                 ATL   \n",
       "50006            4            7      EV            ATL                 ECP   \n",
       "50007            4            7      EV            MOB                 ATL   \n",
       "50008            4            7      HA            HNL                 LIH   \n",
       "50009            4            7      MQ            DFW                 PIA   \n",
       "\n",
       "       SCHEDULED_DEPARTURE  DEPARTURE_DELAY  SCHEDULED_TIME  DISTANCE  \\\n",
       "50000                  915             23.0            75.0       270   \n",
       "50001                  915            109.0           246.0      1522   \n",
       "50002                  915              0.0           242.0      1426   \n",
       "50003                  915              7.0            93.0       444   \n",
       "50004                  915             -4.0           265.0      1589   \n",
       "50005                  915              0.0           178.0      1199   \n",
       "50006                  915             10.0            68.0       240   \n",
       "50007                  915             -1.0            69.0       302   \n",
       "50008                  915             -4.0            38.0       102   \n",
       "50009                  915             -3.0           108.0       672   \n",
       "\n",
       "       SCHEDULED_ARRIVAL  ARRIVAL_DELAY  DIVERTED  CANCELLED  \\\n",
       "50000               1030           26.0         0          0   \n",
       "50001               1121           83.0         0          0   \n",
       "50002               1117           -6.0         0          0   \n",
       "50003               1048            8.0         0          0   \n",
       "50004               1140          -24.0         0          0   \n",
       "50005               1413           -2.0         0          0   \n",
       "50006                923            5.0         0          0   \n",
       "50007               1124           -3.0         0          0   \n",
       "50008                953            3.0         0          0   \n",
       "50009               1103           11.0         0          0   \n",
       "\n",
       "      CANCELLATION_REASON  AIR_SYSTEM_DELAY  SECURITY_DELAY  AIRLINE_DELAY  \\\n",
       "50000                 NaN              26.0             0.0            0.0   \n",
       "50001                 NaN               0.0             0.0           83.0   \n",
       "50002                 NaN               0.0             0.0            0.0   \n",
       "50003                 NaN               0.0             0.0            0.0   \n",
       "50004                 NaN               0.0             0.0            0.0   \n",
       "50005                 NaN               0.0             0.0            0.0   \n",
       "50006                 NaN               0.0             0.0            0.0   \n",
       "50007                 NaN               0.0             0.0            0.0   \n",
       "50008                 NaN               0.0             0.0            0.0   \n",
       "50009                 NaN               0.0             0.0            0.0   \n",
       "\n",
       "       LATE_AIRCRAFT_DELAY  WEATHER_DELAY  \n",
       "50000                  0.0            0.0  \n",
       "50001                  0.0            0.0  \n",
       "50002                  0.0            0.0  \n",
       "50003                  0.0            0.0  \n",
       "50004                  0.0            0.0  \n",
       "50005                  0.0            0.0  \n",
       "50006                  0.0            0.0  \n",
       "50007                  0.0            0.0  \n",
       "50008                  0.0            0.0  \n",
       "50009                  0.0            0.0  "
      ]
     },
     "execution_count": 23,
     "metadata": {},
     "output_type": "execute_result"
    }
   ],
   "source": [
    "data.iloc[50000:50010]"
   ]
  },
  {
   "cell_type": "markdown",
   "metadata": {},
   "source": [
    "**The following code does 3 things to clean the data:**\n",
    "\n",
    "1) Replace the NaN values in CANCELLATION_REASON with empty strings\n",
    "\n",
    "2) Convert SCHEDULED_DEPARTURE to a numeric quantity ranging from 0 to 1440 representing the minutes in a day\n",
    "\n",
    "3) Do the same for SCHEDULED_ARRIVAL\n",
    "\n",
    "The reason we have to do the last two things is because SCHEDULED_DEPARTURE and SCHEDULED_ARRIVAL are floats which *actually* represent HHMM time values. We do not need to do the same for SCHEDULED_TIME as it represents estimated travel time in minutes."
   ]
  },
  {
   "cell_type": "code",
   "execution_count": 24,
   "metadata": {
    "collapsed": true
   },
   "outputs": [],
   "source": [
    "def hhmmFloatToMinutes(time):\n",
    "    timeString = \"{:04d}\".format(time)\n",
    "    hours = float(timeString[0:2])\n",
    "    minutes = float(timeString[2:4])\n",
    "    totalMinutes = (hours * 60) + minutes\n",
    "    return totalMinutes"
   ]
  },
  {
   "cell_type": "markdown",
   "metadata": {},
   "source": [
    "**NOTE:** The cell below will take roughly 30 seconds to a minute to finish."
   ]
  },
  {
   "cell_type": "code",
   "execution_count": 25,
   "metadata": {
    "collapsed": true
   },
   "outputs": [],
   "source": [
    "data['CANCELLATION_REASON'] = data['CANCELLATION_REASON'].fillna('')\n",
    "data['SCHEDULED_DEPARTURE'] = data['SCHEDULED_DEPARTURE'].apply(hhmmFloatToMinutes)\n",
    "data['SCHEDULED_ARRIVAL'] = data['SCHEDULED_ARRIVAL'].apply(hhmmFloatToMinutes)"
   ]
  },
  {
   "cell_type": "markdown",
   "metadata": {},
   "source": [
    "missing_values will show how many NaN/None values are remaining in the dataset."
   ]
  },
  {
   "cell_type": "code",
   "execution_count": 26,
   "metadata": {},
   "outputs": [
    {
     "data": {
      "text/plain": [
       "DAY_OF_YEAR                 0\n",
       "DAY_OF_WEEK                 0\n",
       "AIRLINE                     0\n",
       "ORIGIN_AIRPORT              0\n",
       "DESTINATION_AIRPORT         0\n",
       "SCHEDULED_DEPARTURE         0\n",
       "DEPARTURE_DELAY         86153\n",
       "SCHEDULED_TIME              6\n",
       "DISTANCE                    0\n",
       "SCHEDULED_ARRIVAL           0\n",
       "ARRIVAL_DELAY          105071\n",
       "DIVERTED                    0\n",
       "CANCELLED                   0\n",
       "CANCELLATION_REASON         0\n",
       "AIR_SYSTEM_DELAY            0\n",
       "SECURITY_DELAY              0\n",
       "AIRLINE_DELAY               0\n",
       "LATE_AIRCRAFT_DELAY         0\n",
       "WEATHER_DELAY               0\n",
       "dtype: int64"
      ]
     },
     "execution_count": 26,
     "metadata": {},
     "output_type": "execute_result"
    }
   ],
   "source": [
    "missing_values = data.isnull().sum(axis=0)\n",
    "missing_values"
   ]
  },
  {
   "cell_type": "markdown",
   "metadata": {},
   "source": [
    " "
   ]
  },
  {
   "cell_type": "markdown",
   "metadata": {},
   "source": [
    "**There's an issue with the ORIGIN_AIRPORT and DESTINATION_AIRPORT features for October 2015. The problem is described in [this](https://www.kaggle.com/usdot/flight-delays/discussion/29600#latest-168452) post on Kaggle. The approach to fix it is drawn from [this](https://www.kaggle.com/srcole/fix-inconsistent-airport-codes) Kaggle kernel.** "
   ]
  },
  {
   "cell_type": "markdown",
   "metadata": {},
   "source": [
    "The datasets we're using to solve the conflict between the 5-digit airport codes and the 3-letter airport codes can be found in the comments of the kernel linked above."
   ]
  },
  {
   "cell_type": "code",
   "execution_count": 27,
   "metadata": {},
   "outputs": [
    {
     "data": {
      "text/plain": [
       "(6429, 2)"
      ]
     },
     "execution_count": 27,
     "metadata": {},
     "output_type": "execute_result"
    }
   ],
   "source": [
    "df_threeLetterCode = pd.read_csv('L_AIRPORT.csv')\n",
    "df_threeLetterCode.shape"
   ]
  },
  {
   "cell_type": "markdown",
   "metadata": {},
   "source": [
    "After much trial and error, I realized one issue was due to the AUS and YUM codes being replicated as BSM and NYL, respectively. We drop BSM and NYL as the flights.csv file doesn't use these codes."
   ]
  },
  {
   "cell_type": "code",
   "execution_count": 28,
   "metadata": {
    "collapsed": true
   },
   "outputs": [],
   "source": [
    "codesToDrop = ['BSM', 'NYL']\n",
    "df_threeLetterCode = df_threeLetterCode[~df_threeLetterCode['Code'].isin(codesToDrop)]\n",
    "threeLetterCodes = list(df_threeLetterCode['Code'])"
   ]
  },
  {
   "cell_type": "code",
   "execution_count": 29,
   "metadata": {},
   "outputs": [
    {
     "data": {
      "text/plain": [
       "(6414, 2)"
      ]
     },
     "execution_count": 29,
     "metadata": {},
     "output_type": "execute_result"
    }
   ],
   "source": [
    "df_fiveLetterCode = pd.read_csv('L_AIRPORT_ID.csv')\n",
    "df_fiveLetterCode.shape"
   ]
  },
  {
   "cell_type": "markdown",
   "metadata": {},
   "source": [
    "We set different indices for these two tables to avoid creating a new dictionary."
   ]
  },
  {
   "cell_type": "code",
   "execution_count": 30,
   "metadata": {
    "collapsed": true
   },
   "outputs": [],
   "source": [
    "df3 = df_threeLetterCode.set_index('Description')\n",
    "df5 = df_fiveLetterCode.set_index('Code')"
   ]
  },
  {
   "cell_type": "markdown",
   "metadata": {},
   "source": [
    "This DataFrame can be used to double-check the results of fixing the issue at hand. \n",
    "\n",
    "We can do so by running the apply method with testFixAirports, outputting countTest, and then comparing it to the shape of df_October."
   ]
  },
  {
   "cell_type": "code",
   "execution_count": 31,
   "metadata": {},
   "outputs": [
    {
     "data": {
      "text/plain": [
       "(486165, 2)"
      ]
     },
     "execution_count": 31,
     "metadata": {},
     "output_type": "execute_result"
    }
   ],
   "source": [
    "df_airports = data[['ORIGIN_AIRPORT', 'DESTINATION_AIRPORT']]\n",
    "df_October = df_airports.loc[~df_airports['ORIGIN_AIRPORT'].isin(threeLetterCodes) |\n",
    "                            ~df_airports['DESTINATION_AIRPORT'].isin(threeLetterCodes)]\n",
    "df_October.shape"
   ]
  },
  {
   "cell_type": "markdown",
   "metadata": {},
   "source": [
    "The testFixAirports function simply counts the number of 5-digit airport codes when passed to the apply method. There should be ~500k."
   ]
  },
  {
   "cell_type": "code",
   "execution_count": 32,
   "metadata": {
    "collapsed": true
   },
   "outputs": [],
   "source": [
    "countTest = 0\n",
    "nFlightsTest = 0\n",
    "def testFixAirports(airport):\n",
    "    global countTest\n",
    "    global nFlightsTest\n",
    "    nFlightsTest += 1\n",
    "    if len(airport) != 3:\n",
    "        countTest += 1\n",
    "    if nFlightsTest % 1000000 == 0:\n",
    "        print(nFlightsTest)"
   ]
  },
  {
   "cell_type": "markdown",
   "metadata": {},
   "source": [
    "The fixOctoberAirports function will create a DataFrame column where the 5-digit airport codes have been replaced by 3-letter airport codes (when passed to apply)."
   ]
  },
  {
   "cell_type": "code",
   "execution_count": 33,
   "metadata": {
    "collapsed": true
   },
   "outputs": [],
   "source": [
    "nFlights = 0\n",
    "def fixOctoberAirports(airport):\n",
    "    global nFlights\n",
    "    nFlights += 1\n",
    "    \n",
    "    if nFlights % 1000000 == 0:\n",
    "        print(nFlights)\n",
    "    \n",
    "    if len(airport) != 3:\n",
    "        index = int(airport)\n",
    "        descriptionAsKey = df5.loc[index]['Description']\n",
    "        newCode = df3.loc[descriptionAsKey]['Code']\n",
    "        return newCode\n",
    "    else:\n",
    "        return airport"
   ]
  },
  {
   "cell_type": "markdown",
   "metadata": {},
   "source": [
    "**NOTE:** The two cells below will take several minutes each to run. Specifically, after '4000000' is printed in the output, it will take several minutes to see '5000000'."
   ]
  },
  {
   "cell_type": "code",
   "execution_count": 34,
   "metadata": {},
   "outputs": [
    {
     "name": "stdout",
     "output_type": "stream",
     "text": [
      "1000000\n",
      "2000000\n",
      "3000000\n",
      "4000000\n",
      "5000000\n"
     ]
    }
   ],
   "source": [
    "fixed_origin_airport = data['ORIGIN_AIRPORT'].apply(fixOctoberAirports)"
   ]
  },
  {
   "cell_type": "code",
   "execution_count": 35,
   "metadata": {},
   "outputs": [
    {
     "name": "stdout",
     "output_type": "stream",
     "text": [
      "1000000\n",
      "2000000\n",
      "3000000\n",
      "4000000\n",
      "5000000\n"
     ]
    }
   ],
   "source": [
    "nFlights = 0\n",
    "fixed_dest_airport = data['DESTINATION_AIRPORT'].apply(fixOctoberAirports)"
   ]
  },
  {
   "cell_type": "code",
   "execution_count": 36,
   "metadata": {
    "collapsed": true
   },
   "outputs": [],
   "source": [
    "data['ORIGIN_AIRPORT'] = fixed_origin_airport\n",
    "data['DESTINATION_AIRPORT'] = fixed_dest_airport"
   ]
  },
  {
   "cell_type": "markdown",
   "metadata": {},
   "source": [
    "countTest should be 0 for both features now if everything worked correctly."
   ]
  },
  {
   "cell_type": "code",
   "execution_count": 37,
   "metadata": {},
   "outputs": [
    {
     "name": "stdout",
     "output_type": "stream",
     "text": [
      "1000000\n",
      "2000000\n",
      "3000000\n",
      "4000000\n",
      "5000000\n",
      "\n",
      "countTest: 0\n"
     ]
    }
   ],
   "source": [
    "countTest = 0\n",
    "nFlightsTest = 0\n",
    "data['ORIGIN_AIRPORT'].apply(testFixAirports)\n",
    "print()\n",
    "print(\"countTest:\", countTest)"
   ]
  },
  {
   "cell_type": "code",
   "execution_count": 38,
   "metadata": {},
   "outputs": [
    {
     "name": "stdout",
     "output_type": "stream",
     "text": [
      "1000000\n",
      "2000000\n",
      "3000000\n",
      "4000000\n",
      "5000000\n",
      "\n",
      "countTest: 0\n"
     ]
    }
   ],
   "source": [
    "countTest = 0\n",
    "nFlightsTest = 0\n",
    "data['DESTINATION_AIRPORT'].apply(testFixAirports)\n",
    "print()\n",
    "print(\"countTest:\", countTest)"
   ]
  },
  {
   "cell_type": "code",
   "execution_count": 39,
   "metadata": {
    "collapsed": true
   },
   "outputs": [],
   "source": [
    "# Changed to specify delay\n",
    "def delayTimeToDummy(delay, threshold):\n",
    "    if delay >= threshold:\n",
    "        return 1\n",
    "    else:\n",
    "        return 0\n",
    "\n",
    "# cleaningOption specifies how to handle NaN/None values.\n",
    "#     * \"drop\" = simply drop the NaN/None values\n",
    "#     * \"mean\" = use mean imputation to replace NaN/None values\n",
    "#     * \"median\" = use median imputation to replace NaN/None values\n",
    "#\n",
    "# sampleFraction specifies how much of the dataset to sample.\n",
    "# sample_n specifies how many samples to return\n",
    "# Note: ONLY ONE of the two parameters above should be used.\n",
    "#\n",
    "# dropCols specifies the columns to drop. It drops the 5 delay columns by default.\n",
    "class DataSet:\n",
    "    def __init__(self, cleaningOption=\"drop\", sampleFraction=0.1, sample_n=0, \n",
    "                 dropCols=['AIR_SYSTEM_DELAY', 'SECURITY_DELAY', 'AIRLINE_DELAY', \n",
    "                       'LATE_AIRCRAFT_DELAY', 'WEATHER_DELAY']):\n",
    "        # Initialize myData instance variable\n",
    "        self.myData = None\n",
    "        # Take care of NaN/None values\n",
    "        if cleaningOption == \"drop\":\n",
    "            self.myData = data.dropna()\n",
    "        elif cleaningOption == \"mean\":\n",
    "            self.myData = data.copy()\n",
    "            self.myData['DEPARTURE_DELAY'].fillna(data['DEPARTURE_DELAY'].mean(), inplace=True)\n",
    "            self.myData['SCHEDULED_TIME'].fillna(data['SCHEDULED_TIME'].mean(), inplace=True)\n",
    "            self.myData['ARRIVAL_DELAY'].fillna(data['ARRIVAL_DELAY'].mean(), inplace=True)\n",
    "        elif cleaningOption == \"median\":\n",
    "            self.myData = data.copy()\n",
    "            self.myData['DEPARTURE_DELAY'].fillna(data['DEPARTURE_DELAY'].median(), inplace=True)\n",
    "            self.myData['SCHEDULED_TIME'].fillna(data['SCHEDULED_TIME'].median(), inplace=True)\n",
    "            self.myData['ARRIVAL_DELAY'].fillna(data['ARRIVAL_DELAY'].median(), inplace=True)\n",
    "            \n",
    "        # Sample data\n",
    "        self.sampleData(sampleFraction, sample_n)\n",
    "        \n",
    "        # Drop columns\n",
    "        self.dropColumns(dropCols)\n",
    "        \n",
    "        # Create a binary target named ARRIVAL_DELAY_BIN: 1 if ARRIVAL_DELAY > 30; 0 otherwise\n",
    "        self.myData['ARRIVAL_DELAY_BIN_30'] = self.createBinaryTarget(30)\n",
    "        \n",
    "        print(self.myData.shape)\n",
    "        \n",
    "    def sampleData(self, sampleFraction, sample_n):\n",
    "        if sample_n > 0:\n",
    "            self.myData = self.myData.sample(n=sample_n, replace=False)\n",
    "        else:\n",
    "            self.myData = self.myData.sample(frac=sampleFraction, replace=False)\n",
    "        self.myData = self.myData.reset_index()\n",
    "        self.myData = self.myData.drop(['index'], axis=1)\n",
    "\n",
    "    def dropColumns(self, cols):\n",
    "        colsToDrop = cols\n",
    "        self.myData.drop(colsToDrop, axis=1, inplace=True)\n",
    "        \n",
    "    def createBinaryTarget(self, threshold):\n",
    "        binaryTarget = self.myData['ARRIVAL_DELAY'].apply(delayTimeToDummy, threshold = threshold)\n",
    "        return binaryTarget"
   ]
  },
  {
   "cell_type": "code",
   "execution_count": 96,
   "metadata": {
    "collapsed": true
   },
   "outputs": [],
   "source": [
    "def get_woe(column, dataframe):\n",
    "    print(column)\n",
    "    column_to_woe = dataframe[column].copy()\n",
    "    total_count = dataframe[column].value_counts()\n",
    "    tot_loop = total_count.shape[0]\n",
    "    p = np.float(dataframe[(dataframe.ARRIVAL_DELAY_BIN_30) == 1].shape[0])\n",
    "    n = dataframe.shape[0]-p\n",
    "    i = 0\n",
    "    for item in total_count.iteritems():\n",
    "        i += 1\n",
    "        # Edited for Mac and Python 3\n",
    "        # print('{0} of {1}\\n'.format(i, tot_loop))\n",
    "        pi = dataframe[(dataframe[column] == item[0]) & (dataframe.ARRIVAL_DELAY_BIN_30)].shape[0]\n",
    "        ni = np.float(item[1]-pi)\n",
    "        if pi == 0 or ni == 0:\n",
    "            WOE = float('nan')\n",
    "        else:\n",
    "            WOE = np.log((pi/p)/(ni/n))\n",
    "            \n",
    "        column_to_woe[column_to_woe == item[0]] = WOE\n",
    "    return column_to_woe.apply(pd.to_numeric)"
   ]
  },
  {
   "cell_type": "markdown",
   "metadata": {},
   "source": [
    "### Dataset 1"
   ]
  },
  {
   "cell_type": "code",
   "execution_count": 41,
   "metadata": {},
   "outputs": [
    {
     "name": "stdout",
     "output_type": "stream",
     "text": [
      "(25000, 14)\n"
     ]
    },
    {
     "data": {
      "text/html": [
       "<div>\n",
       "<style>\n",
       "    .dataframe thead tr:only-child th {\n",
       "        text-align: right;\n",
       "    }\n",
       "\n",
       "    .dataframe thead th {\n",
       "        text-align: left;\n",
       "    }\n",
       "\n",
       "    .dataframe tbody tr th {\n",
       "        vertical-align: top;\n",
       "    }\n",
       "</style>\n",
       "<table border=\"1\" class=\"dataframe\">\n",
       "  <thead>\n",
       "    <tr style=\"text-align: right;\">\n",
       "      <th></th>\n",
       "      <th>DAY_OF_YEAR</th>\n",
       "      <th>DAY_OF_WEEK</th>\n",
       "      <th>AIRLINE</th>\n",
       "      <th>ORIGIN_AIRPORT</th>\n",
       "      <th>DESTINATION_AIRPORT</th>\n",
       "      <th>SCHEDULED_DEPARTURE</th>\n",
       "      <th>DEPARTURE_DELAY</th>\n",
       "      <th>SCHEDULED_TIME</th>\n",
       "      <th>DISTANCE</th>\n",
       "      <th>SCHEDULED_ARRIVAL</th>\n",
       "      <th>ARRIVAL_DELAY</th>\n",
       "      <th>DIVERTED</th>\n",
       "      <th>CANCELLED</th>\n",
       "      <th>ARRIVAL_DELAY_BIN_30</th>\n",
       "    </tr>\n",
       "  </thead>\n",
       "  <tbody>\n",
       "    <tr>\n",
       "      <th>0</th>\n",
       "      <td>117</td>\n",
       "      <td>1</td>\n",
       "      <td>EV</td>\n",
       "      <td>ICT</td>\n",
       "      <td>ORD</td>\n",
       "      <td>1106.0</td>\n",
       "      <td>-9.0</td>\n",
       "      <td>113.0</td>\n",
       "      <td>588</td>\n",
       "      <td>1219.0</td>\n",
       "      <td>-13.0</td>\n",
       "      <td>0</td>\n",
       "      <td>0</td>\n",
       "      <td>0</td>\n",
       "    </tr>\n",
       "    <tr>\n",
       "      <th>1</th>\n",
       "      <td>111</td>\n",
       "      <td>2</td>\n",
       "      <td>WN</td>\n",
       "      <td>LAS</td>\n",
       "      <td>SFO</td>\n",
       "      <td>640.0</td>\n",
       "      <td>43.0</td>\n",
       "      <td>100.0</td>\n",
       "      <td>414</td>\n",
       "      <td>740.0</td>\n",
       "      <td>28.0</td>\n",
       "      <td>0</td>\n",
       "      <td>0</td>\n",
       "      <td>0</td>\n",
       "    </tr>\n",
       "    <tr>\n",
       "      <th>2</th>\n",
       "      <td>356</td>\n",
       "      <td>2</td>\n",
       "      <td>WN</td>\n",
       "      <td>BWI</td>\n",
       "      <td>ORF</td>\n",
       "      <td>975.0</td>\n",
       "      <td>17.0</td>\n",
       "      <td>55.0</td>\n",
       "      <td>159</td>\n",
       "      <td>1030.0</td>\n",
       "      <td>6.0</td>\n",
       "      <td>0</td>\n",
       "      <td>0</td>\n",
       "      <td>0</td>\n",
       "    </tr>\n",
       "    <tr>\n",
       "      <th>3</th>\n",
       "      <td>251</td>\n",
       "      <td>2</td>\n",
       "      <td>UA</td>\n",
       "      <td>IAH</td>\n",
       "      <td>LAX</td>\n",
       "      <td>1137.0</td>\n",
       "      <td>2.0</td>\n",
       "      <td>210.0</td>\n",
       "      <td>1379</td>\n",
       "      <td>1227.0</td>\n",
       "      <td>6.0</td>\n",
       "      <td>0</td>\n",
       "      <td>0</td>\n",
       "      <td>0</td>\n",
       "    </tr>\n",
       "    <tr>\n",
       "      <th>4</th>\n",
       "      <td>161</td>\n",
       "      <td>3</td>\n",
       "      <td>OO</td>\n",
       "      <td>MBS</td>\n",
       "      <td>ORD</td>\n",
       "      <td>766.0</td>\n",
       "      <td>-10.0</td>\n",
       "      <td>79.0</td>\n",
       "      <td>222</td>\n",
       "      <td>785.0</td>\n",
       "      <td>-18.0</td>\n",
       "      <td>0</td>\n",
       "      <td>0</td>\n",
       "      <td>0</td>\n",
       "    </tr>\n",
       "  </tbody>\n",
       "</table>\n",
       "</div>"
      ],
      "text/plain": [
       "   DAY_OF_YEAR  DAY_OF_WEEK AIRLINE ORIGIN_AIRPORT DESTINATION_AIRPORT  \\\n",
       "0          117            1      EV            ICT                 ORD   \n",
       "1          111            2      WN            LAS                 SFO   \n",
       "2          356            2      WN            BWI                 ORF   \n",
       "3          251            2      UA            IAH                 LAX   \n",
       "4          161            3      OO            MBS                 ORD   \n",
       "\n",
       "   SCHEDULED_DEPARTURE  DEPARTURE_DELAY  SCHEDULED_TIME  DISTANCE  \\\n",
       "0               1106.0             -9.0           113.0       588   \n",
       "1                640.0             43.0           100.0       414   \n",
       "2                975.0             17.0            55.0       159   \n",
       "3               1137.0              2.0           210.0      1379   \n",
       "4                766.0            -10.0            79.0       222   \n",
       "\n",
       "   SCHEDULED_ARRIVAL  ARRIVAL_DELAY  DIVERTED  CANCELLED  ARRIVAL_DELAY_BIN_30  \n",
       "0             1219.0          -13.0         0          0                     0  \n",
       "1              740.0           28.0         0          0                     0  \n",
       "2             1030.0            6.0         0          0                     0  \n",
       "3             1227.0            6.0         0          0                     0  \n",
       "4              785.0          -18.0         0          0                     0  "
      ]
     },
     "execution_count": 41,
     "metadata": {},
     "output_type": "execute_result"
    }
   ],
   "source": [
    "# The categorical (or nominal) variables in our dataset are: DAY_OF_WEEK, \n",
    "# AIRLINE, ORIGIN_AIRPORT, DESTINATION_AIRPORT, CANCELLATION_REASON, and DAY_OF_YEAR.\n",
    "dummy_columns = ['DAY_OF_YEAR', 'DAY_OF_WEEK', 'AIRLINE', 'ORIGIN_AIRPORT', \n",
    "                 'DESTINATION_AIRPORT']\n",
    "\n",
    "ds1 = DataSet(cleaningOption='drop', sample_n=25000, dropCols=['AIR_SYSTEM_DELAY', 'SECURITY_DELAY', 'AIRLINE_DELAY', \n",
    "                       'LATE_AIRCRAFT_DELAY', 'WEATHER_DELAY', 'CANCELLATION_REASON'])\n",
    "data1 = ds1.myData\n",
    "data1.head()"
   ]
  },
  {
   "cell_type": "code",
   "execution_count": 44,
   "metadata": {
    "collapsed": true
   },
   "outputs": [],
   "source": [
    "# data1_missing_values = data1.isnull().sum(axis=0)\n",
    "# data1_missing_values"
   ]
  },
  {
   "cell_type": "code",
   "execution_count": 45,
   "metadata": {},
   "outputs": [
    {
     "data": {
      "text/plain": [
       "(25000, 1003)"
      ]
     },
     "execution_count": 45,
     "metadata": {},
     "output_type": "execute_result"
    }
   ],
   "source": [
    "data1 = pd.get_dummies(data1, columns=dummy_columns, drop_first=True)\n",
    "data1.shape"
   ]
  },
  {
   "cell_type": "code",
   "execution_count": 46,
   "metadata": {},
   "outputs": [
    {
     "name": "stdout",
     "output_type": "stream",
     "text": [
      "(25000, 998) (25000,)\n"
     ]
    }
   ],
   "source": [
    "X1 = data1.drop(['DEPARTURE_DELAY', 'ARRIVAL_DELAY', 'DIVERTED', 'CANCELLED', 'ARRIVAL_DELAY_BIN_30'], axis=1)\n",
    "y1 = data1['ARRIVAL_DELAY_BIN_30']\n",
    "print(X1.shape, y1.shape)"
   ]
  },
  {
   "cell_type": "code",
   "execution_count": 48,
   "metadata": {},
   "outputs": [
    {
     "name": "stdout",
     "output_type": "stream",
     "text": [
      "(16750, 998) (8250, 998) (16750,) (8250,)\n"
     ]
    }
   ],
   "source": [
    "X_train_1, X_test_1, y_train_1, y_test_1 = train_test_split(X1, y1, test_size=0.33, random_state=42)\n",
    "print(X_train_1.shape, X_test_1.shape, y_train_1.shape, y_test_1.shape)"
   ]
  },
  {
   "cell_type": "code",
   "execution_count": 49,
   "metadata": {
    "collapsed": true
   },
   "outputs": [],
   "source": [
    "X_train_1.to_csv('datasets/1_X_train.csv', index=False)\n",
    "X_test_1.to_csv('datasets/1_X_test.csv', index=False)\n",
    "y_train_1.to_csv('datasets/1_y_train.csv', index=False)\n",
    "y_test_1.to_csv('datasets/1_y_test.csv', index=False)"
   ]
  },
  {
   "cell_type": "markdown",
   "metadata": {},
   "source": [
    "### Dataset 2"
   ]
  },
  {
   "cell_type": "code",
   "execution_count": 50,
   "metadata": {},
   "outputs": [
    {
     "name": "stdout",
     "output_type": "stream",
     "text": [
      "(25000, 14)\n"
     ]
    }
   ],
   "source": [
    "ds2 = DataSet(cleaningOption='mean', sample_n=25000, dropCols=['AIR_SYSTEM_DELAY', 'SECURITY_DELAY', 'AIRLINE_DELAY', \n",
    "                       'LATE_AIRCRAFT_DELAY', 'WEATHER_DELAY', 'CANCELLATION_REASON'])"
   ]
  },
  {
   "cell_type": "code",
   "execution_count": 51,
   "metadata": {},
   "outputs": [
    {
     "data": {
      "text/plain": [
       "DAY_OF_YEAR             0\n",
       "DAY_OF_WEEK             0\n",
       "AIRLINE                 0\n",
       "ORIGIN_AIRPORT          0\n",
       "DESTINATION_AIRPORT     0\n",
       "SCHEDULED_DEPARTURE     0\n",
       "DEPARTURE_DELAY         0\n",
       "SCHEDULED_TIME          0\n",
       "DISTANCE                0\n",
       "SCHEDULED_ARRIVAL       0\n",
       "ARRIVAL_DELAY           0\n",
       "DIVERTED                0\n",
       "CANCELLED               0\n",
       "ARRIVAL_DELAY_BIN_30    0\n",
       "dtype: int64"
      ]
     },
     "execution_count": 51,
     "metadata": {},
     "output_type": "execute_result"
    }
   ],
   "source": [
    "data2 = ds2.myData\n",
    "data2_missing_values = data2.isnull().sum(axis=0)\n",
    "data2_missing_values"
   ]
  },
  {
   "cell_type": "code",
   "execution_count": 52,
   "metadata": {},
   "outputs": [
    {
     "data": {
      "text/plain": [
       "(25000, 1003)"
      ]
     },
     "execution_count": 52,
     "metadata": {},
     "output_type": "execute_result"
    }
   ],
   "source": [
    "data2 = pd.get_dummies(data2, columns=dummy_columns, drop_first=True)\n",
    "data2.shape"
   ]
  },
  {
   "cell_type": "code",
   "execution_count": 53,
   "metadata": {},
   "outputs": [
    {
     "name": "stdout",
     "output_type": "stream",
     "text": [
      "(25000, 998) (25000,)\n"
     ]
    }
   ],
   "source": [
    "X2 = data2.drop(['DEPARTURE_DELAY', 'ARRIVAL_DELAY', 'DIVERTED', 'CANCELLED', 'ARRIVAL_DELAY_BIN_30'], axis=1)\n",
    "y2 = data2['ARRIVAL_DELAY_BIN_30']\n",
    "print(X2.shape, y2.shape)"
   ]
  },
  {
   "cell_type": "code",
   "execution_count": 54,
   "metadata": {},
   "outputs": [
    {
     "name": "stdout",
     "output_type": "stream",
     "text": [
      "(16750, 998) (8250, 998) (16750,) (8250,)\n"
     ]
    }
   ],
   "source": [
    "X_train_2, X_test_2, y_train_2, y_test_2 = train_test_split(X2, y2, test_size=0.33, random_state=42)\n",
    "print(X_train_2.shape, X_test_2.shape, y_train_2.shape, y_test_2.shape)"
   ]
  },
  {
   "cell_type": "code",
   "execution_count": 57,
   "metadata": {
    "collapsed": true
   },
   "outputs": [],
   "source": [
    "# X_train_2['DISTANCE'].describe()"
   ]
  },
  {
   "cell_type": "code",
   "execution_count": 58,
   "metadata": {
    "collapsed": true
   },
   "outputs": [],
   "source": [
    "# X_train_1['DISTANCE'].describe()"
   ]
  },
  {
   "cell_type": "code",
   "execution_count": 59,
   "metadata": {
    "collapsed": true
   },
   "outputs": [],
   "source": [
    "X_train_2.to_csv('datasets/2_X_train.csv', index=False)\n",
    "X_test_2.to_csv('datasets/2_X_test.csv', index=False)\n",
    "y_train_2.to_csv('datasets/2_y_train.csv', index=False)\n",
    "y_test_2.to_csv('datasets/2_y_test.csv', index=False)"
   ]
  },
  {
   "cell_type": "code",
   "execution_count": 60,
   "metadata": {},
   "outputs": [
    {
     "data": {
      "text/plain": [
       "(16750, 998)"
      ]
     },
     "execution_count": 60,
     "metadata": {},
     "output_type": "execute_result"
    }
   ],
   "source": [
    "test_read_X2_train = pd.read_csv('datasets/2_X_train.csv', low_memory=False)\n",
    "test_read_X2_train.shape"
   ]
  },
  {
   "cell_type": "markdown",
   "metadata": {},
   "source": [
    "### Dataset 3"
   ]
  },
  {
   "cell_type": "code",
   "execution_count": 69,
   "metadata": {},
   "outputs": [
    {
     "name": "stdout",
     "output_type": "stream",
     "text": [
      "(25000, 14)\n"
     ]
    }
   ],
   "source": [
    "ds3 = DataSet(cleaningOption='median', sample_n=25000, \n",
    "              dropCols=['AIR_SYSTEM_DELAY', 'SECURITY_DELAY', 'AIRLINE_DELAY', \n",
    "                       'LATE_AIRCRAFT_DELAY', 'WEATHER_DELAY', 'CANCELLATION_REASON'])"
   ]
  },
  {
   "cell_type": "code",
   "execution_count": 70,
   "metadata": {},
   "outputs": [
    {
     "data": {
      "text/plain": [
       "DAY_OF_YEAR             0\n",
       "DAY_OF_WEEK             0\n",
       "AIRLINE                 0\n",
       "ORIGIN_AIRPORT          0\n",
       "DESTINATION_AIRPORT     0\n",
       "SCHEDULED_DEPARTURE     0\n",
       "DEPARTURE_DELAY         0\n",
       "SCHEDULED_TIME          0\n",
       "DISTANCE                0\n",
       "SCHEDULED_ARRIVAL       0\n",
       "ARRIVAL_DELAY           0\n",
       "DIVERTED                0\n",
       "CANCELLED               0\n",
       "ARRIVAL_DELAY_BIN_30    0\n",
       "dtype: int64"
      ]
     },
     "execution_count": 70,
     "metadata": {},
     "output_type": "execute_result"
    }
   ],
   "source": [
    "data3 = ds3.myData\n",
    "data3_missing_values = data3.isnull().sum(axis=0)\n",
    "data3_missing_values"
   ]
  },
  {
   "cell_type": "code",
   "execution_count": 71,
   "metadata": {
    "collapsed": true
   },
   "outputs": [],
   "source": [
    "data3 = pd.get_dummies(data3, columns=dummy_columns, drop_first=True)"
   ]
  },
  {
   "cell_type": "code",
   "execution_count": 66,
   "metadata": {
    "collapsed": true
   },
   "outputs": [],
   "source": [
    "# data3['DISTANCE'].describe()"
   ]
  },
  {
   "cell_type": "code",
   "execution_count": 67,
   "metadata": {
    "collapsed": true
   },
   "outputs": [],
   "source": [
    "# data2['DISTANCE'].describe()"
   ]
  },
  {
   "cell_type": "code",
   "execution_count": 72,
   "metadata": {},
   "outputs": [
    {
     "name": "stdout",
     "output_type": "stream",
     "text": [
      "(25000, 1003) (25000, 1003) (25000, 1004)\n"
     ]
    }
   ],
   "source": [
    "print(data1.shape, data2.shape, data3.shape)"
   ]
  },
  {
   "cell_type": "code",
   "execution_count": 73,
   "metadata": {},
   "outputs": [
    {
     "name": "stdout",
     "output_type": "stream",
     "text": [
      "(25000, 999) (25000,)\n"
     ]
    }
   ],
   "source": [
    "X3 = data3.drop(['DEPARTURE_DELAY', 'ARRIVAL_DELAY', 'DIVERTED', 'CANCELLED', 'ARRIVAL_DELAY_BIN_30'], axis=1)\n",
    "y3 = data3['ARRIVAL_DELAY_BIN_30']\n",
    "print(X3.shape, y3.shape)"
   ]
  },
  {
   "cell_type": "code",
   "execution_count": 74,
   "metadata": {},
   "outputs": [
    {
     "name": "stdout",
     "output_type": "stream",
     "text": [
      "(16750, 999) (8250, 999) (16750,) (8250,)\n"
     ]
    }
   ],
   "source": [
    "X_train_3, X_test_3, y_train_3, y_test_3 = train_test_split(X3, y3, test_size=0.33, random_state=42)\n",
    "print(X_train_3.shape, X_test_3.shape, y_train_3.shape, y_test_3.shape)"
   ]
  },
  {
   "cell_type": "code",
   "execution_count": 75,
   "metadata": {
    "collapsed": true
   },
   "outputs": [],
   "source": [
    "X_train_3.to_csv('datasets/3_X_train.csv', index=False)\n",
    "X_test_3.to_csv('datasets/3_X_test.csv', index=False)\n",
    "y_train_3.to_csv('datasets/3_y_train.csv', index=False)\n",
    "y_test_3.to_csv('datasets/3_y_test.csv', index=False)"
   ]
  },
  {
   "cell_type": "code",
   "execution_count": 76,
   "metadata": {},
   "outputs": [
    {
     "data": {
      "text/plain": [
       "(16750, 999)"
      ]
     },
     "execution_count": 76,
     "metadata": {},
     "output_type": "execute_result"
    }
   ],
   "source": [
    "test_read_X3_train = pd.read_csv('datasets/3_X_train.csv', low_memory=False)\n",
    "test_read_X3_train.shape"
   ]
  },
  {
   "cell_type": "markdown",
   "metadata": {},
   "source": [
    "---"
   ]
  },
  {
   "cell_type": "markdown",
   "metadata": {},
   "source": [
    "#### Here, I'm testing the cause of feature differences among first three datasets."
   ]
  },
  {
   "cell_type": "code",
   "execution_count": 77,
   "metadata": {},
   "outputs": [
    {
     "name": "stdout",
     "output_type": "stream",
     "text": [
      "X2: (25000, 998)\n",
      "X3: (25000, 999)\n"
     ]
    }
   ],
   "source": [
    "print(\"X2:\", X2.shape)\n",
    "print(\"X3:\", X3.shape)"
   ]
  },
  {
   "cell_type": "code",
   "execution_count": 78,
   "metadata": {
    "collapsed": true
   },
   "outputs": [],
   "source": [
    "x2_features = list(X2.columns)"
   ]
  },
  {
   "cell_type": "code",
   "execution_count": 79,
   "metadata": {
    "collapsed": true
   },
   "outputs": [],
   "source": [
    "x3_features = list(X3.columns)"
   ]
  },
  {
   "cell_type": "code",
   "execution_count": 80,
   "metadata": {
    "collapsed": true
   },
   "outputs": [],
   "source": [
    "diff1 = list(set(x2_features) - set(x3_features))"
   ]
  },
  {
   "cell_type": "code",
   "execution_count": 81,
   "metadata": {},
   "outputs": [
    {
     "data": {
      "text/plain": [
       "['DESTINATION_AIRPORT_AKN',\n",
       " 'DESTINATION_AIRPORT_GUC',\n",
       " 'DESTINATION_AIRPORT_GUM',\n",
       " 'DESTINATION_AIRPORT_HOB',\n",
       " 'DESTINATION_AIRPORT_ILG',\n",
       " 'DESTINATION_AIRPORT_MMH',\n",
       " 'DESTINATION_AIRPORT_MVY',\n",
       " 'DESTINATION_AIRPORT_PBG',\n",
       " 'DESTINATION_AIRPORT_PIH',\n",
       " 'ORIGIN_AIRPORT_APN',\n",
       " 'ORIGIN_AIRPORT_BGM',\n",
       " 'ORIGIN_AIRPORT_CIU',\n",
       " 'ORIGIN_AIRPORT_COD',\n",
       " 'ORIGIN_AIRPORT_IAG',\n",
       " 'ORIGIN_AIRPORT_MQT',\n",
       " 'ORIGIN_AIRPORT_STC',\n",
       " 'ORIGIN_AIRPORT_TWF']"
      ]
     },
     "execution_count": 81,
     "metadata": {},
     "output_type": "execute_result"
    }
   ],
   "source": [
    "sorted(diff1)"
   ]
  },
  {
   "cell_type": "code",
   "execution_count": 82,
   "metadata": {},
   "outputs": [
    {
     "data": {
      "text/plain": [
       "17"
      ]
     },
     "execution_count": 82,
     "metadata": {},
     "output_type": "execute_result"
    }
   ],
   "source": [
    "len(diff1)"
   ]
  },
  {
   "cell_type": "code",
   "execution_count": 83,
   "metadata": {
    "collapsed": true
   },
   "outputs": [],
   "source": [
    "diff2 = list(set(x3_features) - set(x2_features))"
   ]
  },
  {
   "cell_type": "code",
   "execution_count": 84,
   "metadata": {
    "scrolled": true
   },
   "outputs": [
    {
     "data": {
      "text/plain": [
       "['DESTINATION_AIRPORT_ADK',\n",
       " 'DESTINATION_AIRPORT_ADQ',\n",
       " 'DESTINATION_AIRPORT_DLG',\n",
       " 'DESTINATION_AIRPORT_GRI',\n",
       " 'DESTINATION_AIRPORT_HYA',\n",
       " 'DESTINATION_AIRPORT_LAR',\n",
       " 'ORIGIN_AIRPORT_BTM',\n",
       " 'ORIGIN_AIRPORT_DIK',\n",
       " 'ORIGIN_AIRPORT_DVL',\n",
       " 'ORIGIN_AIRPORT_GCK',\n",
       " 'ORIGIN_AIRPORT_GST',\n",
       " 'ORIGIN_AIRPORT_HOB',\n",
       " 'ORIGIN_AIRPORT_HYA',\n",
       " 'ORIGIN_AIRPORT_OME',\n",
       " 'ORIGIN_AIRPORT_PBG',\n",
       " 'ORIGIN_AIRPORT_UST',\n",
       " 'ORIGIN_AIRPORT_VEL',\n",
       " 'ORIGIN_AIRPORT_WYS']"
      ]
     },
     "execution_count": 84,
     "metadata": {},
     "output_type": "execute_result"
    }
   ],
   "source": [
    "sorted(diff2)"
   ]
  },
  {
   "cell_type": "code",
   "execution_count": 85,
   "metadata": {},
   "outputs": [
    {
     "data": {
      "text/plain": [
       "18"
      ]
     },
     "execution_count": 85,
     "metadata": {},
     "output_type": "execute_result"
    }
   ],
   "source": [
    "len(diff2)"
   ]
  },
  {
   "cell_type": "markdown",
   "metadata": {},
   "source": [
    "If there were no airports left out, there would be 364 + 6 + 13 + 321 + 321 + (1 $*$ 9) = 1034 features in the sample. Some testing shows we need roughly 5% of the total dataset to guarantee inclusion of all airports, which would result in ~250,000,000 (250,000 $*$ 1000) data points. This is too prohibitive a quantity for testing. Furthermore, I do not believe we gain much value from making sure *every* airport is included."
   ]
  },
  {
   "cell_type": "markdown",
   "metadata": {},
   "source": [
    "---"
   ]
  },
  {
   "cell_type": "markdown",
   "metadata": {},
   "source": [
    "### Dataset 4"
   ]
  },
  {
   "cell_type": "code",
   "execution_count": 86,
   "metadata": {
    "collapsed": true
   },
   "outputs": [],
   "source": [
    "woe_columns = ['DAY_OF_YEAR_WOE', 'DAY_OF_WEEK_WOE', 'AIRLINE_WOE', 'ORIGIN_WOE', 'DESTINATION_WOE']\n",
    "cols_to_drop = ['DAY_OF_YEAR', 'DAY_OF_WEEK', 'AIRLINE', 'ORIGIN_AIRPORT', 'DESTINATION_AIRPORT']"
   ]
  },
  {
   "cell_type": "code",
   "execution_count": 87,
   "metadata": {},
   "outputs": [
    {
     "name": "stdout",
     "output_type": "stream",
     "text": [
      "(571401, 14)\n"
     ]
    }
   ],
   "source": [
    "ds4 = DataSet(cleaningOption='drop', sampleFraction=0.1, \n",
    "              dropCols=['AIR_SYSTEM_DELAY', 'SECURITY_DELAY', 'AIRLINE_DELAY', \n",
    "                        'LATE_AIRCRAFT_DELAY', 'WEATHER_DELAY', 'CANCELLATION_REASON'])\n",
    "data4 = ds4.myData"
   ]
  },
  {
   "cell_type": "code",
   "execution_count": 88,
   "metadata": {},
   "outputs": [
    {
     "data": {
      "text/plain": [
       "DAY_OF_YEAR               int64\n",
       "DAY_OF_WEEK               int64\n",
       "AIRLINE                  object\n",
       "ORIGIN_AIRPORT           object\n",
       "DESTINATION_AIRPORT      object\n",
       "SCHEDULED_DEPARTURE     float64\n",
       "SCHEDULED_TIME          float64\n",
       "DISTANCE                  int64\n",
       "SCHEDULED_ARRIVAL       float64\n",
       "ARRIVAL_DELAY_BIN_30      int64\n",
       "dtype: object"
      ]
     },
     "execution_count": 88,
     "metadata": {},
     "output_type": "execute_result"
    }
   ],
   "source": [
    "data4 = data4.drop(['DEPARTURE_DELAY', 'ARRIVAL_DELAY', 'DIVERTED', 'CANCELLED'], axis=1)\n",
    "data4.dtypes"
   ]
  },
  {
   "cell_type": "code",
   "execution_count": 90,
   "metadata": {
    "collapsed": true
   },
   "outputs": [],
   "source": [
    "# data4['ARRIVAL_DELAY_BIN_30'].value_counts()"
   ]
  },
  {
   "cell_type": "code",
   "execution_count": 91,
   "metadata": {
    "collapsed": true
   },
   "outputs": [],
   "source": [
    "X4 = data4.drop(['ARRIVAL_DELAY_BIN_30'], axis=1)\n",
    "y4 = data4['ARRIVAL_DELAY_BIN_30']"
   ]
  },
  {
   "cell_type": "code",
   "execution_count": 92,
   "metadata": {},
   "outputs": [
    {
     "name": "stdout",
     "output_type": "stream",
     "text": [
      "(382838, 9) (188563, 9) (382838,) (188563,)\n"
     ]
    }
   ],
   "source": [
    "X_train_4, X_test_4, y_train_4, y_test_4 = train_test_split(X4, y4, test_size=0.33, random_state=42)\n",
    "print(X_train_4.shape, X_test_4.shape, y_train_4.shape, y_test_4.shape)"
   ]
  },
  {
   "cell_type": "code",
   "execution_count": 93,
   "metadata": {
    "collapsed": true
   },
   "outputs": [],
   "source": [
    "train_data_4 = pd.concat([X_train_4, y_train_4], axis=1)\n",
    "test_data_4 = pd.concat([X_test_4, y_test_4], axis=1)"
   ]
  },
  {
   "cell_type": "code",
   "execution_count": 94,
   "metadata": {},
   "outputs": [
    {
     "name": "stdout",
     "output_type": "stream",
     "text": [
      "(382838, 10) (188563, 10)\n"
     ]
    }
   ],
   "source": [
    "print(train_data_4.shape, test_data_4.shape)"
   ]
  },
  {
   "cell_type": "code",
   "execution_count": 97,
   "metadata": {},
   "outputs": [
    {
     "name": "stdout",
     "output_type": "stream",
     "text": [
      "DAY_OF_YEAR\n",
      "DAY_OF_WEEK\n",
      "AIRLINE\n",
      "ORIGIN_AIRPORT\n",
      "DESTINATION_AIRPORT\n",
      "\n",
      "DAY_OF_YEAR\n",
      "DAY_OF_WEEK\n",
      "AIRLINE\n",
      "ORIGIN_AIRPORT\n",
      "DESTINATION_AIRPORT\n"
     ]
    }
   ],
   "source": [
    "# Transform training set\n",
    "day_of_year_woe = get_woe('DAY_OF_YEAR', train_data_4)\n",
    "train_data_4['DAY_OF_YEAR_WOE'] = day_of_year_woe\n",
    "day_of_week_woe = get_woe('DAY_OF_WEEK', train_data_4)\n",
    "train_data_4['DAY_OF_WEEK_WOE'] = day_of_week_woe\n",
    "airline_woe = get_woe('AIRLINE', train_data_4)\n",
    "train_data_4['AIRLINE_WOE'] = airline_woe\n",
    "origin_woe = get_woe('ORIGIN_AIRPORT', train_data_4)\n",
    "train_data_4['ORIGIN_WOE'] = origin_woe\n",
    "dest_woe = get_woe('DESTINATION_AIRPORT', train_data_4)\n",
    "train_data_4['DESTINATION_WOE'] = dest_woe\n",
    "\n",
    "print()\n",
    "\n",
    "# Transform testing set\n",
    "day_of_year_woe = get_woe('DAY_OF_YEAR', test_data_4)\n",
    "test_data_4['DAY_OF_YEAR_WOE'] = day_of_year_woe\n",
    "day_of_week_woe = get_woe('DAY_OF_WEEK', test_data_4)\n",
    "test_data_4['DAY_OF_WEEK_WOE'] = day_of_week_woe\n",
    "airline_woe = get_woe('AIRLINE', test_data_4)\n",
    "test_data_4['AIRLINE_WOE'] = airline_woe\n",
    "origin_woe = get_woe('ORIGIN_AIRPORT', test_data_4)\n",
    "test_data_4['ORIGIN_WOE'] = origin_woe\n",
    "dest_woe = get_woe('DESTINATION_AIRPORT', test_data_4)\n",
    "test_data_4['DESTINATION_WOE'] = dest_woe"
   ]
  },
  {
   "cell_type": "code",
   "execution_count": 99,
   "metadata": {
    "collapsed": true,
    "scrolled": true
   },
   "outputs": [],
   "source": [
    "# for c in woe_columns:\n",
    "#     print(train_data_4[c].describe())\n",
    "#     print()\n",
    "\n",
    "# for c in woe_columns:\n",
    "#     print(test_data_4[c].describe())\n",
    "#     print()"
   ]
  },
  {
   "cell_type": "code",
   "execution_count": 100,
   "metadata": {
    "collapsed": true
   },
   "outputs": [],
   "source": [
    "train_data_4 = train_data_4.drop(cols_to_drop, axis=1)\n",
    "train_data_4 = train_data_4.reset_index()\n",
    "train_data_4 = train_data_4.drop(['index'], axis=1)\n",
    "\n",
    "test_data_4 = test_data_4.drop(cols_to_drop, axis=1)\n",
    "test_data_4 = test_data_4.reset_index()\n",
    "test_data_4 = test_data_4.drop(['index'], axis=1)"
   ]
  },
  {
   "cell_type": "code",
   "execution_count": 101,
   "metadata": {},
   "outputs": [
    {
     "name": "stdout",
     "output_type": "stream",
     "text": [
      "(382838, 10)\n",
      "(382434, 10)\n",
      "(188563, 10)\n",
      "(187970, 10)\n"
     ]
    }
   ],
   "source": [
    "print(train_data_4.shape)\n",
    "train_data_4 = train_data_4.dropna(axis=0, how='any')\n",
    "print(train_data_4.shape)\n",
    "\n",
    "print(test_data_4.shape)\n",
    "test_data_4 = test_data_4.dropna(axis=0, how='any')\n",
    "print(test_data_4.shape)"
   ]
  },
  {
   "cell_type": "code",
   "execution_count": 103,
   "metadata": {
    "collapsed": true
   },
   "outputs": [],
   "source": [
    "# train4_missing_values = train_data_4.isnull().sum(axis=0)\n",
    "# train4_missing_values"
   ]
  },
  {
   "cell_type": "code",
   "execution_count": 104,
   "metadata": {},
   "outputs": [
    {
     "name": "stdout",
     "output_type": "stream",
     "text": [
      "(382434, 9) (187970, 9) (382434,) (187970,)\n"
     ]
    }
   ],
   "source": [
    "X_train_4 = train_data_4.drop(['ARRIVAL_DELAY_BIN_30'], axis=1)\n",
    "y_train_4 = train_data_4['ARRIVAL_DELAY_BIN_30']\n",
    "X_test_4 = test_data_4.drop(['ARRIVAL_DELAY_BIN_30'], axis=1)\n",
    "y_test_4 = test_data_4['ARRIVAL_DELAY_BIN_30']\n",
    "print(X_train_4.shape, X_test_4.shape, y_train_4.shape, y_test_4.shape)"
   ]
  },
  {
   "cell_type": "code",
   "execution_count": 105,
   "metadata": {
    "collapsed": true
   },
   "outputs": [],
   "source": [
    "X_train_4.to_csv('datasets/4_X_train.csv', index=False)\n",
    "X_test_4.to_csv('datasets/4_X_test.csv', index=False)\n",
    "y_train_4.to_csv('datasets/4_y_train.csv', index=False)\n",
    "y_test_4.to_csv('datasets/4_y_test.csv', index=False)"
   ]
  },
  {
   "cell_type": "markdown",
   "metadata": {},
   "source": [
    "### Dataset 5"
   ]
  },
  {
   "cell_type": "code",
   "execution_count": 121,
   "metadata": {},
   "outputs": [
    {
     "name": "stdout",
     "output_type": "stream",
     "text": [
      "(581908, 14)\n"
     ]
    },
    {
     "data": {
      "text/plain": [
       "DAY_OF_YEAR               int64\n",
       "DAY_OF_WEEK               int64\n",
       "AIRLINE                  object\n",
       "ORIGIN_AIRPORT           object\n",
       "DESTINATION_AIRPORT      object\n",
       "SCHEDULED_DEPARTURE     float64\n",
       "SCHEDULED_TIME          float64\n",
       "DISTANCE                  int64\n",
       "SCHEDULED_ARRIVAL       float64\n",
       "ARRIVAL_DELAY_BIN_30      int64\n",
       "dtype: object"
      ]
     },
     "execution_count": 121,
     "metadata": {},
     "output_type": "execute_result"
    }
   ],
   "source": [
    "ds5 = DataSet(cleaningOption='mean', sampleFraction=0.1, \n",
    "              dropCols=['AIR_SYSTEM_DELAY', 'SECURITY_DELAY', 'AIRLINE_DELAY', \n",
    "                        'LATE_AIRCRAFT_DELAY', 'WEATHER_DELAY', 'CANCELLATION_REASON'])\n",
    "data5 = ds5.myData\n",
    "data5 = data5.drop(['DEPARTURE_DELAY', 'ARRIVAL_DELAY', 'DIVERTED', 'CANCELLED'], axis=1)\n",
    "data5.dtypes"
   ]
  },
  {
   "cell_type": "code",
   "execution_count": 122,
   "metadata": {},
   "outputs": [
    {
     "data": {
      "text/plain": [
       "0    516717\n",
       "1     65191\n",
       "Name: ARRIVAL_DELAY_BIN_30, dtype: int64"
      ]
     },
     "execution_count": 122,
     "metadata": {},
     "output_type": "execute_result"
    }
   ],
   "source": [
    "data5['ARRIVAL_DELAY_BIN_30'].value_counts()"
   ]
  },
  {
   "cell_type": "code",
   "execution_count": 123,
   "metadata": {
    "collapsed": true
   },
   "outputs": [],
   "source": [
    "X5 = data5.drop(['ARRIVAL_DELAY_BIN_30'], axis=1)\n",
    "y5 = data5['ARRIVAL_DELAY_BIN_30']"
   ]
  },
  {
   "cell_type": "code",
   "execution_count": 124,
   "metadata": {},
   "outputs": [
    {
     "name": "stdout",
     "output_type": "stream",
     "text": [
      "(389878, 9) (192030, 9) (389878,) (192030,)\n"
     ]
    }
   ],
   "source": [
    "X_train_5, X_test_5, y_train_5, y_test_5 = train_test_split(X5, y5, test_size=0.33, random_state=42)\n",
    "print(X_train_5.shape, X_test_5.shape, y_train_5.shape, y_test_5.shape)"
   ]
  },
  {
   "cell_type": "code",
   "execution_count": 125,
   "metadata": {},
   "outputs": [
    {
     "name": "stdout",
     "output_type": "stream",
     "text": [
      "(389878, 10) (192030, 10)\n"
     ]
    }
   ],
   "source": [
    "train_data_5 = pd.concat([X_train_5, y_train_5], axis=1)\n",
    "test_data_5 = pd.concat([X_test_5, y_test_5], axis=1)\n",
    "print(train_data_5.shape, test_data_5.shape)"
   ]
  },
  {
   "cell_type": "code",
   "execution_count": 126,
   "metadata": {},
   "outputs": [
    {
     "name": "stdout",
     "output_type": "stream",
     "text": [
      "DAY_OF_YEAR\n",
      "DAY_OF_WEEK\n",
      "AIRLINE\n",
      "ORIGIN_AIRPORT\n",
      "DESTINATION_AIRPORT\n",
      "\n",
      "DAY_OF_YEAR\n",
      "DAY_OF_WEEK\n",
      "AIRLINE\n",
      "ORIGIN_AIRPORT\n",
      "DESTINATION_AIRPORT\n"
     ]
    }
   ],
   "source": [
    "# Transform training set\n",
    "day_of_year_woe = get_woe('DAY_OF_YEAR', train_data_5)\n",
    "train_data_5['DAY_OF_YEAR_WOE'] = day_of_year_woe\n",
    "day_of_week_woe = get_woe('DAY_OF_WEEK', train_data_5)\n",
    "train_data_5['DAY_OF_WEEK_WOE'] = day_of_week_woe\n",
    "airline_woe = get_woe('AIRLINE', train_data_5)\n",
    "train_data_5['AIRLINE_WOE'] = airline_woe\n",
    "origin_woe = get_woe('ORIGIN_AIRPORT', train_data_5)\n",
    "train_data_5['ORIGIN_WOE'] = origin_woe\n",
    "dest_woe = get_woe('DESTINATION_AIRPORT', train_data_5)\n",
    "train_data_5['DESTINATION_WOE'] = dest_woe\n",
    "\n",
    "print()\n",
    "\n",
    "# Transform testing set\n",
    "day_of_year_woe = get_woe('DAY_OF_YEAR', test_data_5)\n",
    "test_data_5['DAY_OF_YEAR_WOE'] = day_of_year_woe\n",
    "day_of_week_woe = get_woe('DAY_OF_WEEK', test_data_5)\n",
    "test_data_5['DAY_OF_WEEK_WOE'] = day_of_week_woe\n",
    "airline_woe = get_woe('AIRLINE', test_data_5)\n",
    "test_data_5['AIRLINE_WOE'] = airline_woe\n",
    "origin_woe = get_woe('ORIGIN_AIRPORT', test_data_5)\n",
    "test_data_5['ORIGIN_WOE'] = origin_woe\n",
    "dest_woe = get_woe('DESTINATION_AIRPORT', test_data_5)\n",
    "test_data_5['DESTINATION_WOE'] = dest_woe"
   ]
  },
  {
   "cell_type": "code",
   "execution_count": 132,
   "metadata": {
    "collapsed": true
   },
   "outputs": [],
   "source": [
    "# for c in woe_columns:\n",
    "#     print(train_data_5[c].describe())\n",
    "#     print()\n",
    "\n",
    "# for c in woe_columns:\n",
    "#     print(test_data_5[c].describe())\n",
    "#     print()"
   ]
  },
  {
   "cell_type": "code",
   "execution_count": 129,
   "metadata": {},
   "outputs": [
    {
     "name": "stdout",
     "output_type": "stream",
     "text": [
      "(389878, 15)\n",
      "(389599, 15)\n",
      "(192030, 15)\n",
      "(191516, 15)\n"
     ]
    }
   ],
   "source": [
    "print(train_data_5.shape)\n",
    "train_data_5 = train_data_5.dropna(axis=0, how='any')\n",
    "print(train_data_5.shape)\n",
    "\n",
    "print(test_data_5.shape)\n",
    "test_data_5 = test_data_5.dropna(axis=0, how='any')\n",
    "print(test_data_5.shape)"
   ]
  },
  {
   "cell_type": "code",
   "execution_count": 130,
   "metadata": {
    "collapsed": true
   },
   "outputs": [],
   "source": [
    "train_data_5 = train_data_5.drop(cols_to_drop, axis=1)\n",
    "train_data_5 = train_data_5.reset_index()\n",
    "train_data_5 = train_data_5.drop(['index'], axis=1)\n",
    "\n",
    "test_data_5 = test_data_5.drop(cols_to_drop, axis=1)\n",
    "test_data_5 = test_data_5.reset_index()\n",
    "test_data_5 = test_data_5.drop(['index'], axis=1)"
   ]
  },
  {
   "cell_type": "code",
   "execution_count": 134,
   "metadata": {
    "collapsed": true
   },
   "outputs": [],
   "source": [
    "# train5_missing_values = train_data_5.isnull().sum(axis=0)\n",
    "# train5_missing_values"
   ]
  },
  {
   "cell_type": "code",
   "execution_count": 135,
   "metadata": {},
   "outputs": [
    {
     "name": "stdout",
     "output_type": "stream",
     "text": [
      "(389599, 9) (191516, 9) (389599,) (191516,)\n"
     ]
    }
   ],
   "source": [
    "X_train_5 = train_data_5.drop(['ARRIVAL_DELAY_BIN_30'], axis=1)\n",
    "y_train_5 = train_data_5['ARRIVAL_DELAY_BIN_30']\n",
    "X_test_5 = test_data_5.drop(['ARRIVAL_DELAY_BIN_30'], axis=1)\n",
    "y_test_5 = test_data_5['ARRIVAL_DELAY_BIN_30']\n",
    "print(X_train_5.shape, X_test_5.shape, y_train_5.shape, y_test_5.shape)"
   ]
  },
  {
   "cell_type": "code",
   "execution_count": 136,
   "metadata": {
    "collapsed": true
   },
   "outputs": [],
   "source": [
    "X_train_5.to_csv('datasets/5_X_train.csv', index=False)\n",
    "X_test_5.to_csv('datasets/5_X_test.csv', index=False)\n",
    "y_train_5.to_csv('datasets/5_y_train.csv', index=False)\n",
    "y_test_5.to_csv('datasets/5_y_test.csv', index=False)"
   ]
  },
  {
   "cell_type": "markdown",
   "metadata": {},
   "source": [
    "### Dataset 6"
   ]
  },
  {
   "cell_type": "code",
   "execution_count": 137,
   "metadata": {},
   "outputs": [
    {
     "name": "stdout",
     "output_type": "stream",
     "text": [
      "(581908, 14)\n"
     ]
    },
    {
     "data": {
      "text/plain": [
       "DAY_OF_YEAR               int64\n",
       "DAY_OF_WEEK               int64\n",
       "AIRLINE                  object\n",
       "ORIGIN_AIRPORT           object\n",
       "DESTINATION_AIRPORT      object\n",
       "SCHEDULED_DEPARTURE     float64\n",
       "SCHEDULED_TIME          float64\n",
       "DISTANCE                  int64\n",
       "SCHEDULED_ARRIVAL       float64\n",
       "ARRIVAL_DELAY_BIN_30      int64\n",
       "dtype: object"
      ]
     },
     "execution_count": 137,
     "metadata": {},
     "output_type": "execute_result"
    }
   ],
   "source": [
    "ds6 = DataSet(cleaningOption='median', sampleFraction=0.1, \n",
    "              dropCols=['AIR_SYSTEM_DELAY', 'SECURITY_DELAY', 'AIRLINE_DELAY', \n",
    "                        'LATE_AIRCRAFT_DELAY', 'WEATHER_DELAY', 'CANCELLATION_REASON'])\n",
    "data6 = ds6.myData\n",
    "data6 = data6.drop(['DEPARTURE_DELAY', 'ARRIVAL_DELAY', 'DIVERTED', 'CANCELLED'], axis=1)\n",
    "data6.dtypes"
   ]
  },
  {
   "cell_type": "code",
   "execution_count": 138,
   "metadata": {},
   "outputs": [
    {
     "data": {
      "text/plain": [
       "0    516865\n",
       "1     65043\n",
       "Name: ARRIVAL_DELAY_BIN_30, dtype: int64"
      ]
     },
     "execution_count": 138,
     "metadata": {},
     "output_type": "execute_result"
    }
   ],
   "source": [
    "data6['ARRIVAL_DELAY_BIN_30'].value_counts()"
   ]
  },
  {
   "cell_type": "code",
   "execution_count": 139,
   "metadata": {
    "collapsed": true
   },
   "outputs": [],
   "source": [
    "X6 = data6.drop(['ARRIVAL_DELAY_BIN_30'], axis=1)\n",
    "y6 = data6['ARRIVAL_DELAY_BIN_30']"
   ]
  },
  {
   "cell_type": "code",
   "execution_count": 140,
   "metadata": {},
   "outputs": [
    {
     "name": "stdout",
     "output_type": "stream",
     "text": [
      "(389878, 9) (192030, 9) (389878,) (192030,)\n",
      "(389878, 10) (192030, 10)\n"
     ]
    }
   ],
   "source": [
    "X_train_6, X_test_6, y_train_6, y_test_6 = train_test_split(X6, y6, test_size=0.33, random_state=42)\n",
    "print(X_train_6.shape, X_test_6.shape, y_train_6.shape, y_test_6.shape)\n",
    "\n",
    "train_data_6 = pd.concat([X_train_6, y_train_6], axis=1)\n",
    "test_data_6 = pd.concat([X_test_6, y_test_6], axis=1)\n",
    "print(train_data_6.shape, test_data_6.shape)"
   ]
  },
  {
   "cell_type": "code",
   "execution_count": 141,
   "metadata": {},
   "outputs": [
    {
     "name": "stdout",
     "output_type": "stream",
     "text": [
      "DAY_OF_YEAR\n",
      "DAY_OF_WEEK\n",
      "AIRLINE\n",
      "ORIGIN_AIRPORT\n",
      "DESTINATION_AIRPORT\n",
      "\n",
      "DAY_OF_YEAR\n",
      "DAY_OF_WEEK\n",
      "AIRLINE\n",
      "ORIGIN_AIRPORT\n",
      "DESTINATION_AIRPORT\n"
     ]
    }
   ],
   "source": [
    "# Transform training set\n",
    "day_of_year_woe = get_woe('DAY_OF_YEAR', train_data_6)\n",
    "train_data_6['DAY_OF_YEAR_WOE'] = day_of_year_woe\n",
    "day_of_week_woe = get_woe('DAY_OF_WEEK', train_data_6)\n",
    "train_data_6['DAY_OF_WEEK_WOE'] = day_of_week_woe\n",
    "airline_woe = get_woe('AIRLINE', train_data_6)\n",
    "train_data_6['AIRLINE_WOE'] = airline_woe\n",
    "origin_woe = get_woe('ORIGIN_AIRPORT', train_data_6)\n",
    "train_data_6['ORIGIN_WOE'] = origin_woe\n",
    "dest_woe = get_woe('DESTINATION_AIRPORT', train_data_6)\n",
    "train_data_6['DESTINATION_WOE'] = dest_woe\n",
    "\n",
    "print()\n",
    "\n",
    "# Transform testing set\n",
    "day_of_year_woe = get_woe('DAY_OF_YEAR', test_data_6)\n",
    "test_data_6['DAY_OF_YEAR_WOE'] = day_of_year_woe\n",
    "day_of_week_woe = get_woe('DAY_OF_WEEK', test_data_6)\n",
    "test_data_6['DAY_OF_WEEK_WOE'] = day_of_week_woe\n",
    "airline_woe = get_woe('AIRLINE', test_data_6)\n",
    "test_data_6['AIRLINE_WOE'] = airline_woe\n",
    "origin_woe = get_woe('ORIGIN_AIRPORT', test_data_6)\n",
    "test_data_6['ORIGIN_WOE'] = origin_woe\n",
    "dest_woe = get_woe('DESTINATION_AIRPORT', test_data_6)\n",
    "test_data_6['DESTINATION_WOE'] = dest_woe"
   ]
  },
  {
   "cell_type": "code",
   "execution_count": 146,
   "metadata": {
    "collapsed": true
   },
   "outputs": [],
   "source": [
    "# for c in woe_columns:\n",
    "#     print(train_data_6[c].describe())\n",
    "#     print()\n",
    "\n",
    "# for c in woe_columns:\n",
    "#     print(test_data_6[c].describe())\n",
    "#     print()"
   ]
  },
  {
   "cell_type": "code",
   "execution_count": 144,
   "metadata": {},
   "outputs": [
    {
     "name": "stdout",
     "output_type": "stream",
     "text": [
      "(389878, 15)\n",
      "(389556, 15)\n",
      "(192030, 15)\n",
      "(191344, 15)\n"
     ]
    }
   ],
   "source": [
    "print(train_data_6.shape)\n",
    "train_data_6 = train_data_6.dropna(axis=0, how='any')\n",
    "print(train_data_6.shape)\n",
    "\n",
    "print(test_data_6.shape)\n",
    "test_data_6 = test_data_6.dropna(axis=0, how='any')\n",
    "print(test_data_6.shape)"
   ]
  },
  {
   "cell_type": "code",
   "execution_count": 147,
   "metadata": {
    "collapsed": true
   },
   "outputs": [],
   "source": [
    "train_data_6 = train_data_6.drop(cols_to_drop, axis=1)\n",
    "train_data_6 = train_data_6.reset_index()\n",
    "train_data_6 = train_data_6.drop(['index'], axis=1)\n",
    "\n",
    "test_data_6 = test_data_6.drop(cols_to_drop, axis=1)\n",
    "test_data_6 = test_data_6.reset_index()\n",
    "test_data_6 = test_data_6.drop(['index'], axis=1)"
   ]
  },
  {
   "cell_type": "code",
   "execution_count": 149,
   "metadata": {
    "collapsed": true
   },
   "outputs": [],
   "source": [
    "# train6_missing_values = train_data_6.isnull().sum(axis=0)\n",
    "# train6_missing_values"
   ]
  },
  {
   "cell_type": "code",
   "execution_count": 150,
   "metadata": {},
   "outputs": [
    {
     "name": "stdout",
     "output_type": "stream",
     "text": [
      "(389556, 9) (191344, 9) (389556,) (191344,)\n"
     ]
    }
   ],
   "source": [
    "X_train_6 = train_data_6.drop(['ARRIVAL_DELAY_BIN_30'], axis=1)\n",
    "y_train_6 = train_data_6['ARRIVAL_DELAY_BIN_30']\n",
    "X_test_6 = test_data_6.drop(['ARRIVAL_DELAY_BIN_30'], axis=1)\n",
    "y_test_6 = test_data_6['ARRIVAL_DELAY_BIN_30']\n",
    "print(X_train_6.shape, X_test_6.shape, y_train_6.shape, y_test_6.shape)"
   ]
  },
  {
   "cell_type": "code",
   "execution_count": 151,
   "metadata": {
    "collapsed": true
   },
   "outputs": [],
   "source": [
    "X_train_6.to_csv('datasets/6_X_train.csv', index=False)\n",
    "X_test_6.to_csv('datasets/6_X_test.csv', index=False)\n",
    "y_train_6.to_csv('datasets/6_y_train.csv', index=False)\n",
    "y_test_6.to_csv('datasets/6_y_test.csv', index=False)"
   ]
  },
  {
   "cell_type": "markdown",
   "metadata": {},
   "source": [
    "---"
   ]
  },
  {
   "cell_type": "markdown",
   "metadata": {},
   "source": [
    "### Dataset 7"
   ]
  },
  {
   "cell_type": "code",
   "execution_count": 224,
   "metadata": {
    "collapsed": true
   },
   "outputs": [],
   "source": [
    "dummy_columns2 = ['DAY_OF_WEEK', 'AIRLINE']\n",
    "woe_columns2 = ['DAY_OF_YEAR_WOE', 'ORIGIN_WOE', 'DESTINATION_WOE']\n",
    "cols_to_drop2 = ['DAY_OF_YEAR', 'ORIGIN_AIRPORT', 'DESTINATION_AIRPORT']"
   ]
  },
  {
   "cell_type": "code",
   "execution_count": 225,
   "metadata": {},
   "outputs": [
    {
     "name": "stdout",
     "output_type": "stream",
     "text": [
      "(571401, 14)\n"
     ]
    },
    {
     "data": {
      "text/html": [
       "<div>\n",
       "<style>\n",
       "    .dataframe thead tr:only-child th {\n",
       "        text-align: right;\n",
       "    }\n",
       "\n",
       "    .dataframe thead th {\n",
       "        text-align: left;\n",
       "    }\n",
       "\n",
       "    .dataframe tbody tr th {\n",
       "        vertical-align: top;\n",
       "    }\n",
       "</style>\n",
       "<table border=\"1\" class=\"dataframe\">\n",
       "  <thead>\n",
       "    <tr style=\"text-align: right;\">\n",
       "      <th></th>\n",
       "      <th>DAY_OF_YEAR</th>\n",
       "      <th>DAY_OF_WEEK</th>\n",
       "      <th>AIRLINE</th>\n",
       "      <th>ORIGIN_AIRPORT</th>\n",
       "      <th>DESTINATION_AIRPORT</th>\n",
       "      <th>SCHEDULED_DEPARTURE</th>\n",
       "      <th>DEPARTURE_DELAY</th>\n",
       "      <th>SCHEDULED_TIME</th>\n",
       "      <th>DISTANCE</th>\n",
       "      <th>SCHEDULED_ARRIVAL</th>\n",
       "      <th>ARRIVAL_DELAY</th>\n",
       "      <th>DIVERTED</th>\n",
       "      <th>CANCELLED</th>\n",
       "      <th>ARRIVAL_DELAY_BIN_30</th>\n",
       "    </tr>\n",
       "  </thead>\n",
       "  <tbody>\n",
       "    <tr>\n",
       "      <th>0</th>\n",
       "      <td>77</td>\n",
       "      <td>3</td>\n",
       "      <td>WN</td>\n",
       "      <td>MKE</td>\n",
       "      <td>PHX</td>\n",
       "      <td>855.0</td>\n",
       "      <td>-3.0</td>\n",
       "      <td>230.0</td>\n",
       "      <td>1460</td>\n",
       "      <td>965.0</td>\n",
       "      <td>-18.0</td>\n",
       "      <td>0</td>\n",
       "      <td>0</td>\n",
       "      <td>0</td>\n",
       "    </tr>\n",
       "    <tr>\n",
       "      <th>1</th>\n",
       "      <td>340</td>\n",
       "      <td>7</td>\n",
       "      <td>WN</td>\n",
       "      <td>DAL</td>\n",
       "      <td>STL</td>\n",
       "      <td>1290.0</td>\n",
       "      <td>5.0</td>\n",
       "      <td>95.0</td>\n",
       "      <td>546</td>\n",
       "      <td>1385.0</td>\n",
       "      <td>2.0</td>\n",
       "      <td>0</td>\n",
       "      <td>0</td>\n",
       "      <td>0</td>\n",
       "    </tr>\n",
       "    <tr>\n",
       "      <th>2</th>\n",
       "      <td>225</td>\n",
       "      <td>4</td>\n",
       "      <td>WN</td>\n",
       "      <td>SAT</td>\n",
       "      <td>DAL</td>\n",
       "      <td>995.0</td>\n",
       "      <td>-1.0</td>\n",
       "      <td>60.0</td>\n",
       "      <td>248</td>\n",
       "      <td>1055.0</td>\n",
       "      <td>-2.0</td>\n",
       "      <td>0</td>\n",
       "      <td>0</td>\n",
       "      <td>0</td>\n",
       "    </tr>\n",
       "    <tr>\n",
       "      <th>3</th>\n",
       "      <td>359</td>\n",
       "      <td>5</td>\n",
       "      <td>UA</td>\n",
       "      <td>SFO</td>\n",
       "      <td>IAH</td>\n",
       "      <td>830.0</td>\n",
       "      <td>1.0</td>\n",
       "      <td>225.0</td>\n",
       "      <td>1635</td>\n",
       "      <td>1175.0</td>\n",
       "      <td>-5.0</td>\n",
       "      <td>0</td>\n",
       "      <td>0</td>\n",
       "      <td>0</td>\n",
       "    </tr>\n",
       "    <tr>\n",
       "      <th>4</th>\n",
       "      <td>183</td>\n",
       "      <td>4</td>\n",
       "      <td>DL</td>\n",
       "      <td>FLL</td>\n",
       "      <td>JFK</td>\n",
       "      <td>445.0</td>\n",
       "      <td>-5.0</td>\n",
       "      <td>170.0</td>\n",
       "      <td>1069</td>\n",
       "      <td>615.0</td>\n",
       "      <td>-20.0</td>\n",
       "      <td>0</td>\n",
       "      <td>0</td>\n",
       "      <td>0</td>\n",
       "    </tr>\n",
       "  </tbody>\n",
       "</table>\n",
       "</div>"
      ],
      "text/plain": [
       "   DAY_OF_YEAR  DAY_OF_WEEK AIRLINE ORIGIN_AIRPORT DESTINATION_AIRPORT  \\\n",
       "0           77            3      WN            MKE                 PHX   \n",
       "1          340            7      WN            DAL                 STL   \n",
       "2          225            4      WN            SAT                 DAL   \n",
       "3          359            5      UA            SFO                 IAH   \n",
       "4          183            4      DL            FLL                 JFK   \n",
       "\n",
       "   SCHEDULED_DEPARTURE  DEPARTURE_DELAY  SCHEDULED_TIME  DISTANCE  \\\n",
       "0                855.0             -3.0           230.0      1460   \n",
       "1               1290.0              5.0            95.0       546   \n",
       "2                995.0             -1.0            60.0       248   \n",
       "3                830.0              1.0           225.0      1635   \n",
       "4                445.0             -5.0           170.0      1069   \n",
       "\n",
       "   SCHEDULED_ARRIVAL  ARRIVAL_DELAY  DIVERTED  CANCELLED  ARRIVAL_DELAY_BIN_30  \n",
       "0              965.0          -18.0         0          0                     0  \n",
       "1             1385.0            2.0         0          0                     0  \n",
       "2             1055.0           -2.0         0          0                     0  \n",
       "3             1175.0           -5.0         0          0                     0  \n",
       "4              615.0          -20.0         0          0                     0  "
      ]
     },
     "execution_count": 225,
     "metadata": {},
     "output_type": "execute_result"
    }
   ],
   "source": [
    "ds7 = DataSet(cleaningOption='drop', sampleFraction=0.1, \n",
    "              dropCols=['AIR_SYSTEM_DELAY', 'SECURITY_DELAY', 'AIRLINE_DELAY', \n",
    "                        'LATE_AIRCRAFT_DELAY', 'WEATHER_DELAY', 'CANCELLATION_REASON'])\n",
    "data7 = ds7.myData\n",
    "data7.head()"
   ]
  },
  {
   "cell_type": "code",
   "execution_count": 226,
   "metadata": {
    "collapsed": true
   },
   "outputs": [],
   "source": [
    "data7 = ds7.myData\n",
    "data7_missing_values = data7.isnull().sum(axis=0)\n",
    "# data7_missing_values"
   ]
  },
  {
   "cell_type": "code",
   "execution_count": 227,
   "metadata": {},
   "outputs": [
    {
     "data": {
      "text/plain": [
       "(571401, 31)"
      ]
     },
     "execution_count": 227,
     "metadata": {},
     "output_type": "execute_result"
    }
   ],
   "source": [
    "data7 = pd.get_dummies(data7, columns=dummy_columns2, drop_first=True)\n",
    "data7.shape"
   ]
  },
  {
   "cell_type": "code",
   "execution_count": 229,
   "metadata": {
    "collapsed": true
   },
   "outputs": [],
   "source": [
    "# data7.dtypes"
   ]
  },
  {
   "cell_type": "code",
   "execution_count": 230,
   "metadata": {},
   "outputs": [
    {
     "name": "stdout",
     "output_type": "stream",
     "text": [
      "(571401, 26) (571401,)\n"
     ]
    }
   ],
   "source": [
    "X7 = data7.drop(['DEPARTURE_DELAY', 'ARRIVAL_DELAY', 'DIVERTED', 'CANCELLED', 'ARRIVAL_DELAY_BIN_30'], axis=1)\n",
    "y7 = data7['ARRIVAL_DELAY_BIN_30']\n",
    "print(X7.shape, y7.shape)"
   ]
  },
  {
   "cell_type": "code",
   "execution_count": 231,
   "metadata": {},
   "outputs": [
    {
     "name": "stdout",
     "output_type": "stream",
     "text": [
      "(382838, 26) (188563, 26) (382838,) (188563,)\n"
     ]
    }
   ],
   "source": [
    "X_train_7, X_test_7, y_train_7, y_test_7 = train_test_split(X7, y7, test_size=0.33, random_state=42)\n",
    "print(X_train_7.shape, X_test_7.shape, y_train_7.shape, y_test_7.shape)"
   ]
  },
  {
   "cell_type": "code",
   "execution_count": 232,
   "metadata": {},
   "outputs": [
    {
     "name": "stdout",
     "output_type": "stream",
     "text": [
      "(382838, 27) (188563, 27)\n"
     ]
    }
   ],
   "source": [
    "train_data_7 = pd.concat([X_train_7, y_train_7], axis=1)\n",
    "test_data_7 = pd.concat([X_test_7, y_test_7], axis=1)\n",
    "print(train_data_7.shape, test_data_7.shape)"
   ]
  },
  {
   "cell_type": "code",
   "execution_count": 233,
   "metadata": {},
   "outputs": [
    {
     "name": "stdout",
     "output_type": "stream",
     "text": [
      "DAY_OF_YEAR\n",
      "ORIGIN_AIRPORT\n",
      "DESTINATION_AIRPORT\n",
      "\n",
      "DAY_OF_YEAR\n",
      "ORIGIN_AIRPORT\n",
      "DESTINATION_AIRPORT\n"
     ]
    }
   ],
   "source": [
    "# Transform training set\n",
    "day_of_year_woe = get_woe('DAY_OF_YEAR', train_data_7)\n",
    "train_data_7['DAY_OF_YEAR_WOE'] = day_of_year_woe\n",
    "origin_woe = get_woe('ORIGIN_AIRPORT', train_data_7)\n",
    "train_data_7['ORIGIN_WOE'] = origin_woe\n",
    "dest_woe = get_woe('DESTINATION_AIRPORT', train_data_7)\n",
    "train_data_7['DESTINATION_WOE'] = dest_woe\n",
    "\n",
    "print()\n",
    "\n",
    "# Transform testing set\n",
    "day_of_year_woe = get_woe('DAY_OF_YEAR', test_data_7)\n",
    "test_data_7['DAY_OF_YEAR_WOE'] = day_of_year_woe\n",
    "origin_woe = get_woe('ORIGIN_AIRPORT', test_data_7)\n",
    "test_data_7['ORIGIN_WOE'] = origin_woe\n",
    "dest_woe = get_woe('DESTINATION_AIRPORT', test_data_7)\n",
    "test_data_7['DESTINATION_WOE'] = dest_woe"
   ]
  },
  {
   "cell_type": "code",
   "execution_count": 235,
   "metadata": {
    "collapsed": true
   },
   "outputs": [],
   "source": [
    "# for c in woe_columns2:\n",
    "#     print(train_data_7[c].describe())\n",
    "#     print()\n",
    "\n",
    "# for c in woe_columns2:\n",
    "#     print(test_data_7[c].describe())\n",
    "#     print()"
   ]
  },
  {
   "cell_type": "code",
   "execution_count": 236,
   "metadata": {},
   "outputs": [
    {
     "name": "stdout",
     "output_type": "stream",
     "text": [
      "(382838, 27)\n",
      "(382464, 27)\n",
      "(188563, 27)\n",
      "(188120, 27)\n"
     ]
    }
   ],
   "source": [
    "train_data_7 = train_data_7.drop(cols_to_drop2, axis=1)\n",
    "train_data_7 = train_data_7.reset_index()\n",
    "train_data_7 = train_data_7.drop(['index'], axis=1)\n",
    "\n",
    "test_data_7 = test_data_7.drop(cols_to_drop2, axis=1)\n",
    "test_data_7 = test_data_7.reset_index()\n",
    "test_data_7 = test_data_7.drop(['index'], axis=1)\n",
    "\n",
    "print(train_data_7.shape)\n",
    "train_data_7 = train_data_7.dropna(axis=0, how='any')\n",
    "print(train_data_7.shape)\n",
    "\n",
    "print(test_data_7.shape)\n",
    "test_data_7 = test_data_7.dropna(axis=0, how='any')\n",
    "print(test_data_7.shape)"
   ]
  },
  {
   "cell_type": "code",
   "execution_count": 238,
   "metadata": {
    "collapsed": true
   },
   "outputs": [],
   "source": [
    "# train7_missing_values = train_data_7.isnull().sum(axis=0)\n",
    "# train7_missing_values"
   ]
  },
  {
   "cell_type": "code",
   "execution_count": 239,
   "metadata": {},
   "outputs": [
    {
     "name": "stdout",
     "output_type": "stream",
     "text": [
      "(382464, 26) (188120, 26) (382464,) (188120,)\n"
     ]
    }
   ],
   "source": [
    "X_train_7 = train_data_7.drop(['ARRIVAL_DELAY_BIN_30'], axis=1)\n",
    "y_train_7 = train_data_7['ARRIVAL_DELAY_BIN_30']\n",
    "X_test_7 = test_data_7.drop(['ARRIVAL_DELAY_BIN_30'], axis=1)\n",
    "y_test_7 = test_data_7['ARRIVAL_DELAY_BIN_30']\n",
    "print(X_train_7.shape, X_test_7.shape, y_train_7.shape, y_test_7.shape)"
   ]
  },
  {
   "cell_type": "code",
   "execution_count": 241,
   "metadata": {
    "collapsed": true
   },
   "outputs": [],
   "source": [
    "# test_data_7.dtypes"
   ]
  },
  {
   "cell_type": "code",
   "execution_count": 243,
   "metadata": {
    "collapsed": true
   },
   "outputs": [],
   "source": [
    "# X_test_7.dtypes"
   ]
  },
  {
   "cell_type": "code",
   "execution_count": 244,
   "metadata": {
    "collapsed": true
   },
   "outputs": [],
   "source": [
    "X_train_7.to_csv('datasets/7_X_train.csv', index=False)\n",
    "X_test_7.to_csv('datasets/7_X_test.csv', index=False)\n",
    "y_train_7.to_csv('datasets/7_y_train.csv', index=False)\n",
    "y_test_7.to_csv('datasets/7_y_test.csv', index=False)"
   ]
  },
  {
   "cell_type": "code",
   "execution_count": 245,
   "metadata": {},
   "outputs": [
    {
     "data": {
      "text/plain": [
       "(382464, 26)"
      ]
     },
     "execution_count": 245,
     "metadata": {},
     "output_type": "execute_result"
    }
   ],
   "source": [
    "test_read_X7_train = pd.read_csv('datasets/7_X_train.csv', low_memory=False)\n",
    "test_read_X7_train.shape"
   ]
  },
  {
   "cell_type": "code",
   "execution_count": 249,
   "metadata": {
    "collapsed": true
   },
   "outputs": [],
   "source": [
    "# test_read_X7_train.dtypes"
   ]
  },
  {
   "cell_type": "code",
   "execution_count": 248,
   "metadata": {
    "collapsed": true
   },
   "outputs": [],
   "source": [
    "# test_read_y7_train = pd.read_csv('datasets/7_y_train.csv', low_memory=False, header=None)\n",
    "# test_read_y7_train = pd.Series(test_read_y7_train[0])\n",
    "# test_read_y7_train.describe()"
   ]
  },
  {
   "cell_type": "markdown",
   "metadata": {},
   "source": [
    "### Dataset 8"
   ]
  },
  {
   "cell_type": "code",
   "execution_count": 250,
   "metadata": {},
   "outputs": [
    {
     "name": "stdout",
     "output_type": "stream",
     "text": [
      "(581908, 14)\n"
     ]
    },
    {
     "data": {
      "text/html": [
       "<div>\n",
       "<style>\n",
       "    .dataframe thead tr:only-child th {\n",
       "        text-align: right;\n",
       "    }\n",
       "\n",
       "    .dataframe thead th {\n",
       "        text-align: left;\n",
       "    }\n",
       "\n",
       "    .dataframe tbody tr th {\n",
       "        vertical-align: top;\n",
       "    }\n",
       "</style>\n",
       "<table border=\"1\" class=\"dataframe\">\n",
       "  <thead>\n",
       "    <tr style=\"text-align: right;\">\n",
       "      <th></th>\n",
       "      <th>DAY_OF_YEAR</th>\n",
       "      <th>DAY_OF_WEEK</th>\n",
       "      <th>AIRLINE</th>\n",
       "      <th>ORIGIN_AIRPORT</th>\n",
       "      <th>DESTINATION_AIRPORT</th>\n",
       "      <th>SCHEDULED_DEPARTURE</th>\n",
       "      <th>DEPARTURE_DELAY</th>\n",
       "      <th>SCHEDULED_TIME</th>\n",
       "      <th>DISTANCE</th>\n",
       "      <th>SCHEDULED_ARRIVAL</th>\n",
       "      <th>ARRIVAL_DELAY</th>\n",
       "      <th>DIVERTED</th>\n",
       "      <th>CANCELLED</th>\n",
       "      <th>ARRIVAL_DELAY_BIN_30</th>\n",
       "    </tr>\n",
       "  </thead>\n",
       "  <tbody>\n",
       "    <tr>\n",
       "      <th>0</th>\n",
       "      <td>333</td>\n",
       "      <td>7</td>\n",
       "      <td>WN</td>\n",
       "      <td>DCA</td>\n",
       "      <td>MCO</td>\n",
       "      <td>935.0</td>\n",
       "      <td>-4.0</td>\n",
       "      <td>150.0</td>\n",
       "      <td>759</td>\n",
       "      <td>1085.0</td>\n",
       "      <td>-19.0</td>\n",
       "      <td>0</td>\n",
       "      <td>0</td>\n",
       "      <td>0</td>\n",
       "    </tr>\n",
       "    <tr>\n",
       "      <th>1</th>\n",
       "      <td>35</td>\n",
       "      <td>3</td>\n",
       "      <td>WN</td>\n",
       "      <td>MCI</td>\n",
       "      <td>PDX</td>\n",
       "      <td>1090.0</td>\n",
       "      <td>15.0</td>\n",
       "      <td>245.0</td>\n",
       "      <td>1482</td>\n",
       "      <td>1215.0</td>\n",
       "      <td>19.0</td>\n",
       "      <td>0</td>\n",
       "      <td>0</td>\n",
       "      <td>0</td>\n",
       "    </tr>\n",
       "    <tr>\n",
       "      <th>2</th>\n",
       "      <td>167</td>\n",
       "      <td>2</td>\n",
       "      <td>EV</td>\n",
       "      <td>AVP</td>\n",
       "      <td>DTW</td>\n",
       "      <td>1038.0</td>\n",
       "      <td>-6.0</td>\n",
       "      <td>96.0</td>\n",
       "      <td>399</td>\n",
       "      <td>1134.0</td>\n",
       "      <td>-14.0</td>\n",
       "      <td>0</td>\n",
       "      <td>0</td>\n",
       "      <td>0</td>\n",
       "    </tr>\n",
       "    <tr>\n",
       "      <th>3</th>\n",
       "      <td>155</td>\n",
       "      <td>4</td>\n",
       "      <td>EV</td>\n",
       "      <td>ABE</td>\n",
       "      <td>DTW</td>\n",
       "      <td>360.0</td>\n",
       "      <td>-4.0</td>\n",
       "      <td>100.0</td>\n",
       "      <td>425</td>\n",
       "      <td>460.0</td>\n",
       "      <td>8.0</td>\n",
       "      <td>0</td>\n",
       "      <td>0</td>\n",
       "      <td>0</td>\n",
       "    </tr>\n",
       "    <tr>\n",
       "      <th>4</th>\n",
       "      <td>136</td>\n",
       "      <td>6</td>\n",
       "      <td>UA</td>\n",
       "      <td>ORD</td>\n",
       "      <td>ANC</td>\n",
       "      <td>950.0</td>\n",
       "      <td>2.0</td>\n",
       "      <td>392.0</td>\n",
       "      <td>2846</td>\n",
       "      <td>1162.0</td>\n",
       "      <td>-9.0</td>\n",
       "      <td>0</td>\n",
       "      <td>0</td>\n",
       "      <td>0</td>\n",
       "    </tr>\n",
       "  </tbody>\n",
       "</table>\n",
       "</div>"
      ],
      "text/plain": [
       "   DAY_OF_YEAR  DAY_OF_WEEK AIRLINE ORIGIN_AIRPORT DESTINATION_AIRPORT  \\\n",
       "0          333            7      WN            DCA                 MCO   \n",
       "1           35            3      WN            MCI                 PDX   \n",
       "2          167            2      EV            AVP                 DTW   \n",
       "3          155            4      EV            ABE                 DTW   \n",
       "4          136            6      UA            ORD                 ANC   \n",
       "\n",
       "   SCHEDULED_DEPARTURE  DEPARTURE_DELAY  SCHEDULED_TIME  DISTANCE  \\\n",
       "0                935.0             -4.0           150.0       759   \n",
       "1               1090.0             15.0           245.0      1482   \n",
       "2               1038.0             -6.0            96.0       399   \n",
       "3                360.0             -4.0           100.0       425   \n",
       "4                950.0              2.0           392.0      2846   \n",
       "\n",
       "   SCHEDULED_ARRIVAL  ARRIVAL_DELAY  DIVERTED  CANCELLED  ARRIVAL_DELAY_BIN_30  \n",
       "0             1085.0          -19.0         0          0                     0  \n",
       "1             1215.0           19.0         0          0                     0  \n",
       "2             1134.0          -14.0         0          0                     0  \n",
       "3              460.0            8.0         0          0                     0  \n",
       "4             1162.0           -9.0         0          0                     0  "
      ]
     },
     "execution_count": 250,
     "metadata": {},
     "output_type": "execute_result"
    }
   ],
   "source": [
    "ds8 = DataSet(cleaningOption='mean', sampleFraction=0.1, \n",
    "              dropCols=['AIR_SYSTEM_DELAY', 'SECURITY_DELAY', 'AIRLINE_DELAY', \n",
    "                        'LATE_AIRCRAFT_DELAY', 'WEATHER_DELAY', 'CANCELLATION_REASON'])\n",
    "data8 = ds8.myData\n",
    "data8.head()"
   ]
  },
  {
   "cell_type": "code",
   "execution_count": 252,
   "metadata": {
    "collapsed": true
   },
   "outputs": [],
   "source": [
    "data8 = ds8.myData\n",
    "data8_missing_values = data8.isnull().sum(axis=0)\n",
    "# data8_missing_values"
   ]
  },
  {
   "cell_type": "code",
   "execution_count": 253,
   "metadata": {},
   "outputs": [
    {
     "data": {
      "text/plain": [
       "(581908, 31)"
      ]
     },
     "execution_count": 253,
     "metadata": {},
     "output_type": "execute_result"
    }
   ],
   "source": [
    "data8 = pd.get_dummies(data8, columns=dummy_columns2, drop_first=True)\n",
    "data8.shape"
   ]
  },
  {
   "cell_type": "code",
   "execution_count": 255,
   "metadata": {
    "collapsed": true
   },
   "outputs": [],
   "source": [
    "# data8.dtypes"
   ]
  },
  {
   "cell_type": "code",
   "execution_count": 256,
   "metadata": {},
   "outputs": [
    {
     "name": "stdout",
     "output_type": "stream",
     "text": [
      "(581908, 26) (581908,)\n"
     ]
    }
   ],
   "source": [
    "X8 = data8.drop(['DEPARTURE_DELAY', 'ARRIVAL_DELAY', 'DIVERTED', 'CANCELLED', 'ARRIVAL_DELAY_BIN_30'], axis=1)\n",
    "y8 = data8['ARRIVAL_DELAY_BIN_30']\n",
    "print(X8.shape, y8.shape)"
   ]
  },
  {
   "cell_type": "code",
   "execution_count": 257,
   "metadata": {},
   "outputs": [
    {
     "name": "stdout",
     "output_type": "stream",
     "text": [
      "(389878, 26) (192030, 26) (389878,) (192030,)\n"
     ]
    }
   ],
   "source": [
    "X_train_8, X_test_8, y_train_8, y_test_8 = train_test_split(X8, y8, test_size=0.33, random_state=42)\n",
    "print(X_train_8.shape, X_test_8.shape, y_train_8.shape, y_test_8.shape)"
   ]
  },
  {
   "cell_type": "code",
   "execution_count": 258,
   "metadata": {},
   "outputs": [
    {
     "name": "stdout",
     "output_type": "stream",
     "text": [
      "(389878, 27) (192030, 27)\n"
     ]
    }
   ],
   "source": [
    "train_data_8 = pd.concat([X_train_8, y_train_8], axis=1)\n",
    "test_data_8 = pd.concat([X_test_8, y_test_8], axis=1)\n",
    "print(train_data_8.shape, test_data_8.shape)"
   ]
  },
  {
   "cell_type": "code",
   "execution_count": 259,
   "metadata": {},
   "outputs": [
    {
     "name": "stdout",
     "output_type": "stream",
     "text": [
      "DAY_OF_YEAR\n",
      "ORIGIN_AIRPORT\n",
      "DESTINATION_AIRPORT\n",
      "\n",
      "DAY_OF_YEAR\n",
      "ORIGIN_AIRPORT\n",
      "DESTINATION_AIRPORT\n"
     ]
    }
   ],
   "source": [
    "# Transform training set\n",
    "day_of_year_woe = get_woe('DAY_OF_YEAR', train_data_8)\n",
    "train_data_8['DAY_OF_YEAR_WOE'] = day_of_year_woe\n",
    "origin_woe = get_woe('ORIGIN_AIRPORT', train_data_8)\n",
    "train_data_8['ORIGIN_WOE'] = origin_woe\n",
    "dest_woe = get_woe('DESTINATION_AIRPORT', train_data_8)\n",
    "train_data_8['DESTINATION_WOE'] = dest_woe\n",
    "\n",
    "print()\n",
    "\n",
    "# Transform testing set\n",
    "day_of_year_woe = get_woe('DAY_OF_YEAR', test_data_8)\n",
    "test_data_8['DAY_OF_YEAR_WOE'] = day_of_year_woe\n",
    "origin_woe = get_woe('ORIGIN_AIRPORT', test_data_8)\n",
    "test_data_8['ORIGIN_WOE'] = origin_woe\n",
    "dest_woe = get_woe('DESTINATION_AIRPORT', test_data_8)\n",
    "test_data_8['DESTINATION_WOE'] = dest_woe"
   ]
  },
  {
   "cell_type": "code",
   "execution_count": 261,
   "metadata": {
    "collapsed": true
   },
   "outputs": [],
   "source": [
    "# for c in woe_columns2:\n",
    "#     print(train_data_8[c].describe())\n",
    "#     print()\n",
    "\n",
    "# for c in woe_columns2:\n",
    "#     print(test_data_8[c].describe())\n",
    "#     print()"
   ]
  },
  {
   "cell_type": "code",
   "execution_count": 262,
   "metadata": {},
   "outputs": [
    {
     "name": "stdout",
     "output_type": "stream",
     "text": [
      "(389878, 27)\n",
      "(389695, 27)\n",
      "(192030, 27)\n",
      "(191497, 27)\n"
     ]
    }
   ],
   "source": [
    "train_data_8 = train_data_8.drop(cols_to_drop2, axis=1)\n",
    "train_data_8 = train_data_8.reset_index()\n",
    "train_data_8 = train_data_8.drop(['index'], axis=1)\n",
    "\n",
    "test_data_8 = test_data_8.drop(cols_to_drop2, axis=1)\n",
    "test_data_8 = test_data_8.reset_index()\n",
    "test_data_8 = test_data_8.drop(['index'], axis=1)\n",
    "\n",
    "print(train_data_8.shape)\n",
    "train_data_8 = train_data_8.dropna(axis=0, how='any')\n",
    "print(train_data_8.shape)\n",
    "\n",
    "print(test_data_8.shape)\n",
    "test_data_8 = test_data_8.dropna(axis=0, how='any')\n",
    "print(test_data_8.shape)"
   ]
  },
  {
   "cell_type": "code",
   "execution_count": 264,
   "metadata": {
    "collapsed": true
   },
   "outputs": [],
   "source": [
    "# train8_missing_values = train_data_8.isnull().sum(axis=0)\n",
    "# train8_missing_values"
   ]
  },
  {
   "cell_type": "code",
   "execution_count": 265,
   "metadata": {},
   "outputs": [
    {
     "name": "stdout",
     "output_type": "stream",
     "text": [
      "(389695, 26) (191497, 26) (389695,) (191497,)\n"
     ]
    }
   ],
   "source": [
    "X_train_8 = train_data_8.drop(['ARRIVAL_DELAY_BIN_30'], axis=1)\n",
    "y_train_8 = train_data_8['ARRIVAL_DELAY_BIN_30']\n",
    "X_test_8 = test_data_8.drop(['ARRIVAL_DELAY_BIN_30'], axis=1)\n",
    "y_test_8 = test_data_8['ARRIVAL_DELAY_BIN_30']\n",
    "print(X_train_8.shape, X_test_8.shape, y_train_8.shape, y_test_8.shape)"
   ]
  },
  {
   "cell_type": "code",
   "execution_count": 267,
   "metadata": {
    "collapsed": true
   },
   "outputs": [],
   "source": [
    "# X_test_8.dtypes"
   ]
  },
  {
   "cell_type": "code",
   "execution_count": 268,
   "metadata": {
    "collapsed": true
   },
   "outputs": [],
   "source": [
    "X_train_8.to_csv('datasets/8_X_train.csv', index=False)\n",
    "X_test_8.to_csv('datasets/8_X_test.csv', index=False)\n",
    "y_train_8.to_csv('datasets/8_y_train.csv', index=False)\n",
    "y_test_8.to_csv('datasets/8_y_test.csv', index=False)"
   ]
  },
  {
   "cell_type": "code",
   "execution_count": 269,
   "metadata": {},
   "outputs": [
    {
     "data": {
      "text/plain": [
       "(389695, 26)"
      ]
     },
     "execution_count": 269,
     "metadata": {},
     "output_type": "execute_result"
    }
   ],
   "source": [
    "test_read_X8_train = pd.read_csv('datasets/8_X_train.csv', low_memory=False)\n",
    "test_read_X8_train.shape"
   ]
  },
  {
   "cell_type": "markdown",
   "metadata": {},
   "source": [
    "### Dataset 9"
   ]
  },
  {
   "cell_type": "code",
   "execution_count": 270,
   "metadata": {},
   "outputs": [
    {
     "name": "stdout",
     "output_type": "stream",
     "text": [
      "(581908, 14)\n"
     ]
    },
    {
     "data": {
      "text/html": [
       "<div>\n",
       "<style>\n",
       "    .dataframe thead tr:only-child th {\n",
       "        text-align: right;\n",
       "    }\n",
       "\n",
       "    .dataframe thead th {\n",
       "        text-align: left;\n",
       "    }\n",
       "\n",
       "    .dataframe tbody tr th {\n",
       "        vertical-align: top;\n",
       "    }\n",
       "</style>\n",
       "<table border=\"1\" class=\"dataframe\">\n",
       "  <thead>\n",
       "    <tr style=\"text-align: right;\">\n",
       "      <th></th>\n",
       "      <th>DAY_OF_YEAR</th>\n",
       "      <th>DAY_OF_WEEK</th>\n",
       "      <th>AIRLINE</th>\n",
       "      <th>ORIGIN_AIRPORT</th>\n",
       "      <th>DESTINATION_AIRPORT</th>\n",
       "      <th>SCHEDULED_DEPARTURE</th>\n",
       "      <th>DEPARTURE_DELAY</th>\n",
       "      <th>SCHEDULED_TIME</th>\n",
       "      <th>DISTANCE</th>\n",
       "      <th>SCHEDULED_ARRIVAL</th>\n",
       "      <th>ARRIVAL_DELAY</th>\n",
       "      <th>DIVERTED</th>\n",
       "      <th>CANCELLED</th>\n",
       "      <th>ARRIVAL_DELAY_BIN_30</th>\n",
       "    </tr>\n",
       "  </thead>\n",
       "  <tbody>\n",
       "    <tr>\n",
       "      <th>0</th>\n",
       "      <td>183</td>\n",
       "      <td>4</td>\n",
       "      <td>AA</td>\n",
       "      <td>PHX</td>\n",
       "      <td>ONT</td>\n",
       "      <td>1370.0</td>\n",
       "      <td>0.0</td>\n",
       "      <td>67.0</td>\n",
       "      <td>325</td>\n",
       "      <td>1437.0</td>\n",
       "      <td>3.0</td>\n",
       "      <td>0</td>\n",
       "      <td>0</td>\n",
       "      <td>0</td>\n",
       "    </tr>\n",
       "    <tr>\n",
       "      <th>1</th>\n",
       "      <td>255</td>\n",
       "      <td>6</td>\n",
       "      <td>AA</td>\n",
       "      <td>TPA</td>\n",
       "      <td>ORD</td>\n",
       "      <td>1056.0</td>\n",
       "      <td>39.0</td>\n",
       "      <td>175.0</td>\n",
       "      <td>1012</td>\n",
       "      <td>1171.0</td>\n",
       "      <td>23.0</td>\n",
       "      <td>0</td>\n",
       "      <td>0</td>\n",
       "      <td>0</td>\n",
       "    </tr>\n",
       "    <tr>\n",
       "      <th>2</th>\n",
       "      <td>258</td>\n",
       "      <td>2</td>\n",
       "      <td>AS</td>\n",
       "      <td>SEA</td>\n",
       "      <td>DEN</td>\n",
       "      <td>665.0</td>\n",
       "      <td>-2.0</td>\n",
       "      <td>158.0</td>\n",
       "      <td>1024</td>\n",
       "      <td>883.0</td>\n",
       "      <td>-5.0</td>\n",
       "      <td>0</td>\n",
       "      <td>0</td>\n",
       "      <td>0</td>\n",
       "    </tr>\n",
       "    <tr>\n",
       "      <th>3</th>\n",
       "      <td>205</td>\n",
       "      <td>5</td>\n",
       "      <td>UA</td>\n",
       "      <td>ORD</td>\n",
       "      <td>AUS</td>\n",
       "      <td>803.0</td>\n",
       "      <td>-8.0</td>\n",
       "      <td>164.0</td>\n",
       "      <td>978</td>\n",
       "      <td>967.0</td>\n",
       "      <td>-26.0</td>\n",
       "      <td>0</td>\n",
       "      <td>0</td>\n",
       "      <td>0</td>\n",
       "    </tr>\n",
       "    <tr>\n",
       "      <th>4</th>\n",
       "      <td>75</td>\n",
       "      <td>1</td>\n",
       "      <td>DL</td>\n",
       "      <td>HNL</td>\n",
       "      <td>ATL</td>\n",
       "      <td>1000.0</td>\n",
       "      <td>-5.0</td>\n",
       "      <td>520.0</td>\n",
       "      <td>4502</td>\n",
       "      <td>440.0</td>\n",
       "      <td>-28.0</td>\n",
       "      <td>0</td>\n",
       "      <td>0</td>\n",
       "      <td>0</td>\n",
       "    </tr>\n",
       "  </tbody>\n",
       "</table>\n",
       "</div>"
      ],
      "text/plain": [
       "   DAY_OF_YEAR  DAY_OF_WEEK AIRLINE ORIGIN_AIRPORT DESTINATION_AIRPORT  \\\n",
       "0          183            4      AA            PHX                 ONT   \n",
       "1          255            6      AA            TPA                 ORD   \n",
       "2          258            2      AS            SEA                 DEN   \n",
       "3          205            5      UA            ORD                 AUS   \n",
       "4           75            1      DL            HNL                 ATL   \n",
       "\n",
       "   SCHEDULED_DEPARTURE  DEPARTURE_DELAY  SCHEDULED_TIME  DISTANCE  \\\n",
       "0               1370.0              0.0            67.0       325   \n",
       "1               1056.0             39.0           175.0      1012   \n",
       "2                665.0             -2.0           158.0      1024   \n",
       "3                803.0             -8.0           164.0       978   \n",
       "4               1000.0             -5.0           520.0      4502   \n",
       "\n",
       "   SCHEDULED_ARRIVAL  ARRIVAL_DELAY  DIVERTED  CANCELLED  ARRIVAL_DELAY_BIN_30  \n",
       "0             1437.0            3.0         0          0                     0  \n",
       "1             1171.0           23.0         0          0                     0  \n",
       "2              883.0           -5.0         0          0                     0  \n",
       "3              967.0          -26.0         0          0                     0  \n",
       "4              440.0          -28.0         0          0                     0  "
      ]
     },
     "execution_count": 270,
     "metadata": {},
     "output_type": "execute_result"
    }
   ],
   "source": [
    "ds9 = DataSet(cleaningOption='median', sampleFraction=0.1, \n",
    "              dropCols=['AIR_SYSTEM_DELAY', 'SECURITY_DELAY', 'AIRLINE_DELAY', \n",
    "                        'LATE_AIRCRAFT_DELAY', 'WEATHER_DELAY', 'CANCELLATION_REASON'])\n",
    "data9 = ds9.myData\n",
    "data9.head()"
   ]
  },
  {
   "cell_type": "code",
   "execution_count": 272,
   "metadata": {
    "collapsed": true
   },
   "outputs": [],
   "source": [
    "data9 = ds9.myData\n",
    "data9_missing_values = data9.isnull().sum(axis=0)\n",
    "# data9_missing_values"
   ]
  },
  {
   "cell_type": "code",
   "execution_count": 273,
   "metadata": {},
   "outputs": [
    {
     "data": {
      "text/plain": [
       "(581908, 31)"
      ]
     },
     "execution_count": 273,
     "metadata": {},
     "output_type": "execute_result"
    }
   ],
   "source": [
    "data9 = pd.get_dummies(data9, columns=dummy_columns2, drop_first=True)\n",
    "data9.shape"
   ]
  },
  {
   "cell_type": "code",
   "execution_count": 275,
   "metadata": {
    "collapsed": true
   },
   "outputs": [],
   "source": [
    "# data9.dtypes"
   ]
  },
  {
   "cell_type": "code",
   "execution_count": 276,
   "metadata": {},
   "outputs": [
    {
     "name": "stdout",
     "output_type": "stream",
     "text": [
      "(581908, 26) (581908,)\n"
     ]
    }
   ],
   "source": [
    "X9 = data9.drop(['DEPARTURE_DELAY', 'ARRIVAL_DELAY', 'DIVERTED', 'CANCELLED', 'ARRIVAL_DELAY_BIN_30'], axis=1)\n",
    "y9 = data9['ARRIVAL_DELAY_BIN_30']\n",
    "print(X9.shape, y9.shape)"
   ]
  },
  {
   "cell_type": "code",
   "execution_count": 277,
   "metadata": {},
   "outputs": [
    {
     "name": "stdout",
     "output_type": "stream",
     "text": [
      "(389878, 26) (192030, 26) (389878,) (192030,)\n"
     ]
    }
   ],
   "source": [
    "X_train_9, X_test_9, y_train_9, y_test_9 = train_test_split(X9, y9, test_size=0.33, random_state=42)\n",
    "print(X_train_9.shape, X_test_9.shape, y_train_9.shape, y_test_9.shape)"
   ]
  },
  {
   "cell_type": "code",
   "execution_count": 278,
   "metadata": {},
   "outputs": [
    {
     "name": "stdout",
     "output_type": "stream",
     "text": [
      "(389878, 27) (192030, 27)\n"
     ]
    }
   ],
   "source": [
    "train_data_9 = pd.concat([X_train_9, y_train_9], axis=1)\n",
    "test_data_9 = pd.concat([X_test_9, y_test_9], axis=1)\n",
    "print(train_data_9.shape, test_data_9.shape)"
   ]
  },
  {
   "cell_type": "code",
   "execution_count": 279,
   "metadata": {},
   "outputs": [
    {
     "name": "stdout",
     "output_type": "stream",
     "text": [
      "DAY_OF_YEAR\n",
      "ORIGIN_AIRPORT\n",
      "DESTINATION_AIRPORT\n",
      "\n",
      "DAY_OF_YEAR\n",
      "ORIGIN_AIRPORT\n",
      "DESTINATION_AIRPORT\n"
     ]
    }
   ],
   "source": [
    "# Transform training set\n",
    "day_of_year_woe = get_woe('DAY_OF_YEAR', train_data_9)\n",
    "train_data_9['DAY_OF_YEAR_WOE'] = day_of_year_woe\n",
    "origin_woe = get_woe('ORIGIN_AIRPORT', train_data_9)\n",
    "train_data_9['ORIGIN_WOE'] = origin_woe\n",
    "dest_woe = get_woe('DESTINATION_AIRPORT', train_data_9)\n",
    "train_data_9['DESTINATION_WOE'] = dest_woe\n",
    "\n",
    "print()\n",
    "\n",
    "# Transform testing set\n",
    "day_of_year_woe = get_woe('DAY_OF_YEAR', test_data_9)\n",
    "test_data_9['DAY_OF_YEAR_WOE'] = day_of_year_woe\n",
    "origin_woe = get_woe('ORIGIN_AIRPORT', test_data_9)\n",
    "test_data_9['ORIGIN_WOE'] = origin_woe\n",
    "dest_woe = get_woe('DESTINATION_AIRPORT', test_data_9)\n",
    "test_data_9['DESTINATION_WOE'] = dest_woe"
   ]
  },
  {
   "cell_type": "code",
   "execution_count": 281,
   "metadata": {
    "collapsed": true
   },
   "outputs": [],
   "source": [
    "# for c in woe_columns2:\n",
    "#     print(train_data_9[c].describe())\n",
    "#     print()\n",
    "\n",
    "# for c in woe_columns2:\n",
    "#     print(test_data_9[c].describe())\n",
    "#     print()"
   ]
  },
  {
   "cell_type": "code",
   "execution_count": 282,
   "metadata": {},
   "outputs": [
    {
     "name": "stdout",
     "output_type": "stream",
     "text": [
      "(389878, 27)\n",
      "(389583, 27)\n",
      "(192030, 27)\n",
      "(191552, 27)\n"
     ]
    }
   ],
   "source": [
    "train_data_9 = train_data_9.drop(cols_to_drop2, axis=1)\n",
    "train_data_9 = train_data_9.reset_index()\n",
    "train_data_9 = train_data_9.drop(['index'], axis=1)\n",
    "\n",
    "test_data_9 = test_data_9.drop(cols_to_drop2, axis=1)\n",
    "test_data_9 = test_data_9.reset_index()\n",
    "test_data_9 = test_data_9.drop(['index'], axis=1)\n",
    "\n",
    "print(train_data_9.shape)\n",
    "train_data_9 = train_data_9.dropna(axis=0, how='any')\n",
    "print(train_data_9.shape)\n",
    "\n",
    "print(test_data_9.shape)\n",
    "test_data_9 = test_data_9.dropna(axis=0, how='any')\n",
    "print(test_data_9.shape)"
   ]
  },
  {
   "cell_type": "code",
   "execution_count": 284,
   "metadata": {
    "collapsed": true
   },
   "outputs": [],
   "source": [
    "# train9_missing_values = train_data_9.isnull().sum(axis=0)\n",
    "# train9_missing_values"
   ]
  },
  {
   "cell_type": "code",
   "execution_count": 285,
   "metadata": {},
   "outputs": [
    {
     "name": "stdout",
     "output_type": "stream",
     "text": [
      "(389583, 26) (191552, 26) (389583,) (191552,)\n"
     ]
    }
   ],
   "source": [
    "X_train_9 = train_data_9.drop(['ARRIVAL_DELAY_BIN_30'], axis=1)\n",
    "y_train_9 = train_data_9['ARRIVAL_DELAY_BIN_30']\n",
    "X_test_9 = test_data_9.drop(['ARRIVAL_DELAY_BIN_30'], axis=1)\n",
    "y_test_9 = test_data_9['ARRIVAL_DELAY_BIN_30']\n",
    "print(X_train_9.shape, X_test_9.shape, y_train_9.shape, y_test_9.shape)"
   ]
  },
  {
   "cell_type": "code",
   "execution_count": 287,
   "metadata": {
    "collapsed": true
   },
   "outputs": [],
   "source": [
    "# X_test_9.dtypes"
   ]
  },
  {
   "cell_type": "code",
   "execution_count": 288,
   "metadata": {
    "collapsed": true
   },
   "outputs": [],
   "source": [
    "X_train_9.to_csv('datasets/9_X_train.csv', index=False)\n",
    "X_test_9.to_csv('datasets/9_X_test.csv', index=False)\n",
    "y_train_9.to_csv('datasets/9_y_train.csv', index=False)\n",
    "y_test_9.to_csv('datasets/9_y_test.csv', index=False)"
   ]
  },
  {
   "cell_type": "code",
   "execution_count": 289,
   "metadata": {},
   "outputs": [
    {
     "data": {
      "text/plain": [
       "(389583, 26)"
      ]
     },
     "execution_count": 289,
     "metadata": {},
     "output_type": "execute_result"
    }
   ],
   "source": [
    "test_read_X9_train = pd.read_csv('datasets/9_X_train.csv', low_memory=False)\n",
    "test_read_X9_train.shape"
   ]
  },
  {
   "cell_type": "markdown",
   "metadata": {},
   "source": [
    "---"
   ]
  },
  {
   "cell_type": "markdown",
   "metadata": {},
   "source": [
    "### Setup for datasets 10 - 12"
   ]
  },
  {
   "cell_type": "code",
   "execution_count": 298,
   "metadata": {
    "collapsed": true
   },
   "outputs": [],
   "source": [
    "import category_encoders as ce\n",
    "columns_to_encode = ['DAY_OF_YEAR', 'DAY_OF_WEEK', 'AIRLINE', 'ORIGIN_AIRPORT', 'DESTINATION_AIRPORT']\n",
    "remove_for_X = ['DEPARTURE_DELAY', 'ARRIVAL_DELAY', 'DIVERTED', 'CANCELLED', 'ARRIVAL_DELAY_BIN_30']"
   ]
  },
  {
   "cell_type": "code",
   "execution_count": 323,
   "metadata": {
    "collapsed": true
   },
   "outputs": [],
   "source": [
    "def create_test_train_split(dataset, enc, ds_num):\n",
    "    iterData = dataset.myData\n",
    "    iterData_missing_values = iterData.isnull().sum(axis=0)\n",
    "    print(iterData_missing_values)\n",
    "    print()\n",
    "    X = iterData.drop(remove_for_X, axis=1)\n",
    "    y = iterData['ARRIVAL_DELAY_BIN_30']\n",
    "    print(X.shape, y.shape)\n",
    "    print()\n",
    "    \n",
    "    print(enc)\n",
    "    print()\n",
    "    encoder = enc\n",
    "    encoder.fit(X, None)\n",
    "    X_transformed = encoder.transform(X)\n",
    "    print(X_transformed.shape)\n",
    "    print()\n",
    "    \n",
    "    X_train, X_test, y_train, y_test = train_test_split(X_transformed, y, test_size=0.33, random_state=42)\n",
    "    print(X_train.shape, X_test.shape, y_train.shape, y_test.shape)\n",
    "    print()\n",
    "    \n",
    "    X_train.to_csv('datasets/' + str(ds_num) + '_X_train.csv', index=False)\n",
    "    print(\"Finished outputting X_train_\" + str(ds_num) + \" to csv\")\n",
    "    X_test.to_csv('datasets/' + str(ds_num) + '_X_test.csv', index=False)\n",
    "    print(\"Finished outputting X_test_\" + str(ds_num) + \" to csv\")\n",
    "    y_train.to_csv('datasets/' + str(ds_num) + '_y_train.csv', index=False)\n",
    "    print(\"Finished outputting y_train_\" + str(ds_num) + \" to csv\")\n",
    "    y_test.to_csv('datasets/' + str(ds_num) + '_y_test.csv', index=False)\n",
    "    print(\"Finished outputting y_test_\" + str(ds_num) + \" to csv\")"
   ]
  },
  {
   "cell_type": "markdown",
   "metadata": {},
   "source": [
    "### Dataset 10"
   ]
  },
  {
   "cell_type": "code",
   "execution_count": 319,
   "metadata": {},
   "outputs": [
    {
     "name": "stdout",
     "output_type": "stream",
     "text": [
      "(25000, 14)\n"
     ]
    }
   ],
   "source": [
    "ds10 = DataSet(cleaningOption='drop', sample_n=25000, \n",
    "               dropCols=['AIR_SYSTEM_DELAY', 'SECURITY_DELAY', 'AIRLINE_DELAY', \n",
    "                         'LATE_AIRCRAFT_DELAY', 'WEATHER_DELAY', 'CANCELLATION_REASON'])"
   ]
  },
  {
   "cell_type": "code",
   "execution_count": 324,
   "metadata": {},
   "outputs": [
    {
     "name": "stdout",
     "output_type": "stream",
     "text": [
      "DAY_OF_YEAR             0\n",
      "DAY_OF_WEEK             0\n",
      "AIRLINE                 0\n",
      "ORIGIN_AIRPORT          0\n",
      "DESTINATION_AIRPORT     0\n",
      "SCHEDULED_DEPARTURE     0\n",
      "DEPARTURE_DELAY         0\n",
      "SCHEDULED_TIME          0\n",
      "DISTANCE                0\n",
      "SCHEDULED_ARRIVAL       0\n",
      "ARRIVAL_DELAY           0\n",
      "DIVERTED                0\n",
      "CANCELLED               0\n",
      "ARRIVAL_DELAY_BIN_30    0\n",
      "dtype: int64\n",
      "\n",
      "(25000, 9) (25000,)\n",
      "\n",
      "HelmertEncoder(cols=['DAY_OF_YEAR', 'DAY_OF_WEEK', 'AIRLINE', 'ORIGIN_AIRPORT', 'DESTINATION_AIRPORT'],\n",
      "        drop_invariant=False, handle_unknown='impute', impute_missing=True,\n",
      "        return_df=True, verbose=0)\n",
      "\n",
      "(25000, 1009)\n",
      "\n",
      "(16750, 1009) (8250, 1009) (16750,) (8250,)\n",
      "\n",
      "Finished outputting X_train_10 to csv\n",
      "Finished outputting X_test_10 to csv\n",
      "Finished outputting y_train_10 to csv\n",
      "Finished outputting y_test_10 to csv\n"
     ]
    }
   ],
   "source": [
    "create_test_train_split(ds10, ce.HelmertEncoder(cols=columns_to_encode), 10)"
   ]
  },
  {
   "cell_type": "markdown",
   "metadata": {},
   "source": [
    "### Dataset 11"
   ]
  },
  {
   "cell_type": "code",
   "execution_count": 359,
   "metadata": {},
   "outputs": [
    {
     "name": "stdout",
     "output_type": "stream",
     "text": [
      "(25000, 14)\n"
     ]
    }
   ],
   "source": [
    "ds11 = DataSet(cleaningOption='mean', sample_n=25000, \n",
    "               dropCols=['AIR_SYSTEM_DELAY', 'SECURITY_DELAY', 'AIRLINE_DELAY', \n",
    "                         'LATE_AIRCRAFT_DELAY', 'WEATHER_DELAY', 'CANCELLATION_REASON'])"
   ]
  },
  {
   "cell_type": "code",
   "execution_count": 360,
   "metadata": {},
   "outputs": [
    {
     "name": "stdout",
     "output_type": "stream",
     "text": [
      "DAY_OF_YEAR             0\n",
      "DAY_OF_WEEK             0\n",
      "AIRLINE                 0\n",
      "ORIGIN_AIRPORT          0\n",
      "DESTINATION_AIRPORT     0\n",
      "SCHEDULED_DEPARTURE     0\n",
      "DEPARTURE_DELAY         0\n",
      "SCHEDULED_TIME          0\n",
      "DISTANCE                0\n",
      "SCHEDULED_ARRIVAL       0\n",
      "ARRIVAL_DELAY           0\n",
      "DIVERTED                0\n",
      "CANCELLED               0\n",
      "ARRIVAL_DELAY_BIN_30    0\n",
      "dtype: int64\n",
      "\n",
      "(25000, 9) (25000,)\n",
      "\n",
      "HelmertEncoder(cols=['DAY_OF_YEAR', 'DAY_OF_WEEK', 'AIRLINE', 'ORIGIN_AIRPORT', 'DESTINATION_AIRPORT'],\n",
      "        drop_invariant=False, handle_unknown='impute', impute_missing=True,\n",
      "        return_df=True, verbose=0)\n",
      "\n",
      "(25000, 1004)\n",
      "\n",
      "(16750, 1004) (8250, 1004) (16750,) (8250,)\n",
      "\n",
      "Finished outputting X_train_11 to csv\n",
      "Finished outputting X_test_11 to csv\n",
      "Finished outputting y_train_11 to csv\n",
      "Finished outputting y_test_11 to csv\n"
     ]
    }
   ],
   "source": [
    "create_test_train_split(ds11, ce.HelmertEncoder(cols=columns_to_encode), 11)"
   ]
  },
  {
   "cell_type": "markdown",
   "metadata": {},
   "source": [
    "### Dataset 12"
   ]
  },
  {
   "cell_type": "code",
   "execution_count": 363,
   "metadata": {},
   "outputs": [
    {
     "name": "stdout",
     "output_type": "stream",
     "text": [
      "(25000, 14)\n"
     ]
    }
   ],
   "source": [
    "ds12 = DataSet(cleaningOption='median', sample_n=25000, \n",
    "               dropCols=['AIR_SYSTEM_DELAY', 'SECURITY_DELAY', 'AIRLINE_DELAY', \n",
    "                         'LATE_AIRCRAFT_DELAY', 'WEATHER_DELAY', 'CANCELLATION_REASON'])"
   ]
  },
  {
   "cell_type": "code",
   "execution_count": 364,
   "metadata": {},
   "outputs": [
    {
     "name": "stdout",
     "output_type": "stream",
     "text": [
      "DAY_OF_YEAR             0\n",
      "DAY_OF_WEEK             0\n",
      "AIRLINE                 0\n",
      "ORIGIN_AIRPORT          0\n",
      "DESTINATION_AIRPORT     0\n",
      "SCHEDULED_DEPARTURE     0\n",
      "DEPARTURE_DELAY         0\n",
      "SCHEDULED_TIME          0\n",
      "DISTANCE                0\n",
      "SCHEDULED_ARRIVAL       0\n",
      "ARRIVAL_DELAY           0\n",
      "DIVERTED                0\n",
      "CANCELLED               0\n",
      "ARRIVAL_DELAY_BIN_30    0\n",
      "dtype: int64\n",
      "\n",
      "(25000, 9) (25000,)\n",
      "\n",
      "HelmertEncoder(cols=['DAY_OF_YEAR', 'DAY_OF_WEEK', 'AIRLINE', 'ORIGIN_AIRPORT', 'DESTINATION_AIRPORT'],\n",
      "        drop_invariant=False, handle_unknown='impute', impute_missing=True,\n",
      "        return_df=True, verbose=0)\n",
      "\n",
      "(25000, 1001)\n",
      "\n",
      "(16750, 1001) (8250, 1001) (16750,) (8250,)\n",
      "\n",
      "Finished outputting X_train_12 to csv\n",
      "Finished outputting X_test_12 to csv\n",
      "Finished outputting y_train_12 to csv\n",
      "Finished outputting y_test_12 to csv\n"
     ]
    }
   ],
   "source": [
    "create_test_train_split(ds12, ce.HelmertEncoder(cols=columns_to_encode), 12)"
   ]
  }
 ],
 "metadata": {
  "kernelspec": {
   "display_name": "Python 3",
   "language": "python",
   "name": "python3"
  },
  "language_info": {
   "codemirror_mode": {
    "name": "ipython",
    "version": 3
   },
   "file_extension": ".py",
   "mimetype": "text/x-python",
   "name": "python",
   "nbconvert_exporter": "python",
   "pygments_lexer": "ipython3",
   "version": "3.6.3"
  }
 },
 "nbformat": 4,
 "nbformat_minor": 2
}
