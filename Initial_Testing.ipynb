{
 "cells": [
  {
   "cell_type": "markdown",
   "metadata": {},
   "source": [
    "## Follow along the steps of this notebook to generate a dataset that's suitable for creating a test/train split."
   ]
  },
  {
   "cell_type": "markdown",
   "metadata": {},
   "source": [
    "**NOTE:** Many of these cells rely on earlier ones. As such, you should only execute a cell once all previous ones have finished running."
   ]
  },
  {
   "cell_type": "code",
   "execution_count": 1,
   "metadata": {},
   "outputs": [],
   "source": [
    "import datetime, warnings, scipy \n",
    "import pandas as pd\n",
    "import numpy as np\n",
    "import math\n",
    "warnings.filterwarnings(\"ignore\")"
   ]
  },
  {
   "cell_type": "code",
   "execution_count": 2,
   "metadata": {},
   "outputs": [
    {
     "name": "stdout",
     "output_type": "stream",
     "text": [
      "(5819079, 31)\n",
      "         YEAR  MONTH  DAY  DAY_OF_WEEK AIRLINE  FLIGHT_NUMBER TAIL_NUMBER  \\\n",
      "0        2015      1    1            4      AS             98      N407AS   \n",
      "1        2015      1    1            4      AA           2336      N3KUAA   \n",
      "2        2015      1    1            4      US            840      N171US   \n",
      "3        2015      1    1            4      AA            258      N3HYAA   \n",
      "4        2015      1    1            4      AS            135      N527AS   \n",
      "5        2015      1    1            4      DL            806      N3730B   \n",
      "6        2015      1    1            4      NK            612      N635NK   \n",
      "7        2015      1    1            4      US           2013      N584UW   \n",
      "8        2015      1    1            4      AA           1112      N3LAAA   \n",
      "9        2015      1    1            4      DL           1173      N826DN   \n",
      "10       2015      1    1            4      DL           2336      N958DN   \n",
      "11       2015      1    1            4      AA           1674      N853AA   \n",
      "12       2015      1    1            4      DL           1434      N547US   \n",
      "13       2015      1    1            4      DL           2324      N3751B   \n",
      "14       2015      1    1            4      DL           2440      N651DL   \n",
      "15       2015      1    1            4      AS            108      N309AS   \n",
      "16       2015      1    1            4      DL           1560      N3743H   \n",
      "17       2015      1    1            4      UA           1197      N78448   \n",
      "18       2015      1    1            4      AS            122      N413AS   \n",
      "19       2015      1    1            4      DL           1670      N806DN   \n",
      "20       2015      1    1            4      NK            520      N525NK   \n",
      "21       2015      1    1            4      AA            371      N3GXAA   \n",
      "22       2015      1    1            4      NK            214      N632NK   \n",
      "23       2015      1    1            4      AA            115      N3CTAA   \n",
      "24       2015      1    1            4      DL           1450      N671DN   \n",
      "25       2015      1    1            4      UA           1545      N76517   \n",
      "26       2015      1    1            4      AS            130      N457AS   \n",
      "27       2015      1    1            4      NK            597      N528NK   \n",
      "28       2015      1    1            4      US            413      N571UW   \n",
      "29       2015      1    1            4      AA           2392      N3HRAA   \n",
      "...       ...    ...  ...          ...     ...            ...         ...   \n",
      "5819049  2015     12   31            4      AA           1538      N866AA   \n",
      "5819050  2015     12   31            4      B6            136      N569JB   \n",
      "5819051  2015     12   31            4      AS             28      N477AS   \n",
      "5819052  2015     12   31            4      AS            111      N586AS   \n",
      "5819053  2015     12   31            4      AS            121      N768AS   \n",
      "5819054  2015     12   31            4      AS            175      N431AS   \n",
      "5819055  2015     12   31            4      AS            471      N570AS   \n",
      "5819056  2015     12   31            4      AS            850      N536AS   \n",
      "5819057  2015     12   31            4      NK            371      N661NK   \n",
      "5819058  2015     12   31            4      DL           2224      N332NW   \n",
      "5819059  2015     12   31            4      F9            710      N209FR   \n",
      "5819060  2015     12   31            4      F9            682      N701FR   \n",
      "5819061  2015     12   31            4      F9            566      N925FR   \n",
      "5819062  2015     12   31            4      F9            300      N949FR   \n",
      "5819063  2015     12   31            4      UA            516      N17245   \n",
      "5819064  2015     12   31            4      UA            668      N66848   \n",
      "5819065  2015     12   31            4      UA            671      N33209   \n",
      "5819066  2015     12   31            4      UA           1849      N497UA   \n",
      "5819067  2015     12   31            4      AA           2342      N3DLAA   \n",
      "5819068  2015     12   31            4      AA            219      N3LYAA   \n",
      "5819069  2015     12   31            4      B6           1248      N948JB   \n",
      "5819070  2015     12   31            4      B6             80      N584JB   \n",
      "5819071  2015     12   31            4      B6            802      N589JB   \n",
      "5819072  2015     12   31            4      B6             98      N607JB   \n",
      "5819073  2015     12   31            4      B6             66      N655JB   \n",
      "5819074  2015     12   31            4      B6            688      N657JB   \n",
      "5819075  2015     12   31            4      B6            745      N828JB   \n",
      "5819076  2015     12   31            4      B6           1503      N913JB   \n",
      "5819077  2015     12   31            4      B6            333      N527JB   \n",
      "5819078  2015     12   31            4      B6            839      N534JB   \n",
      "\n",
      "        ORIGIN_AIRPORT DESTINATION_AIRPORT  SCHEDULED_DEPARTURE  \\\n",
      "0                  ANC                 SEA                    5   \n",
      "1                  LAX                 PBI                   10   \n",
      "2                  SFO                 CLT                   20   \n",
      "3                  LAX                 MIA                   20   \n",
      "4                  SEA                 ANC                   25   \n",
      "5                  SFO                 MSP                   25   \n",
      "6                  LAS                 MSP                   25   \n",
      "7                  LAX                 CLT                   30   \n",
      "8                  SFO                 DFW                   30   \n",
      "9                  LAS                 ATL                   30   \n",
      "10                 DEN                 ATL                   30   \n",
      "11                 LAS                 MIA                   35   \n",
      "12                 LAX                 MSP                   35   \n",
      "13                 SLC                 ATL                   40   \n",
      "14                 SEA                 MSP                   40   \n",
      "15                 ANC                 SEA                   45   \n",
      "16                 ANC                 SEA                   45   \n",
      "17                 SFO                 IAH                   48   \n",
      "18                 ANC                 PDX                   50   \n",
      "19                 PDX                 MSP                   50   \n",
      "20                 LAS                 MCI                   55   \n",
      "21                 SEA                 MIA                  100   \n",
      "22                 LAS                 DFW                  103   \n",
      "23                 LAX                 MIA                  105   \n",
      "24                 LAS                 MSP                  105   \n",
      "25                 LAX                 IAH                  115   \n",
      "26                 FAI                 SEA                  115   \n",
      "27                 MSP                 FLL                  115   \n",
      "28                 LAS                 CLT                  120   \n",
      "29                 DEN                 MIA                  120   \n",
      "...                ...                 ...                  ...   \n",
      "5819049            LAX                 MIA                 2355   \n",
      "5819050            PHX                 JFK                 2355   \n",
      "5819051            SEA                 MSP                 2355   \n",
      "5819052            LAS                 ANC                 2355   \n",
      "5819053            SEA                 ANC                 2355   \n",
      "5819054            LAX                 ANC                 2355   \n",
      "5819055            LAX                 SEA                 2355   \n",
      "5819056            KOA                 SEA                 2355   \n",
      "5819057            FLL                 BQN                 2358   \n",
      "5819058            PHX                 DTW                 2359   \n",
      "5819059            DEN                 RSW                 2359   \n",
      "5819060            DEN                 MCO                 2359   \n",
      "5819061            DEN                 RDU                 2359   \n",
      "5819062            DEN                 TPA                 2359   \n",
      "5819063            SEA                 IAH                 2359   \n",
      "5819064            LAS                 IAD                 2359   \n",
      "5819065            PDX                 IAH                 2359   \n",
      "5819066            LAS                 EWR                 2359   \n",
      "5819067            DEN                 MIA                 2359   \n",
      "5819068            LAX                 ORD                 2359   \n",
      "5819069            LAS                 JFK                 2359   \n",
      "5819070            RNO                 JFK                 2359   \n",
      "5819071            SLC                 MCO                 2359   \n",
      "5819072            DEN                 JFK                 2359   \n",
      "5819073            ABQ                 JFK                 2359   \n",
      "5819074            LAX                 BOS                 2359   \n",
      "5819075            JFK                 PSE                 2359   \n",
      "5819076            JFK                 SJU                 2359   \n",
      "5819077            MCO                 SJU                 2359   \n",
      "5819078            JFK                 BQN                 2359   \n",
      "\n",
      "             ...        ARRIVAL_TIME  ARRIVAL_DELAY  DIVERTED  CANCELLED  \\\n",
      "0            ...               408.0          -22.0         0          0   \n",
      "1            ...               741.0           -9.0         0          0   \n",
      "2            ...               811.0            5.0         0          0   \n",
      "3            ...               756.0           -9.0         0          0   \n",
      "4            ...               259.0          -21.0         0          0   \n",
      "5            ...               610.0            8.0         0          0   \n",
      "6            ...               509.0          -17.0         0          0   \n",
      "7            ...               753.0          -10.0         0          0   \n",
      "8            ...               532.0          -13.0         0          0   \n",
      "9            ...               656.0          -15.0         0          0   \n",
      "10           ...               453.0          -30.0         0          0   \n",
      "11           ...               753.0          -10.0         0          0   \n",
      "12           ...               605.0           -4.0         0          0   \n",
      "13           ...               553.0          -22.0         0          0   \n",
      "14           ...               557.0            8.0         0          0   \n",
      "15           ...               455.0          -14.0         0          0   \n",
      "16           ...               451.0          -24.0         0          0   \n",
      "17           ...               619.0           -7.0         0          0   \n",
      "18           ...               507.0          -18.0         0          0   \n",
      "19           ...               551.0          -12.0         0          0   \n",
      "20           ...               543.0            6.0         0          0   \n",
      "21           ...               939.0            1.0         0          0   \n",
      "22           ...               529.0           -1.0         0          0   \n",
      "23           ...               839.0          -12.0         0          0   \n",
      "24           ...               545.0          -23.0         0          0   \n",
      "25           ...               607.0          -11.0         0          0   \n",
      "26           ...               545.0           -3.0         0          0   \n",
      "27           ...               607.0           25.0         0          0   \n",
      "28           ...               754.0          -31.0         0          0   \n",
      "29           ...               709.0            2.0         0          0   \n",
      "...          ...                 ...            ...       ...        ...   \n",
      "5819049      ...               731.0          -17.0         0          0   \n",
      "5819050      ...               607.0          -15.0         0          0   \n",
      "5819051      ...               535.0           28.0         0          0   \n",
      "5819052      ...               353.0          -62.0         0          0   \n",
      "5819053      ...               224.0          -27.0         0          0   \n",
      "5819054      ...               400.0          -45.0         0          0   \n",
      "5819055      ...               225.0          -19.0         0          0   \n",
      "5819056      ...               712.0          -38.0         0          0   \n",
      "5819057      ...               346.0           28.0         0          0   \n",
      "5819058      ...               512.0          -31.0         0          0   \n",
      "5819059      ...               518.0          -12.0         0          0   \n",
      "5819060      ...               504.0          -21.0         0          0   \n",
      "5819061      ...               446.0          -18.0         0          0   \n",
      "5819062      ...               509.0           -9.0         0          0   \n",
      "5819063      ...               600.0           -6.0         0          0   \n",
      "5819064      ...               652.0          -29.0         0          0   \n",
      "5819065      ...               545.0          -19.0         0          0   \n",
      "5819066      ...               718.0          -24.0         0          0   \n",
      "5819067      ...               525.0          -18.0         0          0   \n",
      "5819068      ...               544.0          -19.0         0          0   \n",
      "5819069      ...              1020.0          159.0         0          0   \n",
      "5819070      ...               744.0          -21.0         0          0   \n",
      "5819071      ...               625.0           17.0         0          0   \n",
      "5819072      ...               519.0          -11.0         0          0   \n",
      "5819073      ...               549.0            3.0         0          0   \n",
      "5819074      ...               753.0          -26.0         0          0   \n",
      "5819075      ...               430.0          -16.0         0          0   \n",
      "5819076      ...               432.0           -8.0         0          0   \n",
      "5819077      ...               330.0          -10.0         0          0   \n",
      "5819078      ...               442.0            2.0         0          0   \n",
      "\n",
      "         CANCELLATION_REASON  AIR_SYSTEM_DELAY  SECURITY_DELAY  AIRLINE_DELAY  \\\n",
      "0                        NaN               NaN             NaN            NaN   \n",
      "1                        NaN               NaN             NaN            NaN   \n",
      "2                        NaN               NaN             NaN            NaN   \n",
      "3                        NaN               NaN             NaN            NaN   \n",
      "4                        NaN               NaN             NaN            NaN   \n",
      "5                        NaN               NaN             NaN            NaN   \n",
      "6                        NaN               NaN             NaN            NaN   \n",
      "7                        NaN               NaN             NaN            NaN   \n",
      "8                        NaN               NaN             NaN            NaN   \n",
      "9                        NaN               NaN             NaN            NaN   \n",
      "10                       NaN               NaN             NaN            NaN   \n",
      "11                       NaN               NaN             NaN            NaN   \n",
      "12                       NaN               NaN             NaN            NaN   \n",
      "13                       NaN               NaN             NaN            NaN   \n",
      "14                       NaN               NaN             NaN            NaN   \n",
      "15                       NaN               NaN             NaN            NaN   \n",
      "16                       NaN               NaN             NaN            NaN   \n",
      "17                       NaN               NaN             NaN            NaN   \n",
      "18                       NaN               NaN             NaN            NaN   \n",
      "19                       NaN               NaN             NaN            NaN   \n",
      "20                       NaN               NaN             NaN            NaN   \n",
      "21                       NaN               NaN             NaN            NaN   \n",
      "22                       NaN               NaN             NaN            NaN   \n",
      "23                       NaN               NaN             NaN            NaN   \n",
      "24                       NaN               NaN             NaN            NaN   \n",
      "25                       NaN               NaN             NaN            NaN   \n",
      "26                       NaN               NaN             NaN            NaN   \n",
      "27                       NaN              25.0             0.0            0.0   \n",
      "28                       NaN               NaN             NaN            NaN   \n",
      "29                       NaN               NaN             NaN            NaN   \n",
      "...                      ...               ...             ...            ...   \n",
      "5819049                  NaN               NaN             NaN            NaN   \n",
      "5819050                  NaN               NaN             NaN            NaN   \n",
      "5819051                  NaN              12.0             0.0           16.0   \n",
      "5819052                  NaN               NaN             NaN            NaN   \n",
      "5819053                  NaN               NaN             NaN            NaN   \n",
      "5819054                  NaN               NaN             NaN            NaN   \n",
      "5819055                  NaN               NaN             NaN            NaN   \n",
      "5819056                  NaN               NaN             NaN            NaN   \n",
      "5819057                  NaN              15.0             0.0           13.0   \n",
      "5819058                  NaN               NaN             NaN            NaN   \n",
      "5819059                  NaN               NaN             NaN            NaN   \n",
      "5819060                  NaN               NaN             NaN            NaN   \n",
      "5819061                  NaN               NaN             NaN            NaN   \n",
      "5819062                  NaN               NaN             NaN            NaN   \n",
      "5819063                  NaN               NaN             NaN            NaN   \n",
      "5819064                  NaN               NaN             NaN            NaN   \n",
      "5819065                  NaN               NaN             NaN            NaN   \n",
      "5819066                  NaN               NaN             NaN            NaN   \n",
      "5819067                  NaN               NaN             NaN            NaN   \n",
      "5819068                  NaN               NaN             NaN            NaN   \n",
      "5819069                  NaN               0.0             0.0          159.0   \n",
      "5819070                  NaN               NaN             NaN            NaN   \n",
      "5819071                  NaN               1.0             0.0           16.0   \n",
      "5819072                  NaN               NaN             NaN            NaN   \n",
      "5819073                  NaN               NaN             NaN            NaN   \n",
      "5819074                  NaN               NaN             NaN            NaN   \n",
      "5819075                  NaN               NaN             NaN            NaN   \n",
      "5819076                  NaN               NaN             NaN            NaN   \n",
      "5819077                  NaN               NaN             NaN            NaN   \n",
      "5819078                  NaN               NaN             NaN            NaN   \n",
      "\n",
      "         LATE_AIRCRAFT_DELAY  WEATHER_DELAY  \n",
      "0                        NaN            NaN  \n",
      "1                        NaN            NaN  \n",
      "2                        NaN            NaN  \n",
      "3                        NaN            NaN  \n",
      "4                        NaN            NaN  \n",
      "5                        NaN            NaN  \n",
      "6                        NaN            NaN  \n",
      "7                        NaN            NaN  \n",
      "8                        NaN            NaN  \n",
      "9                        NaN            NaN  \n",
      "10                       NaN            NaN  \n",
      "11                       NaN            NaN  \n",
      "12                       NaN            NaN  \n",
      "13                       NaN            NaN  \n",
      "14                       NaN            NaN  \n",
      "15                       NaN            NaN  \n",
      "16                       NaN            NaN  \n",
      "17                       NaN            NaN  \n",
      "18                       NaN            NaN  \n",
      "19                       NaN            NaN  \n",
      "20                       NaN            NaN  \n",
      "21                       NaN            NaN  \n",
      "22                       NaN            NaN  \n",
      "23                       NaN            NaN  \n",
      "24                       NaN            NaN  \n",
      "25                       NaN            NaN  \n",
      "26                       NaN            NaN  \n",
      "27                       0.0            0.0  \n",
      "28                       NaN            NaN  \n",
      "29                       NaN            NaN  \n",
      "...                      ...            ...  \n",
      "5819049                  NaN            NaN  \n",
      "5819050                  NaN            NaN  \n",
      "5819051                  0.0            0.0  \n",
      "5819052                  NaN            NaN  \n",
      "5819053                  NaN            NaN  \n",
      "5819054                  NaN            NaN  \n",
      "5819055                  NaN            NaN  \n",
      "5819056                  NaN            NaN  \n",
      "5819057                  0.0            0.0  \n",
      "5819058                  NaN            NaN  \n",
      "5819059                  NaN            NaN  \n",
      "5819060                  NaN            NaN  \n",
      "5819061                  NaN            NaN  \n",
      "5819062                  NaN            NaN  \n",
      "5819063                  NaN            NaN  \n",
      "5819064                  NaN            NaN  \n",
      "5819065                  NaN            NaN  \n",
      "5819066                  NaN            NaN  \n",
      "5819067                  NaN            NaN  \n",
      "5819068                  NaN            NaN  \n",
      "5819069                  0.0            0.0  \n",
      "5819070                  NaN            NaN  \n",
      "5819071                  0.0            0.0  \n",
      "5819072                  NaN            NaN  \n",
      "5819073                  NaN            NaN  \n",
      "5819074                  NaN            NaN  \n",
      "5819075                  NaN            NaN  \n",
      "5819076                  NaN            NaN  \n",
      "5819077                  NaN            NaN  \n",
      "5819078                  NaN            NaN  \n",
      "\n",
      "[5819079 rows x 31 columns]\n"
     ]
    }
   ],
   "source": [
    "data = pd.read_csv(\"flights.csv\", low_memory=False)\n",
    "print(data.shape)\n",
    "print(data)"
   ]
  },
  {
   "cell_type": "markdown",
   "metadata": {},
   "source": [
    "**Here, we see the data types of the features as they're encoded when imported into a DataFrame.** "
   ]
  },
  {
   "cell_type": "code",
   "execution_count": 3,
   "metadata": {},
   "outputs": [
    {
     "data": {
      "text/plain": [
       "YEAR                     int64\n",
       "MONTH                    int64\n",
       "DAY                      int64\n",
       "DAY_OF_WEEK              int64\n",
       "AIRLINE                 object\n",
       "FLIGHT_NUMBER            int64\n",
       "TAIL_NUMBER             object\n",
       "ORIGIN_AIRPORT          object\n",
       "DESTINATION_AIRPORT     object\n",
       "SCHEDULED_DEPARTURE      int64\n",
       "DEPARTURE_TIME         float64\n",
       "DEPARTURE_DELAY        float64\n",
       "TAXI_OUT               float64\n",
       "WHEELS_OFF             float64\n",
       "SCHEDULED_TIME         float64\n",
       "ELAPSED_TIME           float64\n",
       "AIR_TIME               float64\n",
       "DISTANCE                 int64\n",
       "WHEELS_ON              float64\n",
       "TAXI_IN                float64\n",
       "SCHEDULED_ARRIVAL        int64\n",
       "ARRIVAL_TIME           float64\n",
       "ARRIVAL_DELAY          float64\n",
       "DIVERTED                 int64\n",
       "CANCELLED                int64\n",
       "CANCELLATION_REASON     object\n",
       "AIR_SYSTEM_DELAY       float64\n",
       "SECURITY_DELAY         float64\n",
       "AIRLINE_DELAY          float64\n",
       "LATE_AIRCRAFT_DELAY    float64\n",
       "WEATHER_DELAY          float64\n",
       "dtype: object"
      ]
     },
     "execution_count": 3,
     "metadata": {},
     "output_type": "execute_result"
    }
   ],
   "source": [
    "data.dtypes"
   ]
  },
  {
   "cell_type": "markdown",
   "metadata": {},
   "source": [
    "**NOTE:** In the report, we should discuss the creation of the DAY_OF_YEAR feature. Is it an *ordinal* or *categorical* feature? We should also discuss the decision to drop MONTH."
   ]
  },
  {
   "cell_type": "code",
   "execution_count": 4,
   "metadata": {},
   "outputs": [],
   "source": [
    "# Note: Aaron changed the entry for key = 4 from 60 to 90.\n",
    "monthToDaysDict = {1: 0, 2: 31, 3: 59, 4: 90, 5: 120, 6: 151, 7: 181, 8: 212, \n",
    "                   9: 243, 10: 273, 11: 304, 12: 334}\n",
    "def monthToDays(month):\n",
    "    return monthToDaysDict[month]\n",
    "\n",
    "# Remove the following features: \n",
    "# YEAR, FLIGHT_NUMBER, TAIL_NUMBER, DEPARTURE_TIME, TAXI_OUT, \n",
    "# WHEELS_OFF, ELAPSED_TIME, AIR_TIME, WHEELS_ON, TAXI_IN, and ARRIVAL_TIME\n",
    "data = data.drop(['YEAR', 'FLIGHT_NUMBER', 'TAIL_NUMBER', 'DEPARTURE_TIME', \n",
    "                  'TAXI_OUT', 'WHEELS_OFF', 'ELAPSED_TIME', 'AIR_TIME', 'WHEELS_ON', \n",
    "                  'TAXI_IN', 'ARRIVAL_TIME'], 1)\n",
    "\n",
    "# Convert MONTH -> # of days before a month\n",
    "data['MONTH'] = data['MONTH'].apply(monthToDays)\n",
    "\n",
    "# Convert MONTH + DAYS -> DAY_OF_YEAR\n",
    "data['DAY'] = data['DAY'] + data['MONTH']\n",
    "data.rename(columns={'DAY': 'DAY_OF_YEAR'}, inplace=True)\n",
    "data = data.drop(\"MONTH\", 1)"
   ]
  },
  {
   "cell_type": "code",
   "execution_count": 6,
   "metadata": {},
   "outputs": [
    {
     "data": {
      "text/plain": [
       "DAY_OF_YEAR              int64\n",
       "DAY_OF_WEEK              int64\n",
       "AIRLINE                 object\n",
       "ORIGIN_AIRPORT          object\n",
       "DESTINATION_AIRPORT     object\n",
       "SCHEDULED_DEPARTURE      int64\n",
       "DEPARTURE_DELAY        float64\n",
       "SCHEDULED_TIME         float64\n",
       "DISTANCE                 int64\n",
       "SCHEDULED_ARRIVAL        int64\n",
       "ARRIVAL_DELAY          float64\n",
       "DIVERTED                 int64\n",
       "CANCELLED                int64\n",
       "CANCELLATION_REASON     object\n",
       "AIR_SYSTEM_DELAY       float64\n",
       "SECURITY_DELAY         float64\n",
       "AIRLINE_DELAY          float64\n",
       "LATE_AIRCRAFT_DELAY    float64\n",
       "WEATHER_DELAY          float64\n",
       "dtype: object"
      ]
     },
     "execution_count": 6,
     "metadata": {},
     "output_type": "execute_result"
    }
   ],
   "source": [
    "data.dtypes"
   ]
  },
  {
   "cell_type": "code",
   "execution_count": 7,
   "metadata": {},
   "outputs": [
    {
     "data": {
      "text/html": [
       "<div>\n",
       "<style scoped>\n",
       "    .dataframe tbody tr th:only-of-type {\n",
       "        vertical-align: middle;\n",
       "    }\n",
       "\n",
       "    .dataframe tbody tr th {\n",
       "        vertical-align: top;\n",
       "    }\n",
       "\n",
       "    .dataframe thead th {\n",
       "        text-align: right;\n",
       "    }\n",
       "</style>\n",
       "<table border=\"1\" class=\"dataframe\">\n",
       "  <thead>\n",
       "    <tr style=\"text-align: right;\">\n",
       "      <th></th>\n",
       "      <th>DAY_OF_YEAR</th>\n",
       "      <th>DAY_OF_WEEK</th>\n",
       "      <th>AIRLINE</th>\n",
       "      <th>ORIGIN_AIRPORT</th>\n",
       "      <th>DESTINATION_AIRPORT</th>\n",
       "      <th>SCHEDULED_DEPARTURE</th>\n",
       "      <th>DEPARTURE_DELAY</th>\n",
       "      <th>SCHEDULED_TIME</th>\n",
       "      <th>DISTANCE</th>\n",
       "      <th>SCHEDULED_ARRIVAL</th>\n",
       "      <th>ARRIVAL_DELAY</th>\n",
       "      <th>DIVERTED</th>\n",
       "      <th>CANCELLED</th>\n",
       "      <th>CANCELLATION_REASON</th>\n",
       "      <th>AIR_SYSTEM_DELAY</th>\n",
       "      <th>SECURITY_DELAY</th>\n",
       "      <th>AIRLINE_DELAY</th>\n",
       "      <th>LATE_AIRCRAFT_DELAY</th>\n",
       "      <th>WEATHER_DELAY</th>\n",
       "    </tr>\n",
       "  </thead>\n",
       "  <tbody>\n",
       "    <tr>\n",
       "      <th>0</th>\n",
       "      <td>1</td>\n",
       "      <td>4</td>\n",
       "      <td>AS</td>\n",
       "      <td>ANC</td>\n",
       "      <td>SEA</td>\n",
       "      <td>5</td>\n",
       "      <td>-11.0</td>\n",
       "      <td>205.0</td>\n",
       "      <td>1448</td>\n",
       "      <td>430</td>\n",
       "      <td>-22.0</td>\n",
       "      <td>0</td>\n",
       "      <td>0</td>\n",
       "      <td>NaN</td>\n",
       "      <td>NaN</td>\n",
       "      <td>NaN</td>\n",
       "      <td>NaN</td>\n",
       "      <td>NaN</td>\n",
       "      <td>NaN</td>\n",
       "    </tr>\n",
       "    <tr>\n",
       "      <th>1</th>\n",
       "      <td>1</td>\n",
       "      <td>4</td>\n",
       "      <td>AA</td>\n",
       "      <td>LAX</td>\n",
       "      <td>PBI</td>\n",
       "      <td>10</td>\n",
       "      <td>-8.0</td>\n",
       "      <td>280.0</td>\n",
       "      <td>2330</td>\n",
       "      <td>750</td>\n",
       "      <td>-9.0</td>\n",
       "      <td>0</td>\n",
       "      <td>0</td>\n",
       "      <td>NaN</td>\n",
       "      <td>NaN</td>\n",
       "      <td>NaN</td>\n",
       "      <td>NaN</td>\n",
       "      <td>NaN</td>\n",
       "      <td>NaN</td>\n",
       "    </tr>\n",
       "    <tr>\n",
       "      <th>2</th>\n",
       "      <td>1</td>\n",
       "      <td>4</td>\n",
       "      <td>US</td>\n",
       "      <td>SFO</td>\n",
       "      <td>CLT</td>\n",
       "      <td>20</td>\n",
       "      <td>-2.0</td>\n",
       "      <td>286.0</td>\n",
       "      <td>2296</td>\n",
       "      <td>806</td>\n",
       "      <td>5.0</td>\n",
       "      <td>0</td>\n",
       "      <td>0</td>\n",
       "      <td>NaN</td>\n",
       "      <td>NaN</td>\n",
       "      <td>NaN</td>\n",
       "      <td>NaN</td>\n",
       "      <td>NaN</td>\n",
       "      <td>NaN</td>\n",
       "    </tr>\n",
       "    <tr>\n",
       "      <th>3</th>\n",
       "      <td>1</td>\n",
       "      <td>4</td>\n",
       "      <td>AA</td>\n",
       "      <td>LAX</td>\n",
       "      <td>MIA</td>\n",
       "      <td>20</td>\n",
       "      <td>-5.0</td>\n",
       "      <td>285.0</td>\n",
       "      <td>2342</td>\n",
       "      <td>805</td>\n",
       "      <td>-9.0</td>\n",
       "      <td>0</td>\n",
       "      <td>0</td>\n",
       "      <td>NaN</td>\n",
       "      <td>NaN</td>\n",
       "      <td>NaN</td>\n",
       "      <td>NaN</td>\n",
       "      <td>NaN</td>\n",
       "      <td>NaN</td>\n",
       "    </tr>\n",
       "    <tr>\n",
       "      <th>4</th>\n",
       "      <td>1</td>\n",
       "      <td>4</td>\n",
       "      <td>AS</td>\n",
       "      <td>SEA</td>\n",
       "      <td>ANC</td>\n",
       "      <td>25</td>\n",
       "      <td>-1.0</td>\n",
       "      <td>235.0</td>\n",
       "      <td>1448</td>\n",
       "      <td>320</td>\n",
       "      <td>-21.0</td>\n",
       "      <td>0</td>\n",
       "      <td>0</td>\n",
       "      <td>NaN</td>\n",
       "      <td>NaN</td>\n",
       "      <td>NaN</td>\n",
       "      <td>NaN</td>\n",
       "      <td>NaN</td>\n",
       "      <td>NaN</td>\n",
       "    </tr>\n",
       "  </tbody>\n",
       "</table>\n",
       "</div>"
      ],
      "text/plain": [
       "   DAY_OF_YEAR  DAY_OF_WEEK AIRLINE ORIGIN_AIRPORT DESTINATION_AIRPORT  \\\n",
       "0            1            4      AS            ANC                 SEA   \n",
       "1            1            4      AA            LAX                 PBI   \n",
       "2            1            4      US            SFO                 CLT   \n",
       "3            1            4      AA            LAX                 MIA   \n",
       "4            1            4      AS            SEA                 ANC   \n",
       "\n",
       "   SCHEDULED_DEPARTURE  DEPARTURE_DELAY  SCHEDULED_TIME  DISTANCE  \\\n",
       "0                    5            -11.0           205.0      1448   \n",
       "1                   10             -8.0           280.0      2330   \n",
       "2                   20             -2.0           286.0      2296   \n",
       "3                   20             -5.0           285.0      2342   \n",
       "4                   25             -1.0           235.0      1448   \n",
       "\n",
       "   SCHEDULED_ARRIVAL  ARRIVAL_DELAY  DIVERTED  CANCELLED CANCELLATION_REASON  \\\n",
       "0                430          -22.0         0          0                 NaN   \n",
       "1                750           -9.0         0          0                 NaN   \n",
       "2                806            5.0         0          0                 NaN   \n",
       "3                805           -9.0         0          0                 NaN   \n",
       "4                320          -21.0         0          0                 NaN   \n",
       "\n",
       "   AIR_SYSTEM_DELAY  SECURITY_DELAY  AIRLINE_DELAY  LATE_AIRCRAFT_DELAY  \\\n",
       "0               NaN             NaN            NaN                  NaN   \n",
       "1               NaN             NaN            NaN                  NaN   \n",
       "2               NaN             NaN            NaN                  NaN   \n",
       "3               NaN             NaN            NaN                  NaN   \n",
       "4               NaN             NaN            NaN                  NaN   \n",
       "\n",
       "   WEATHER_DELAY  \n",
       "0            NaN  \n",
       "1            NaN  \n",
       "2            NaN  \n",
       "3            NaN  \n",
       "4            NaN  "
      ]
     },
     "execution_count": 7,
     "metadata": {},
     "output_type": "execute_result"
    }
   ],
   "source": [
    "data.head()"
   ]
  },
  {
   "cell_type": "markdown",
   "metadata": {},
   "source": [
    "**The code below cleans the AIR_SYSTEM_DELAY, SECURITY_DELAY, AIRLINE_DELAY, LATE_AIRCRAFT_DELAY, and WEATHER_DELAY features.**"
   ]
  },
  {
   "cell_type": "code",
   "execution_count": 8,
   "metadata": {},
   "outputs": [
    {
     "name": "stdout",
     "output_type": "stream",
     "text": [
      "Transforming delay columns complete!\n"
     ]
    }
   ],
   "source": [
    "def notANumberToZero(delay):\n",
    "    if (math.isnan(delay)):\n",
    "        return 0\n",
    "    else:\n",
    "        return delay\n",
    "    \n",
    "data['AIR_SYSTEM_DELAY'] = data['AIR_SYSTEM_DELAY'].apply(notANumberToZero)\n",
    "data['SECURITY_DELAY'] = data['SECURITY_DELAY'].apply(notANumberToZero)\n",
    "data['AIRLINE_DELAY'] = data['AIRLINE_DELAY'].apply(notANumberToZero)\n",
    "data['LATE_AIRCRAFT_DELAY'] = data['LATE_AIRCRAFT_DELAY'].apply(notANumberToZero)\n",
    "data['WEATHER_DELAY'] = data['WEATHER_DELAY'].apply(notANumberToZero)\n",
    "\n",
    "print(\"Transforming delay columns complete!\")"
   ]
  },
  {
   "cell_type": "code",
   "execution_count": 9,
   "metadata": {},
   "outputs": [
    {
     "data": {
      "text/html": [
       "<div>\n",
       "<style scoped>\n",
       "    .dataframe tbody tr th:only-of-type {\n",
       "        vertical-align: middle;\n",
       "    }\n",
       "\n",
       "    .dataframe tbody tr th {\n",
       "        vertical-align: top;\n",
       "    }\n",
       "\n",
       "    .dataframe thead th {\n",
       "        text-align: right;\n",
       "    }\n",
       "</style>\n",
       "<table border=\"1\" class=\"dataframe\">\n",
       "  <thead>\n",
       "    <tr style=\"text-align: right;\">\n",
       "      <th></th>\n",
       "      <th>DAY_OF_YEAR</th>\n",
       "      <th>DAY_OF_WEEK</th>\n",
       "      <th>AIRLINE</th>\n",
       "      <th>ORIGIN_AIRPORT</th>\n",
       "      <th>DESTINATION_AIRPORT</th>\n",
       "      <th>SCHEDULED_DEPARTURE</th>\n",
       "      <th>DEPARTURE_DELAY</th>\n",
       "      <th>SCHEDULED_TIME</th>\n",
       "      <th>DISTANCE</th>\n",
       "      <th>SCHEDULED_ARRIVAL</th>\n",
       "      <th>ARRIVAL_DELAY</th>\n",
       "      <th>DIVERTED</th>\n",
       "      <th>CANCELLED</th>\n",
       "      <th>CANCELLATION_REASON</th>\n",
       "      <th>AIR_SYSTEM_DELAY</th>\n",
       "      <th>SECURITY_DELAY</th>\n",
       "      <th>AIRLINE_DELAY</th>\n",
       "      <th>LATE_AIRCRAFT_DELAY</th>\n",
       "      <th>WEATHER_DELAY</th>\n",
       "    </tr>\n",
       "  </thead>\n",
       "  <tbody>\n",
       "    <tr>\n",
       "      <th>50000</th>\n",
       "      <td>4</td>\n",
       "      <td>7</td>\n",
       "      <td>DL</td>\n",
       "      <td>JAX</td>\n",
       "      <td>ATL</td>\n",
       "      <td>915</td>\n",
       "      <td>23.0</td>\n",
       "      <td>75.0</td>\n",
       "      <td>270</td>\n",
       "      <td>1030</td>\n",
       "      <td>26.0</td>\n",
       "      <td>0</td>\n",
       "      <td>0</td>\n",
       "      <td>NaN</td>\n",
       "      <td>26.0</td>\n",
       "      <td>0.0</td>\n",
       "      <td>0.0</td>\n",
       "      <td>0.0</td>\n",
       "      <td>0.0</td>\n",
       "    </tr>\n",
       "    <tr>\n",
       "      <th>50001</th>\n",
       "      <td>4</td>\n",
       "      <td>7</td>\n",
       "      <td>DL</td>\n",
       "      <td>MSP</td>\n",
       "      <td>SNA</td>\n",
       "      <td>915</td>\n",
       "      <td>109.0</td>\n",
       "      <td>246.0</td>\n",
       "      <td>1522</td>\n",
       "      <td>1121</td>\n",
       "      <td>83.0</td>\n",
       "      <td>0</td>\n",
       "      <td>0</td>\n",
       "      <td>NaN</td>\n",
       "      <td>0.0</td>\n",
       "      <td>0.0</td>\n",
       "      <td>83.0</td>\n",
       "      <td>0.0</td>\n",
       "      <td>0.0</td>\n",
       "    </tr>\n",
       "    <tr>\n",
       "      <th>50002</th>\n",
       "      <td>4</td>\n",
       "      <td>7</td>\n",
       "      <td>DL</td>\n",
       "      <td>MSP</td>\n",
       "      <td>PDX</td>\n",
       "      <td>915</td>\n",
       "      <td>0.0</td>\n",
       "      <td>242.0</td>\n",
       "      <td>1426</td>\n",
       "      <td>1117</td>\n",
       "      <td>-6.0</td>\n",
       "      <td>0</td>\n",
       "      <td>0</td>\n",
       "      <td>NaN</td>\n",
       "      <td>0.0</td>\n",
       "      <td>0.0</td>\n",
       "      <td>0.0</td>\n",
       "      <td>0.0</td>\n",
       "      <td>0.0</td>\n",
       "    </tr>\n",
       "    <tr>\n",
       "      <th>50003</th>\n",
       "      <td>4</td>\n",
       "      <td>7</td>\n",
       "      <td>DL</td>\n",
       "      <td>ATL</td>\n",
       "      <td>SRQ</td>\n",
       "      <td>915</td>\n",
       "      <td>7.0</td>\n",
       "      <td>93.0</td>\n",
       "      <td>444</td>\n",
       "      <td>1048</td>\n",
       "      <td>8.0</td>\n",
       "      <td>0</td>\n",
       "      <td>0</td>\n",
       "      <td>NaN</td>\n",
       "      <td>0.0</td>\n",
       "      <td>0.0</td>\n",
       "      <td>0.0</td>\n",
       "      <td>0.0</td>\n",
       "      <td>0.0</td>\n",
       "    </tr>\n",
       "    <tr>\n",
       "      <th>50004</th>\n",
       "      <td>4</td>\n",
       "      <td>7</td>\n",
       "      <td>DL</td>\n",
       "      <td>MSP</td>\n",
       "      <td>SFO</td>\n",
       "      <td>915</td>\n",
       "      <td>-4.0</td>\n",
       "      <td>265.0</td>\n",
       "      <td>1589</td>\n",
       "      <td>1140</td>\n",
       "      <td>-24.0</td>\n",
       "      <td>0</td>\n",
       "      <td>0</td>\n",
       "      <td>NaN</td>\n",
       "      <td>0.0</td>\n",
       "      <td>0.0</td>\n",
       "      <td>0.0</td>\n",
       "      <td>0.0</td>\n",
       "      <td>0.0</td>\n",
       "    </tr>\n",
       "    <tr>\n",
       "      <th>50005</th>\n",
       "      <td>4</td>\n",
       "      <td>7</td>\n",
       "      <td>DL</td>\n",
       "      <td>DEN</td>\n",
       "      <td>ATL</td>\n",
       "      <td>915</td>\n",
       "      <td>0.0</td>\n",
       "      <td>178.0</td>\n",
       "      <td>1199</td>\n",
       "      <td>1413</td>\n",
       "      <td>-2.0</td>\n",
       "      <td>0</td>\n",
       "      <td>0</td>\n",
       "      <td>NaN</td>\n",
       "      <td>0.0</td>\n",
       "      <td>0.0</td>\n",
       "      <td>0.0</td>\n",
       "      <td>0.0</td>\n",
       "      <td>0.0</td>\n",
       "    </tr>\n",
       "    <tr>\n",
       "      <th>50006</th>\n",
       "      <td>4</td>\n",
       "      <td>7</td>\n",
       "      <td>EV</td>\n",
       "      <td>ATL</td>\n",
       "      <td>ECP</td>\n",
       "      <td>915</td>\n",
       "      <td>10.0</td>\n",
       "      <td>68.0</td>\n",
       "      <td>240</td>\n",
       "      <td>923</td>\n",
       "      <td>5.0</td>\n",
       "      <td>0</td>\n",
       "      <td>0</td>\n",
       "      <td>NaN</td>\n",
       "      <td>0.0</td>\n",
       "      <td>0.0</td>\n",
       "      <td>0.0</td>\n",
       "      <td>0.0</td>\n",
       "      <td>0.0</td>\n",
       "    </tr>\n",
       "    <tr>\n",
       "      <th>50007</th>\n",
       "      <td>4</td>\n",
       "      <td>7</td>\n",
       "      <td>EV</td>\n",
       "      <td>MOB</td>\n",
       "      <td>ATL</td>\n",
       "      <td>915</td>\n",
       "      <td>-1.0</td>\n",
       "      <td>69.0</td>\n",
       "      <td>302</td>\n",
       "      <td>1124</td>\n",
       "      <td>-3.0</td>\n",
       "      <td>0</td>\n",
       "      <td>0</td>\n",
       "      <td>NaN</td>\n",
       "      <td>0.0</td>\n",
       "      <td>0.0</td>\n",
       "      <td>0.0</td>\n",
       "      <td>0.0</td>\n",
       "      <td>0.0</td>\n",
       "    </tr>\n",
       "    <tr>\n",
       "      <th>50008</th>\n",
       "      <td>4</td>\n",
       "      <td>7</td>\n",
       "      <td>HA</td>\n",
       "      <td>HNL</td>\n",
       "      <td>LIH</td>\n",
       "      <td>915</td>\n",
       "      <td>-4.0</td>\n",
       "      <td>38.0</td>\n",
       "      <td>102</td>\n",
       "      <td>953</td>\n",
       "      <td>3.0</td>\n",
       "      <td>0</td>\n",
       "      <td>0</td>\n",
       "      <td>NaN</td>\n",
       "      <td>0.0</td>\n",
       "      <td>0.0</td>\n",
       "      <td>0.0</td>\n",
       "      <td>0.0</td>\n",
       "      <td>0.0</td>\n",
       "    </tr>\n",
       "    <tr>\n",
       "      <th>50009</th>\n",
       "      <td>4</td>\n",
       "      <td>7</td>\n",
       "      <td>MQ</td>\n",
       "      <td>DFW</td>\n",
       "      <td>PIA</td>\n",
       "      <td>915</td>\n",
       "      <td>-3.0</td>\n",
       "      <td>108.0</td>\n",
       "      <td>672</td>\n",
       "      <td>1103</td>\n",
       "      <td>11.0</td>\n",
       "      <td>0</td>\n",
       "      <td>0</td>\n",
       "      <td>NaN</td>\n",
       "      <td>0.0</td>\n",
       "      <td>0.0</td>\n",
       "      <td>0.0</td>\n",
       "      <td>0.0</td>\n",
       "      <td>0.0</td>\n",
       "    </tr>\n",
       "  </tbody>\n",
       "</table>\n",
       "</div>"
      ],
      "text/plain": [
       "       DAY_OF_YEAR  DAY_OF_WEEK AIRLINE ORIGIN_AIRPORT DESTINATION_AIRPORT  \\\n",
       "50000            4            7      DL            JAX                 ATL   \n",
       "50001            4            7      DL            MSP                 SNA   \n",
       "50002            4            7      DL            MSP                 PDX   \n",
       "50003            4            7      DL            ATL                 SRQ   \n",
       "50004            4            7      DL            MSP                 SFO   \n",
       "50005            4            7      DL            DEN                 ATL   \n",
       "50006            4            7      EV            ATL                 ECP   \n",
       "50007            4            7      EV            MOB                 ATL   \n",
       "50008            4            7      HA            HNL                 LIH   \n",
       "50009            4            7      MQ            DFW                 PIA   \n",
       "\n",
       "       SCHEDULED_DEPARTURE  DEPARTURE_DELAY  SCHEDULED_TIME  DISTANCE  \\\n",
       "50000                  915             23.0            75.0       270   \n",
       "50001                  915            109.0           246.0      1522   \n",
       "50002                  915              0.0           242.0      1426   \n",
       "50003                  915              7.0            93.0       444   \n",
       "50004                  915             -4.0           265.0      1589   \n",
       "50005                  915              0.0           178.0      1199   \n",
       "50006                  915             10.0            68.0       240   \n",
       "50007                  915             -1.0            69.0       302   \n",
       "50008                  915             -4.0            38.0       102   \n",
       "50009                  915             -3.0           108.0       672   \n",
       "\n",
       "       SCHEDULED_ARRIVAL  ARRIVAL_DELAY  DIVERTED  CANCELLED  \\\n",
       "50000               1030           26.0         0          0   \n",
       "50001               1121           83.0         0          0   \n",
       "50002               1117           -6.0         0          0   \n",
       "50003               1048            8.0         0          0   \n",
       "50004               1140          -24.0         0          0   \n",
       "50005               1413           -2.0         0          0   \n",
       "50006                923            5.0         0          0   \n",
       "50007               1124           -3.0         0          0   \n",
       "50008                953            3.0         0          0   \n",
       "50009               1103           11.0         0          0   \n",
       "\n",
       "      CANCELLATION_REASON  AIR_SYSTEM_DELAY  SECURITY_DELAY  AIRLINE_DELAY  \\\n",
       "50000                 NaN              26.0             0.0            0.0   \n",
       "50001                 NaN               0.0             0.0           83.0   \n",
       "50002                 NaN               0.0             0.0            0.0   \n",
       "50003                 NaN               0.0             0.0            0.0   \n",
       "50004                 NaN               0.0             0.0            0.0   \n",
       "50005                 NaN               0.0             0.0            0.0   \n",
       "50006                 NaN               0.0             0.0            0.0   \n",
       "50007                 NaN               0.0             0.0            0.0   \n",
       "50008                 NaN               0.0             0.0            0.0   \n",
       "50009                 NaN               0.0             0.0            0.0   \n",
       "\n",
       "       LATE_AIRCRAFT_DELAY  WEATHER_DELAY  \n",
       "50000                  0.0            0.0  \n",
       "50001                  0.0            0.0  \n",
       "50002                  0.0            0.0  \n",
       "50003                  0.0            0.0  \n",
       "50004                  0.0            0.0  \n",
       "50005                  0.0            0.0  \n",
       "50006                  0.0            0.0  \n",
       "50007                  0.0            0.0  \n",
       "50008                  0.0            0.0  \n",
       "50009                  0.0            0.0  "
      ]
     },
     "execution_count": 9,
     "metadata": {},
     "output_type": "execute_result"
    }
   ],
   "source": [
    "data.iloc[50000:50010]"
   ]
  },
  {
   "cell_type": "markdown",
   "metadata": {},
   "source": [
    "**The following code does 3 things to clean the data:**\n",
    "\n",
    "1) Replace the NaN values in CANCELLATION_REASON with empty strings\n",
    "\n",
    "2) Convert SCHEDULED_DEPARTURE to a numeric quantity ranging from 0 to 1440 representing the minutes in a day\n",
    "\n",
    "3) Do the same for SCHEDULED_ARRIVAL\n",
    "\n",
    "The reason we have to do the last two things is because SCHEDULED_DEPARTURE and SCHEDULED_ARRIVAL are floats which *actually* represent HHMM time values. We do not need to do the same for SCHEDULED_TIME as it represents estimated travel time in minutes."
   ]
  },
  {
   "cell_type": "code",
   "execution_count": 10,
   "metadata": {},
   "outputs": [],
   "source": [
    "def hhmmFloatToMinutes(time):\n",
    "    timeString = \"{:04d}\".format(time)\n",
    "    hours = float(timeString[0:2])\n",
    "    minutes = float(timeString[2:4])\n",
    "    totalMinutes = (hours * 60) + minutes\n",
    "    return totalMinutes"
   ]
  },
  {
   "cell_type": "markdown",
   "metadata": {},
   "source": [
    "**NOTE:** The cell below will take roughly 30 seconds to a minute to finish."
   ]
  },
  {
   "cell_type": "code",
   "execution_count": 11,
   "metadata": {},
   "outputs": [],
   "source": [
    "data['CANCELLATION_REASON'] = data['CANCELLATION_REASON'].fillna('')\n",
    "data['SCHEDULED_DEPARTURE'] = data['SCHEDULED_DEPARTURE'].apply(hhmmFloatToMinutes)\n",
    "data['SCHEDULED_ARRIVAL'] = data['SCHEDULED_ARRIVAL'].apply(hhmmFloatToMinutes)"
   ]
  },
  {
   "cell_type": "markdown",
   "metadata": {},
   "source": [
    "missing_values will show how many NaN/None values are remaining in the dataset."
   ]
  },
  {
   "cell_type": "code",
   "execution_count": 12,
   "metadata": {},
   "outputs": [
    {
     "data": {
      "text/plain": [
       "DAY_OF_YEAR                 0\n",
       "DAY_OF_WEEK                 0\n",
       "AIRLINE                     0\n",
       "ORIGIN_AIRPORT              0\n",
       "DESTINATION_AIRPORT         0\n",
       "SCHEDULED_DEPARTURE         0\n",
       "DEPARTURE_DELAY         86153\n",
       "SCHEDULED_TIME              6\n",
       "DISTANCE                    0\n",
       "SCHEDULED_ARRIVAL           0\n",
       "ARRIVAL_DELAY          105071\n",
       "DIVERTED                    0\n",
       "CANCELLED                   0\n",
       "CANCELLATION_REASON         0\n",
       "AIR_SYSTEM_DELAY            0\n",
       "SECURITY_DELAY              0\n",
       "AIRLINE_DELAY               0\n",
       "LATE_AIRCRAFT_DELAY         0\n",
       "WEATHER_DELAY               0\n",
       "dtype: int64"
      ]
     },
     "execution_count": 12,
     "metadata": {},
     "output_type": "execute_result"
    }
   ],
   "source": [
    "missing_values = data.isnull().sum(axis=0)\n",
    "missing_values"
   ]
  },
  {
   "cell_type": "markdown",
   "metadata": {},
   "source": [
    " "
   ]
  },
  {
   "cell_type": "markdown",
   "metadata": {},
   "source": [
    "**There's an issue with the ORIGIN_AIRPORT and DESTINATION_AIRPORT features for October 2015. The problem is described in [this](https://www.kaggle.com/usdot/flight-delays/discussion/29600#latest-168452) post on Kaggle. The approach to fix it is drawn from [this](https://www.kaggle.com/srcole/fix-inconsistent-airport-codes) Kaggle kernel.** "
   ]
  },
  {
   "cell_type": "markdown",
   "metadata": {},
   "source": [
    "The datasets we're using to solve the conflict between the 5-digit airport codes and the 3-letter airport codes can be found in the comments of the kernel linked above."
   ]
  },
  {
   "cell_type": "code",
   "execution_count": 13,
   "metadata": {},
   "outputs": [
    {
     "data": {
      "text/plain": [
       "(6429, 2)"
      ]
     },
     "execution_count": 13,
     "metadata": {},
     "output_type": "execute_result"
    }
   ],
   "source": [
    "df_threeLetterCode = pd.read_csv('L_AIRPORT.csv')\n",
    "df_threeLetterCode.shape"
   ]
  },
  {
   "cell_type": "markdown",
   "metadata": {},
   "source": [
    "After much trial and error, I realized one issue was due to the AUS and YUM codes being replicated as BSM and NYL, respectively. We drop BSM and NYL as the flights.csv file doesn't use these codes."
   ]
  },
  {
   "cell_type": "code",
   "execution_count": 14,
   "metadata": {},
   "outputs": [],
   "source": [
    "codesToDrop = ['BSM', 'NYL']\n",
    "df_threeLetterCode = df_threeLetterCode[~df_threeLetterCode['Code'].isin(codesToDrop)]\n",
    "threeLetterCodes = list(df_threeLetterCode['Code'])"
   ]
  },
  {
   "cell_type": "code",
   "execution_count": 15,
   "metadata": {},
   "outputs": [
    {
     "data": {
      "text/plain": [
       "(6414, 2)"
      ]
     },
     "execution_count": 15,
     "metadata": {},
     "output_type": "execute_result"
    }
   ],
   "source": [
    "df_fiveLetterCode = pd.read_csv('L_AIRPORT_ID.csv')\n",
    "df_fiveLetterCode.shape"
   ]
  },
  {
   "cell_type": "markdown",
   "metadata": {},
   "source": [
    "We set different indices for these two tables to avoid creating a new dictionary."
   ]
  },
  {
   "cell_type": "code",
   "execution_count": 16,
   "metadata": {},
   "outputs": [],
   "source": [
    "df3 = df_threeLetterCode.set_index('Description')\n",
    "df5 = df_fiveLetterCode.set_index('Code')"
   ]
  },
  {
   "cell_type": "markdown",
   "metadata": {},
   "source": [
    "This DataFrame can be used to double-check the results of fixing the issue at hand. \n",
    "\n",
    "We can do so by running the apply method with testFixAirports, outputting countTest, and then comparing it to the shape of df_October."
   ]
  },
  {
   "cell_type": "code",
   "execution_count": 17,
   "metadata": {},
   "outputs": [
    {
     "data": {
      "text/plain": [
       "(486165, 2)"
      ]
     },
     "execution_count": 17,
     "metadata": {},
     "output_type": "execute_result"
    }
   ],
   "source": [
    "df_airports = data[['ORIGIN_AIRPORT', 'DESTINATION_AIRPORT']]\n",
    "df_October = df_airports.loc[~df_airports['ORIGIN_AIRPORT'].isin(threeLetterCodes) |\n",
    "                            ~df_airports['DESTINATION_AIRPORT'].isin(threeLetterCodes)]\n",
    "df_October.shape"
   ]
  },
  {
   "cell_type": "markdown",
   "metadata": {},
   "source": [
    "The testFixAirports function simply counts the number of 5-digit airport codes when passed to the apply method. There should be ~500k."
   ]
  },
  {
   "cell_type": "code",
   "execution_count": 18,
   "metadata": {},
   "outputs": [],
   "source": [
    "countTest = 0\n",
    "nFlightsTest = 0\n",
    "def testFixAirports(airport):\n",
    "    global countTest\n",
    "    global nFlightsTest\n",
    "    nFlightsTest += 1\n",
    "    if len(airport) != 3:\n",
    "        countTest += 1\n",
    "    if nFlightsTest % 1000000 == 0:\n",
    "        print(nFlightsTest)"
   ]
  },
  {
   "cell_type": "markdown",
   "metadata": {},
   "source": [
    "The fixOctoberAirports function will create a DataFrame column where the 5-digit airport codes have been replaced by 3-letter airport codes (when passed to apply)."
   ]
  },
  {
   "cell_type": "code",
   "execution_count": 19,
   "metadata": {},
   "outputs": [],
   "source": [
    "nFlights = 0\n",
    "def fixOctoberAirports(airport):\n",
    "    global nFlights\n",
    "    nFlights += 1\n",
    "    \n",
    "    if nFlights % 1000000 == 0:\n",
    "        print(nFlights)\n",
    "    \n",
    "    if len(airport) != 3:\n",
    "        index = int(airport)\n",
    "        descriptionAsKey = df5.loc[index]['Description']\n",
    "        newCode = df3.loc[descriptionAsKey]['Code']\n",
    "        return newCode\n",
    "    else:\n",
    "        return airport"
   ]
  },
  {
   "cell_type": "markdown",
   "metadata": {},
   "source": [
    "**NOTE:** The two cells below will take several minutes each to run. Specifically, after '4000000' is printed in the output, it will take several minutes to see '5000000'."
   ]
  },
  {
   "cell_type": "code",
   "execution_count": 20,
   "metadata": {},
   "outputs": [
    {
     "name": "stdout",
     "output_type": "stream",
     "text": [
      "1000000\n",
      "2000000\n",
      "3000000\n",
      "4000000\n",
      "5000000\n"
     ]
    }
   ],
   "source": [
    "fixed_origin_airport = data['ORIGIN_AIRPORT'].apply(fixOctoberAirports)"
   ]
  },
  {
   "cell_type": "code",
   "execution_count": 21,
   "metadata": {},
   "outputs": [
    {
     "name": "stdout",
     "output_type": "stream",
     "text": [
      "1000000\n",
      "2000000\n",
      "3000000\n",
      "4000000\n",
      "5000000\n"
     ]
    }
   ],
   "source": [
    "nFlights = 0\n",
    "fixed_dest_airport = data['DESTINATION_AIRPORT'].apply(fixOctoberAirports)"
   ]
  },
  {
   "cell_type": "code",
   "execution_count": 22,
   "metadata": {},
   "outputs": [],
   "source": [
    "data['ORIGIN_AIRPORT'] = fixed_origin_airport\n",
    "data['DESTINATION_AIRPORT'] = fixed_dest_airport"
   ]
  },
  {
   "cell_type": "markdown",
   "metadata": {},
   "source": [
    "countTest should be 0 for both features now if everything worked correctly."
   ]
  },
  {
   "cell_type": "code",
   "execution_count": 23,
   "metadata": {},
   "outputs": [
    {
     "name": "stdout",
     "output_type": "stream",
     "text": [
      "1000000\n",
      "2000000\n",
      "3000000\n",
      "4000000\n",
      "5000000\n",
      "()\n",
      "('countTest:', 0)\n"
     ]
    }
   ],
   "source": [
    "countTest = 0\n",
    "nFlightsTest = 0\n",
    "data['ORIGIN_AIRPORT'].apply(testFixAirports)\n",
    "print()\n",
    "print(\"countTest:\", countTest)"
   ]
  },
  {
   "cell_type": "code",
   "execution_count": 24,
   "metadata": {},
   "outputs": [
    {
     "name": "stdout",
     "output_type": "stream",
     "text": [
      "1000000\n",
      "2000000\n",
      "3000000\n",
      "4000000\n",
      "5000000\n",
      "()\n",
      "('countTest:', 0)\n"
     ]
    }
   ],
   "source": [
    "countTest = 0\n",
    "nFlightsTest = 0\n",
    "data['DESTINATION_AIRPORT'].apply(testFixAirports)\n",
    "print()\n",
    "print(\"countTest:\", countTest)"
   ]
  },
  {
   "cell_type": "markdown",
   "metadata": {},
   "source": [
    " "
   ]
  },
  {
   "cell_type": "markdown",
   "metadata": {},
   "source": [
    "**The DataSet class allows us to create a sampled and cleaned instance of a DataFrame. There are more options for DataSet in this notebook than in the DataCleaning.ipynb notebook.**\n",
    "\n",
    "The categorical (or nominal) variables in our dataset are: DAY_OF_WEEK, AIRLINE, ORIGIN_AIRPORT, DESTINATION_AIRPORT, CANCELLATION_REASON, and (possibly) DAY_OF_YEAR."
   ]
  },
  {
   "cell_type": "code",
   "execution_count": 25,
   "metadata": {},
   "outputs": [],
   "source": [
    "def delayTimeToDummy(delay):\n",
    "    if delay > 30:\n",
    "        return 1\n",
    "    else:\n",
    "        return 0\n",
    "\n",
    "# cleaningOption specifies how to handle NaN/None values.\n",
    "#     * \"drop\" = simply drop the NaN/None values\n",
    "#     * \"mean\" = use mean imputation to replace NaN/None values\n",
    "#     * \"median\" = use median imputation to replace NaN/None values\n",
    "#\n",
    "# sampleFraction specifies how much of the dataset to sample.\n",
    "#\n",
    "# dropDelays controls whether to drop the AIR_SYSTEM_DELAY, SECURITY_DELAY, \n",
    "# AIRLINE_DELAY, LATE_AIRCRAFT_DELAY, and WEATHER_DELAY features or not.\n",
    "class DataSet:\n",
    "    def __init__(self, cleaningOption=\"drop\", sampleFraction=0.1, dropDelays=True):\n",
    "        # Initialize myData instance variable\n",
    "        self.myData = None\n",
    "        # Take care of NaN/None values\n",
    "        if cleaningOption == \"drop\":\n",
    "            self.myData = data.dropna()\n",
    "        elif cleaningOption == \"mean\":\n",
    "            self.myData = data.copy()\n",
    "            self.myData['DEPARTURE_DELAY'].fillna(data['DEPARTURE_DELAY'].mean(), inplace=True)\n",
    "            self.myData['SCHEDULED_TIME'].fillna(data['SCHEDULED_TIME'].mean(), inplace=True)\n",
    "            self.myData['ARRIVAL_DELAY'].fillna(data['ARRIVAL_DELAY'].mean(), inplace=True)\n",
    "        elif cleaningOption == \"median\":\n",
    "            self.myData = data.copy()\n",
    "            self.myData['DEPARTURE_DELAY'].fillna(data['DEPARTURE_DELAY'].median(), inplace=True)\n",
    "            self.myData['SCHEDULED_TIME'].fillna(data['SCHEDULED_TIME'].median(), inplace=True)\n",
    "            self.myData['ARRIVAL_DELAY'].fillna(data['ARRIVAL_DELAY'].median(), inplace=True)\n",
    "        # Sample data\n",
    "        self.sampleData(sampleFraction)\n",
    "        # Drop delay amounts broken down by the 5 different categories\n",
    "        if dropDelays:\n",
    "            self.dropDelayColumns()\n",
    "        # Encode DAY_OF_WEEK, AIRLINE, and CANCELLATION_REASON using one-hot encoding\n",
    "        self.encodeUsingOneHot()\n",
    "        # Create a binary target named ARRIVAL_DELAY_BIN: 1 if ARRIVAL_DELAY > 0; 0 otherwise\n",
    "        self.createBinaryTarget()\n",
    "        \n",
    "        print(self.myData.shape)\n",
    "    def sampleData(self, sampleFraction):\n",
    "        self.myData = self.myData.sample(frac=sampleFraction, replace=False)\n",
    "        # TODO: Double check whether the index should be reset\n",
    "        self.myData = self.myData.reset_index()\n",
    "        self.myData = self.myData.drop(['index'], axis=1)\n",
    "    def encodeUsingOneHot(self):\n",
    "        self.myData = pd.get_dummies(self.myData, columns=['DAY_OF_WEEK', 'AIRLINE', 'CANCELLATION_REASON'], \n",
    "                                     drop_first=True)\n",
    "    def dropDelayColumns(self):\n",
    "        colsToDrop = ['AIR_SYSTEM_DELAY', 'SECURITY_DELAY', 'AIRLINE_DELAY', \n",
    "                      'LATE_AIRCRAFT_DELAY', 'WEATHER_DELAY']\n",
    "        self.myData.drop(colsToDrop, axis=1, inplace=True)\n",
    "    def createBinaryTarget(self):\n",
    "        binaryTarget = self.myData['ARRIVAL_DELAY'].apply(delayTimeToDummy)\n",
    "        self.myData['ARRIVAL_DELAY_BIN'] = binaryTarget\n",
    "    def encodeAirports(self):\n",
    "        pass"
   ]
  },
  {
   "cell_type": "markdown",
   "metadata": {},
   "source": [
    "We show the NaN/None values for the original dataset for comparison."
   ]
  },
  {
   "cell_type": "code",
   "execution_count": 26,
   "metadata": {},
   "outputs": [
    {
     "data": {
      "text/plain": [
       "DAY_OF_YEAR                 0\n",
       "DAY_OF_WEEK                 0\n",
       "AIRLINE                     0\n",
       "ORIGIN_AIRPORT              0\n",
       "DESTINATION_AIRPORT         0\n",
       "SCHEDULED_DEPARTURE         0\n",
       "DEPARTURE_DELAY         86153\n",
       "SCHEDULED_TIME              6\n",
       "DISTANCE                    0\n",
       "SCHEDULED_ARRIVAL           0\n",
       "ARRIVAL_DELAY          105071\n",
       "DIVERTED                    0\n",
       "CANCELLED                   0\n",
       "CANCELLATION_REASON         0\n",
       "AIR_SYSTEM_DELAY            0\n",
       "SECURITY_DELAY              0\n",
       "AIRLINE_DELAY               0\n",
       "LATE_AIRCRAFT_DELAY         0\n",
       "WEATHER_DELAY               0\n",
       "dtype: int64"
      ]
     },
     "execution_count": 26,
     "metadata": {},
     "output_type": "execute_result"
    }
   ],
   "source": [
    "missing_values = data.isnull().sum(axis=0)\n",
    "missing_values"
   ]
  },
  {
   "cell_type": "code",
   "execution_count": 27,
   "metadata": {},
   "outputs": [
    {
     "name": "stdout",
     "output_type": "stream",
     "text": [
      "(581908, 35)\n"
     ]
    }
   ],
   "source": [
    "ds1 = DataSet(cleaningOption=\"mean\", sampleFraction=0.1, dropDelays=True)"
   ]
  },
  {
   "cell_type": "code",
   "execution_count": 28,
   "metadata": {},
   "outputs": [
    {
     "data": {
      "text/plain": [
       "DAY_OF_YEAR              0\n",
       "ORIGIN_AIRPORT           0\n",
       "DESTINATION_AIRPORT      0\n",
       "SCHEDULED_DEPARTURE      0\n",
       "DEPARTURE_DELAY          0\n",
       "SCHEDULED_TIME           0\n",
       "DISTANCE                 0\n",
       "SCHEDULED_ARRIVAL        0\n",
       "ARRIVAL_DELAY            0\n",
       "DIVERTED                 0\n",
       "CANCELLED                0\n",
       "DAY_OF_WEEK_2            0\n",
       "DAY_OF_WEEK_3            0\n",
       "DAY_OF_WEEK_4            0\n",
       "DAY_OF_WEEK_5            0\n",
       "DAY_OF_WEEK_6            0\n",
       "DAY_OF_WEEK_7            0\n",
       "AIRLINE_AS               0\n",
       "AIRLINE_B6               0\n",
       "AIRLINE_DL               0\n",
       "AIRLINE_EV               0\n",
       "AIRLINE_F9               0\n",
       "AIRLINE_HA               0\n",
       "AIRLINE_MQ               0\n",
       "AIRLINE_NK               0\n",
       "AIRLINE_OO               0\n",
       "AIRLINE_UA               0\n",
       "AIRLINE_US               0\n",
       "AIRLINE_VX               0\n",
       "AIRLINE_WN               0\n",
       "CANCELLATION_REASON_A    0\n",
       "CANCELLATION_REASON_B    0\n",
       "CANCELLATION_REASON_C    0\n",
       "CANCELLATION_REASON_D    0\n",
       "ARRIVAL_DELAY_BIN        0\n",
       "dtype: int64"
      ]
     },
     "execution_count": 28,
     "metadata": {},
     "output_type": "execute_result"
    }
   ],
   "source": [
    "ds1_missing_values = ds1.myData.isnull().sum(axis=0)\n",
    "ds1_missing_values"
   ]
  },
  {
   "cell_type": "markdown",
   "metadata": {},
   "source": [
    "**TODO:** ORIGIN_AIRPORT, DESTINATION_AIRPORT, and DAY_OF_YEAR still need to be encoded to be used in a model. \n",
    "\n",
    "To accomplish the task above, we can use the weight of evidence (WOE) measure described [here](https://www.kdnuggets.com/2016/08/include-high-cardinality-attributes-predictive-model.html) and [here](https://pkghosh.wordpress.com/2017/10/09/combating-high-cardinality-features-in-supervised-machine-learning/). It is well-suited to high-cardinality categorical variables (i.e. those with many options). To assist with this task, I created the ARRIVAL_DELAY_BIN target variable.\n",
    "\n",
    "A simpler option is to drop ORIGIN_AIRPORT/DESTINATION_AIRPORT, and simply use DAY_OF_YEAR as is. It is uncertain how much error doing so will introduce."
   ]
  },
  {
   "cell_type": "markdown",
   "metadata": {},
   "source": [
    "**TODO:** Depending on the model, certain features will need to be scaled. \n",
    "\n",
    "Here are some resources to help us decide how/why to do so:\n",
    "\n",
    "* https://stats.stackexchange.com/questions/244507/what-algorithms-need-feature-scaling-beside-from-svm)\n",
    "\n",
    "* https://stats.stackexchange.com/questions/539/does-it-ever-make-sense-to-treat-categorical-data-as-continuous"
   ]
  },
  {
   "cell_type": "code",
   "execution_count": 30,
   "metadata": {},
   "outputs": [],
   "source": [
    "ds1.myData.to_csv('cleaned_and_sampled_flights_v2.csv', index=False)"
   ]
  },
  {
   "cell_type": "code",
   "execution_count": 31,
   "metadata": {},
   "outputs": [],
   "source": [
    "data = pd.read_csv(\"cleaned_and_sampled_flights_v2.csv\", low_memory=False)"
   ]
  },
  {
   "cell_type": "markdown",
   "metadata": {},
   "source": [
    "Set delay time and show baseline"
   ]
  },
  {
   "cell_type": "code",
   "execution_count": 32,
   "metadata": {},
   "outputs": [
    {
     "name": "stdout",
     "output_type": "stream",
     "text": [
      "Baseline 0.622454064904\n"
     ]
    }
   ],
   "source": [
    "def delayTimeToDummy(delay):\n",
    "    if delay > 0:\n",
    "        return 1\n",
    "    else: \n",
    "        return 0\n",
    "\n",
    "binaryTarget = data['ARRIVAL_DELAY'].apply(delayTimeToDummy)\n",
    "data['ARRIVAL_DELAY_BIN'] = binaryTarget\n",
    "print('Baseline {}'.format(1-data.ARRIVAL_DELAY_BIN[data.ARRIVAL_DELAY_BIN==1].shape[0]/(np.float(data.shape[0]))))"
   ]
  },
  {
   "cell_type": "markdown",
   "metadata": {},
   "source": [
    "#### WOE\n",
    "Calculating WOE as log((pi / p) / (ni / n)    \n",
    "where \n",
    "* pi = delayed flights in the category (eg number of delayed fligts per ORIGIN_AIRPORT)\n",
    "* ni = on time flights in the category (eg number of on time fligts per ORIGIN_AIRPORT)\n",
    "* p = total number of delayed \n",
    "* n = total number of on time"
   ]
  },
  {
   "cell_type": "code",
   "execution_count": 43,
   "metadata": {},
   "outputs": [],
   "source": [
    "def get_woe(column, dataframe):\n",
    "    column_to_woe = dataframe[column].copy()\n",
    "    total_count = dataframe[column].value_counts()\n",
    "    tot_loop = total_count.shape[0]\n",
    "    p = np.float(dataframe[(data.ARRIVAL_DELAY_BIN) == 1].shape[0])\n",
    "    n = dataframe.shape[0]-p\n",
    "    i=0\n",
    "    for item in total_count.iteritems():\n",
    "        i+=1\n",
    "        #print '{0} of {1}\\r'.format(i, tot_loop),\n",
    "        pi = dataframe[(dataframe[column] == item[0]) & (dataframe.ARRIVAL_DELAY_BIN)].shape[0]\n",
    "        ni = np.float(item[1]-pi)\n",
    "        if pi==0 or ni==0:\n",
    "            WOE = float('nan')\n",
    "        else:\n",
    "            WOE = np.log((pi/p)/(ni/n))\n",
    "            \n",
    "        column_to_woe[column_to_woe == item[0]] = WOE\n",
    "    return column_to_woe.apply(pd.to_numeric)\n",
    "    "
   ]
  },
  {
   "cell_type": "markdown",
   "metadata": {},
   "source": [
    "Adding WOE for ORIGIN_AIRPORT"
   ]
  },
  {
   "cell_type": "code",
   "execution_count": 6,
   "metadata": {},
   "outputs": [
    {
     "name": "stdout",
     "output_type": "stream",
     "text": [
      "['DAY_OF_YEAR' 'ORIGIN_AIRPORT' 'DESTINATION_AIRPORT' 'SCHEDULED_DEPARTURE'\n",
      " 'DEPARTURE_DELAY' 'SCHEDULED_TIME' 'DISTANCE' 'SCHEDULED_ARRIVAL'\n",
      " 'ARRIVAL_DELAY' 'DIVERTED' 'CANCELLED' 'DAY_OF_WEEK_2' 'DAY_OF_WEEK_3'\n",
      " 'DAY_OF_WEEK_4' 'DAY_OF_WEEK_5' 'DAY_OF_WEEK_6' 'DAY_OF_WEEK_7'\n",
      " 'AIRLINE_AS' 'AIRLINE_B6' 'AIRLINE_DL' 'AIRLINE_EV' 'AIRLINE_F9'\n",
      " 'AIRLINE_HA' 'AIRLINE_MQ' 'AIRLINE_NK' 'AIRLINE_OO' 'AIRLINE_UA'\n",
      " 'AIRLINE_US' 'AIRLINE_VX' 'AIRLINE_WN' 'CANCELLATION_REASON_A'\n",
      " 'CANCELLATION_REASON_B' 'CANCELLATION_REASON_C' 'CANCELLATION_REASON_D'\n",
      " 'ARRIVAL_DELAY_BIN']\n"
     ]
    }
   ],
   "source": [
    "print(data.columns.values)"
   ]
  },
  {
   "cell_type": "code",
   "execution_count": 7,
   "metadata": {},
   "outputs": [
    {
     "name": "stdout",
     "output_type": "stream",
     "text": [
      "322 of 322\r"
     ]
    }
   ],
   "source": [
    "origin_woe = get_woe('ORIGIN_AIRPORT', data)\n",
    "data['ORIGIN_WOE'] = origin_woe"
   ]
  },
  {
   "cell_type": "markdown",
   "metadata": {},
   "source": [
    "Adding WOE for DESTINATION_AIRPORT"
   ]
  },
  {
   "cell_type": "code",
   "execution_count": 8,
   "metadata": {},
   "outputs": [
    {
     "name": "stdout",
     "output_type": "stream",
     "text": [
      "322 of 322\r"
     ]
    }
   ],
   "source": [
    "destination_woe = get_woe('DESTINATION_AIRPORT', data)\n",
    "data['DESTINATION_WOE'] = destination_woe"
   ]
  },
  {
   "cell_type": "markdown",
   "metadata": {},
   "source": [
    "Adding WOE for DAY_OF_YEAR"
   ]
  },
  {
   "cell_type": "code",
   "execution_count": 9,
   "metadata": {},
   "outputs": [
    {
     "name": "stdout",
     "output_type": "stream",
     "text": [
      "365 of 365\r"
     ]
    }
   ],
   "source": [
    "day_of_year_woe = get_woe('DAY_OF_YEAR', data)\n",
    "data['DAY_OF_YEAR_WOE'] = day_of_year_woe"
   ]
  },
  {
   "cell_type": "markdown",
   "metadata": {},
   "source": [
    "Removing rows of None values"
   ]
  },
  {
   "cell_type": "code",
   "execution_count": null,
   "metadata": {},
   "outputs": [],
   "source": [
    "data.to_csv('cleaned_and_sampled_flights_v2_WOE.csv')"
   ]
  },
  {
   "cell_type": "code",
   "execution_count": 11,
   "metadata": {},
   "outputs": [
    {
     "name": "stdout",
     "output_type": "stream",
     "text": [
      "(581908, 39)\n",
      "(581895, 39)\n"
     ]
    }
   ],
   "source": [
    "data=pd.read_csv('cleaned_and_sampled_flights_v2_WOE.csv')\n",
    "print(data.shape)\n",
    "data = data.dropna(axis=0, how='any')\n",
    "print(data.shape)"
   ]
  },
  {
   "cell_type": "code",
   "execution_count": 9,
   "metadata": {},
   "outputs": [],
   "source": [
    "# Used this to save data and plot to test parameters\n",
    "def save_plot_and_data(cv_results, params):\n",
    "    res = pd.DataFrame(cv_results)\n",
    "    res.to_csv('csv_result/XGB_{}_{}'.format(params.keys()[0],0))\n",
    "    estimators = [x.get(params.keys()[0]) for x in res.params]\n",
    "    plt.plot(estimators, res.mean_test_score)\n",
    "    plt.xlabel('n')\n",
    "    plt.ylabel('Accuracy')\n",
    "    plt.title('XGB {}'.format(params.keys()[0]))\n",
    "    plt.savefig('csv_result/XGB_{}_{}.png'.format(params.keys()[0],0))\n",
    "    plt.show()\n",
    "    "
   ]
  },
  {
   "cell_type": "markdown",
   "metadata": {},
   "source": [
    "Creating splits, training and testing data. I removed the WOE columns from the dataset as well just to compare."
   ]
  },
  {
   "cell_type": "code",
   "execution_count": 10,
   "metadata": {},
   "outputs": [
    {
     "ename": "ModuleNotFoundError",
     "evalue": "No module named 'xgboost'",
     "output_type": "error",
     "traceback": [
      "\u001b[0;31m---------------------------------------------------------------------------\u001b[0m",
      "\u001b[0;31mModuleNotFoundError\u001b[0m                       Traceback (most recent call last)",
      "\u001b[0;32m<ipython-input-10-477fa34615c5>\u001b[0m in \u001b[0;36m<module>\u001b[0;34m()\u001b[0m\n\u001b[0;32m----> 1\u001b[0;31m \u001b[0;32mfrom\u001b[0m \u001b[0mxgboost\u001b[0m \u001b[0;32mimport\u001b[0m \u001b[0mXGBClassifier\u001b[0m\u001b[0;34m\u001b[0m\u001b[0m\n\u001b[0m",
      "\u001b[0;31mModuleNotFoundError\u001b[0m: No module named 'xgboost'"
     ]
    }
   ],
   "source": [
    "from xgboost import XGBClassifier"
   ]
  },
  {
   "cell_type": "code",
   "execution_count": 12,
   "metadata": {},
   "outputs": [
    {
     "name": "stdout",
     "output_type": "stream",
     "text": [
      "['Unnamed: 0' 'DAY_OF_YEAR' 'ORIGIN_AIRPORT' 'DESTINATION_AIRPORT'\n",
      " 'SCHEDULED_DEPARTURE' 'DEPARTURE_DELAY' 'SCHEDULED_TIME' 'DISTANCE'\n",
      " 'SCHEDULED_ARRIVAL' 'ARRIVAL_DELAY' 'DIVERTED' 'CANCELLED' 'DAY_OF_WEEK_2'\n",
      " 'DAY_OF_WEEK_3' 'DAY_OF_WEEK_4' 'DAY_OF_WEEK_5' 'DAY_OF_WEEK_6'\n",
      " 'DAY_OF_WEEK_7' 'AIRLINE_AS' 'AIRLINE_B6' 'AIRLINE_DL' 'AIRLINE_EV'\n",
      " 'AIRLINE_F9' 'AIRLINE_HA' 'AIRLINE_MQ' 'AIRLINE_NK' 'AIRLINE_OO'\n",
      " 'AIRLINE_UA' 'AIRLINE_US' 'AIRLINE_VX' 'AIRLINE_WN'\n",
      " 'CANCELLATION_REASON_A' 'CANCELLATION_REASON_B' 'CANCELLATION_REASON_C'\n",
      " 'CANCELLATION_REASON_D' 'ARRIVAL_DELAY_BIN' 'ORIGIN_WOE' 'DESTINATION_WOE'\n",
      " 'DAY_OF_YEAR_WOE']\n",
      "(389869, 29) (192026, 29) (389869,) (192026,)\n"
     ]
    }
   ],
   "source": [
    "from sklearn.model_selection import train_test_split\n",
    "from sklearn.ensemble import RandomForestClassifier\n",
    "from sklearn.metrics import confusion_matrix, accuracy_score\n",
    "from sklearn.ensemble import GradientBoostingClassifier\n",
    "from sklearn.model_selection import GridSearchCV\n",
    "from sklearn import svm\n",
    "import matplotlib.pyplot as plt\n",
    "from sklearn.externals import joblib\n",
    "\n",
    "headers = data.columns.values\n",
    "print(headers)\n",
    "X = data.drop(['ORIGIN_AIRPORT','DESTINATION_AIRPORT','CANCELLATION_REASON_A','DEPARTURE_DELAY', \\\n",
    "             'CANCELLATION_REASON_B', 'CANCELLATION_REASON_C','ARRIVAL_DELAY_BIN','ARRIVAL_DELAY',\\\n",
    "             'DIVERTED','CANCELLED'], axis=1)\n",
    "y = data['ARRIVAL_DELAY_BIN']\n",
    "X2 = X.drop(['DESTINATION_WOE', 'ORIGIN_WOE', 'DAY_OF_YEAR_WOE'], axis=1)\n",
    "\n",
    "X_train, X_test, y_train, y_test=train_test_split(X,y, test_size=0.33, random_state=42)\n",
    "X2_train = X_train.drop(['DESTINATION_WOE', 'ORIGIN_WOE', 'DAY_OF_YEAR_WOE'], axis=1)\n",
    "X2_test = X_test.drop(['DESTINATION_WOE', 'ORIGIN_WOE', 'DAY_OF_YEAR_WOE'], axis=1)\n",
    "print(X_train.shape, X_test.shape, y_train.shape, y_test.shape)"
   ]
  },
  {
   "cell_type": "markdown",
   "metadata": {},
   "source": [
    "Setting parameters for gridsearch"
   ]
  },
  {
   "cell_type": "code",
   "execution_count": 13,
   "metadata": {},
   "outputs": [],
   "source": [
    "paramRF = {'max_depth':np.arange(1,50,5)}\n",
    "paramSVM = {'kernel':['rbf','linear','poly']}\n",
    "paramXGB = {'gamma':np.arange(0,0.5,0.1)}"
   ]
  },
  {
   "cell_type": "markdown",
   "metadata": {},
   "source": [
    "Creating classifiers"
   ]
  },
  {
   "cell_type": "code",
   "execution_count": 18,
   "metadata": {
    "collapsed": true
   },
   "outputs": [],
   "source": [
    "RF_classifier = GridSearchCV(RandomForestClassifier(), param_grid=paramRF, \\\n",
    "                             cv=2,scoring='accuracy', verbose=1)\n",
    "\n",
    "SVM_classifier = GridSearchCV(svm.SVC(), param_grid=paramSVM, \\\n",
    "                              cv=2,scoring='accuracy', verbose=1)\n",
    "\n",
    "XGB_classifier = GridSearchCV(XGBClassifier(), param_grid=paramXGB, \\\n",
    "                            cv=2, scoring='accuracy',verbose=1)"
   ]
  },
  {
   "cell_type": "markdown",
   "metadata": {},
   "source": [
    "### Only testing SVM"
   ]
  },
  {
   "cell_type": "code",
   "execution_count": 14,
   "metadata": {},
   "outputs": [
    {
     "data": {
      "text/plain": [
       "SVC(C=1.0, cache_size=200, class_weight=None, coef0=0.0,\n",
       "  decision_function_shape='ovr', degree=3, gamma='auto', kernel='rbf',\n",
       "  max_iter=-1, probability=False, random_state=None, shrinking=True,\n",
       "  tol=0.001, verbose=False)"
      ]
     },
     "execution_count": 14,
     "metadata": {},
     "output_type": "execute_result"
    }
   ],
   "source": [
    "svm = svm.SVC(kernel='rbf')\n",
    "svm.fit(X_train, y_train)"
   ]
  },
  {
   "cell_type": "code",
   "execution_count": 13,
   "metadata": {},
   "outputs": [],
   "source": [
    "#joblib.dump(svm, 'svm.pkl') "
   ]
  },
  {
   "cell_type": "code",
   "execution_count": 14,
   "metadata": {},
   "outputs": [],
   "source": [
    "svm = joblib.load('svm.pkl') "
   ]
  },
  {
   "cell_type": "code",
   "execution_count": 15,
   "metadata": {},
   "outputs": [
    {
     "data": {
      "text/plain": [
       "0.62201993480049578"
      ]
     },
     "execution_count": 15,
     "metadata": {},
     "output_type": "execute_result"
    }
   ],
   "source": [
    "y_pred = svm.predict(X_test)\n",
    "accuracy_score(y_pred, y_test)"
   ]
  },
  {
   "cell_type": "code",
   "execution_count": 138,
   "metadata": {},
   "outputs": [
    {
     "name": "stdout",
     "output_type": "stream",
     "text": [
      "Fitting 2 folds for each of 10 candidates, totalling 20 fits\n"
     ]
    },
    {
     "name": "stderr",
     "output_type": "stream",
     "text": [
      "[Parallel(n_jobs=1)]: Done  20 out of  20 | elapsed:  1.6min finished\n"
     ]
    },
    {
     "data": {
      "text/plain": [
       "GridSearchCV(cv=2, error_score='raise',\n",
       "       estimator=RandomForestClassifier(bootstrap=True, class_weight=None, criterion='gini',\n",
       "            max_depth=None, max_features='auto', max_leaf_nodes=None,\n",
       "            min_impurity_decrease=0.0, min_impurity_split=None,\n",
       "            min_samples_leaf=1, min_samples_split=2,\n",
       "            min_weight_fraction_leaf=0.0, n_estimators=10, n_jobs=1,\n",
       "            oob_score=False, random_state=None, verbose=0,\n",
       "            warm_start=False),\n",
       "       fit_params=None, iid=True, n_jobs=1,\n",
       "       param_grid={'max_depth': array([ 1,  6, 11, 16, 21, 26, 31, 36, 41, 46])},\n",
       "       pre_dispatch='2*n_jobs', refit=True, return_train_score=True,\n",
       "       scoring='accuracy', verbose=1)"
      ]
     },
     "execution_count": 138,
     "metadata": {},
     "output_type": "execute_result"
    }
   ],
   "source": [
    "#RF_classifier.fit(X_train, y_train)\n",
    "RF_classifier.fit(X2_train, y_train)"
   ]
  },
  {
   "cell_type": "code",
   "execution_count": 1,
   "metadata": {},
   "outputs": [
    {
     "ename": "NameError",
     "evalue": "name 'RF_classifier' is not defined",
     "output_type": "error",
     "traceback": [
      "\u001b[0;31m---------------------------------------------------------------------------\u001b[0m",
      "\u001b[0;31mNameError\u001b[0m                                 Traceback (most recent call last)",
      "\u001b[0;32m<ipython-input-1-0966554a4fb6>\u001b[0m in \u001b[0;36m<module>\u001b[0;34m()\u001b[0m\n\u001b[1;32m      1\u001b[0m \u001b[0;31m#y_pred = RF_classifier.predict(X_test)\u001b[0m\u001b[0;34m\u001b[0m\u001b[0;34m\u001b[0m\u001b[0m\n\u001b[0;32m----> 2\u001b[0;31m \u001b[0my_pred\u001b[0m \u001b[0;34m=\u001b[0m \u001b[0mRF_classifier\u001b[0m\u001b[0;34m.\u001b[0m\u001b[0mpredict\u001b[0m\u001b[0;34m(\u001b[0m\u001b[0mX2_test\u001b[0m\u001b[0;34m)\u001b[0m\u001b[0;34m\u001b[0m\u001b[0m\n\u001b[0m",
      "\u001b[0;31mNameError\u001b[0m: name 'RF_classifier' is not defined"
     ]
    }
   ],
   "source": [
    "#y_pred = RF_classifier.predict(X_test)\n",
    "y_pred = RF_classifier.predict(X2_test)"
   ]
  },
  {
   "cell_type": "code",
   "execution_count": 143,
   "metadata": {},
   "outputs": [
    {
     "data": {
      "image/png": "[encoded data removed]",
      "text/plain": [
       "<matplotlib.figure.Figure at 0x112238510>"
      ]
     },
     "metadata": {},
     "output_type": "display_data"
    },
    {
     "data": {
      "text/html": [
       "<div>\n",
       "<style>\n",
       "    .dataframe thead tr:only-child th {\n",
       "        text-align: right;\n",
       "    }\n",
       "\n",
       "    .dataframe thead th {\n",
       "        text-align: left;\n",
       "    }\n",
       "\n",
       "    .dataframe tbody tr th {\n",
       "        vertical-align: top;\n",
       "    }\n",
       "</style>\n",
       "<table border=\"1\" class=\"dataframe\">\n",
       "  <thead>\n",
       "    <tr style=\"text-align: right;\">\n",
       "      <th></th>\n",
       "      <th>Unnamed: 0</th>\n",
       "      <th>mean_fit_time</th>\n",
       "      <th>mean_score_time</th>\n",
       "      <th>mean_test_score</th>\n",
       "      <th>mean_train_score</th>\n",
       "      <th>param_max_depth</th>\n",
       "      <th>params</th>\n",
       "      <th>rank_test_score</th>\n",
       "      <th>split0_test_score</th>\n",
       "      <th>split0_train_score</th>\n",
       "      <th>split1_test_score</th>\n",
       "      <th>split1_train_score</th>\n",
       "      <th>std_fit_time</th>\n",
       "      <th>std_score_time</th>\n",
       "      <th>std_test_score</th>\n",
       "      <th>std_train_score</th>\n",
       "    </tr>\n",
       "  </thead>\n",
       "  <tbody>\n",
       "    <tr>\n",
       "      <th>0</th>\n",
       "      <td>0</td>\n",
       "      <td>0.667393</td>\n",
       "      <td>0.160636</td>\n",
       "      <td>0.623218</td>\n",
       "      <td>0.623218</td>\n",
       "      <td>1</td>\n",
       "      <td>{'max_depth': 1}</td>\n",
       "      <td>8</td>\n",
       "      <td>0.623217</td>\n",
       "      <td>0.623220</td>\n",
       "      <td>0.623220</td>\n",
       "      <td>0.623217</td>\n",
       "      <td>0.025390</td>\n",
       "      <td>0.003417</td>\n",
       "      <td>0.000002</td>\n",
       "      <td>0.000002</td>\n",
       "    </tr>\n",
       "    <tr>\n",
       "      <th>1</th>\n",
       "      <td>1</td>\n",
       "      <td>1.333563</td>\n",
       "      <td>0.215765</td>\n",
       "      <td>0.628338</td>\n",
       "      <td>0.629500</td>\n",
       "      <td>6</td>\n",
       "      <td>{'max_depth': 6}</td>\n",
       "      <td>4</td>\n",
       "      <td>0.626459</td>\n",
       "      <td>0.627606</td>\n",
       "      <td>0.630217</td>\n",
       "      <td>0.631394</td>\n",
       "      <td>0.063499</td>\n",
       "      <td>0.009598</td>\n",
       "      <td>0.001879</td>\n",
       "      <td>0.001894</td>\n",
       "    </tr>\n",
       "    <tr>\n",
       "      <th>2</th>\n",
       "      <td>2</td>\n",
       "      <td>2.776154</td>\n",
       "      <td>0.322209</td>\n",
       "      <td>0.642301</td>\n",
       "      <td>0.659592</td>\n",
       "      <td>11</td>\n",
       "      <td>{'max_depth': 11}</td>\n",
       "      <td>2</td>\n",
       "      <td>0.641330</td>\n",
       "      <td>0.659237</td>\n",
       "      <td>0.643273</td>\n",
       "      <td>0.659947</td>\n",
       "      <td>0.316454</td>\n",
       "      <td>0.023506</td>\n",
       "      <td>0.000971</td>\n",
       "      <td>0.000355</td>\n",
       "    </tr>\n",
       "    <tr>\n",
       "      <th>3</th>\n",
       "      <td>3</td>\n",
       "      <td>3.386448</td>\n",
       "      <td>0.498984</td>\n",
       "      <td>0.644541</td>\n",
       "      <td>0.725770</td>\n",
       "      <td>16</td>\n",
       "      <td>{'max_depth': 16}</td>\n",
       "      <td>1</td>\n",
       "      <td>0.644849</td>\n",
       "      <td>0.724853</td>\n",
       "      <td>0.644232</td>\n",
       "      <td>0.726686</td>\n",
       "      <td>0.232971</td>\n",
       "      <td>0.005269</td>\n",
       "      <td>0.000309</td>\n",
       "      <td>0.000916</td>\n",
       "    </tr>\n",
       "    <tr>\n",
       "      <th>4</th>\n",
       "      <td>4</td>\n",
       "      <td>4.026210</td>\n",
       "      <td>0.677570</td>\n",
       "      <td>0.636661</td>\n",
       "      <td>0.836778</td>\n",
       "      <td>21</td>\n",
       "      <td>{'max_depth': 21}</td>\n",
       "      <td>3</td>\n",
       "      <td>0.635836</td>\n",
       "      <td>0.838686</td>\n",
       "      <td>0.637486</td>\n",
       "      <td>0.834870</td>\n",
       "      <td>0.043982</td>\n",
       "      <td>0.010864</td>\n",
       "      <td>0.000825</td>\n",
       "      <td>0.001908</td>\n",
       "    </tr>\n",
       "    <tr>\n",
       "      <th>5</th>\n",
       "      <td>5</td>\n",
       "      <td>4.248495</td>\n",
       "      <td>0.789066</td>\n",
       "      <td>0.626140</td>\n",
       "      <td>0.925714</td>\n",
       "      <td>26</td>\n",
       "      <td>{'max_depth': 26}</td>\n",
       "      <td>5</td>\n",
       "      <td>0.625315</td>\n",
       "      <td>0.929115</td>\n",
       "      <td>0.626965</td>\n",
       "      <td>0.922313</td>\n",
       "      <td>0.269888</td>\n",
       "      <td>0.010024</td>\n",
       "      <td>0.000825</td>\n",
       "      <td>0.003401</td>\n",
       "    </tr>\n",
       "    <tr>\n",
       "      <th>6</th>\n",
       "      <td>6</td>\n",
       "      <td>4.176677</td>\n",
       "      <td>0.858800</td>\n",
       "      <td>0.620633</td>\n",
       "      <td>0.964242</td>\n",
       "      <td>31</td>\n",
       "      <td>{'max_depth': 31}</td>\n",
       "      <td>10</td>\n",
       "      <td>0.619800</td>\n",
       "      <td>0.963875</td>\n",
       "      <td>0.621466</td>\n",
       "      <td>0.964609</td>\n",
       "      <td>0.035837</td>\n",
       "      <td>0.027900</td>\n",
       "      <td>0.000833</td>\n",
       "      <td>0.000367</td>\n",
       "    </tr>\n",
       "    <tr>\n",
       "      <th>7</th>\n",
       "      <td>7</td>\n",
       "      <td>4.448845</td>\n",
       "      <td>0.903845</td>\n",
       "      <td>0.621977</td>\n",
       "      <td>0.975041</td>\n",
       "      <td>36</td>\n",
       "      <td>{'max_depth': 36}</td>\n",
       "      <td>9</td>\n",
       "      <td>0.623422</td>\n",
       "      <td>0.975736</td>\n",
       "      <td>0.620532</td>\n",
       "      <td>0.974346</td>\n",
       "      <td>0.193139</td>\n",
       "      <td>0.007484</td>\n",
       "      <td>0.001445</td>\n",
       "      <td>0.000695</td>\n",
       "    </tr>\n",
       "    <tr>\n",
       "      <th>8</th>\n",
       "      <td>8</td>\n",
       "      <td>4.429007</td>\n",
       "      <td>1.024269</td>\n",
       "      <td>0.624167</td>\n",
       "      <td>0.976646</td>\n",
       "      <td>41</td>\n",
       "      <td>{'max_depth': 41}</td>\n",
       "      <td>6</td>\n",
       "      <td>0.624366</td>\n",
       "      <td>0.976762</td>\n",
       "      <td>0.623969</td>\n",
       "      <td>0.976531</td>\n",
       "      <td>0.119229</td>\n",
       "      <td>0.062204</td>\n",
       "      <td>0.000198</td>\n",
       "      <td>0.000115</td>\n",
       "    </tr>\n",
       "    <tr>\n",
       "      <th>9</th>\n",
       "      <td>9</td>\n",
       "      <td>5.166384</td>\n",
       "      <td>1.071683</td>\n",
       "      <td>0.623359</td>\n",
       "      <td>0.976233</td>\n",
       "      <td>46</td>\n",
       "      <td>{'max_depth': 46}</td>\n",
       "      <td>7</td>\n",
       "      <td>0.622909</td>\n",
       "      <td>0.976372</td>\n",
       "      <td>0.623810</td>\n",
       "      <td>0.976095</td>\n",
       "      <td>0.215549</td>\n",
       "      <td>0.046982</td>\n",
       "      <td>0.000450</td>\n",
       "      <td>0.000138</td>\n",
       "    </tr>\n",
       "  </tbody>\n",
       "</table>\n",
       "</div>"
      ],
      "text/plain": [
       "   Unnamed: 0  mean_fit_time  mean_score_time  mean_test_score  \\\n",
       "0           0       0.667393         0.160636         0.623218   \n",
       "1           1       1.333563         0.215765         0.628338   \n",
       "2           2       2.776154         0.322209         0.642301   \n",
       "3           3       3.386448         0.498984         0.644541   \n",
       "4           4       4.026210         0.677570         0.636661   \n",
       "5           5       4.248495         0.789066         0.626140   \n",
       "6           6       4.176677         0.858800         0.620633   \n",
       "7           7       4.448845         0.903845         0.621977   \n",
       "8           8       4.429007         1.024269         0.624167   \n",
       "9           9       5.166384         1.071683         0.623359   \n",
       "\n",
       "   mean_train_score  param_max_depth             params  rank_test_score  \\\n",
       "0          0.623218                1   {'max_depth': 1}                8   \n",
       "1          0.629500                6   {'max_depth': 6}                4   \n",
       "2          0.659592               11  {'max_depth': 11}                2   \n",
       "3          0.725770               16  {'max_depth': 16}                1   \n",
       "4          0.836778               21  {'max_depth': 21}                3   \n",
       "5          0.925714               26  {'max_depth': 26}                5   \n",
       "6          0.964242               31  {'max_depth': 31}               10   \n",
       "7          0.975041               36  {'max_depth': 36}                9   \n",
       "8          0.976646               41  {'max_depth': 41}                6   \n",
       "9          0.976233               46  {'max_depth': 46}                7   \n",
       "\n",
       "   split0_test_score  split0_train_score  split1_test_score  \\\n",
       "0           0.623217            0.623220           0.623220   \n",
       "1           0.626459            0.627606           0.630217   \n",
       "2           0.641330            0.659237           0.643273   \n",
       "3           0.644849            0.724853           0.644232   \n",
       "4           0.635836            0.838686           0.637486   \n",
       "5           0.625315            0.929115           0.626965   \n",
       "6           0.619800            0.963875           0.621466   \n",
       "7           0.623422            0.975736           0.620532   \n",
       "8           0.624366            0.976762           0.623969   \n",
       "9           0.622909            0.976372           0.623810   \n",
       "\n",
       "   split1_train_score  std_fit_time  std_score_time  std_test_score  \\\n",
       "0            0.623217      0.025390        0.003417        0.000002   \n",
       "1            0.631394      0.063499        0.009598        0.001879   \n",
       "2            0.659947      0.316454        0.023506        0.000971   \n",
       "3            0.726686      0.232971        0.005269        0.000309   \n",
       "4            0.834870      0.043982        0.010864        0.000825   \n",
       "5            0.922313      0.269888        0.010024        0.000825   \n",
       "6            0.964609      0.035837        0.027900        0.000833   \n",
       "7            0.974346      0.193139        0.007484        0.001445   \n",
       "8            0.976531      0.119229        0.062204        0.000198   \n",
       "9            0.976095      0.215549        0.046982        0.000450   \n",
       "\n",
       "   std_train_score  \n",
       "0         0.000002  \n",
       "1         0.001894  \n",
       "2         0.000355  \n",
       "3         0.000916  \n",
       "4         0.001908  \n",
       "5         0.003401  \n",
       "6         0.000367  \n",
       "7         0.000695  \n",
       "8         0.000115  \n",
       "9         0.000138  "
      ]
     },
     "execution_count": 143,
     "metadata": {},
     "output_type": "execute_result"
    }
   ],
   "source": [
    "accuracy_score(y_test, y_pred)\n",
    "save_plot_and_data(RF_classifier.cv_results_, paramRF)\n",
    "res=pd.read_csv('csv_result/RF_max_depth_0')\n",
    "res"
   ]
  },
  {
   "cell_type": "markdown",
   "metadata": {},
   "source": [
    "Don't start this one unless you have a lot of time. I have no idea how long it will take."
   ]
  },
  {
   "cell_type": "code",
   "execution_count": null,
   "metadata": {},
   "outputs": [
    {
     "name": "stdout",
     "output_type": "stream",
     "text": [
      "Fitting 2 folds for each of 3 candidates, totalling 6 fits\n"
     ]
    }
   ],
   "source": [
    "SVM_classifier.fit(X_train, y_train)\n",
    "#SVM_classifier.fit(X2_train, y_train)"
   ]
  },
  {
   "cell_type": "code",
   "execution_count": 433,
   "metadata": {},
   "outputs": [
    {
     "data": {
      "text/plain": [
       "0.64419151498719995"
      ]
     },
     "execution_count": 433,
     "metadata": {},
     "output_type": "execute_result"
    }
   ],
   "source": [
    "y_pred = SVM_classifier.predict(X_test)\n",
    "#y_pred = SVM_classifier.predict(X2_test)\n",
    "#accuracy_score(y_test, y_pred)"
   ]
  },
  {
   "cell_type": "code",
   "execution_count": 19,
   "metadata": {},
   "outputs": [
    {
     "name": "stdout",
     "output_type": "stream",
     "text": [
      "Fitting 2 folds for each of 5 candidates, totalling 10 fits\n"
     ]
    },
    {
     "name": "stderr",
     "output_type": "stream",
     "text": [
      "[Parallel(n_jobs=1)]: Done  10 out of  10 | elapsed:  1.7min finished\n"
     ]
    },
    {
     "data": {
      "text/plain": [
       "GridSearchCV(cv=2, error_score='raise',\n",
       "       estimator=XGBClassifier(base_score=0.5, colsample_bylevel=1, colsample_bytree=1,\n",
       "       gamma=0, learning_rate=0.1, max_delta_step=0, max_depth=3,\n",
       "       min_child_weight=1, missing=None, n_estimators=100, nthread=-1,\n",
       "       objective='binary:logistic', reg_alpha=0, reg_lambda=1,\n",
       "       scale_pos_weight=1, seed=0, silent=True, subsample=1),\n",
       "       fit_params=None, iid=True, n_jobs=1,\n",
       "       param_grid={'gamma': array([ 0. ,  0.1,  0.2,  0.3,  0.4])},\n",
       "       pre_dispatch='2*n_jobs', refit=True, return_train_score=True,\n",
       "       scoring='accuracy', verbose=1)"
      ]
     },
     "execution_count": 19,
     "metadata": {},
     "output_type": "execute_result"
    }
   ],
   "source": [
    "#XGB_classifier.fit(X_train, y_train)\n",
    "XGB_classifier.fit(X2_train, y_train)"
   ]
  },
  {
   "cell_type": "code",
   "execution_count": 20,
   "metadata": {},
   "outputs": [
    {
     "data": {
      "image/png": "[encoded data removed]",
      "text/plain": [
       "<matplotlib.figure.Figure at 0x10e9b2ad0>"
      ]
     },
     "metadata": {},
     "output_type": "display_data"
    }
   ],
   "source": [
    "#y_pred = XGB_classifier.predict(X_test)\n",
    "y_pred = XGB_classifier.predict(X2_test)\n",
    "save_plot_and_data(XGB_classifier.cv_results_, paramXGB)\n",
    "res=pd.read_csv('csv_result/XGB_min_child_weight_0')\n"
   ]
  }
 ],
 "metadata": {
  "kernelspec": {
   "display_name": "Python 2",
   "language": "python",
   "name": "python2"
  },
  "language_info": {
   "codemirror_mode": {
    "name": "ipython",
    "version": 3
   },
   "file_extension": ".py",
   "mimetype": "text/x-python",
   "name": "python",
   "nbconvert_exporter": "python",
   "pygments_lexer": "ipython3",
   "version": "3.6.3"
  }
 },
 "nbformat": 4,
 "nbformat_minor": 2
}
